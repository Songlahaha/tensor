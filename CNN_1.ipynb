{
  "nbformat": 4,
  "nbformat_minor": 0,
  "metadata": {
    "colab": {
      "provenance": [],
      "gpuType": "A100",
      "collapsed_sections": [
        "cS6USS_BHJKn",
        "TD83V9VFLZhi",
        "qCgISjkmCttp",
        "6T8Xl1C7u8uN",
        "DNsACE5Hp729",
        "C_1AD0BswdVU",
        "SDo6q6uysDMK",
        "Ym5b_ZkIsDUA"
      ],
      "machine_shape": "hm",
      "authorship_tag": "ABX9TyNsFl1aYXeH0uTxQ/c9QBPV",
      "include_colab_link": true
    },
    "kernelspec": {
      "name": "python3",
      "display_name": "Python 3"
    },
    "language_info": {
      "name": "python"
    },
    "widgets": {
      "application/vnd.jupyter.widget-state+json": {
        "6bfbdd3b75de4739845724b134703892": {
          "model_module": "@jupyter-widgets/controls",
          "model_name": "HBoxModel",
          "model_module_version": "1.5.0",
          "state": {
            "_dom_classes": [],
            "_model_module": "@jupyter-widgets/controls",
            "_model_module_version": "1.5.0",
            "_model_name": "HBoxModel",
            "_view_count": null,
            "_view_module": "@jupyter-widgets/controls",
            "_view_module_version": "1.5.0",
            "_view_name": "HBoxView",
            "box_style": "",
            "children": [
              "IPY_MODEL_cb0196fcab3c4935b46736a00e332661",
              "IPY_MODEL_18541260329b45f8b3561f9a5f931585",
              "IPY_MODEL_95cb5e747d0c48cba718ec4bbe68985f"
            ],
            "layout": "IPY_MODEL_62f77f3d60dd4dd19cd4f1e1d9bcc0c2"
          }
        },
        "cb0196fcab3c4935b46736a00e332661": {
          "model_module": "@jupyter-widgets/controls",
          "model_name": "HTMLModel",
          "model_module_version": "1.5.0",
          "state": {
            "_dom_classes": [],
            "_model_module": "@jupyter-widgets/controls",
            "_model_module_version": "1.5.0",
            "_model_name": "HTMLModel",
            "_view_count": null,
            "_view_module": "@jupyter-widgets/controls",
            "_view_module_version": "1.5.0",
            "_view_name": "HTMLView",
            "description": "",
            "description_tooltip": null,
            "layout": "IPY_MODEL_26ab391f198c4d199956e48a09a4f2e9",
            "placeholder": "​",
            "style": "IPY_MODEL_9ae23fdb72c0420fbbe8e109612aec5d",
            "value": "Dl Completed...: 100%"
          }
        },
        "18541260329b45f8b3561f9a5f931585": {
          "model_module": "@jupyter-widgets/controls",
          "model_name": "FloatProgressModel",
          "model_module_version": "1.5.0",
          "state": {
            "_dom_classes": [],
            "_model_module": "@jupyter-widgets/controls",
            "_model_module_version": "1.5.0",
            "_model_name": "FloatProgressModel",
            "_view_count": null,
            "_view_module": "@jupyter-widgets/controls",
            "_view_module_version": "1.5.0",
            "_view_name": "ProgressView",
            "bar_style": "success",
            "description": "",
            "description_tooltip": null,
            "layout": "IPY_MODEL_959ceff0e9b744e398a74633d3bbea01",
            "max": 1,
            "min": 0,
            "orientation": "horizontal",
            "style": "IPY_MODEL_348ee3add2354e90bcbcedf493c01769",
            "value": 1
          }
        },
        "95cb5e747d0c48cba718ec4bbe68985f": {
          "model_module": "@jupyter-widgets/controls",
          "model_name": "HTMLModel",
          "model_module_version": "1.5.0",
          "state": {
            "_dom_classes": [],
            "_model_module": "@jupyter-widgets/controls",
            "_model_module_version": "1.5.0",
            "_model_name": "HTMLModel",
            "_view_count": null,
            "_view_module": "@jupyter-widgets/controls",
            "_view_module_version": "1.5.0",
            "_view_name": "HTMLView",
            "description": "",
            "description_tooltip": null,
            "layout": "IPY_MODEL_28b8c3e60d674b038dd8b3e9e057e92c",
            "placeholder": "​",
            "style": "IPY_MODEL_6a548b333a184cd893fa5415531c6cb4",
            "value": " 1/1 [00:48&lt;00:00,  6.59s/ url]"
          }
        },
        "62f77f3d60dd4dd19cd4f1e1d9bcc0c2": {
          "model_module": "@jupyter-widgets/base",
          "model_name": "LayoutModel",
          "model_module_version": "1.2.0",
          "state": {
            "_model_module": "@jupyter-widgets/base",
            "_model_module_version": "1.2.0",
            "_model_name": "LayoutModel",
            "_view_count": null,
            "_view_module": "@jupyter-widgets/base",
            "_view_module_version": "1.2.0",
            "_view_name": "LayoutView",
            "align_content": null,
            "align_items": null,
            "align_self": null,
            "border": null,
            "bottom": null,
            "display": null,
            "flex": null,
            "flex_flow": null,
            "grid_area": null,
            "grid_auto_columns": null,
            "grid_auto_flow": null,
            "grid_auto_rows": null,
            "grid_column": null,
            "grid_gap": null,
            "grid_row": null,
            "grid_template_areas": null,
            "grid_template_columns": null,
            "grid_template_rows": null,
            "height": null,
            "justify_content": null,
            "justify_items": null,
            "left": null,
            "margin": null,
            "max_height": null,
            "max_width": null,
            "min_height": null,
            "min_width": null,
            "object_fit": null,
            "object_position": null,
            "order": null,
            "overflow": null,
            "overflow_x": null,
            "overflow_y": null,
            "padding": null,
            "right": null,
            "top": null,
            "visibility": null,
            "width": null
          }
        },
        "26ab391f198c4d199956e48a09a4f2e9": {
          "model_module": "@jupyter-widgets/base",
          "model_name": "LayoutModel",
          "model_module_version": "1.2.0",
          "state": {
            "_model_module": "@jupyter-widgets/base",
            "_model_module_version": "1.2.0",
            "_model_name": "LayoutModel",
            "_view_count": null,
            "_view_module": "@jupyter-widgets/base",
            "_view_module_version": "1.2.0",
            "_view_name": "LayoutView",
            "align_content": null,
            "align_items": null,
            "align_self": null,
            "border": null,
            "bottom": null,
            "display": null,
            "flex": null,
            "flex_flow": null,
            "grid_area": null,
            "grid_auto_columns": null,
            "grid_auto_flow": null,
            "grid_auto_rows": null,
            "grid_column": null,
            "grid_gap": null,
            "grid_row": null,
            "grid_template_areas": null,
            "grid_template_columns": null,
            "grid_template_rows": null,
            "height": null,
            "justify_content": null,
            "justify_items": null,
            "left": null,
            "margin": null,
            "max_height": null,
            "max_width": null,
            "min_height": null,
            "min_width": null,
            "object_fit": null,
            "object_position": null,
            "order": null,
            "overflow": null,
            "overflow_x": null,
            "overflow_y": null,
            "padding": null,
            "right": null,
            "top": null,
            "visibility": null,
            "width": null
          }
        },
        "9ae23fdb72c0420fbbe8e109612aec5d": {
          "model_module": "@jupyter-widgets/controls",
          "model_name": "DescriptionStyleModel",
          "model_module_version": "1.5.0",
          "state": {
            "_model_module": "@jupyter-widgets/controls",
            "_model_module_version": "1.5.0",
            "_model_name": "DescriptionStyleModel",
            "_view_count": null,
            "_view_module": "@jupyter-widgets/base",
            "_view_module_version": "1.2.0",
            "_view_name": "StyleView",
            "description_width": ""
          }
        },
        "959ceff0e9b744e398a74633d3bbea01": {
          "model_module": "@jupyter-widgets/base",
          "model_name": "LayoutModel",
          "model_module_version": "1.2.0",
          "state": {
            "_model_module": "@jupyter-widgets/base",
            "_model_module_version": "1.2.0",
            "_model_name": "LayoutModel",
            "_view_count": null,
            "_view_module": "@jupyter-widgets/base",
            "_view_module_version": "1.2.0",
            "_view_name": "LayoutView",
            "align_content": null,
            "align_items": null,
            "align_self": null,
            "border": null,
            "bottom": null,
            "display": null,
            "flex": null,
            "flex_flow": null,
            "grid_area": null,
            "grid_auto_columns": null,
            "grid_auto_flow": null,
            "grid_auto_rows": null,
            "grid_column": null,
            "grid_gap": null,
            "grid_row": null,
            "grid_template_areas": null,
            "grid_template_columns": null,
            "grid_template_rows": null,
            "height": null,
            "justify_content": null,
            "justify_items": null,
            "left": null,
            "margin": null,
            "max_height": null,
            "max_width": null,
            "min_height": null,
            "min_width": null,
            "object_fit": null,
            "object_position": null,
            "order": null,
            "overflow": null,
            "overflow_x": null,
            "overflow_y": null,
            "padding": null,
            "right": null,
            "top": null,
            "visibility": null,
            "width": "20px"
          }
        },
        "348ee3add2354e90bcbcedf493c01769": {
          "model_module": "@jupyter-widgets/controls",
          "model_name": "ProgressStyleModel",
          "model_module_version": "1.5.0",
          "state": {
            "_model_module": "@jupyter-widgets/controls",
            "_model_module_version": "1.5.0",
            "_model_name": "ProgressStyleModel",
            "_view_count": null,
            "_view_module": "@jupyter-widgets/base",
            "_view_module_version": "1.2.0",
            "_view_name": "StyleView",
            "bar_color": null,
            "description_width": ""
          }
        },
        "28b8c3e60d674b038dd8b3e9e057e92c": {
          "model_module": "@jupyter-widgets/base",
          "model_name": "LayoutModel",
          "model_module_version": "1.2.0",
          "state": {
            "_model_module": "@jupyter-widgets/base",
            "_model_module_version": "1.2.0",
            "_model_name": "LayoutModel",
            "_view_count": null,
            "_view_module": "@jupyter-widgets/base",
            "_view_module_version": "1.2.0",
            "_view_name": "LayoutView",
            "align_content": null,
            "align_items": null,
            "align_self": null,
            "border": null,
            "bottom": null,
            "display": null,
            "flex": null,
            "flex_flow": null,
            "grid_area": null,
            "grid_auto_columns": null,
            "grid_auto_flow": null,
            "grid_auto_rows": null,
            "grid_column": null,
            "grid_gap": null,
            "grid_row": null,
            "grid_template_areas": null,
            "grid_template_columns": null,
            "grid_template_rows": null,
            "height": null,
            "justify_content": null,
            "justify_items": null,
            "left": null,
            "margin": null,
            "max_height": null,
            "max_width": null,
            "min_height": null,
            "min_width": null,
            "object_fit": null,
            "object_position": null,
            "order": null,
            "overflow": null,
            "overflow_x": null,
            "overflow_y": null,
            "padding": null,
            "right": null,
            "top": null,
            "visibility": null,
            "width": null
          }
        },
        "6a548b333a184cd893fa5415531c6cb4": {
          "model_module": "@jupyter-widgets/controls",
          "model_name": "DescriptionStyleModel",
          "model_module_version": "1.5.0",
          "state": {
            "_model_module": "@jupyter-widgets/controls",
            "_model_module_version": "1.5.0",
            "_model_name": "DescriptionStyleModel",
            "_view_count": null,
            "_view_module": "@jupyter-widgets/base",
            "_view_module_version": "1.2.0",
            "_view_name": "StyleView",
            "description_width": ""
          }
        },
        "b017e2fd8a0347bb9ecb422e6c3cb676": {
          "model_module": "@jupyter-widgets/controls",
          "model_name": "HBoxModel",
          "model_module_version": "1.5.0",
          "state": {
            "_dom_classes": [],
            "_model_module": "@jupyter-widgets/controls",
            "_model_module_version": "1.5.0",
            "_model_name": "HBoxModel",
            "_view_count": null,
            "_view_module": "@jupyter-widgets/controls",
            "_view_module_version": "1.5.0",
            "_view_name": "HBoxView",
            "box_style": "",
            "children": [
              "IPY_MODEL_5ce19faeecc14b24bf9f4c965f327154",
              "IPY_MODEL_6165222a4d934df5959b56c5a3f28f0f",
              "IPY_MODEL_f7a4186733bf48efb37f02921767001c"
            ],
            "layout": "IPY_MODEL_6e99756590604f77bb313868ad9801f4"
          }
        },
        "5ce19faeecc14b24bf9f4c965f327154": {
          "model_module": "@jupyter-widgets/controls",
          "model_name": "HTMLModel",
          "model_module_version": "1.5.0",
          "state": {
            "_dom_classes": [],
            "_model_module": "@jupyter-widgets/controls",
            "_model_module_version": "1.5.0",
            "_model_name": "HTMLModel",
            "_view_count": null,
            "_view_module": "@jupyter-widgets/controls",
            "_view_module_version": "1.5.0",
            "_view_name": "HTMLView",
            "description": "",
            "description_tooltip": null,
            "layout": "IPY_MODEL_acaa9cc8c8214deea6be161b0957c08f",
            "placeholder": "​",
            "style": "IPY_MODEL_ae91b806d6004dbeb9b28c5a38a5b14d",
            "value": "Dl Size...: 100%"
          }
        },
        "6165222a4d934df5959b56c5a3f28f0f": {
          "model_module": "@jupyter-widgets/controls",
          "model_name": "FloatProgressModel",
          "model_module_version": "1.5.0",
          "state": {
            "_dom_classes": [],
            "_model_module": "@jupyter-widgets/controls",
            "_model_module_version": "1.5.0",
            "_model_name": "FloatProgressModel",
            "_view_count": null,
            "_view_module": "@jupyter-widgets/controls",
            "_view_module_version": "1.5.0",
            "_view_name": "ProgressView",
            "bar_style": "success",
            "description": "",
            "description_tooltip": null,
            "layout": "IPY_MODEL_4dc37b1989cb48e591751602981b2fdd",
            "max": 1,
            "min": 0,
            "orientation": "horizontal",
            "style": "IPY_MODEL_53097650bb524c4ca62ddfc0586c5bd0",
            "value": 1
          }
        },
        "f7a4186733bf48efb37f02921767001c": {
          "model_module": "@jupyter-widgets/controls",
          "model_name": "HTMLModel",
          "model_module_version": "1.5.0",
          "state": {
            "_dom_classes": [],
            "_model_module": "@jupyter-widgets/controls",
            "_model_module_version": "1.5.0",
            "_model_name": "HTMLModel",
            "_view_count": null,
            "_view_module": "@jupyter-widgets/controls",
            "_view_module_version": "1.5.0",
            "_view_name": "HTMLView",
            "description": "",
            "description_tooltip": null,
            "layout": "IPY_MODEL_25e5148962ff4ee9bee5c3ca69e5906a",
            "placeholder": "​",
            "style": "IPY_MODEL_74b90ca8bc664ac0a16740ab6370dd48",
            "value": " 337/337 [00:48&lt;00:00, 65.50 MiB/s]"
          }
        },
        "6e99756590604f77bb313868ad9801f4": {
          "model_module": "@jupyter-widgets/base",
          "model_name": "LayoutModel",
          "model_module_version": "1.2.0",
          "state": {
            "_model_module": "@jupyter-widgets/base",
            "_model_module_version": "1.2.0",
            "_model_name": "LayoutModel",
            "_view_count": null,
            "_view_module": "@jupyter-widgets/base",
            "_view_module_version": "1.2.0",
            "_view_name": "LayoutView",
            "align_content": null,
            "align_items": null,
            "align_self": null,
            "border": null,
            "bottom": null,
            "display": null,
            "flex": null,
            "flex_flow": null,
            "grid_area": null,
            "grid_auto_columns": null,
            "grid_auto_flow": null,
            "grid_auto_rows": null,
            "grid_column": null,
            "grid_gap": null,
            "grid_row": null,
            "grid_template_areas": null,
            "grid_template_columns": null,
            "grid_template_rows": null,
            "height": null,
            "justify_content": null,
            "justify_items": null,
            "left": null,
            "margin": null,
            "max_height": null,
            "max_width": null,
            "min_height": null,
            "min_width": null,
            "object_fit": null,
            "object_position": null,
            "order": null,
            "overflow": null,
            "overflow_x": null,
            "overflow_y": null,
            "padding": null,
            "right": null,
            "top": null,
            "visibility": null,
            "width": null
          }
        },
        "acaa9cc8c8214deea6be161b0957c08f": {
          "model_module": "@jupyter-widgets/base",
          "model_name": "LayoutModel",
          "model_module_version": "1.2.0",
          "state": {
            "_model_module": "@jupyter-widgets/base",
            "_model_module_version": "1.2.0",
            "_model_name": "LayoutModel",
            "_view_count": null,
            "_view_module": "@jupyter-widgets/base",
            "_view_module_version": "1.2.0",
            "_view_name": "LayoutView",
            "align_content": null,
            "align_items": null,
            "align_self": null,
            "border": null,
            "bottom": null,
            "display": null,
            "flex": null,
            "flex_flow": null,
            "grid_area": null,
            "grid_auto_columns": null,
            "grid_auto_flow": null,
            "grid_auto_rows": null,
            "grid_column": null,
            "grid_gap": null,
            "grid_row": null,
            "grid_template_areas": null,
            "grid_template_columns": null,
            "grid_template_rows": null,
            "height": null,
            "justify_content": null,
            "justify_items": null,
            "left": null,
            "margin": null,
            "max_height": null,
            "max_width": null,
            "min_height": null,
            "min_width": null,
            "object_fit": null,
            "object_position": null,
            "order": null,
            "overflow": null,
            "overflow_x": null,
            "overflow_y": null,
            "padding": null,
            "right": null,
            "top": null,
            "visibility": null,
            "width": null
          }
        },
        "ae91b806d6004dbeb9b28c5a38a5b14d": {
          "model_module": "@jupyter-widgets/controls",
          "model_name": "DescriptionStyleModel",
          "model_module_version": "1.5.0",
          "state": {
            "_model_module": "@jupyter-widgets/controls",
            "_model_module_version": "1.5.0",
            "_model_name": "DescriptionStyleModel",
            "_view_count": null,
            "_view_module": "@jupyter-widgets/base",
            "_view_module_version": "1.2.0",
            "_view_name": "StyleView",
            "description_width": ""
          }
        },
        "4dc37b1989cb48e591751602981b2fdd": {
          "model_module": "@jupyter-widgets/base",
          "model_name": "LayoutModel",
          "model_module_version": "1.2.0",
          "state": {
            "_model_module": "@jupyter-widgets/base",
            "_model_module_version": "1.2.0",
            "_model_name": "LayoutModel",
            "_view_count": null,
            "_view_module": "@jupyter-widgets/base",
            "_view_module_version": "1.2.0",
            "_view_name": "LayoutView",
            "align_content": null,
            "align_items": null,
            "align_self": null,
            "border": null,
            "bottom": null,
            "display": null,
            "flex": null,
            "flex_flow": null,
            "grid_area": null,
            "grid_auto_columns": null,
            "grid_auto_flow": null,
            "grid_auto_rows": null,
            "grid_column": null,
            "grid_gap": null,
            "grid_row": null,
            "grid_template_areas": null,
            "grid_template_columns": null,
            "grid_template_rows": null,
            "height": null,
            "justify_content": null,
            "justify_items": null,
            "left": null,
            "margin": null,
            "max_height": null,
            "max_width": null,
            "min_height": null,
            "min_width": null,
            "object_fit": null,
            "object_position": null,
            "order": null,
            "overflow": null,
            "overflow_x": null,
            "overflow_y": null,
            "padding": null,
            "right": null,
            "top": null,
            "visibility": null,
            "width": "20px"
          }
        },
        "53097650bb524c4ca62ddfc0586c5bd0": {
          "model_module": "@jupyter-widgets/controls",
          "model_name": "ProgressStyleModel",
          "model_module_version": "1.5.0",
          "state": {
            "_model_module": "@jupyter-widgets/controls",
            "_model_module_version": "1.5.0",
            "_model_name": "ProgressStyleModel",
            "_view_count": null,
            "_view_module": "@jupyter-widgets/base",
            "_view_module_version": "1.2.0",
            "_view_name": "StyleView",
            "bar_color": null,
            "description_width": ""
          }
        },
        "25e5148962ff4ee9bee5c3ca69e5906a": {
          "model_module": "@jupyter-widgets/base",
          "model_name": "LayoutModel",
          "model_module_version": "1.2.0",
          "state": {
            "_model_module": "@jupyter-widgets/base",
            "_model_module_version": "1.2.0",
            "_model_name": "LayoutModel",
            "_view_count": null,
            "_view_module": "@jupyter-widgets/base",
            "_view_module_version": "1.2.0",
            "_view_name": "LayoutView",
            "align_content": null,
            "align_items": null,
            "align_self": null,
            "border": null,
            "bottom": null,
            "display": null,
            "flex": null,
            "flex_flow": null,
            "grid_area": null,
            "grid_auto_columns": null,
            "grid_auto_flow": null,
            "grid_auto_rows": null,
            "grid_column": null,
            "grid_gap": null,
            "grid_row": null,
            "grid_template_areas": null,
            "grid_template_columns": null,
            "grid_template_rows": null,
            "height": null,
            "justify_content": null,
            "justify_items": null,
            "left": null,
            "margin": null,
            "max_height": null,
            "max_width": null,
            "min_height": null,
            "min_width": null,
            "object_fit": null,
            "object_position": null,
            "order": null,
            "overflow": null,
            "overflow_x": null,
            "overflow_y": null,
            "padding": null,
            "right": null,
            "top": null,
            "visibility": null,
            "width": null
          }
        },
        "74b90ca8bc664ac0a16740ab6370dd48": {
          "model_module": "@jupyter-widgets/controls",
          "model_name": "DescriptionStyleModel",
          "model_module_version": "1.5.0",
          "state": {
            "_model_module": "@jupyter-widgets/controls",
            "_model_module_version": "1.5.0",
            "_model_name": "DescriptionStyleModel",
            "_view_count": null,
            "_view_module": "@jupyter-widgets/base",
            "_view_module_version": "1.2.0",
            "_view_name": "StyleView",
            "description_width": ""
          }
        },
        "ee99c3c48b8044a7b8aa8ce2282dce47": {
          "model_module": "@jupyter-widgets/controls",
          "model_name": "HBoxModel",
          "model_module_version": "1.5.0",
          "state": {
            "_dom_classes": [],
            "_model_module": "@jupyter-widgets/controls",
            "_model_module_version": "1.5.0",
            "_model_name": "HBoxModel",
            "_view_count": null,
            "_view_module": "@jupyter-widgets/controls",
            "_view_module_version": "1.5.0",
            "_view_name": "HBoxView",
            "box_style": "",
            "children": [
              "IPY_MODEL_2f465375fc6a4a5c96eb58244220d727",
              "IPY_MODEL_83ed7b41946c4fd58dc0a825e3cd539f",
              "IPY_MODEL_61a4e78368d94b94ab1c00d11c5bccf5"
            ],
            "layout": "IPY_MODEL_3adab7394875455cb236982c6c57cacb"
          }
        },
        "2f465375fc6a4a5c96eb58244220d727": {
          "model_module": "@jupyter-widgets/controls",
          "model_name": "HTMLModel",
          "model_module_version": "1.5.0",
          "state": {
            "_dom_classes": [],
            "_model_module": "@jupyter-widgets/controls",
            "_model_module_version": "1.5.0",
            "_model_name": "HTMLModel",
            "_view_count": null,
            "_view_module": "@jupyter-widgets/controls",
            "_view_module_version": "1.5.0",
            "_view_name": "HTMLView",
            "description": "",
            "description_tooltip": null,
            "layout": "IPY_MODEL_7a670bc336d64a51b567caff8bfb8e24",
            "placeholder": "​",
            "style": "IPY_MODEL_1847b813124c4e16bd3e170d10fd7fa6",
            "value": "Extraction completed...: 100%"
          }
        },
        "83ed7b41946c4fd58dc0a825e3cd539f": {
          "model_module": "@jupyter-widgets/controls",
          "model_name": "FloatProgressModel",
          "model_module_version": "1.5.0",
          "state": {
            "_dom_classes": [],
            "_model_module": "@jupyter-widgets/controls",
            "_model_module_version": "1.5.0",
            "_model_name": "FloatProgressModel",
            "_view_count": null,
            "_view_module": "@jupyter-widgets/controls",
            "_view_module_version": "1.5.0",
            "_view_name": "ProgressView",
            "bar_style": "success",
            "description": "",
            "description_tooltip": null,
            "layout": "IPY_MODEL_6b93fc79dd9d4f3d961d20832653841d",
            "max": 1,
            "min": 0,
            "orientation": "horizontal",
            "style": "IPY_MODEL_5e1bc691e1c1444281ee3c8bf431a9b7",
            "value": 1
          }
        },
        "61a4e78368d94b94ab1c00d11c5bccf5": {
          "model_module": "@jupyter-widgets/controls",
          "model_name": "HTMLModel",
          "model_module_version": "1.5.0",
          "state": {
            "_dom_classes": [],
            "_model_module": "@jupyter-widgets/controls",
            "_model_module_version": "1.5.0",
            "_model_name": "HTMLModel",
            "_view_count": null,
            "_view_module": "@jupyter-widgets/controls",
            "_view_module_version": "1.5.0",
            "_view_name": "HTMLView",
            "description": "",
            "description_tooltip": null,
            "layout": "IPY_MODEL_cbbe6d426df34d34a2c36db6d727ba8f",
            "placeholder": "​",
            "style": "IPY_MODEL_c646a50fab60439ea4b0799eb36751de",
            "value": " 27560/27560 [00:54&lt;00:00, 1638.82 file/s]"
          }
        },
        "3adab7394875455cb236982c6c57cacb": {
          "model_module": "@jupyter-widgets/base",
          "model_name": "LayoutModel",
          "model_module_version": "1.2.0",
          "state": {
            "_model_module": "@jupyter-widgets/base",
            "_model_module_version": "1.2.0",
            "_model_name": "LayoutModel",
            "_view_count": null,
            "_view_module": "@jupyter-widgets/base",
            "_view_module_version": "1.2.0",
            "_view_name": "LayoutView",
            "align_content": null,
            "align_items": null,
            "align_self": null,
            "border": null,
            "bottom": null,
            "display": null,
            "flex": null,
            "flex_flow": null,
            "grid_area": null,
            "grid_auto_columns": null,
            "grid_auto_flow": null,
            "grid_auto_rows": null,
            "grid_column": null,
            "grid_gap": null,
            "grid_row": null,
            "grid_template_areas": null,
            "grid_template_columns": null,
            "grid_template_rows": null,
            "height": null,
            "justify_content": null,
            "justify_items": null,
            "left": null,
            "margin": null,
            "max_height": null,
            "max_width": null,
            "min_height": null,
            "min_width": null,
            "object_fit": null,
            "object_position": null,
            "order": null,
            "overflow": null,
            "overflow_x": null,
            "overflow_y": null,
            "padding": null,
            "right": null,
            "top": null,
            "visibility": null,
            "width": null
          }
        },
        "7a670bc336d64a51b567caff8bfb8e24": {
          "model_module": "@jupyter-widgets/base",
          "model_name": "LayoutModel",
          "model_module_version": "1.2.0",
          "state": {
            "_model_module": "@jupyter-widgets/base",
            "_model_module_version": "1.2.0",
            "_model_name": "LayoutModel",
            "_view_count": null,
            "_view_module": "@jupyter-widgets/base",
            "_view_module_version": "1.2.0",
            "_view_name": "LayoutView",
            "align_content": null,
            "align_items": null,
            "align_self": null,
            "border": null,
            "bottom": null,
            "display": null,
            "flex": null,
            "flex_flow": null,
            "grid_area": null,
            "grid_auto_columns": null,
            "grid_auto_flow": null,
            "grid_auto_rows": null,
            "grid_column": null,
            "grid_gap": null,
            "grid_row": null,
            "grid_template_areas": null,
            "grid_template_columns": null,
            "grid_template_rows": null,
            "height": null,
            "justify_content": null,
            "justify_items": null,
            "left": null,
            "margin": null,
            "max_height": null,
            "max_width": null,
            "min_height": null,
            "min_width": null,
            "object_fit": null,
            "object_position": null,
            "order": null,
            "overflow": null,
            "overflow_x": null,
            "overflow_y": null,
            "padding": null,
            "right": null,
            "top": null,
            "visibility": null,
            "width": null
          }
        },
        "1847b813124c4e16bd3e170d10fd7fa6": {
          "model_module": "@jupyter-widgets/controls",
          "model_name": "DescriptionStyleModel",
          "model_module_version": "1.5.0",
          "state": {
            "_model_module": "@jupyter-widgets/controls",
            "_model_module_version": "1.5.0",
            "_model_name": "DescriptionStyleModel",
            "_view_count": null,
            "_view_module": "@jupyter-widgets/base",
            "_view_module_version": "1.2.0",
            "_view_name": "StyleView",
            "description_width": ""
          }
        },
        "6b93fc79dd9d4f3d961d20832653841d": {
          "model_module": "@jupyter-widgets/base",
          "model_name": "LayoutModel",
          "model_module_version": "1.2.0",
          "state": {
            "_model_module": "@jupyter-widgets/base",
            "_model_module_version": "1.2.0",
            "_model_name": "LayoutModel",
            "_view_count": null,
            "_view_module": "@jupyter-widgets/base",
            "_view_module_version": "1.2.0",
            "_view_name": "LayoutView",
            "align_content": null,
            "align_items": null,
            "align_self": null,
            "border": null,
            "bottom": null,
            "display": null,
            "flex": null,
            "flex_flow": null,
            "grid_area": null,
            "grid_auto_columns": null,
            "grid_auto_flow": null,
            "grid_auto_rows": null,
            "grid_column": null,
            "grid_gap": null,
            "grid_row": null,
            "grid_template_areas": null,
            "grid_template_columns": null,
            "grid_template_rows": null,
            "height": null,
            "justify_content": null,
            "justify_items": null,
            "left": null,
            "margin": null,
            "max_height": null,
            "max_width": null,
            "min_height": null,
            "min_width": null,
            "object_fit": null,
            "object_position": null,
            "order": null,
            "overflow": null,
            "overflow_x": null,
            "overflow_y": null,
            "padding": null,
            "right": null,
            "top": null,
            "visibility": null,
            "width": "20px"
          }
        },
        "5e1bc691e1c1444281ee3c8bf431a9b7": {
          "model_module": "@jupyter-widgets/controls",
          "model_name": "ProgressStyleModel",
          "model_module_version": "1.5.0",
          "state": {
            "_model_module": "@jupyter-widgets/controls",
            "_model_module_version": "1.5.0",
            "_model_name": "ProgressStyleModel",
            "_view_count": null,
            "_view_module": "@jupyter-widgets/base",
            "_view_module_version": "1.2.0",
            "_view_name": "StyleView",
            "bar_color": null,
            "description_width": ""
          }
        },
        "cbbe6d426df34d34a2c36db6d727ba8f": {
          "model_module": "@jupyter-widgets/base",
          "model_name": "LayoutModel",
          "model_module_version": "1.2.0",
          "state": {
            "_model_module": "@jupyter-widgets/base",
            "_model_module_version": "1.2.0",
            "_model_name": "LayoutModel",
            "_view_count": null,
            "_view_module": "@jupyter-widgets/base",
            "_view_module_version": "1.2.0",
            "_view_name": "LayoutView",
            "align_content": null,
            "align_items": null,
            "align_self": null,
            "border": null,
            "bottom": null,
            "display": null,
            "flex": null,
            "flex_flow": null,
            "grid_area": null,
            "grid_auto_columns": null,
            "grid_auto_flow": null,
            "grid_auto_rows": null,
            "grid_column": null,
            "grid_gap": null,
            "grid_row": null,
            "grid_template_areas": null,
            "grid_template_columns": null,
            "grid_template_rows": null,
            "height": null,
            "justify_content": null,
            "justify_items": null,
            "left": null,
            "margin": null,
            "max_height": null,
            "max_width": null,
            "min_height": null,
            "min_width": null,
            "object_fit": null,
            "object_position": null,
            "order": null,
            "overflow": null,
            "overflow_x": null,
            "overflow_y": null,
            "padding": null,
            "right": null,
            "top": null,
            "visibility": null,
            "width": null
          }
        },
        "c646a50fab60439ea4b0799eb36751de": {
          "model_module": "@jupyter-widgets/controls",
          "model_name": "DescriptionStyleModel",
          "model_module_version": "1.5.0",
          "state": {
            "_model_module": "@jupyter-widgets/controls",
            "_model_module_version": "1.5.0",
            "_model_name": "DescriptionStyleModel",
            "_view_count": null,
            "_view_module": "@jupyter-widgets/base",
            "_view_module_version": "1.2.0",
            "_view_name": "StyleView",
            "description_width": ""
          }
        },
        "8d6efff3d3d54eaf80e6c690d6629c5e": {
          "model_module": "@jupyter-widgets/controls",
          "model_name": "HBoxModel",
          "model_module_version": "1.5.0",
          "state": {
            "_dom_classes": [],
            "_model_module": "@jupyter-widgets/controls",
            "_model_module_version": "1.5.0",
            "_model_name": "HBoxModel",
            "_view_count": null,
            "_view_module": "@jupyter-widgets/controls",
            "_view_module_version": "1.5.0",
            "_view_name": "HBoxView",
            "box_style": "",
            "children": [
              "IPY_MODEL_17eedfa510b642f99542934054436710",
              "IPY_MODEL_27dc206abe9e49ed929e7fc482465260",
              "IPY_MODEL_4fc2ea684dd54b0585c2aaf67fccb9d7"
            ],
            "layout": "IPY_MODEL_006eeeba93a74600aa4d790d6e01e819"
          }
        },
        "17eedfa510b642f99542934054436710": {
          "model_module": "@jupyter-widgets/controls",
          "model_name": "HTMLModel",
          "model_module_version": "1.5.0",
          "state": {
            "_dom_classes": [],
            "_model_module": "@jupyter-widgets/controls",
            "_model_module_version": "1.5.0",
            "_model_name": "HTMLModel",
            "_view_count": null,
            "_view_module": "@jupyter-widgets/controls",
            "_view_module_version": "1.5.0",
            "_view_name": "HTMLView",
            "description": "",
            "description_tooltip": null,
            "layout": "IPY_MODEL_8a91a8eb11e74e6493260afebbde5d34",
            "placeholder": "​",
            "style": "IPY_MODEL_c68df4cb532b4bafb1d40e0388b1609a",
            "value": "Generating splits...: 100%"
          }
        },
        "27dc206abe9e49ed929e7fc482465260": {
          "model_module": "@jupyter-widgets/controls",
          "model_name": "FloatProgressModel",
          "model_module_version": "1.5.0",
          "state": {
            "_dom_classes": [],
            "_model_module": "@jupyter-widgets/controls",
            "_model_module_version": "1.5.0",
            "_model_name": "FloatProgressModel",
            "_view_count": null,
            "_view_module": "@jupyter-widgets/controls",
            "_view_module_version": "1.5.0",
            "_view_name": "ProgressView",
            "bar_style": "",
            "description": "",
            "description_tooltip": null,
            "layout": "IPY_MODEL_b5fbe93ea619405eaeb2a7195271a8b2",
            "max": 1,
            "min": 0,
            "orientation": "horizontal",
            "style": "IPY_MODEL_e461ca136c794204a04f9066ec1a954c",
            "value": 1
          }
        },
        "4fc2ea684dd54b0585c2aaf67fccb9d7": {
          "model_module": "@jupyter-widgets/controls",
          "model_name": "HTMLModel",
          "model_module_version": "1.5.0",
          "state": {
            "_dom_classes": [],
            "_model_module": "@jupyter-widgets/controls",
            "_model_module_version": "1.5.0",
            "_model_name": "HTMLModel",
            "_view_count": null,
            "_view_module": "@jupyter-widgets/controls",
            "_view_module_version": "1.5.0",
            "_view_name": "HTMLView",
            "description": "",
            "description_tooltip": null,
            "layout": "IPY_MODEL_8bf715e390e64a34b5a0f65fbc57e22e",
            "placeholder": "​",
            "style": "IPY_MODEL_13547277fd4c42aa931e8003d306b737",
            "value": " 1/1 [00:05&lt;00:00,  5.73s/ splits]"
          }
        },
        "006eeeba93a74600aa4d790d6e01e819": {
          "model_module": "@jupyter-widgets/base",
          "model_name": "LayoutModel",
          "model_module_version": "1.2.0",
          "state": {
            "_model_module": "@jupyter-widgets/base",
            "_model_module_version": "1.2.0",
            "_model_name": "LayoutModel",
            "_view_count": null,
            "_view_module": "@jupyter-widgets/base",
            "_view_module_version": "1.2.0",
            "_view_name": "LayoutView",
            "align_content": null,
            "align_items": null,
            "align_self": null,
            "border": null,
            "bottom": null,
            "display": null,
            "flex": null,
            "flex_flow": null,
            "grid_area": null,
            "grid_auto_columns": null,
            "grid_auto_flow": null,
            "grid_auto_rows": null,
            "grid_column": null,
            "grid_gap": null,
            "grid_row": null,
            "grid_template_areas": null,
            "grid_template_columns": null,
            "grid_template_rows": null,
            "height": null,
            "justify_content": null,
            "justify_items": null,
            "left": null,
            "margin": null,
            "max_height": null,
            "max_width": null,
            "min_height": null,
            "min_width": null,
            "object_fit": null,
            "object_position": null,
            "order": null,
            "overflow": null,
            "overflow_x": null,
            "overflow_y": null,
            "padding": null,
            "right": null,
            "top": null,
            "visibility": "hidden",
            "width": null
          }
        },
        "8a91a8eb11e74e6493260afebbde5d34": {
          "model_module": "@jupyter-widgets/base",
          "model_name": "LayoutModel",
          "model_module_version": "1.2.0",
          "state": {
            "_model_module": "@jupyter-widgets/base",
            "_model_module_version": "1.2.0",
            "_model_name": "LayoutModel",
            "_view_count": null,
            "_view_module": "@jupyter-widgets/base",
            "_view_module_version": "1.2.0",
            "_view_name": "LayoutView",
            "align_content": null,
            "align_items": null,
            "align_self": null,
            "border": null,
            "bottom": null,
            "display": null,
            "flex": null,
            "flex_flow": null,
            "grid_area": null,
            "grid_auto_columns": null,
            "grid_auto_flow": null,
            "grid_auto_rows": null,
            "grid_column": null,
            "grid_gap": null,
            "grid_row": null,
            "grid_template_areas": null,
            "grid_template_columns": null,
            "grid_template_rows": null,
            "height": null,
            "justify_content": null,
            "justify_items": null,
            "left": null,
            "margin": null,
            "max_height": null,
            "max_width": null,
            "min_height": null,
            "min_width": null,
            "object_fit": null,
            "object_position": null,
            "order": null,
            "overflow": null,
            "overflow_x": null,
            "overflow_y": null,
            "padding": null,
            "right": null,
            "top": null,
            "visibility": null,
            "width": null
          }
        },
        "c68df4cb532b4bafb1d40e0388b1609a": {
          "model_module": "@jupyter-widgets/controls",
          "model_name": "DescriptionStyleModel",
          "model_module_version": "1.5.0",
          "state": {
            "_model_module": "@jupyter-widgets/controls",
            "_model_module_version": "1.5.0",
            "_model_name": "DescriptionStyleModel",
            "_view_count": null,
            "_view_module": "@jupyter-widgets/base",
            "_view_module_version": "1.2.0",
            "_view_name": "StyleView",
            "description_width": ""
          }
        },
        "b5fbe93ea619405eaeb2a7195271a8b2": {
          "model_module": "@jupyter-widgets/base",
          "model_name": "LayoutModel",
          "model_module_version": "1.2.0",
          "state": {
            "_model_module": "@jupyter-widgets/base",
            "_model_module_version": "1.2.0",
            "_model_name": "LayoutModel",
            "_view_count": null,
            "_view_module": "@jupyter-widgets/base",
            "_view_module_version": "1.2.0",
            "_view_name": "LayoutView",
            "align_content": null,
            "align_items": null,
            "align_self": null,
            "border": null,
            "bottom": null,
            "display": null,
            "flex": null,
            "flex_flow": null,
            "grid_area": null,
            "grid_auto_columns": null,
            "grid_auto_flow": null,
            "grid_auto_rows": null,
            "grid_column": null,
            "grid_gap": null,
            "grid_row": null,
            "grid_template_areas": null,
            "grid_template_columns": null,
            "grid_template_rows": null,
            "height": null,
            "justify_content": null,
            "justify_items": null,
            "left": null,
            "margin": null,
            "max_height": null,
            "max_width": null,
            "min_height": null,
            "min_width": null,
            "object_fit": null,
            "object_position": null,
            "order": null,
            "overflow": null,
            "overflow_x": null,
            "overflow_y": null,
            "padding": null,
            "right": null,
            "top": null,
            "visibility": null,
            "width": null
          }
        },
        "e461ca136c794204a04f9066ec1a954c": {
          "model_module": "@jupyter-widgets/controls",
          "model_name": "ProgressStyleModel",
          "model_module_version": "1.5.0",
          "state": {
            "_model_module": "@jupyter-widgets/controls",
            "_model_module_version": "1.5.0",
            "_model_name": "ProgressStyleModel",
            "_view_count": null,
            "_view_module": "@jupyter-widgets/base",
            "_view_module_version": "1.2.0",
            "_view_name": "StyleView",
            "bar_color": null,
            "description_width": ""
          }
        },
        "8bf715e390e64a34b5a0f65fbc57e22e": {
          "model_module": "@jupyter-widgets/base",
          "model_name": "LayoutModel",
          "model_module_version": "1.2.0",
          "state": {
            "_model_module": "@jupyter-widgets/base",
            "_model_module_version": "1.2.0",
            "_model_name": "LayoutModel",
            "_view_count": null,
            "_view_module": "@jupyter-widgets/base",
            "_view_module_version": "1.2.0",
            "_view_name": "LayoutView",
            "align_content": null,
            "align_items": null,
            "align_self": null,
            "border": null,
            "bottom": null,
            "display": null,
            "flex": null,
            "flex_flow": null,
            "grid_area": null,
            "grid_auto_columns": null,
            "grid_auto_flow": null,
            "grid_auto_rows": null,
            "grid_column": null,
            "grid_gap": null,
            "grid_row": null,
            "grid_template_areas": null,
            "grid_template_columns": null,
            "grid_template_rows": null,
            "height": null,
            "justify_content": null,
            "justify_items": null,
            "left": null,
            "margin": null,
            "max_height": null,
            "max_width": null,
            "min_height": null,
            "min_width": null,
            "object_fit": null,
            "object_position": null,
            "order": null,
            "overflow": null,
            "overflow_x": null,
            "overflow_y": null,
            "padding": null,
            "right": null,
            "top": null,
            "visibility": null,
            "width": null
          }
        },
        "13547277fd4c42aa931e8003d306b737": {
          "model_module": "@jupyter-widgets/controls",
          "model_name": "DescriptionStyleModel",
          "model_module_version": "1.5.0",
          "state": {
            "_model_module": "@jupyter-widgets/controls",
            "_model_module_version": "1.5.0",
            "_model_name": "DescriptionStyleModel",
            "_view_count": null,
            "_view_module": "@jupyter-widgets/base",
            "_view_module_version": "1.2.0",
            "_view_name": "StyleView",
            "description_width": ""
          }
        },
        "12f995e524364920ad6d309e486209f6": {
          "model_module": "@jupyter-widgets/controls",
          "model_name": "HBoxModel",
          "model_module_version": "1.5.0",
          "state": {
            "_dom_classes": [],
            "_model_module": "@jupyter-widgets/controls",
            "_model_module_version": "1.5.0",
            "_model_name": "HBoxModel",
            "_view_count": null,
            "_view_module": "@jupyter-widgets/controls",
            "_view_module_version": "1.5.0",
            "_view_name": "HBoxView",
            "box_style": "",
            "children": [
              "IPY_MODEL_f24da257ad404ebcbfdf576dee8398e7",
              "IPY_MODEL_f6577ea2a57b4033bd7f3864c0f62d10",
              "IPY_MODEL_a7da5cbf7f044d15be7e82496e82f9fb"
            ],
            "layout": "IPY_MODEL_00793aae0480420bb57695e6dd2ce825"
          }
        },
        "f24da257ad404ebcbfdf576dee8398e7": {
          "model_module": "@jupyter-widgets/controls",
          "model_name": "HTMLModel",
          "model_module_version": "1.5.0",
          "state": {
            "_dom_classes": [],
            "_model_module": "@jupyter-widgets/controls",
            "_model_module_version": "1.5.0",
            "_model_name": "HTMLModel",
            "_view_count": null,
            "_view_module": "@jupyter-widgets/controls",
            "_view_module_version": "1.5.0",
            "_view_name": "HTMLView",
            "description": "",
            "description_tooltip": null,
            "layout": "IPY_MODEL_4b263d3e2c574170a7e8f1ae226ba2e8",
            "placeholder": "​",
            "style": "IPY_MODEL_3f1abcc5f0e14ba19f742df6b53c3417",
            "value": "Generating train examples...:  99%"
          }
        },
        "f6577ea2a57b4033bd7f3864c0f62d10": {
          "model_module": "@jupyter-widgets/controls",
          "model_name": "FloatProgressModel",
          "model_module_version": "1.5.0",
          "state": {
            "_dom_classes": [],
            "_model_module": "@jupyter-widgets/controls",
            "_model_module_version": "1.5.0",
            "_model_name": "FloatProgressModel",
            "_view_count": null,
            "_view_module": "@jupyter-widgets/controls",
            "_view_module_version": "1.5.0",
            "_view_name": "ProgressView",
            "bar_style": "",
            "description": "",
            "description_tooltip": null,
            "layout": "IPY_MODEL_0762464df42747079868f79d33d102db",
            "max": 27558,
            "min": 0,
            "orientation": "horizontal",
            "style": "IPY_MODEL_7277fd2050534259838d4d489b62d041",
            "value": 27558
          }
        },
        "a7da5cbf7f044d15be7e82496e82f9fb": {
          "model_module": "@jupyter-widgets/controls",
          "model_name": "HTMLModel",
          "model_module_version": "1.5.0",
          "state": {
            "_dom_classes": [],
            "_model_module": "@jupyter-widgets/controls",
            "_model_module_version": "1.5.0",
            "_model_name": "HTMLModel",
            "_view_count": null,
            "_view_module": "@jupyter-widgets/controls",
            "_view_module_version": "1.5.0",
            "_view_name": "HTMLView",
            "description": "",
            "description_tooltip": null,
            "layout": "IPY_MODEL_fdce04bebecb4ae29edcfeefa321ae5e",
            "placeholder": "​",
            "style": "IPY_MODEL_06278d16ef4945c396cd60d879c46b82",
            "value": " 27368/27558 [00:05&lt;00:00, 5674.31 examples/s]"
          }
        },
        "00793aae0480420bb57695e6dd2ce825": {
          "model_module": "@jupyter-widgets/base",
          "model_name": "LayoutModel",
          "model_module_version": "1.2.0",
          "state": {
            "_model_module": "@jupyter-widgets/base",
            "_model_module_version": "1.2.0",
            "_model_name": "LayoutModel",
            "_view_count": null,
            "_view_module": "@jupyter-widgets/base",
            "_view_module_version": "1.2.0",
            "_view_name": "LayoutView",
            "align_content": null,
            "align_items": null,
            "align_self": null,
            "border": null,
            "bottom": null,
            "display": null,
            "flex": null,
            "flex_flow": null,
            "grid_area": null,
            "grid_auto_columns": null,
            "grid_auto_flow": null,
            "grid_auto_rows": null,
            "grid_column": null,
            "grid_gap": null,
            "grid_row": null,
            "grid_template_areas": null,
            "grid_template_columns": null,
            "grid_template_rows": null,
            "height": null,
            "justify_content": null,
            "justify_items": null,
            "left": null,
            "margin": null,
            "max_height": null,
            "max_width": null,
            "min_height": null,
            "min_width": null,
            "object_fit": null,
            "object_position": null,
            "order": null,
            "overflow": null,
            "overflow_x": null,
            "overflow_y": null,
            "padding": null,
            "right": null,
            "top": null,
            "visibility": "hidden",
            "width": null
          }
        },
        "4b263d3e2c574170a7e8f1ae226ba2e8": {
          "model_module": "@jupyter-widgets/base",
          "model_name": "LayoutModel",
          "model_module_version": "1.2.0",
          "state": {
            "_model_module": "@jupyter-widgets/base",
            "_model_module_version": "1.2.0",
            "_model_name": "LayoutModel",
            "_view_count": null,
            "_view_module": "@jupyter-widgets/base",
            "_view_module_version": "1.2.0",
            "_view_name": "LayoutView",
            "align_content": null,
            "align_items": null,
            "align_self": null,
            "border": null,
            "bottom": null,
            "display": null,
            "flex": null,
            "flex_flow": null,
            "grid_area": null,
            "grid_auto_columns": null,
            "grid_auto_flow": null,
            "grid_auto_rows": null,
            "grid_column": null,
            "grid_gap": null,
            "grid_row": null,
            "grid_template_areas": null,
            "grid_template_columns": null,
            "grid_template_rows": null,
            "height": null,
            "justify_content": null,
            "justify_items": null,
            "left": null,
            "margin": null,
            "max_height": null,
            "max_width": null,
            "min_height": null,
            "min_width": null,
            "object_fit": null,
            "object_position": null,
            "order": null,
            "overflow": null,
            "overflow_x": null,
            "overflow_y": null,
            "padding": null,
            "right": null,
            "top": null,
            "visibility": null,
            "width": null
          }
        },
        "3f1abcc5f0e14ba19f742df6b53c3417": {
          "model_module": "@jupyter-widgets/controls",
          "model_name": "DescriptionStyleModel",
          "model_module_version": "1.5.0",
          "state": {
            "_model_module": "@jupyter-widgets/controls",
            "_model_module_version": "1.5.0",
            "_model_name": "DescriptionStyleModel",
            "_view_count": null,
            "_view_module": "@jupyter-widgets/base",
            "_view_module_version": "1.2.0",
            "_view_name": "StyleView",
            "description_width": ""
          }
        },
        "0762464df42747079868f79d33d102db": {
          "model_module": "@jupyter-widgets/base",
          "model_name": "LayoutModel",
          "model_module_version": "1.2.0",
          "state": {
            "_model_module": "@jupyter-widgets/base",
            "_model_module_version": "1.2.0",
            "_model_name": "LayoutModel",
            "_view_count": null,
            "_view_module": "@jupyter-widgets/base",
            "_view_module_version": "1.2.0",
            "_view_name": "LayoutView",
            "align_content": null,
            "align_items": null,
            "align_self": null,
            "border": null,
            "bottom": null,
            "display": null,
            "flex": null,
            "flex_flow": null,
            "grid_area": null,
            "grid_auto_columns": null,
            "grid_auto_flow": null,
            "grid_auto_rows": null,
            "grid_column": null,
            "grid_gap": null,
            "grid_row": null,
            "grid_template_areas": null,
            "grid_template_columns": null,
            "grid_template_rows": null,
            "height": null,
            "justify_content": null,
            "justify_items": null,
            "left": null,
            "margin": null,
            "max_height": null,
            "max_width": null,
            "min_height": null,
            "min_width": null,
            "object_fit": null,
            "object_position": null,
            "order": null,
            "overflow": null,
            "overflow_x": null,
            "overflow_y": null,
            "padding": null,
            "right": null,
            "top": null,
            "visibility": null,
            "width": null
          }
        },
        "7277fd2050534259838d4d489b62d041": {
          "model_module": "@jupyter-widgets/controls",
          "model_name": "ProgressStyleModel",
          "model_module_version": "1.5.0",
          "state": {
            "_model_module": "@jupyter-widgets/controls",
            "_model_module_version": "1.5.0",
            "_model_name": "ProgressStyleModel",
            "_view_count": null,
            "_view_module": "@jupyter-widgets/base",
            "_view_module_version": "1.2.0",
            "_view_name": "StyleView",
            "bar_color": null,
            "description_width": ""
          }
        },
        "fdce04bebecb4ae29edcfeefa321ae5e": {
          "model_module": "@jupyter-widgets/base",
          "model_name": "LayoutModel",
          "model_module_version": "1.2.0",
          "state": {
            "_model_module": "@jupyter-widgets/base",
            "_model_module_version": "1.2.0",
            "_model_name": "LayoutModel",
            "_view_count": null,
            "_view_module": "@jupyter-widgets/base",
            "_view_module_version": "1.2.0",
            "_view_name": "LayoutView",
            "align_content": null,
            "align_items": null,
            "align_self": null,
            "border": null,
            "bottom": null,
            "display": null,
            "flex": null,
            "flex_flow": null,
            "grid_area": null,
            "grid_auto_columns": null,
            "grid_auto_flow": null,
            "grid_auto_rows": null,
            "grid_column": null,
            "grid_gap": null,
            "grid_row": null,
            "grid_template_areas": null,
            "grid_template_columns": null,
            "grid_template_rows": null,
            "height": null,
            "justify_content": null,
            "justify_items": null,
            "left": null,
            "margin": null,
            "max_height": null,
            "max_width": null,
            "min_height": null,
            "min_width": null,
            "object_fit": null,
            "object_position": null,
            "order": null,
            "overflow": null,
            "overflow_x": null,
            "overflow_y": null,
            "padding": null,
            "right": null,
            "top": null,
            "visibility": null,
            "width": null
          }
        },
        "06278d16ef4945c396cd60d879c46b82": {
          "model_module": "@jupyter-widgets/controls",
          "model_name": "DescriptionStyleModel",
          "model_module_version": "1.5.0",
          "state": {
            "_model_module": "@jupyter-widgets/controls",
            "_model_module_version": "1.5.0",
            "_model_name": "DescriptionStyleModel",
            "_view_count": null,
            "_view_module": "@jupyter-widgets/base",
            "_view_module_version": "1.2.0",
            "_view_name": "StyleView",
            "description_width": ""
          }
        },
        "152dfb0843c7436986cebccb6baec192": {
          "model_module": "@jupyter-widgets/controls",
          "model_name": "HBoxModel",
          "model_module_version": "1.5.0",
          "state": {
            "_dom_classes": [],
            "_model_module": "@jupyter-widgets/controls",
            "_model_module_version": "1.5.0",
            "_model_name": "HBoxModel",
            "_view_count": null,
            "_view_module": "@jupyter-widgets/controls",
            "_view_module_version": "1.5.0",
            "_view_name": "HBoxView",
            "box_style": "",
            "children": [
              "IPY_MODEL_1f50f20dab83435c8756c6ab274029c8",
              "IPY_MODEL_724faf70a77f49e798ffe127a689aa31",
              "IPY_MODEL_4a27bbf6ed9445bfb90967d269c81b8f"
            ],
            "layout": "IPY_MODEL_9cfe1e18575b425a9cfc14b87f09dafb"
          }
        },
        "1f50f20dab83435c8756c6ab274029c8": {
          "model_module": "@jupyter-widgets/controls",
          "model_name": "HTMLModel",
          "model_module_version": "1.5.0",
          "state": {
            "_dom_classes": [],
            "_model_module": "@jupyter-widgets/controls",
            "_model_module_version": "1.5.0",
            "_model_name": "HTMLModel",
            "_view_count": null,
            "_view_module": "@jupyter-widgets/controls",
            "_view_module_version": "1.5.0",
            "_view_name": "HTMLView",
            "description": "",
            "description_tooltip": null,
            "layout": "IPY_MODEL_23c5b394365e4fc2b7efcbc5d9ce612a",
            "placeholder": "​",
            "style": "IPY_MODEL_17c5426a058041c8942bf104c67d496f",
            "value": "Shuffling /root/tensorflow_datasets/malaria/1.0.0.incompleteJCODRU/malaria-train.tfrecord*...:  96%"
          }
        },
        "724faf70a77f49e798ffe127a689aa31": {
          "model_module": "@jupyter-widgets/controls",
          "model_name": "FloatProgressModel",
          "model_module_version": "1.5.0",
          "state": {
            "_dom_classes": [],
            "_model_module": "@jupyter-widgets/controls",
            "_model_module_version": "1.5.0",
            "_model_name": "FloatProgressModel",
            "_view_count": null,
            "_view_module": "@jupyter-widgets/controls",
            "_view_module_version": "1.5.0",
            "_view_name": "ProgressView",
            "bar_style": "",
            "description": "",
            "description_tooltip": null,
            "layout": "IPY_MODEL_11482e38bc3049d8a6a5fd0ab5bde27f",
            "max": 27558,
            "min": 0,
            "orientation": "horizontal",
            "style": "IPY_MODEL_34fa4cd7a60a48a1b2f7f40334b0af4d",
            "value": 27558
          }
        },
        "4a27bbf6ed9445bfb90967d269c81b8f": {
          "model_module": "@jupyter-widgets/controls",
          "model_name": "HTMLModel",
          "model_module_version": "1.5.0",
          "state": {
            "_dom_classes": [],
            "_model_module": "@jupyter-widgets/controls",
            "_model_module_version": "1.5.0",
            "_model_name": "HTMLModel",
            "_view_count": null,
            "_view_module": "@jupyter-widgets/controls",
            "_view_module_version": "1.5.0",
            "_view_name": "HTMLView",
            "description": "",
            "description_tooltip": null,
            "layout": "IPY_MODEL_0d23057d92d040a496a3f2c3ad8d5e69",
            "placeholder": "​",
            "style": "IPY_MODEL_653e0946020348a3a5cd82d32f489c9a",
            "value": " 26522/27558 [00:00&lt;00:00, 68999.86 examples/s]"
          }
        },
        "9cfe1e18575b425a9cfc14b87f09dafb": {
          "model_module": "@jupyter-widgets/base",
          "model_name": "LayoutModel",
          "model_module_version": "1.2.0",
          "state": {
            "_model_module": "@jupyter-widgets/base",
            "_model_module_version": "1.2.0",
            "_model_name": "LayoutModel",
            "_view_count": null,
            "_view_module": "@jupyter-widgets/base",
            "_view_module_version": "1.2.0",
            "_view_name": "LayoutView",
            "align_content": null,
            "align_items": null,
            "align_self": null,
            "border": null,
            "bottom": null,
            "display": null,
            "flex": null,
            "flex_flow": null,
            "grid_area": null,
            "grid_auto_columns": null,
            "grid_auto_flow": null,
            "grid_auto_rows": null,
            "grid_column": null,
            "grid_gap": null,
            "grid_row": null,
            "grid_template_areas": null,
            "grid_template_columns": null,
            "grid_template_rows": null,
            "height": null,
            "justify_content": null,
            "justify_items": null,
            "left": null,
            "margin": null,
            "max_height": null,
            "max_width": null,
            "min_height": null,
            "min_width": null,
            "object_fit": null,
            "object_position": null,
            "order": null,
            "overflow": null,
            "overflow_x": null,
            "overflow_y": null,
            "padding": null,
            "right": null,
            "top": null,
            "visibility": "hidden",
            "width": null
          }
        },
        "23c5b394365e4fc2b7efcbc5d9ce612a": {
          "model_module": "@jupyter-widgets/base",
          "model_name": "LayoutModel",
          "model_module_version": "1.2.0",
          "state": {
            "_model_module": "@jupyter-widgets/base",
            "_model_module_version": "1.2.0",
            "_model_name": "LayoutModel",
            "_view_count": null,
            "_view_module": "@jupyter-widgets/base",
            "_view_module_version": "1.2.0",
            "_view_name": "LayoutView",
            "align_content": null,
            "align_items": null,
            "align_self": null,
            "border": null,
            "bottom": null,
            "display": null,
            "flex": null,
            "flex_flow": null,
            "grid_area": null,
            "grid_auto_columns": null,
            "grid_auto_flow": null,
            "grid_auto_rows": null,
            "grid_column": null,
            "grid_gap": null,
            "grid_row": null,
            "grid_template_areas": null,
            "grid_template_columns": null,
            "grid_template_rows": null,
            "height": null,
            "justify_content": null,
            "justify_items": null,
            "left": null,
            "margin": null,
            "max_height": null,
            "max_width": null,
            "min_height": null,
            "min_width": null,
            "object_fit": null,
            "object_position": null,
            "order": null,
            "overflow": null,
            "overflow_x": null,
            "overflow_y": null,
            "padding": null,
            "right": null,
            "top": null,
            "visibility": null,
            "width": null
          }
        },
        "17c5426a058041c8942bf104c67d496f": {
          "model_module": "@jupyter-widgets/controls",
          "model_name": "DescriptionStyleModel",
          "model_module_version": "1.5.0",
          "state": {
            "_model_module": "@jupyter-widgets/controls",
            "_model_module_version": "1.5.0",
            "_model_name": "DescriptionStyleModel",
            "_view_count": null,
            "_view_module": "@jupyter-widgets/base",
            "_view_module_version": "1.2.0",
            "_view_name": "StyleView",
            "description_width": ""
          }
        },
        "11482e38bc3049d8a6a5fd0ab5bde27f": {
          "model_module": "@jupyter-widgets/base",
          "model_name": "LayoutModel",
          "model_module_version": "1.2.0",
          "state": {
            "_model_module": "@jupyter-widgets/base",
            "_model_module_version": "1.2.0",
            "_model_name": "LayoutModel",
            "_view_count": null,
            "_view_module": "@jupyter-widgets/base",
            "_view_module_version": "1.2.0",
            "_view_name": "LayoutView",
            "align_content": null,
            "align_items": null,
            "align_self": null,
            "border": null,
            "bottom": null,
            "display": null,
            "flex": null,
            "flex_flow": null,
            "grid_area": null,
            "grid_auto_columns": null,
            "grid_auto_flow": null,
            "grid_auto_rows": null,
            "grid_column": null,
            "grid_gap": null,
            "grid_row": null,
            "grid_template_areas": null,
            "grid_template_columns": null,
            "grid_template_rows": null,
            "height": null,
            "justify_content": null,
            "justify_items": null,
            "left": null,
            "margin": null,
            "max_height": null,
            "max_width": null,
            "min_height": null,
            "min_width": null,
            "object_fit": null,
            "object_position": null,
            "order": null,
            "overflow": null,
            "overflow_x": null,
            "overflow_y": null,
            "padding": null,
            "right": null,
            "top": null,
            "visibility": null,
            "width": null
          }
        },
        "34fa4cd7a60a48a1b2f7f40334b0af4d": {
          "model_module": "@jupyter-widgets/controls",
          "model_name": "ProgressStyleModel",
          "model_module_version": "1.5.0",
          "state": {
            "_model_module": "@jupyter-widgets/controls",
            "_model_module_version": "1.5.0",
            "_model_name": "ProgressStyleModel",
            "_view_count": null,
            "_view_module": "@jupyter-widgets/base",
            "_view_module_version": "1.2.0",
            "_view_name": "StyleView",
            "bar_color": null,
            "description_width": ""
          }
        },
        "0d23057d92d040a496a3f2c3ad8d5e69": {
          "model_module": "@jupyter-widgets/base",
          "model_name": "LayoutModel",
          "model_module_version": "1.2.0",
          "state": {
            "_model_module": "@jupyter-widgets/base",
            "_model_module_version": "1.2.0",
            "_model_name": "LayoutModel",
            "_view_count": null,
            "_view_module": "@jupyter-widgets/base",
            "_view_module_version": "1.2.0",
            "_view_name": "LayoutView",
            "align_content": null,
            "align_items": null,
            "align_self": null,
            "border": null,
            "bottom": null,
            "display": null,
            "flex": null,
            "flex_flow": null,
            "grid_area": null,
            "grid_auto_columns": null,
            "grid_auto_flow": null,
            "grid_auto_rows": null,
            "grid_column": null,
            "grid_gap": null,
            "grid_row": null,
            "grid_template_areas": null,
            "grid_template_columns": null,
            "grid_template_rows": null,
            "height": null,
            "justify_content": null,
            "justify_items": null,
            "left": null,
            "margin": null,
            "max_height": null,
            "max_width": null,
            "min_height": null,
            "min_width": null,
            "object_fit": null,
            "object_position": null,
            "order": null,
            "overflow": null,
            "overflow_x": null,
            "overflow_y": null,
            "padding": null,
            "right": null,
            "top": null,
            "visibility": null,
            "width": null
          }
        },
        "653e0946020348a3a5cd82d32f489c9a": {
          "model_module": "@jupyter-widgets/controls",
          "model_name": "DescriptionStyleModel",
          "model_module_version": "1.5.0",
          "state": {
            "_model_module": "@jupyter-widgets/controls",
            "_model_module_version": "1.5.0",
            "_model_name": "DescriptionStyleModel",
            "_view_count": null,
            "_view_module": "@jupyter-widgets/base",
            "_view_module_version": "1.2.0",
            "_view_name": "StyleView",
            "description_width": ""
          }
        }
      }
    },
    "accelerator": "GPU"
  },
  "cells": [
    {
      "cell_type": "markdown",
      "metadata": {
        "id": "view-in-github",
        "colab_type": "text"
      },
      "source": [
        "<a href=\"https://colab.research.google.com/github/Songlahaha/tensor/blob/main/CNN_1.ipynb\" target=\"_parent\"><img src=\"https://colab.research.google.com/assets/colab-badge.svg\" alt=\"Open In Colab\"/></a>"
      ]
    },
    {
      "cell_type": "code",
      "execution_count": 1,
      "metadata": {
        "id": "D-eov8_nwuyg"
      },
      "outputs": [],
      "source": [
        "import tensorflow as tf\n",
        "import numpy as np\n",
        "import matplotlib.pyplot as plt\n",
        "import tensorflow_datasets as tfds    # 導入tensorflow官方的資料集"
      ]
    },
    {
      "cell_type": "markdown",
      "source": [
        "# 載入資料"
      ],
      "metadata": {
        "id": "cFjHr9LkwYDd"
      }
    },
    {
      "cell_type": "code",
      "source": [
        "dataset, dataset_info = tfds.load(\"malaria\", with_info=True, as_supervised=True, shuffle_files=True, split=[\"train\"])    # 載入資料集"
      ],
      "metadata": {
        "id": "LS5259i-yop6",
        "colab": {
          "base_uri": "https://localhost:8080/",
          "height": 515,
          "referenced_widgets": [
            "6bfbdd3b75de4739845724b134703892",
            "cb0196fcab3c4935b46736a00e332661",
            "18541260329b45f8b3561f9a5f931585",
            "95cb5e747d0c48cba718ec4bbe68985f",
            "62f77f3d60dd4dd19cd4f1e1d9bcc0c2",
            "26ab391f198c4d199956e48a09a4f2e9",
            "9ae23fdb72c0420fbbe8e109612aec5d",
            "959ceff0e9b744e398a74633d3bbea01",
            "348ee3add2354e90bcbcedf493c01769",
            "28b8c3e60d674b038dd8b3e9e057e92c",
            "6a548b333a184cd893fa5415531c6cb4",
            "b017e2fd8a0347bb9ecb422e6c3cb676",
            "5ce19faeecc14b24bf9f4c965f327154",
            "6165222a4d934df5959b56c5a3f28f0f",
            "f7a4186733bf48efb37f02921767001c",
            "6e99756590604f77bb313868ad9801f4",
            "acaa9cc8c8214deea6be161b0957c08f",
            "ae91b806d6004dbeb9b28c5a38a5b14d",
            "4dc37b1989cb48e591751602981b2fdd",
            "53097650bb524c4ca62ddfc0586c5bd0",
            "25e5148962ff4ee9bee5c3ca69e5906a",
            "74b90ca8bc664ac0a16740ab6370dd48",
            "ee99c3c48b8044a7b8aa8ce2282dce47",
            "2f465375fc6a4a5c96eb58244220d727",
            "83ed7b41946c4fd58dc0a825e3cd539f",
            "61a4e78368d94b94ab1c00d11c5bccf5",
            "3adab7394875455cb236982c6c57cacb",
            "7a670bc336d64a51b567caff8bfb8e24",
            "1847b813124c4e16bd3e170d10fd7fa6",
            "6b93fc79dd9d4f3d961d20832653841d",
            "5e1bc691e1c1444281ee3c8bf431a9b7",
            "cbbe6d426df34d34a2c36db6d727ba8f",
            "c646a50fab60439ea4b0799eb36751de",
            "8d6efff3d3d54eaf80e6c690d6629c5e",
            "17eedfa510b642f99542934054436710",
            "27dc206abe9e49ed929e7fc482465260",
            "4fc2ea684dd54b0585c2aaf67fccb9d7",
            "006eeeba93a74600aa4d790d6e01e819",
            "8a91a8eb11e74e6493260afebbde5d34",
            "c68df4cb532b4bafb1d40e0388b1609a",
            "b5fbe93ea619405eaeb2a7195271a8b2",
            "e461ca136c794204a04f9066ec1a954c",
            "8bf715e390e64a34b5a0f65fbc57e22e",
            "13547277fd4c42aa931e8003d306b737",
            "12f995e524364920ad6d309e486209f6",
            "f24da257ad404ebcbfdf576dee8398e7",
            "f6577ea2a57b4033bd7f3864c0f62d10",
            "a7da5cbf7f044d15be7e82496e82f9fb",
            "00793aae0480420bb57695e6dd2ce825",
            "4b263d3e2c574170a7e8f1ae226ba2e8",
            "3f1abcc5f0e14ba19f742df6b53c3417",
            "0762464df42747079868f79d33d102db",
            "7277fd2050534259838d4d489b62d041",
            "fdce04bebecb4ae29edcfeefa321ae5e",
            "06278d16ef4945c396cd60d879c46b82",
            "152dfb0843c7436986cebccb6baec192",
            "1f50f20dab83435c8756c6ab274029c8",
            "724faf70a77f49e798ffe127a689aa31",
            "4a27bbf6ed9445bfb90967d269c81b8f",
            "9cfe1e18575b425a9cfc14b87f09dafb",
            "23c5b394365e4fc2b7efcbc5d9ce612a",
            "17c5426a058041c8942bf104c67d496f",
            "11482e38bc3049d8a6a5fd0ab5bde27f",
            "34fa4cd7a60a48a1b2f7f40334b0af4d",
            "0d23057d92d040a496a3f2c3ad8d5e69",
            "653e0946020348a3a5cd82d32f489c9a"
          ]
        },
        "outputId": "4e21c9ff-50d2-4bd5-d99e-36fe695fe47c"
      },
      "execution_count": 2,
      "outputs": [
        {
          "output_type": "stream",
          "name": "stdout",
          "text": [
            "Downloading and preparing dataset 337.08 MiB (download: 337.08 MiB, generated: Unknown size, total: 337.08 MiB) to /root/tensorflow_datasets/malaria/1.0.0...\n"
          ]
        },
        {
          "output_type": "display_data",
          "data": {
            "text/plain": [
              "Dl Completed...: 0 url [00:00, ? url/s]"
            ],
            "application/vnd.jupyter.widget-view+json": {
              "version_major": 2,
              "version_minor": 0,
              "model_id": "6bfbdd3b75de4739845724b134703892"
            }
          },
          "metadata": {}
        },
        {
          "output_type": "display_data",
          "data": {
            "text/plain": [
              "Dl Size...: 0 MiB [00:00, ? MiB/s]"
            ],
            "application/vnd.jupyter.widget-view+json": {
              "version_major": 2,
              "version_minor": 0,
              "model_id": "b017e2fd8a0347bb9ecb422e6c3cb676"
            }
          },
          "metadata": {}
        },
        {
          "output_type": "display_data",
          "data": {
            "text/plain": [
              "Extraction completed...: 0 file [00:00, ? file/s]"
            ],
            "application/vnd.jupyter.widget-view+json": {
              "version_major": 2,
              "version_minor": 0,
              "model_id": "ee99c3c48b8044a7b8aa8ce2282dce47"
            }
          },
          "metadata": {}
        },
        {
          "output_type": "stream",
          "name": "stderr",
          "text": [
            "IOPub message rate exceeded.\n",
            "The notebook server will temporarily stop sending output\n",
            "to the client in order to avoid crashing it.\n",
            "To change this limit, set the config variable\n",
            "`--NotebookApp.iopub_msg_rate_limit`.\n",
            "\n",
            "Current values:\n",
            "NotebookApp.iopub_msg_rate_limit=1000.0 (msgs/sec)\n",
            "NotebookApp.rate_limit_window=3.0 (secs)\n",
            "\n",
            "IOPub message rate exceeded.\n",
            "The notebook server will temporarily stop sending output\n",
            "to the client in order to avoid crashing it.\n",
            "To change this limit, set the config variable\n",
            "`--NotebookApp.iopub_msg_rate_limit`.\n",
            "\n",
            "Current values:\n",
            "NotebookApp.iopub_msg_rate_limit=1000.0 (msgs/sec)\n",
            "NotebookApp.rate_limit_window=3.0 (secs)\n",
            "\n"
          ]
        },
        {
          "output_type": "display_data",
          "data": {
            "text/plain": [
              "Generating splits...:   0%|          | 0/1 [00:00<?, ? splits/s]"
            ],
            "application/vnd.jupyter.widget-view+json": {
              "version_major": 2,
              "version_minor": 0,
              "model_id": "8d6efff3d3d54eaf80e6c690d6629c5e"
            }
          },
          "metadata": {}
        },
        {
          "output_type": "display_data",
          "data": {
            "text/plain": [
              "Generating train examples...:   0%|          | 0/27558 [00:00<?, ? examples/s]"
            ],
            "application/vnd.jupyter.widget-view+json": {
              "version_major": 2,
              "version_minor": 0,
              "model_id": "12f995e524364920ad6d309e486209f6"
            }
          },
          "metadata": {}
        },
        {
          "output_type": "display_data",
          "data": {
            "text/plain": [
              "Shuffling /root/tensorflow_datasets/malaria/1.0.0.incompleteJCODRU/malaria-train.tfrecord*...:   0%|          …"
            ],
            "application/vnd.jupyter.widget-view+json": {
              "version_major": 2,
              "version_minor": 0,
              "model_id": "152dfb0843c7436986cebccb6baec192"
            }
          },
          "metadata": {}
        },
        {
          "output_type": "stream",
          "name": "stdout",
          "text": [
            "Dataset malaria downloaded and prepared to /root/tensorflow_datasets/malaria/1.0.0. Subsequent calls will reuse this data.\n"
          ]
        }
      ]
    },
    {
      "cell_type": "code",
      "source": [
        "dataset"
      ],
      "metadata": {
        "colab": {
          "base_uri": "https://localhost:8080/"
        },
        "id": "JI57jMv2ysCe",
        "outputId": "987e7120-2fb2-4050-cfa9-69f9859cd2ca"
      },
      "execution_count": null,
      "outputs": [
        {
          "output_type": "execute_result",
          "data": {
            "text/plain": [
              "[<_PrefetchDataset element_spec=(TensorSpec(shape=(None, None, 3), dtype=tf.uint8, name=None), TensorSpec(shape=(), dtype=tf.int64, name=None))>]"
            ]
          },
          "metadata": {},
          "execution_count": 38
        }
      ]
    },
    {
      "cell_type": "code",
      "source": [
        "dataset_info"
      ],
      "metadata": {
        "colab": {
          "base_uri": "https://localhost:8080/"
        },
        "id": "2oYGQnEoysEr",
        "outputId": "7ef24e97-7a9f-462d-ca66-ce92f03c37f7"
      },
      "execution_count": null,
      "outputs": [
        {
          "output_type": "execute_result",
          "data": {
            "text/plain": [
              "tfds.core.DatasetInfo(\n",
              "    name='malaria',\n",
              "    full_name='malaria/1.0.0',\n",
              "    description=\"\"\"\n",
              "    The Malaria dataset contains a total of 27,558 cell images with equal instances\n",
              "    of parasitized and uninfected cells from the thin blood smear slide images of\n",
              "    segmented cells.\n",
              "    \"\"\",\n",
              "    homepage='https://lhncbc.nlm.nih.gov/publication/pub9932',\n",
              "    data_path=PosixGPath('/tmp/tmpc5psnsl4tfds'),\n",
              "    file_format=tfrecord,\n",
              "    download_size=337.08 MiB,\n",
              "    dataset_size=317.62 MiB,\n",
              "    features=FeaturesDict({\n",
              "        'image': Image(shape=(None, None, 3), dtype=uint8),\n",
              "        'label': ClassLabel(shape=(), dtype=int64, num_classes=2),\n",
              "    }),\n",
              "    supervised_keys=('image', 'label'),\n",
              "    disable_shuffling=False,\n",
              "    splits={\n",
              "        'train': <SplitInfo num_examples=27558, num_shards=4>,\n",
              "    },\n",
              "    citation=\"\"\"@article{rajaraman2018pre,\n",
              "      title={Pre-trained convolutional neural networks as feature extractors toward\n",
              "      improved malaria parasite detection in thin blood smear images},\n",
              "      author={Rajaraman, Sivaramakrishnan and Antani, Sameer K and Poostchi, Mahdieh\n",
              "      and Silamut, Kamolrat and Hossain, Md A and Maude, Richard J and Jaeger,\n",
              "      Stefan and Thoma, George R},\n",
              "      journal={PeerJ},\n",
              "      volume={6},\n",
              "      pages={e4568},\n",
              "      year={2018},\n",
              "      publisher={PeerJ Inc.}\n",
              "    }\"\"\",\n",
              ")"
            ]
          },
          "metadata": {},
          "execution_count": 5
        }
      ]
    },
    {
      "cell_type": "code",
      "source": [
        "for data in dataset[\"train\"].take(1):\n",
        "  print(data)"
      ],
      "metadata": {
        "colab": {
          "base_uri": "https://localhost:8080/"
        },
        "id": "kNnjEQ93ysGs",
        "outputId": "eacadc01-539b-4e37-e302-6066160e224f"
      },
      "execution_count": null,
      "outputs": [
        {
          "output_type": "stream",
          "name": "stdout",
          "text": [
            "{'image': <tf.Tensor: shape=(103, 103, 3), dtype=uint8, numpy=\n",
            "array([[[0, 0, 0],\n",
            "        [0, 0, 0],\n",
            "        [0, 0, 0],\n",
            "        ...,\n",
            "        [0, 0, 0],\n",
            "        [0, 0, 0],\n",
            "        [0, 0, 0]],\n",
            "\n",
            "       [[0, 0, 0],\n",
            "        [0, 0, 0],\n",
            "        [0, 0, 0],\n",
            "        ...,\n",
            "        [0, 0, 0],\n",
            "        [0, 0, 0],\n",
            "        [0, 0, 0]],\n",
            "\n",
            "       [[0, 0, 0],\n",
            "        [0, 0, 0],\n",
            "        [0, 0, 0],\n",
            "        ...,\n",
            "        [0, 0, 0],\n",
            "        [0, 0, 0],\n",
            "        [0, 0, 0]],\n",
            "\n",
            "       ...,\n",
            "\n",
            "       [[0, 0, 0],\n",
            "        [0, 0, 0],\n",
            "        [0, 0, 0],\n",
            "        ...,\n",
            "        [0, 0, 0],\n",
            "        [0, 0, 0],\n",
            "        [0, 0, 0]],\n",
            "\n",
            "       [[0, 0, 0],\n",
            "        [0, 0, 0],\n",
            "        [0, 0, 0],\n",
            "        ...,\n",
            "        [0, 0, 0],\n",
            "        [0, 0, 0],\n",
            "        [0, 0, 0]],\n",
            "\n",
            "       [[0, 0, 0],\n",
            "        [0, 0, 0],\n",
            "        [0, 0, 0],\n",
            "        ...,\n",
            "        [0, 0, 0],\n",
            "        [0, 0, 0],\n",
            "        [0, 0, 0]]], dtype=uint8)>, 'label': <tf.Tensor: shape=(), dtype=int64, numpy=1>}\n"
          ]
        }
      ]
    },
    {
      "cell_type": "markdown",
      "source": [
        "# 資料集切割"
      ],
      "metadata": {
        "id": "XBkWQhgxBOpb"
      }
    },
    {
      "cell_type": "code",
      "source": [
        "def splits(dataset, TRAIN_RATIO, VAL_RATIO, TEST_RATIO):\n",
        "  DATASET_SIZE = len(dataset)\n",
        "\n",
        "  train_dataset = dataset.take(int(TRAIN_RATIO*DATASET_SIZE))\n",
        "\n",
        "  val_test_dataset = dataset.skip(int(TRAIN_RATIO*DATASET_SIZE))\n",
        "  val_dataset = val_test_dataset.take(int(VAL_RATIO*DATASET_SIZE))\n",
        "\n",
        "  test_dataset = val_test_dataset.skip(int(VAL_RATIO*DATASET_SIZE))\n",
        "  return train_dataset, val_dataset, test_dataset"
      ],
      "metadata": {
        "id": "99l1otSi0Yj3"
      },
      "execution_count": 3,
      "outputs": []
    },
    {
      "cell_type": "code",
      "source": [
        "TRAIN_RATIO = 0.8\n",
        "VAL_RATIO = 0.1\n",
        "TEST_RATIO = 0.1\n",
        "\n",
        "# dataset = tf.data.Dataset.range(10)\n",
        "train_dataset, val_dataset, test_dataset = splits(dataset[0], TRAIN_RATIO, VAL_RATIO, TEST_RATIO)\n",
        "# print(list(train_dataset.take(1).as_numpy_iterator()), list(val_dataset.take(1).as_numpy_iterator()), list(test_dataset.take(1).as_numpy_iterator()))"
      ],
      "metadata": {
        "id": "W9JWp6-S0YmK"
      },
      "execution_count": 4,
      "outputs": []
    },
    {
      "cell_type": "markdown",
      "source": [
        "Dataset 視圖化"
      ],
      "metadata": {
        "id": "2fNTeinD-3Hp"
      }
    },
    {
      "cell_type": "code",
      "source": [
        "for i, (image, label) in enumerate(train_dataset.take(16)):\n",
        "  ax = plt.subplot(4, 4, i+1)\n",
        "  plt.title(dataset_info.features[\"label\"].int2str(label))\n",
        "  plt.axis(\"off\")\n",
        "  plt.imshow(image)"
      ],
      "metadata": {
        "colab": {
          "base_uri": "https://localhost:8080/",
          "height": 428
        },
        "id": "v7IphBTp0YoG",
        "outputId": "2eb886f3-f8d1-4bf0-f802-f04db3b3020b"
      },
      "execution_count": null,
      "outputs": [
        {
          "output_type": "display_data",
          "data": {
            "text/plain": [
              "<Figure size 640x480 with 16 Axes>"
            ],
            "image/png": "[encoded data removed]"
          },
          "metadata": {}
        }
      ]
    },
    {
      "cell_type": "markdown",
      "source": [
        "使Map進行預處理\n",
        "tf.image.resize(image, (IM_SIZE, IM_SIZE)) 將圖像調整為指定的大小 (IM_SIZE, IM_SIZE)。這將確保所有的圖像都有相同的大小，以符合模型的輸入要求。\n",
        "\n",
        "接著，/255. 對調整大小後的圖像進行了歸一化處理。除以 255 的目的是將像素值縮放到 0 到 1 的範圍內，以確保圖像的像素值符合模型的期望輸入範圍。"
      ],
      "metadata": {
        "id": "7Pbl6mRzEHfu"
      }
    },
    {
      "cell_type": "code",
      "source": [
        "IM_SIZE = 224\n",
        "def resize_rescale(image, label):\n",
        "  return tf.image.resize(image, (IM_SIZE, IM_SIZE))/255.0, label"
      ],
      "metadata": {
        "id": "uUvruk6iEX4H"
      },
      "execution_count": 5,
      "outputs": []
    },
    {
      "cell_type": "code",
      "source": [
        "train_dataset = train_dataset.map(resize_rescale)\n",
        "val_dataset = val_dataset.map(resize_rescale)\n",
        "test_dataset = test_dataset.map(resize_rescale)"
      ],
      "metadata": {
        "id": "hHoRYO5K0Yp8"
      },
      "execution_count": 6,
      "outputs": []
    },
    {
      "cell_type": "code",
      "source": [
        "for image, label in train_dataset.take(1):\n",
        "  print(image, label)\n"
      ],
      "metadata": {
        "colab": {
          "base_uri": "https://localhost:8080/"
        },
        "id": "7x7sTeYNEX59",
        "outputId": "05505fc0-d68e-4527-8465-4c850004efd9"
      },
      "execution_count": null,
      "outputs": [
        {
          "output_type": "stream",
          "name": "stdout",
          "text": [
            "tf.Tensor(\n",
            "[[[0. 0. 0.]\n",
            "  [0. 0. 0.]\n",
            "  [0. 0. 0.]\n",
            "  ...\n",
            "  [0. 0. 0.]\n",
            "  [0. 0. 0.]\n",
            "  [0. 0. 0.]]\n",
            "\n",
            " [[0. 0. 0.]\n",
            "  [0. 0. 0.]\n",
            "  [0. 0. 0.]\n",
            "  ...\n",
            "  [0. 0. 0.]\n",
            "  [0. 0. 0.]\n",
            "  [0. 0. 0.]]\n",
            "\n",
            " [[0. 0. 0.]\n",
            "  [0. 0. 0.]\n",
            "  [0. 0. 0.]\n",
            "  ...\n",
            "  [0. 0. 0.]\n",
            "  [0. 0. 0.]\n",
            "  [0. 0. 0.]]\n",
            "\n",
            " ...\n",
            "\n",
            " [[0. 0. 0.]\n",
            "  [0. 0. 0.]\n",
            "  [0. 0. 0.]\n",
            "  ...\n",
            "  [0. 0. 0.]\n",
            "  [0. 0. 0.]\n",
            "  [0. 0. 0.]]\n",
            "\n",
            " [[0. 0. 0.]\n",
            "  [0. 0. 0.]\n",
            "  [0. 0. 0.]\n",
            "  ...\n",
            "  [0. 0. 0.]\n",
            "  [0. 0. 0.]\n",
            "  [0. 0. 0.]]\n",
            "\n",
            " [[0. 0. 0.]\n",
            "  [0. 0. 0.]\n",
            "  [0. 0. 0.]\n",
            "  ...\n",
            "  [0. 0. 0.]\n",
            "  [0. 0. 0.]\n",
            "  [0. 0. 0.]]], shape=(224, 224, 3), dtype=float32) tf.Tensor(0, shape=(), dtype=int64)\n"
          ]
        }
      ]
    },
    {
      "cell_type": "markdown",
      "source": [
        "# 打亂資料, batch大小設定"
      ],
      "metadata": {
        "id": "cS6USS_BHJKn"
      }
    },
    {
      "cell_type": "code",
      "source": [
        "BATCH_SIZE = 32\n",
        "train_dataset = train_dataset.shuffle(buffer_size=1024, reshuffle_each_iteration=True).batch(BATCH_SIZE).prefetch(tf.data.AUTOTUNE)"
      ],
      "metadata": {
        "id": "XJhvABjpysIw"
      },
      "execution_count": 7,
      "outputs": []
    },
    {
      "cell_type": "code",
      "source": [
        "val_dataset = val_dataset.shuffle(buffer_size=32, reshuffle_each_iteration=True).batch(BATCH_SIZE).prefetch(tf.data.AUTOTUNE)"
      ],
      "metadata": {
        "id": "vhzan8iWcTra"
      },
      "execution_count": 8,
      "outputs": []
    },
    {
      "cell_type": "markdown",
      "source": [
        "不錯的CNN概念網站\n",
        "https://poloclub.github.io/cnn-explainer/"
      ],
      "metadata": {
        "id": "tTtVYCIQysK5"
      }
    },
    {
      "cell_type": "markdown",
      "source": [
        "# 建立Model"
      ],
      "metadata": {
        "id": "FOtUYtYoQ7f6"
      }
    },
    {
      "cell_type": "code",
      "source": [
        "from tensorflow.keras.layers import Dense, InputLayer, Conv2D, MaxPool2D, Flatten, BatchNormalization\n",
        "# model = tf.keras.Sequential([\n",
        "#     InputLayer(input_shape=(IM_SIZE,IM_SIZE,3)),\n",
        "\n",
        "#     # 建立filter , 第一層\n",
        "#     Conv2D(filters=6, kernel_size=3, strides=1, padding=\"valid\", activation=\"relu\"),\n",
        "#     BatchNormalization(),\n",
        "#     MaxPool2D(pool_size=2, strides=2),\n",
        "\n",
        "#     # 建立filter , 第二層\n",
        "#     Conv2D(filters=16, kernel_size=3, strides=1, padding=\"valid\", activation=\"relu\"),\n",
        "#     BatchNormalization(),\n",
        "#     MaxPool2D(pool_size=2, strides=2),\n",
        "\n",
        "#     # 攤平資料, 並建立輸出\n",
        "#     Flatten(),\n",
        "\n",
        "#     Dense(100, activation='relu'),\n",
        "#     BatchNormalization(),\n",
        "\n",
        "#     Dense(10, activation='relu'),\n",
        "#     BatchNormalization(),\n",
        "\n",
        "#     Dense(1, activation='sigmoid'),\n",
        "\n",
        "# ])"
      ],
      "metadata": {
        "id": "vRvIkQIdQ7Fn"
      },
      "execution_count": 9,
      "outputs": []
    },
    {
      "cell_type": "code",
      "source": [
        "from keras.optimizers import Adam\n",
        "from keras.engine.training import optimizer\n",
        "from tensorflow.keras.metrics import RootMeanSquaredError, Accuracy\n",
        "from tensorflow.keras.losses import BinaryCrossentropy\n",
        "# model.compile(\n",
        "#     optimizer = Adam(learning_rate=0.01),\n",
        "#     loss = BinaryCrossentropy(),\n",
        "#     metrics= ['acc']\n",
        "# )"
      ],
      "metadata": {
        "id": "9IfWW_GTysM8"
      },
      "execution_count": 15,
      "outputs": []
    },
    {
      "cell_type": "code",
      "source": [
        "history = model.fit(train_dataset, validation_data=val_dataset, epochs=20, verbose=1)"
      ],
      "metadata": {
        "colab": {
          "base_uri": "https://localhost:8080/"
        },
        "id": "ayAlCKoWysPJ",
        "outputId": "e236e7dd-1495-4b25-a8ad-6c042d610b15"
      },
      "execution_count": null,
      "outputs": [
        {
          "output_type": "stream",
          "name": "stdout",
          "text": [
            "Epoch 1/20\n",
            "689/689 [==============================] - 82s 71ms/step - loss: 0.3666 - acc: 0.8367 - val_loss: 0.3638 - val_acc: 0.9009\n",
            "Epoch 2/20\n",
            "689/689 [==============================] - 53s 77ms/step - loss: 0.2097 - acc: 0.9287 - val_loss: 0.6756 - val_acc: 0.8512\n",
            "Epoch 3/20\n",
            "689/689 [==============================] - 49s 70ms/step - loss: 0.2022 - acc: 0.9326 - val_loss: 0.1870 - val_acc: 0.9485\n",
            "Epoch 4/20\n",
            "689/689 [==============================] - 55s 80ms/step - loss: 0.1832 - acc: 0.9365 - val_loss: 0.2035 - val_acc: 0.9412\n",
            "Epoch 5/20\n",
            "689/689 [==============================] - 49s 71ms/step - loss: 0.1650 - acc: 0.9441 - val_loss: 0.1814 - val_acc: 0.9405\n",
            "Epoch 6/20\n",
            "689/689 [==============================] - 55s 80ms/step - loss: 0.1566 - acc: 0.9470 - val_loss: 0.4048 - val_acc: 0.8011\n",
            "Epoch 7/20\n",
            "689/689 [==============================] - 48s 70ms/step - loss: 0.1710 - acc: 0.9404 - val_loss: 0.2739 - val_acc: 0.9452\n",
            "Epoch 8/20\n",
            "689/689 [==============================] - 52s 75ms/step - loss: 0.1465 - acc: 0.9504 - val_loss: 0.2254 - val_acc: 0.9485\n",
            "Epoch 9/20\n",
            "689/689 [==============================] - 51s 73ms/step - loss: 0.1320 - acc: 0.9564 - val_loss: 0.9363 - val_acc: 0.8178\n",
            "Epoch 10/20\n",
            "689/689 [==============================] - 57s 82ms/step - loss: 0.1444 - acc: 0.9514 - val_loss: 0.2307 - val_acc: 0.9426\n",
            "Epoch 11/20\n",
            "689/689 [==============================] - 51s 73ms/step - loss: 0.1288 - acc: 0.9574 - val_loss: 1.3322 - val_acc: 0.8831\n",
            "Epoch 12/20\n",
            "689/689 [==============================] - 57s 83ms/step - loss: 0.1240 - acc: 0.9590 - val_loss: 2.8452 - val_acc: 0.9278\n",
            "Epoch 13/20\n",
            "689/689 [==============================] - 51s 74ms/step - loss: 0.1123 - acc: 0.9622 - val_loss: 0.1521 - val_acc: 0.9521\n",
            "Epoch 14/20\n",
            "689/689 [==============================] - 50s 73ms/step - loss: 0.1128 - acc: 0.9629 - val_loss: 1.4391 - val_acc: 0.6806\n",
            "Epoch 15/20\n",
            "689/689 [==============================] - 50s 73ms/step - loss: 0.1354 - acc: 0.9551 - val_loss: 0.1658 - val_acc: 0.9466\n",
            "Epoch 16/20\n",
            "689/689 [==============================] - 49s 71ms/step - loss: 0.1115 - acc: 0.9624 - val_loss: 0.4576 - val_acc: 0.7615\n",
            "Epoch 17/20\n",
            "689/689 [==============================] - 49s 71ms/step - loss: 0.1473 - acc: 0.9496 - val_loss: 0.2034 - val_acc: 0.9445\n",
            "Epoch 18/20\n",
            "689/689 [==============================] - 56s 82ms/step - loss: 0.1269 - acc: 0.9607 - val_loss: 0.2482 - val_acc: 0.9477\n",
            "Epoch 19/20\n",
            "689/689 [==============================] - 49s 71ms/step - loss: 0.1198 - acc: 0.9623 - val_loss: 10.6256 - val_acc: 0.9125\n",
            "Epoch 20/20\n",
            "689/689 [==============================] - 50s 73ms/step - loss: 0.1145 - acc: 0.9627 - val_loss: 0.2819 - val_acc: 0.9303\n"
          ]
        }
      ]
    },
    {
      "cell_type": "code",
      "source": [
        "plt.plot(history.history['loss'])\n",
        "plt.plot(history.history['val_loss'])\n",
        "plt.title('model loss')\n",
        "plt.ylabel('loss')\n",
        "plt.xlabel('epoch')\n",
        "plt.legend([\"train\",'val_loss'])\n",
        "plt.show()"
      ],
      "metadata": {
        "id": "NZoGeIgib-XV",
        "colab": {
          "base_uri": "https://localhost:8080/",
          "height": 472
        },
        "outputId": "d8aab629-51dc-4e59-861f-18356789304d"
      },
      "execution_count": null,
      "outputs": [
        {
          "output_type": "display_data",
          "data": {
            "text/plain": [
              "<Figure size 640x480 with 1 Axes>"
            ],
            "image/png": "[encoded data removed]"
          },
          "metadata": {}
        }
      ]
    },
    {
      "cell_type": "code",
      "source": [
        "model.evaluate(test_dataset)"
      ],
      "metadata": {
        "id": "J0IPdyhjysX3",
        "colab": {
          "base_uri": "https://localhost:8080/"
        },
        "outputId": "a1666ff2-f2c0-43f6-eb38-608baed44dfa"
      },
      "execution_count": null,
      "outputs": [
        {
          "output_type": "stream",
          "name": "stdout",
          "text": [
            "87/87 [==============================] - 16s 49ms/step - loss: 0.6945 - acc: 0.4904\n"
          ]
        },
        {
          "output_type": "execute_result",
          "data": {
            "text/plain": [
              "[0.6945397257804871, 0.49038809537887573]"
            ]
          },
          "metadata": {},
          "execution_count": 78
        }
      ]
    },
    {
      "cell_type": "markdown",
      "source": [
        "當x大於0.5時就代表被感染的機率大 , 所以顯示P\n",
        "當小於0.5時就代表被感染的機率小 , 就顯示U\n",
        "因為sigmoid輸出後是兩個結果相加等於1 , 也就是說可以當成機率來觀察\n",
        "1就是100%"
      ],
      "metadata": {
        "id": "rW8RHkVYUqh1"
      }
    },
    {
      "cell_type": "code",
      "source": [
        "def parasite_or_not(x):\n",
        "  if (x<0.5):\n",
        "    return str(\"P\")\n",
        "  else:\n",
        "    return str(\"U\")"
      ],
      "metadata": {
        "id": "HpXTMxrQTQEo"
      },
      "execution_count": null,
      "outputs": []
    },
    {
      "cell_type": "code",
      "source": [
        "parasite_or_not(model.predict(test_dataset.take(1))[0])"
      ],
      "metadata": {
        "id": "T-47wYnmysZ9",
        "colab": {
          "base_uri": "https://localhost:8080/",
          "height": 52
        },
        "outputId": "cfc24352-749d-4294-80e8-6e7740991ae7"
      },
      "execution_count": null,
      "outputs": [
        {
          "output_type": "stream",
          "name": "stdout",
          "text": [
            "1/1 [==============================] - 14s 14s/step\n"
          ]
        },
        {
          "output_type": "execute_result",
          "data": {
            "text/plain": [
              "'P'"
            ],
            "application/vnd.google.colaboratory.intrinsic+json": {
              "type": "string"
            }
          },
          "metadata": {},
          "execution_count": 57
        }
      ]
    },
    {
      "cell_type": "code",
      "source": [
        "for i, (image, label) in enumerate(test_dataset.take(9)):\n",
        "  ax = plt.subplot(3,3,i+1)\n",
        "  plt.imshow(image[0])\n",
        "  plt.title(str(parasite_or_not(label.numpy()[0])) + \":\" + str(parasite_or_not(model.predict(test_dataset.take(1))[0][0])))\n",
        "  plt.axis(\"off\")"
      ],
      "metadata": {
        "colab": {
          "base_uri": "https://localhost:8080/",
          "height": 584
        },
        "id": "vIZklWFLUmn_",
        "outputId": "47efe218-8f70-4ef0-aa45-6a80055f52ca"
      },
      "execution_count": null,
      "outputs": [
        {
          "output_type": "stream",
          "name": "stdout",
          "text": [
            "1/1 [==============================] - 12s 12s/step\n",
            "1/1 [==============================] - 11s 11s/step\n",
            "1/1 [==============================] - 12s 12s/step\n",
            "1/1 [==============================] - 11s 11s/step\n",
            "1/1 [==============================] - 12s 12s/step\n",
            "1/1 [==============================] - 12s 12s/step\n",
            "1/1 [==============================] - 12s 12s/step\n",
            "1/1 [==============================] - 13s 13s/step\n",
            "1/1 [==============================] - 12s 12s/step\n"
          ]
        },
        {
          "output_type": "display_data",
          "data": {
            "text/plain": [
              "<Figure size 640x480 with 9 Axes>"
            ],
            "image/png": "[encoded data removed]"
          },
          "metadata": {}
        }
      ]
    },
    {
      "cell_type": "markdown",
      "source": [
        "# 儲存Model的訓練結果"
      ],
      "metadata": {
        "id": "CgDbjumGV_wB"
      }
    },
    {
      "cell_type": "code",
      "source": [
        "lenet_sub_classed.save(\"SaveLLeNetModel\")"
      ],
      "metadata": {
        "colab": {
          "base_uri": "https://localhost:8080/"
        },
        "id": "PORx-NjQc-Lq",
        "outputId": "eadd6ba8-5ec7-4c02-9eef-5ef84a2b1350"
      },
      "execution_count": 19,
      "outputs": [
        {
          "output_type": "stream",
          "name": "stderr",
          "text": [
            "WARNING:absl:Found untraced functions such as conv2d_2_layer_call_fn, conv2d_2_layer_call_and_return_conditional_losses, _jit_compiled_convolution_op, conv2d_3_layer_call_fn, conv2d_3_layer_call_and_return_conditional_losses while saving (showing 5 of 6). These functions will not be directly callable after loading.\n"
          ]
        }
      ]
    },
    {
      "cell_type": "markdown",
      "source": [
        "加載Model"
      ],
      "metadata": {
        "id": "Y8lAETlqc-N8"
      }
    },
    {
      "cell_type": "code",
      "source": [
        "new_model = tf.keras.models.load_model(\"SaveModel\")\n",
        "new_model.summary()"
      ],
      "metadata": {
        "colab": {
          "base_uri": "https://localhost:8080/"
        },
        "id": "dtJWuc7Xc-QU",
        "outputId": "ab2b26db-d320-481c-f991-2ca7a8b47e66"
      },
      "execution_count": null,
      "outputs": [
        {
          "output_type": "stream",
          "name": "stdout",
          "text": [
            "Model: \"sequential_1\"\n",
            "_________________________________________________________________\n",
            " Layer (type)                Output Shape              Param #   \n",
            "=================================================================\n",
            " conv2d_2 (Conv2D)           (None, 222, 222, 6)       168       \n",
            "                                                                 \n",
            " batch_normalization_4 (Batc  (None, 222, 222, 6)      24        \n",
            " hNormalization)                                                 \n",
            "                                                                 \n",
            " max_pooling2d_2 (MaxPooling  (None, 111, 111, 6)      0         \n",
            " 2D)                                                             \n",
            "                                                                 \n",
            " conv2d_3 (Conv2D)           (None, 109, 109, 16)      880       \n",
            "                                                                 \n",
            " batch_normalization_5 (Batc  (None, 109, 109, 16)     64        \n",
            " hNormalization)                                                 \n",
            "                                                                 \n",
            " max_pooling2d_3 (MaxPooling  (None, 54, 54, 16)       0         \n",
            " 2D)                                                             \n",
            "                                                                 \n",
            " flatten_1 (Flatten)         (None, 46656)             0         \n",
            "                                                                 \n",
            " dense_3 (Dense)             (None, 1000)              46657000  \n",
            "                                                                 \n",
            " batch_normalization_6 (Batc  (None, 1000)             4000      \n",
            " hNormalization)                                                 \n",
            "                                                                 \n",
            " dense_4 (Dense)             (None, 100)               100100    \n",
            "                                                                 \n",
            " batch_normalization_7 (Batc  (None, 100)              400       \n",
            " hNormalization)                                                 \n",
            "                                                                 \n",
            " dense_5 (Dense)             (None, 1)                 101       \n",
            "                                                                 \n",
            "=================================================================\n",
            "Total params: 46,762,737\n",
            "Trainable params: 46,760,493\n",
            "Non-trainable params: 2,244\n",
            "_________________________________________________________________\n"
          ]
        }
      ]
    },
    {
      "cell_type": "markdown",
      "source": [
        "用載入的New Model進行預測"
      ],
      "metadata": {
        "id": "K5pLIDUbmzOt"
      }
    },
    {
      "cell_type": "code",
      "source": [
        "parasite_or_not(new_model.predict(test_dataset.take(1))[0])"
      ],
      "metadata": {
        "colab": {
          "base_uri": "https://localhost:8080/",
          "height": 52
        },
        "id": "ADvj-tPvc-Sd",
        "outputId": "5475e395-b400-4405-c954-7104bd803caf"
      },
      "execution_count": null,
      "outputs": [
        {
          "output_type": "stream",
          "name": "stdout",
          "text": [
            "1/1 [==============================] - 13s 13s/step\n"
          ]
        },
        {
          "output_type": "execute_result",
          "data": {
            "text/plain": [
              "'P'"
            ],
            "application/vnd.google.colaboratory.intrinsic+json": {
              "type": "string"
            }
          },
          "metadata": {},
          "execution_count": 65
        }
      ]
    },
    {
      "cell_type": "code",
      "source": [
        "model.save(\"SaveModel_hdf5.hdf5\")"
      ],
      "metadata": {
        "id": "Wfu0kI6mc-Ug"
      },
      "execution_count": null,
      "outputs": []
    },
    {
      "cell_type": "code",
      "source": [
        "new_model_hdf5 = tf.keras.models.load_model(\"SaveModel\")\n",
        "new_model_hdf5.summary()"
      ],
      "metadata": {
        "colab": {
          "base_uri": "https://localhost:8080/"
        },
        "id": "FYf24bmCn03n",
        "outputId": "e74fa974-71c8-4c2f-c49b-e7560f56d13c"
      },
      "execution_count": null,
      "outputs": [
        {
          "output_type": "stream",
          "name": "stdout",
          "text": [
            "Model: \"sequential_1\"\n",
            "_________________________________________________________________\n",
            " Layer (type)                Output Shape              Param #   \n",
            "=================================================================\n",
            " conv2d_2 (Conv2D)           (None, 222, 222, 6)       168       \n",
            "                                                                 \n",
            " batch_normalization_4 (Batc  (None, 222, 222, 6)      24        \n",
            " hNormalization)                                                 \n",
            "                                                                 \n",
            " max_pooling2d_2 (MaxPooling  (None, 111, 111, 6)      0         \n",
            " 2D)                                                             \n",
            "                                                                 \n",
            " conv2d_3 (Conv2D)           (None, 109, 109, 16)      880       \n",
            "                                                                 \n",
            " batch_normalization_5 (Batc  (None, 109, 109, 16)     64        \n",
            " hNormalization)                                                 \n",
            "                                                                 \n",
            " max_pooling2d_3 (MaxPooling  (None, 54, 54, 16)       0         \n",
            " 2D)                                                             \n",
            "                                                                 \n",
            " flatten_1 (Flatten)         (None, 46656)             0         \n",
            "                                                                 \n",
            " dense_3 (Dense)             (None, 1000)              46657000  \n",
            "                                                                 \n",
            " batch_normalization_6 (Batc  (None, 1000)             4000      \n",
            " hNormalization)                                                 \n",
            "                                                                 \n",
            " dense_4 (Dense)             (None, 100)               100100    \n",
            "                                                                 \n",
            " batch_normalization_7 (Batc  (None, 100)              400       \n",
            " hNormalization)                                                 \n",
            "                                                                 \n",
            " dense_5 (Dense)             (None, 1)                 101       \n",
            "                                                                 \n",
            "=================================================================\n",
            "Total params: 46,762,737\n",
            "Trainable params: 46,760,493\n",
            "Non-trainable params: 2,244\n",
            "_________________________________________________________________\n"
          ]
        }
      ]
    },
    {
      "cell_type": "code",
      "source": [
        "parasite_or_not(new_model_hdf5.predict(test_dataset.take(1))[0])"
      ],
      "metadata": {
        "colab": {
          "base_uri": "https://localhost:8080/",
          "height": 52
        },
        "id": "BmKOfWnZoS-o",
        "outputId": "5e61ed64-9bc0-4697-abc2-742885906299"
      },
      "execution_count": null,
      "outputs": [
        {
          "output_type": "stream",
          "name": "stdout",
          "text": [
            "1/1 [==============================] - 12s 12s/step\n"
          ]
        },
        {
          "output_type": "execute_result",
          "data": {
            "text/plain": [
              "'U'"
            ],
            "application/vnd.google.colaboratory.intrinsic+json": {
              "type": "string"
            }
          },
          "metadata": {},
          "execution_count": 72
        }
      ]
    },
    {
      "cell_type": "markdown",
      "source": [
        "只保存權重"
      ],
      "metadata": {
        "id": "54zFDikloYci"
      }
    },
    {
      "cell_type": "code",
      "source": [
        "model.save_weights(\"weight/model_weight\")"
      ],
      "metadata": {
        "id": "NHhoJdK9ooiZ"
      },
      "execution_count": null,
      "outputs": []
    },
    {
      "cell_type": "code",
      "source": [
        "# 測試model前後對比"
      ],
      "metadata": {
        "id": "nEy84UtEqNcC"
      },
      "execution_count": null,
      "outputs": []
    },
    {
      "cell_type": "code",
      "source": [
        "model = tf.keras.Sequential([\n",
        "    InputLayer(input_shape=(IM_SIZE,IM_SIZE,3)),\n",
        "\n",
        "    # 建立filter , 第一層\n",
        "    Conv2D(filters=6, kernel_size=3, strides=1, padding=\"valid\", activation=\"relu\"),\n",
        "    BatchNormalization(),\n",
        "    MaxPool2D(pool_size=2, strides=2),\n",
        "\n",
        "    # 建立filter , 第二層\n",
        "    Conv2D(filters=16, kernel_size=3, strides=1, padding=\"valid\", activation=\"relu\"),\n",
        "    BatchNormalization(),\n",
        "    MaxPool2D(pool_size=2, strides=2),\n",
        "\n",
        "    # 攤平資料, 並建立輸出\n",
        "    Flatten(),\n",
        "\n",
        "    Dense(1000, activation='relu'),\n",
        "    BatchNormalization(),\n",
        "\n",
        "    Dense(100, activation='relu'),\n",
        "    BatchNormalization(),\n",
        "\n",
        "    Dense(1, activation='sigmoid'),\n",
        "\n",
        "])\n",
        "\n",
        "model.compile(\n",
        "    optimizer = Adam(learning_rate=0.01),\n",
        "    loss = BinaryCrossentropy(),\n",
        "    metrics= ['acc']\n",
        ")"
      ],
      "metadata": {
        "id": "SlyuvO3oqRdX"
      },
      "execution_count": null,
      "outputs": []
    },
    {
      "cell_type": "code",
      "source": [
        "model.evaluate(test_dataset)"
      ],
      "metadata": {
        "colab": {
          "base_uri": "https://localhost:8080/"
        },
        "id": "Nuj0RP6Jqexj",
        "outputId": "0f2af51a-081c-4461-b47e-e550a14903a3"
      },
      "execution_count": null,
      "outputs": [
        {
          "output_type": "stream",
          "name": "stdout",
          "text": [
            "87/87 [==============================] - 18s 38ms/step - loss: 0.6941 - acc: 0.4770\n"
          ]
        },
        {
          "output_type": "execute_result",
          "data": {
            "text/plain": [
              "[0.6941472887992859, 0.4769677221775055]"
            ]
          },
          "metadata": {},
          "execution_count": 80
        }
      ]
    },
    {
      "cell_type": "code",
      "source": [
        "model_weight = model.load_weights(\"./weight/model_weight\")      # 載入權重"
      ],
      "metadata": {
        "id": "E2Kgqh8ApIND"
      },
      "execution_count": null,
      "outputs": []
    },
    {
      "cell_type": "code",
      "source": [
        "model.evaluate(test_dataset)"
      ],
      "metadata": {
        "colab": {
          "base_uri": "https://localhost:8080/"
        },
        "id": "aXb42PSxqgR9",
        "outputId": "4ed26501-4223-4032-a699-e89ecae0c660"
      },
      "execution_count": null,
      "outputs": [
        {
          "output_type": "stream",
          "name": "stdout",
          "text": [
            "87/87 [==============================] - 17s 49ms/step - loss: 0.2908 - acc: 0.9162\n"
          ]
        },
        {
          "output_type": "execute_result",
          "data": {
            "text/plain": [
              "[0.29080498218536377, 0.9162132740020752]"
            ]
          },
          "metadata": {},
          "execution_count": 82
        }
      ]
    },
    {
      "cell_type": "markdown",
      "source": [
        "儲存到google drive"
      ],
      "metadata": {
        "id": "C5VGpBM4qmb5"
      }
    },
    {
      "cell_type": "code",
      "source": [
        "from google.colab import drive"
      ],
      "metadata": {
        "id": "Te7IXR2vq2pE"
      },
      "execution_count": 20,
      "outputs": []
    },
    {
      "cell_type": "code",
      "source": [
        "drive.mount(\"/content/drive/\")"
      ],
      "metadata": {
        "colab": {
          "base_uri": "https://localhost:8080/"
        },
        "id": "oL908c1Pq_HZ",
        "outputId": "7f02b4c6-d9a8-4514-895e-56144f9d1e6a"
      },
      "execution_count": 21,
      "outputs": [
        {
          "output_type": "stream",
          "name": "stdout",
          "text": [
            "Mounted at /content/drive/\n"
          ]
        }
      ]
    },
    {
      "cell_type": "code",
      "source": [
        "!cp -r /content/SaveLLeNetModel/ /content/drive/MyDrive/model/Malaria/"
      ],
      "metadata": {
        "id": "3FYN46OdrMnE"
      },
      "execution_count": 22,
      "outputs": []
    },
    {
      "cell_type": "code",
      "source": [
        "# 從之前儲存的路徑複製回到colab裡面"
      ],
      "metadata": {
        "id": "UsFPD2aDtgwy"
      },
      "execution_count": null,
      "outputs": []
    },
    {
      "cell_type": "code",
      "source": [
        "!cp -r /content/drive/MyDrive/路徑/ /content/"
      ],
      "metadata": {
        "id": "3_962pM1vOQr"
      },
      "execution_count": null,
      "outputs": []
    },
    {
      "cell_type": "markdown",
      "source": [
        "Functional API"
      ],
      "metadata": {
        "id": "w5-xKNBvvXFW"
      }
    },
    {
      "cell_type": "code",
      "source": [],
      "metadata": {
        "id": "wBlhMwSxCtbE"
      },
      "execution_count": null,
      "outputs": []
    },
    {
      "cell_type": "markdown",
      "source": [
        "# Functional API 常用來特徵提取, 上面跟下面的差別就是,特徵提取的話不需要最後面的輸出, 此部分為理解部分"
      ],
      "metadata": {
        "id": "TD83V9VFLZhi"
      }
    },
    {
      "cell_type": "code",
      "source": [
        "func_input = Input(shape=(IM_SIZE,IM_SIZE,3), name=\"InputImage\")\n",
        "\n",
        "x = Conv2D(filters=6, kernel_size=3, strides=1, padding=\"valid\", activation=\"relu\")(func_input)\n",
        "x = BatchNormalization()(x)\n",
        "x = MaxPool2D(pool_size=2, strides=2)(x)\n",
        "\n",
        "    # 建立filter , 第二層, 最後output提取特徵\n",
        "x = Conv2D(filters=16, kernel_size=3, strides=1, padding=\"valid\", activation=\"relu\")(x)\n",
        "x = BatchNormalization()(x)\n",
        "output = MaxPool2D(pool_size=2, strides=2)(x)\n",
        "\n",
        "    # 不需要建立輸出\n",
        "# x = Flatten()(x)\n",
        "\n",
        "# x = Dense(1000, activation='relu')(x)\n",
        "# x = BatchNormalization()(x)\n",
        "\n",
        "# x = Dense(100, activation='relu')(x)\n",
        "# x = BatchNormalization()(x)\n",
        "\n",
        "# func_output = Dense(1, activation='sigmoid')(x)\n",
        "\n",
        "feature_model = Model(func_input, output, name=\"Feature_Extractor\")\n",
        "\n",
        "feature_model.summary()\n"
      ],
      "metadata": {
        "colab": {
          "base_uri": "https://localhost:8080/"
        },
        "id": "RS8KaNGeLQzM",
        "outputId": "d2932131-d56f-433a-806c-e13318270de6"
      },
      "execution_count": null,
      "outputs": [
        {
          "output_type": "stream",
          "name": "stdout",
          "text": [
            "Model: \"Feature_Extractor\"\n",
            "_________________________________________________________________\n",
            " Layer (type)                Output Shape              Param #   \n",
            "=================================================================\n",
            " InputImage (InputLayer)     [(None, 224, 224, 3)]     0         \n",
            "                                                                 \n",
            " conv2d_2 (Conv2D)           (None, 222, 222, 6)       168       \n",
            "                                                                 \n",
            " batch_normalization_4 (Batc  (None, 222, 222, 6)      24        \n",
            " hNormalization)                                                 \n",
            "                                                                 \n",
            " max_pooling2d_2 (MaxPooling  (None, 111, 111, 6)      0         \n",
            " 2D)                                                             \n",
            "                                                                 \n",
            " conv2d_3 (Conv2D)           (None, 109, 109, 16)      880       \n",
            "                                                                 \n",
            " batch_normalization_5 (Batc  (None, 109, 109, 16)     64        \n",
            " hNormalization)                                                 \n",
            "                                                                 \n",
            " max_pooling2d_3 (MaxPooling  (None, 54, 54, 16)       0         \n",
            " 2D)                                                             \n",
            "                                                                 \n",
            "=================================================================\n",
            "Total params: 1,136\n",
            "Trainable params: 1,092\n",
            "Non-trainable params: 44\n",
            "_________________________________________________________________\n"
          ]
        }
      ]
    },
    {
      "cell_type": "code",
      "source": [
        "# func_input = Input(shape=(IM_SIZE,IM_SIZE,3), name=\"InputImage\")\n",
        "\n",
        "# x = Conv2D(filters=6, kernel_size=3, strides=1, padding=\"valid\", activation=\"relu\")(func_input)\n",
        "# x = BatchNormalization()(x)\n",
        "# x = MaxPool2D(pool_size=2, strides=2)(x)\n",
        "\n",
        "#     # 建立filter , 第二層\n",
        "# x = Conv2D(filters=16, kernel_size=3, strides=1, padding=\"valid\", activation=\"relu\")(x)\n",
        "# x = BatchNormalization()(x)\n",
        "# x = MaxPool2D(pool_size=2, strides=2)(x)\n",
        "\n",
        "#     # 攤平資料, 並建立輸出\n",
        "# x = Flatten()(x)\n",
        "\n",
        "# x = Dense(1000, activation='relu')(x)\n",
        "# x = BatchNormalization()(x)\n",
        "\n",
        "# x = Dense(100, activation='relu')(x)\n",
        "# x = BatchNormalization()(x)\n",
        "\n",
        "# func_output = Dense(1, activation='sigmoid')(x)\n",
        "\n",
        "# model_func = Model(func_input, func_output, name=\"LeNetModel\")\n",
        "\n",
        "# model_func.summary()\n"
      ],
      "metadata": {
        "id": "4dr9ESNMCtdH",
        "colab": {
          "base_uri": "https://localhost:8080/"
        },
        "outputId": "990f1c83-03b2-4f87-f899-efd053b67f23"
      },
      "execution_count": null,
      "outputs": [
        {
          "output_type": "stream",
          "name": "stdout",
          "text": [
            "Model: \"LeNetModel\"\n",
            "_________________________________________________________________\n",
            " Layer (type)                Output Shape              Param #   \n",
            "=================================================================\n",
            " InputImage (InputLayer)     [(None, 224, 224, 3)]     0         \n",
            "                                                                 \n",
            " conv2d_8 (Conv2D)           (None, 222, 222, 6)       168       \n",
            "                                                                 \n",
            " batch_normalization_16 (Bat  (None, 222, 222, 6)      24        \n",
            " chNormalization)                                                \n",
            "                                                                 \n",
            " max_pooling2d_8 (MaxPooling  (None, 111, 111, 6)      0         \n",
            " 2D)                                                             \n",
            "                                                                 \n",
            " conv2d_9 (Conv2D)           (None, 109, 109, 16)      880       \n",
            "                                                                 \n",
            " batch_normalization_17 (Bat  (None, 109, 109, 16)     64        \n",
            " chNormalization)                                                \n",
            "                                                                 \n",
            " max_pooling2d_9 (MaxPooling  (None, 54, 54, 16)       0         \n",
            " 2D)                                                             \n",
            "                                                                 \n",
            " flatten_4 (Flatten)         (None, 46656)             0         \n",
            "                                                                 \n",
            " dense_12 (Dense)            (None, 1000)              46657000  \n",
            "                                                                 \n",
            " batch_normalization_18 (Bat  (None, 1000)             4000      \n",
            " chNormalization)                                                \n",
            "                                                                 \n",
            " dense_13 (Dense)            (None, 100)               100100    \n",
            "                                                                 \n",
            " batch_normalization_19 (Bat  (None, 100)              400       \n",
            " chNormalization)                                                \n",
            "                                                                 \n",
            " dense_14 (Dense)            (None, 1)                 101       \n",
            "                                                                 \n",
            "=================================================================\n",
            "Total params: 46,762,737\n",
            "Trainable params: 46,760,493\n",
            "Non-trainable params: 2,244\n",
            "_________________________________________________________________\n"
          ]
        }
      ]
    },
    {
      "cell_type": "markdown",
      "source": [
        "取完特徵後丟到別的Model裡面進行訓練"
      ],
      "metadata": {
        "id": "bVKRR8grM7uU"
      }
    },
    {
      "cell_type": "code",
      "source": [
        "func_input = Input(shape=(IM_SIZE,IM_SIZE,3), name=\"InputImage\")\n",
        "\n",
        "x = feature_model(func_input)     # 調用上面的feature_model特徵提取演算法\n",
        "\n",
        "x = Flatten()(x)\n",
        "\n",
        "x = Dense(100, activation='relu')(x)\n",
        "x = BatchNormalization()(x)\n",
        "\n",
        "x = Dense(10, activation='relu')(x)\n",
        "x = BatchNormalization()(x)\n",
        "\n",
        "func_output = Dense(1, activation=\"sigmoid\")(x)\n",
        "\n",
        "model_func = Model(func_input, func_output, name=\"LeNet_Model\")\n",
        "\n",
        "model_func.summary()"
      ],
      "metadata": {
        "id": "7N_TLLrcCtfV",
        "colab": {
          "base_uri": "https://localhost:8080/"
        },
        "outputId": "2bd58500-5742-49ba-c0b5-3e762066b9cd"
      },
      "execution_count": null,
      "outputs": [
        {
          "output_type": "stream",
          "name": "stdout",
          "text": [
            "Model: \"LeNet_Model\"\n",
            "_________________________________________________________________\n",
            " Layer (type)                Output Shape              Param #   \n",
            "=================================================================\n",
            " InputImage (InputLayer)     [(None, 224, 224, 3)]     0         \n",
            "                                                                 \n",
            " Feature_Extractor (Function  (None, 54, 54, 16)       1136      \n",
            " al)                                                             \n",
            "                                                                 \n",
            " flatten_1 (Flatten)         (None, 46656)             0         \n",
            "                                                                 \n",
            " dense_3 (Dense)             (None, 100)               4665700   \n",
            "                                                                 \n",
            " batch_normalization_6 (Batc  (None, 100)              400       \n",
            " hNormalization)                                                 \n",
            "                                                                 \n",
            " dense_4 (Dense)             (None, 10)                1010      \n",
            "                                                                 \n",
            " batch_normalization_7 (Batc  (None, 10)               40        \n",
            " hNormalization)                                                 \n",
            "                                                                 \n",
            " dense_5 (Dense)             (None, 1)                 11        \n",
            "                                                                 \n",
            "=================================================================\n",
            "Total params: 4,668,297\n",
            "Trainable params: 4,668,033\n",
            "Non-trainable params: 264\n",
            "_________________________________________________________________\n"
          ]
        }
      ]
    },
    {
      "cell_type": "markdown",
      "source": [
        "Model Subclassing\n",
        "小Model, 提供調用\n",
        "\n",
        "池化層的概念就是通過保留圖像或特徵圖的重要特徵，同時將其他不太重要的細節變得模糊或降低其影響力。\n",
        "\n",
        "# **Funtional API 重點**"
      ],
      "metadata": {
        "id": "c25NPw2aCthZ"
      }
    },
    {
      "cell_type": "code",
      "source": [
        "from tensorflow.keras.layers import Layer\n",
        "from tensorflow.keras.layers import Input\n",
        "from tensorflow.keras.models import Model\n",
        "class FeatureExtractor(Layer):\n",
        "  def __init__(self, filters, kernel_size, strides, padding, activation, pool_size):\n",
        "    # 建構特徵提取的模型\n",
        "    super(FeatureExtractor, self).__init__()     ## 呼叫自己, 確保被初始化 ##\n",
        "    self.conv_1 = Conv2D(filters=filters, kernel_size=kernel_size, strides=strides, padding=padding, activation=activation)\n",
        "    self.batch_1 = BatchNormalization()\n",
        "    self.pool_1 = MaxPool2D(pool_size=pool_size, strides=strides*2)\n",
        "\n",
        "    self.conv_2 = Conv2D(filters=filters*2, kernel_size=kernel_size, strides=strides, padding=padding, activation=activation)\n",
        "    self.batch_2 = BatchNormalization()\n",
        "    self.pool_2 = MaxPool2D(pool_size=pool_size, strides=strides*2)\n",
        "\n",
        "\n",
        "  def call(self, x, training):\n",
        "    x = self.conv_1(x)\n",
        "    x = self.batch_1(x)\n",
        "    x = self.pool_1(x)\n",
        "\n",
        "    x = self.conv_2(x)\n",
        "    x = self.batch_2(x)\n",
        "    x = self.pool_2(x)\n",
        "\n",
        "    return x\n",
        "\n",
        "# 使用提取特徵模型\n",
        "feature_sub_classed = FeatureExtractor(8, 3, 1, \"valid\", \"relu\", 2)"
      ],
      "metadata": {
        "id": "9gcurfl0Ctjy"
      },
      "execution_count": 10,
      "outputs": []
    },
    {
      "cell_type": "code",
      "source": [
        "# 上面是建立特徵提取Model, 這邊要建立訓練模型\n",
        "\n",
        "class LeNetModel(Model):\n",
        "  def __init__(self,):\n",
        "    super(LeNetModel, self).__init__()\n",
        "\n",
        "    self.feature_extractor = FeatureExtractor(8, 3, 1, \"valid\", \"relu\", 2)\n",
        "\n",
        "    self.flatten = Flatten()\n",
        "    self.dense_1 = Dense(100, activation='relu')\n",
        "    self.batch_1 = BatchNormalization()\n",
        "\n",
        "    self.dense_2 = Dense(10, activation='relu')\n",
        "    self.batch_2 = BatchNormalization()\n",
        "\n",
        "    self.dense_3 = Dense(1, activation=\"sigmoid\")\n",
        "\n",
        "  def call(self, x, training):\n",
        "    x = self.feature_extractor(x)\n",
        "\n",
        "    x = self.flatten(x)\n",
        "    x = self.dense_1(x)\n",
        "    x = self.batch_1(x)\n",
        "    x = self.dense_2(x)\n",
        "    x = self.batch_2(x)\n",
        "    x = self.dense_3(x)\n",
        "\n",
        "    return x\n",
        "\n",
        "lenet_sub_classed = LeNetModel()\n",
        "lenet_sub_classed(tf.zeros([1,224,224,3]))      # 隨便建立一個tensor來進行model的測試\n",
        "lenet_sub_classed.summary()\n"
      ],
      "metadata": {
        "id": "Qes7xMQACtne",
        "colab": {
          "base_uri": "https://localhost:8080/"
        },
        "outputId": "6e589740-83db-429b-ddd3-44f21764ba97"
      },
      "execution_count": 11,
      "outputs": [
        {
          "output_type": "stream",
          "name": "stdout",
          "text": [
            "Model: \"le_net_model\"\n",
            "_________________________________________________________________\n",
            " Layer (type)                Output Shape              Param #   \n",
            "=================================================================\n",
            " feature_extractor_1 (Featur  multiple                 1488      \n",
            " eExtractor)                                                     \n",
            "                                                                 \n",
            " flatten (Flatten)           multiple                  0         \n",
            "                                                                 \n",
            " dense (Dense)               multiple                  4665700   \n",
            "                                                                 \n",
            " batch_normalization_4 (Batc  multiple                 400       \n",
            " hNormalization)                                                 \n",
            "                                                                 \n",
            " dense_1 (Dense)             multiple                  1010      \n",
            "                                                                 \n",
            " batch_normalization_5 (Batc  multiple                 40        \n",
            " hNormalization)                                                 \n",
            "                                                                 \n",
            " dense_2 (Dense)             multiple                  11        \n",
            "                                                                 \n",
            "=================================================================\n",
            "Total params: 4,668,649\n",
            "Trainable params: 4,668,381\n",
            "Non-trainable params: 268\n",
            "_________________________________________________________________\n"
          ]
        }
      ]
    },
    {
      "cell_type": "code",
      "source": [
        "# lenet_sub_classed.compile(\n",
        "#     optimizer = Adam(learning_rate=0.01),\n",
        "#     loss = BinaryCrossentropy(),\n",
        "#     metrics = \"accuracy\"\n",
        "# )"
      ],
      "metadata": {
        "id": "vYFym7EGCtpi"
      },
      "execution_count": null,
      "outputs": []
    },
    {
      "cell_type": "code",
      "source": [
        "history = lenet_sub_classed.fit(train_dataset, validation_data=val_dataset, epochs=75, verbose=1)"
      ],
      "metadata": {
        "id": "d_uwukB5Ctrg",
        "colab": {
          "base_uri": "https://localhost:8080/",
          "height": 349
        },
        "outputId": "3d66c5fd-e8a7-44e0-a389-7e26bf95674c"
      },
      "execution_count": null,
      "outputs": [
        {
          "output_type": "stream",
          "name": "stdout",
          "text": [
            "Epoch 1/75\n",
            "307/689 [============>.................] - ETA: 23s - loss: 0.4521 - accuracy: 0.7839"
          ]
        },
        {
          "output_type": "error",
          "ename": "KeyboardInterrupt",
          "evalue": "ignored",
          "traceback": [
            "\u001b[0;31m---------------------------------------------------------------------------\u001b[0m",
            "\u001b[0;31mKeyboardInterrupt\u001b[0m                         Traceback (most recent call last)",
            "\u001b[0;32m<ipython-input-17-20d462f41ed9>\u001b[0m in \u001b[0;36m<cell line: 1>\u001b[0;34m()\u001b[0m\n\u001b[0;32m----> 1\u001b[0;31m \u001b[0mhistory\u001b[0m \u001b[0;34m=\u001b[0m \u001b[0mlenet_sub_classed\u001b[0m\u001b[0;34m.\u001b[0m\u001b[0mfit\u001b[0m\u001b[0;34m(\u001b[0m\u001b[0mtrain_dataset\u001b[0m\u001b[0;34m,\u001b[0m \u001b[0mvalidation_data\u001b[0m\u001b[0;34m=\u001b[0m\u001b[0mval_dataset\u001b[0m\u001b[0;34m,\u001b[0m \u001b[0mepochs\u001b[0m\u001b[0;34m=\u001b[0m\u001b[0;36m75\u001b[0m\u001b[0;34m,\u001b[0m \u001b[0mverbose\u001b[0m\u001b[0;34m=\u001b[0m\u001b[0;36m1\u001b[0m\u001b[0;34m)\u001b[0m\u001b[0;34m\u001b[0m\u001b[0;34m\u001b[0m\u001b[0m\n\u001b[0m",
            "\u001b[0;32m/usr/local/lib/python3.10/dist-packages/keras/utils/traceback_utils.py\u001b[0m in \u001b[0;36merror_handler\u001b[0;34m(*args, **kwargs)\u001b[0m\n\u001b[1;32m     63\u001b[0m         \u001b[0mfiltered_tb\u001b[0m \u001b[0;34m=\u001b[0m \u001b[0;32mNone\u001b[0m\u001b[0;34m\u001b[0m\u001b[0;34m\u001b[0m\u001b[0m\n\u001b[1;32m     64\u001b[0m         \u001b[0;32mtry\u001b[0m\u001b[0;34m:\u001b[0m\u001b[0;34m\u001b[0m\u001b[0;34m\u001b[0m\u001b[0m\n\u001b[0;32m---> 65\u001b[0;31m             \u001b[0;32mreturn\u001b[0m \u001b[0mfn\u001b[0m\u001b[0;34m(\u001b[0m\u001b[0;34m*\u001b[0m\u001b[0margs\u001b[0m\u001b[0;34m,\u001b[0m \u001b[0;34m**\u001b[0m\u001b[0mkwargs\u001b[0m\u001b[0;34m)\u001b[0m\u001b[0;34m\u001b[0m\u001b[0;34m\u001b[0m\u001b[0m\n\u001b[0m\u001b[1;32m     66\u001b[0m         \u001b[0;32mexcept\u001b[0m \u001b[0mException\u001b[0m \u001b[0;32mas\u001b[0m \u001b[0me\u001b[0m\u001b[0;34m:\u001b[0m\u001b[0;34m\u001b[0m\u001b[0;34m\u001b[0m\u001b[0m\n\u001b[1;32m     67\u001b[0m             \u001b[0mfiltered_tb\u001b[0m \u001b[0;34m=\u001b[0m \u001b[0m_process_traceback_frames\u001b[0m\u001b[0;34m(\u001b[0m\u001b[0me\u001b[0m\u001b[0;34m.\u001b[0m\u001b[0m__traceback__\u001b[0m\u001b[0;34m)\u001b[0m\u001b[0;34m\u001b[0m\u001b[0;34m\u001b[0m\u001b[0m\n",
            "\u001b[0;32m/usr/local/lib/python3.10/dist-packages/keras/engine/training.py\u001b[0m in \u001b[0;36mfit\u001b[0;34m(self, x, y, batch_size, epochs, verbose, callbacks, validation_split, validation_data, shuffle, class_weight, sample_weight, initial_epoch, steps_per_epoch, validation_steps, validation_batch_size, validation_freq, max_queue_size, workers, use_multiprocessing)\u001b[0m\n\u001b[1;32m   1683\u001b[0m                         ):\n\u001b[1;32m   1684\u001b[0m                             \u001b[0mcallbacks\u001b[0m\u001b[0;34m.\u001b[0m\u001b[0mon_train_batch_begin\u001b[0m\u001b[0;34m(\u001b[0m\u001b[0mstep\u001b[0m\u001b[0;34m)\u001b[0m\u001b[0;34m\u001b[0m\u001b[0;34m\u001b[0m\u001b[0m\n\u001b[0;32m-> 1685\u001b[0;31m                             \u001b[0mtmp_logs\u001b[0m \u001b[0;34m=\u001b[0m \u001b[0mself\u001b[0m\u001b[0;34m.\u001b[0m\u001b[0mtrain_function\u001b[0m\u001b[0;34m(\u001b[0m\u001b[0miterator\u001b[0m\u001b[0;34m)\u001b[0m\u001b[0;34m\u001b[0m\u001b[0;34m\u001b[0m\u001b[0m\n\u001b[0m\u001b[1;32m   1686\u001b[0m                             \u001b[0;32mif\u001b[0m \u001b[0mdata_handler\u001b[0m\u001b[0;34m.\u001b[0m\u001b[0mshould_sync\u001b[0m\u001b[0;34m:\u001b[0m\u001b[0;34m\u001b[0m\u001b[0;34m\u001b[0m\u001b[0m\n\u001b[1;32m   1687\u001b[0m                                 \u001b[0mcontext\u001b[0m\u001b[0;34m.\u001b[0m\u001b[0masync_wait\u001b[0m\u001b[0;34m(\u001b[0m\u001b[0;34m)\u001b[0m\u001b[0;34m\u001b[0m\u001b[0;34m\u001b[0m\u001b[0m\n",
            "\u001b[0;32m/usr/local/lib/python3.10/dist-packages/tensorflow/python/util/traceback_utils.py\u001b[0m in \u001b[0;36merror_handler\u001b[0;34m(*args, **kwargs)\u001b[0m\n\u001b[1;32m    148\u001b[0m     \u001b[0mfiltered_tb\u001b[0m \u001b[0;34m=\u001b[0m \u001b[0;32mNone\u001b[0m\u001b[0;34m\u001b[0m\u001b[0;34m\u001b[0m\u001b[0m\n\u001b[1;32m    149\u001b[0m     \u001b[0;32mtry\u001b[0m\u001b[0;34m:\u001b[0m\u001b[0;34m\u001b[0m\u001b[0;34m\u001b[0m\u001b[0m\n\u001b[0;32m--> 150\u001b[0;31m       \u001b[0;32mreturn\u001b[0m \u001b[0mfn\u001b[0m\u001b[0;34m(\u001b[0m\u001b[0;34m*\u001b[0m\u001b[0margs\u001b[0m\u001b[0;34m,\u001b[0m \u001b[0;34m**\u001b[0m\u001b[0mkwargs\u001b[0m\u001b[0;34m)\u001b[0m\u001b[0;34m\u001b[0m\u001b[0;34m\u001b[0m\u001b[0m\n\u001b[0m\u001b[1;32m    151\u001b[0m     \u001b[0;32mexcept\u001b[0m \u001b[0mException\u001b[0m \u001b[0;32mas\u001b[0m \u001b[0me\u001b[0m\u001b[0;34m:\u001b[0m\u001b[0;34m\u001b[0m\u001b[0;34m\u001b[0m\u001b[0m\n\u001b[1;32m    152\u001b[0m       \u001b[0mfiltered_tb\u001b[0m \u001b[0;34m=\u001b[0m \u001b[0m_process_traceback_frames\u001b[0m\u001b[0;34m(\u001b[0m\u001b[0me\u001b[0m\u001b[0;34m.\u001b[0m\u001b[0m__traceback__\u001b[0m\u001b[0;34m)\u001b[0m\u001b[0;34m\u001b[0m\u001b[0;34m\u001b[0m\u001b[0m\n",
            "\u001b[0;32m/usr/local/lib/python3.10/dist-packages/tensorflow/python/eager/polymorphic_function/polymorphic_function.py\u001b[0m in \u001b[0;36m__call__\u001b[0;34m(self, *args, **kwds)\u001b[0m\n\u001b[1;32m    892\u001b[0m \u001b[0;34m\u001b[0m\u001b[0m\n\u001b[1;32m    893\u001b[0m       \u001b[0;32mwith\u001b[0m \u001b[0mOptionalXlaContext\u001b[0m\u001b[0;34m(\u001b[0m\u001b[0mself\u001b[0m\u001b[0;34m.\u001b[0m\u001b[0m_jit_compile\u001b[0m\u001b[0;34m)\u001b[0m\u001b[0;34m:\u001b[0m\u001b[0;34m\u001b[0m\u001b[0;34m\u001b[0m\u001b[0m\n\u001b[0;32m--> 894\u001b[0;31m         \u001b[0mresult\u001b[0m \u001b[0;34m=\u001b[0m \u001b[0mself\u001b[0m\u001b[0;34m.\u001b[0m\u001b[0m_call\u001b[0m\u001b[0;34m(\u001b[0m\u001b[0;34m*\u001b[0m\u001b[0margs\u001b[0m\u001b[0;34m,\u001b[0m \u001b[0;34m**\u001b[0m\u001b[0mkwds\u001b[0m\u001b[0;34m)\u001b[0m\u001b[0;34m\u001b[0m\u001b[0;34m\u001b[0m\u001b[0m\n\u001b[0m\u001b[1;32m    895\u001b[0m \u001b[0;34m\u001b[0m\u001b[0m\n\u001b[1;32m    896\u001b[0m       \u001b[0mnew_tracing_count\u001b[0m \u001b[0;34m=\u001b[0m \u001b[0mself\u001b[0m\u001b[0;34m.\u001b[0m\u001b[0mexperimental_get_tracing_count\u001b[0m\u001b[0;34m(\u001b[0m\u001b[0;34m)\u001b[0m\u001b[0;34m\u001b[0m\u001b[0;34m\u001b[0m\u001b[0m\n",
            "\u001b[0;32m/usr/local/lib/python3.10/dist-packages/tensorflow/python/eager/polymorphic_function/polymorphic_function.py\u001b[0m in \u001b[0;36m_call\u001b[0;34m(self, *args, **kwds)\u001b[0m\n\u001b[1;32m    924\u001b[0m       \u001b[0;31m# In this case we have created variables on the first call, so we run the\u001b[0m\u001b[0;34m\u001b[0m\u001b[0;34m\u001b[0m\u001b[0m\n\u001b[1;32m    925\u001b[0m       \u001b[0;31m# defunned version which is guaranteed to never create variables.\u001b[0m\u001b[0;34m\u001b[0m\u001b[0;34m\u001b[0m\u001b[0m\n\u001b[0;32m--> 926\u001b[0;31m       \u001b[0;32mreturn\u001b[0m \u001b[0mself\u001b[0m\u001b[0;34m.\u001b[0m\u001b[0m_no_variable_creation_fn\u001b[0m\u001b[0;34m(\u001b[0m\u001b[0;34m*\u001b[0m\u001b[0margs\u001b[0m\u001b[0;34m,\u001b[0m \u001b[0;34m**\u001b[0m\u001b[0mkwds\u001b[0m\u001b[0;34m)\u001b[0m  \u001b[0;31m# pylint: disable=not-callable\u001b[0m\u001b[0;34m\u001b[0m\u001b[0;34m\u001b[0m\u001b[0m\n\u001b[0m\u001b[1;32m    927\u001b[0m     \u001b[0;32melif\u001b[0m \u001b[0mself\u001b[0m\u001b[0;34m.\u001b[0m\u001b[0m_variable_creation_fn\u001b[0m \u001b[0;32mis\u001b[0m \u001b[0;32mnot\u001b[0m \u001b[0;32mNone\u001b[0m\u001b[0;34m:\u001b[0m\u001b[0;34m\u001b[0m\u001b[0;34m\u001b[0m\u001b[0m\n\u001b[1;32m    928\u001b[0m       \u001b[0;31m# Release the lock early so that multiple threads can perform the call\u001b[0m\u001b[0;34m\u001b[0m\u001b[0;34m\u001b[0m\u001b[0m\n",
            "\u001b[0;32m/usr/local/lib/python3.10/dist-packages/tensorflow/python/eager/polymorphic_function/tracing_compiler.py\u001b[0m in \u001b[0;36m__call__\u001b[0;34m(self, *args, **kwargs)\u001b[0m\n\u001b[1;32m    141\u001b[0m       (concrete_function,\n\u001b[1;32m    142\u001b[0m        filtered_flat_args) = self._maybe_define_function(args, kwargs)\n\u001b[0;32m--> 143\u001b[0;31m     return concrete_function._call_flat(\n\u001b[0m\u001b[1;32m    144\u001b[0m         filtered_flat_args, captured_inputs=concrete_function.captured_inputs)  # pylint: disable=protected-access\n\u001b[1;32m    145\u001b[0m \u001b[0;34m\u001b[0m\u001b[0m\n",
            "\u001b[0;32m/usr/local/lib/python3.10/dist-packages/tensorflow/python/eager/polymorphic_function/monomorphic_function.py\u001b[0m in \u001b[0;36m_call_flat\u001b[0;34m(self, args, captured_inputs, cancellation_manager)\u001b[0m\n\u001b[1;32m   1755\u001b[0m         and executing_eagerly):\n\u001b[1;32m   1756\u001b[0m       \u001b[0;31m# No tape is watching; skip to running the function.\u001b[0m\u001b[0;34m\u001b[0m\u001b[0;34m\u001b[0m\u001b[0m\n\u001b[0;32m-> 1757\u001b[0;31m       return self._build_call_outputs(self._inference_function.call(\n\u001b[0m\u001b[1;32m   1758\u001b[0m           ctx, args, cancellation_manager=cancellation_manager))\n\u001b[1;32m   1759\u001b[0m     forward_backward = self._select_forward_and_backward_functions(\n",
            "\u001b[0;32m/usr/local/lib/python3.10/dist-packages/tensorflow/python/eager/polymorphic_function/monomorphic_function.py\u001b[0m in \u001b[0;36mcall\u001b[0;34m(self, ctx, args, cancellation_manager)\u001b[0m\n\u001b[1;32m    379\u001b[0m       \u001b[0;32mwith\u001b[0m \u001b[0m_InterpolateFunctionError\u001b[0m\u001b[0;34m(\u001b[0m\u001b[0mself\u001b[0m\u001b[0;34m)\u001b[0m\u001b[0;34m:\u001b[0m\u001b[0;34m\u001b[0m\u001b[0;34m\u001b[0m\u001b[0m\n\u001b[1;32m    380\u001b[0m         \u001b[0;32mif\u001b[0m \u001b[0mcancellation_manager\u001b[0m \u001b[0;32mis\u001b[0m \u001b[0;32mNone\u001b[0m\u001b[0;34m:\u001b[0m\u001b[0;34m\u001b[0m\u001b[0;34m\u001b[0m\u001b[0m\n\u001b[0;32m--> 381\u001b[0;31m           outputs = execute.execute(\n\u001b[0m\u001b[1;32m    382\u001b[0m               \u001b[0mstr\u001b[0m\u001b[0;34m(\u001b[0m\u001b[0mself\u001b[0m\u001b[0;34m.\u001b[0m\u001b[0msignature\u001b[0m\u001b[0;34m.\u001b[0m\u001b[0mname\u001b[0m\u001b[0;34m)\u001b[0m\u001b[0;34m,\u001b[0m\u001b[0;34m\u001b[0m\u001b[0;34m\u001b[0m\u001b[0m\n\u001b[1;32m    383\u001b[0m               \u001b[0mnum_outputs\u001b[0m\u001b[0;34m=\u001b[0m\u001b[0mself\u001b[0m\u001b[0;34m.\u001b[0m\u001b[0m_num_outputs\u001b[0m\u001b[0;34m,\u001b[0m\u001b[0;34m\u001b[0m\u001b[0;34m\u001b[0m\u001b[0m\n",
            "\u001b[0;32m/usr/local/lib/python3.10/dist-packages/tensorflow/python/eager/execute.py\u001b[0m in \u001b[0;36mquick_execute\u001b[0;34m(op_name, num_outputs, inputs, attrs, ctx, name)\u001b[0m\n\u001b[1;32m     50\u001b[0m   \u001b[0;32mtry\u001b[0m\u001b[0;34m:\u001b[0m\u001b[0;34m\u001b[0m\u001b[0;34m\u001b[0m\u001b[0m\n\u001b[1;32m     51\u001b[0m     \u001b[0mctx\u001b[0m\u001b[0;34m.\u001b[0m\u001b[0mensure_initialized\u001b[0m\u001b[0;34m(\u001b[0m\u001b[0;34m)\u001b[0m\u001b[0;34m\u001b[0m\u001b[0;34m\u001b[0m\u001b[0m\n\u001b[0;32m---> 52\u001b[0;31m     tensors = pywrap_tfe.TFE_Py_Execute(ctx._handle, device_name, op_name,\n\u001b[0m\u001b[1;32m     53\u001b[0m                                         inputs, attrs, num_outputs)\n\u001b[1;32m     54\u001b[0m   \u001b[0;32mexcept\u001b[0m \u001b[0mcore\u001b[0m\u001b[0;34m.\u001b[0m\u001b[0m_NotOkStatusException\u001b[0m \u001b[0;32mas\u001b[0m \u001b[0me\u001b[0m\u001b[0;34m:\u001b[0m\u001b[0;34m\u001b[0m\u001b[0;34m\u001b[0m\u001b[0m\n",
            "\u001b[0;31mKeyboardInterrupt\u001b[0m: "
          ]
        }
      ]
    },
    {
      "cell_type": "markdown",
      "source": [
        "# 自定義層"
      ],
      "metadata": {
        "id": "qCgISjkmCttp"
      }
    },
    {
      "cell_type": "markdown",
      "source": [
        "*   對於大多數情況下，我們希望訓練模型時更新所有層的權重，因此 trainable=True 是預設值。這使得模型能夠學習從輸入到輸出之間的最佳權重配置，以最小化損失函數。\n",
        "\n",
        "\n",
        "*   有時候，我們可能想要凍結某些層或某些參數，即不對它們進行訓練。這可以通過將 trainable=False 來實現。凍結層或參數意味著在訓練過程中不更新它們的權重，保持它們的初始值。這在一些情況下很有用，例如在遷移學習中，我們可能想要固定某些預訓練模型的權重，只訓練新添加的層。\n",
        "\n",
        "*   initializer=\"random_normal\" 是一種初始化方法的選擇, \"random_normal\" 初始化器中，它根據正態分佈（高斯分佈）生成具有指定均值和標準差的隨機數值作為初始值, 一般沒有設定的情況下都是用\"Glorot uniform\", biases則是0, 而不是\"random_normal\"\n",
        "\n",
        "*   tf.nn.relu() 和 Dense(100, activation='relu') 中的 activation='relu' 是相同的意思，都是指定修正線性單元（ReLU）作為激活函數, 下面的sigmoid同樣意思, 由於是自定義層 , 所以這個要自己定義\n",
        "*   self.weights 屬性會與 Layer 父類中的只讀屬性名稱衝突，所以不能使用 self.weights 來命名權重變數, 故使用self.w\n",
        "\n",
        "\n",
        "\n"
      ],
      "metadata": {
        "id": "VGK2WBR7_B8G"
      }
    },
    {
      "cell_type": "code",
      "source": [
        "# 可以建立自己的Dense\n",
        "class NeuralearnDense(Layer):\n",
        "  def __init__(self, output_units, activation):\n",
        "    super(NeuralearnDense, self).__init__()\n",
        "\n",
        "    self.output_units = output_units\n",
        "    self.activation = activation\n",
        "\n",
        "  def build(self, input_feature_shape):\n",
        "    self.w = self.add_weight(shape=(input_feature_shape[-1], self.output_units), initializer=\"random_normal\", trainable=True)    # 設定初始權重, 取最後一個是因為最後一個維度是特徵的總數\n",
        "    self.b = self.add_weight(shape=(self.output_units, ), initializer=\"random_normal\", trainable=True)        # 設定初始偏差值\n",
        "\n",
        "\n",
        "  def call(self, input_features):\n",
        "    pred_output = tf.matmul(input_features, self.w) + self.b\n",
        "    if (self.activation == \"relu\"):\n",
        "      return tf.nn.relu(pred_output)\n",
        "    elif (self.activation == \"sigmoid\"):\n",
        "      return tf.math.sigmoid(pred_output)\n",
        "    else:\n",
        "      return pred_output\n",
        "\n",
        "\n"
      ],
      "metadata": {
        "id": "MyiuSaffCtvi"
      },
      "execution_count": null,
      "outputs": []
    },
    {
      "cell_type": "code",
      "source": [
        "new_custom_model = tf.keras.Sequential([\n",
        "    InputLayer(input_shape=(IM_SIZE,IM_SIZE,3)),\n",
        "\n",
        "    Conv2D(filters=6, kernel_size=3, strides=1, padding=\"valid\", activation=\"relu\"),\n",
        "    BatchNormalization(),\n",
        "    MaxPool2D(pool_size=2, strides=2),\n",
        "\n",
        "    Conv2D(filters=16, kernel_size=3, strides=1, padding=\"valid\", activation=\"relu\"),\n",
        "    BatchNormalization(),\n",
        "    MaxPool2D(pool_size=2, strides=2),\n",
        "\n",
        "    Flatten(),\n",
        "\n",
        "    NeuralearnDense(100, activation='relu'),      # 這邊改成剛剛上面建立的NeuralearnDense\n",
        "    BatchNormalization(),\n",
        "\n",
        "    NeuralearnDense(10, activation='relu'),      # 這邊改成剛剛上面建立的NeuralearnDense\n",
        "    BatchNormalization(),\n",
        "\n",
        "    NeuralearnDense(1, activation='sigmoid'),      # 這邊改成剛剛上面建立的NeuralearnDense\n",
        "\n",
        "])\n",
        "\n",
        "new_custom_model.summary()\n",
        "new_custom_model.compile(\n",
        "    optimizer = Adam(learning_rate=0.01),\n",
        "    loss = BinaryCrossentropy(),\n",
        "    metrics= ['acc']\n",
        ")"
      ],
      "metadata": {
        "id": "u4Hl-pDdCtx0",
        "colab": {
          "base_uri": "https://localhost:8080/"
        },
        "outputId": "65c4e2ff-89f9-4a13-c800-c7288489beba"
      },
      "execution_count": null,
      "outputs": [
        {
          "output_type": "stream",
          "name": "stdout",
          "text": [
            "Model: \"sequential_9\"\n",
            "_________________________________________________________________\n",
            " Layer (type)                Output Shape              Param #   \n",
            "=================================================================\n",
            " conv2d_24 (Conv2D)          (None, 222, 222, 6)       168       \n",
            "                                                                 \n",
            " batch_normalization_48 (Bat  (None, 222, 222, 6)      24        \n",
            " chNormalization)                                                \n",
            "                                                                 \n",
            " max_pooling2d_24 (MaxPoolin  (None, 111, 111, 6)      0         \n",
            " g2D)                                                            \n",
            "                                                                 \n",
            " conv2d_25 (Conv2D)          (None, 109, 109, 16)      880       \n",
            "                                                                 \n",
            " batch_normalization_49 (Bat  (None, 109, 109, 16)     64        \n",
            " chNormalization)                                                \n",
            "                                                                 \n",
            " max_pooling2d_25 (MaxPoolin  (None, 54, 54, 16)       0         \n",
            " g2D)                                                            \n",
            "                                                                 \n",
            " flatten_12 (Flatten)        (None, 46656)             0         \n",
            "                                                                 \n",
            " neuralearn_dense_24 (Neural  (None, 100)              4665700   \n",
            " earnDense)                                                      \n",
            "                                                                 \n",
            " batch_normalization_50 (Bat  (None, 100)              400       \n",
            " chNormalization)                                                \n",
            "                                                                 \n",
            " neuralearn_dense_25 (Neural  (None, 10)               1010      \n",
            " earnDense)                                                      \n",
            "                                                                 \n",
            " batch_normalization_51 (Bat  (None, 10)               40        \n",
            " chNormalization)                                                \n",
            "                                                                 \n",
            " neuralearn_dense_26 (Neural  (None, 1)                11        \n",
            " earnDense)                                                      \n",
            "                                                                 \n",
            "=================================================================\n",
            "Total params: 4,668,297\n",
            "Trainable params: 4,668,033\n",
            "Non-trainable params: 264\n",
            "_________________________________________________________________\n"
          ]
        }
      ]
    },
    {
      "cell_type": "code",
      "source": [
        "history = new_custom_model.fit(train_dataset, validation_data=val_dataset, epochs=5, verbose=1)"
      ],
      "metadata": {
        "id": "M001BvSFCtz6",
        "colab": {
          "base_uri": "https://localhost:8080/",
          "height": 349
        },
        "outputId": "476f4029-5627-4faf-e833-093152de1a71"
      },
      "execution_count": null,
      "outputs": [
        {
          "output_type": "stream",
          "name": "stdout",
          "text": [
            "Epoch 1/5\n",
            " 47/689 [=>............................] - ETA: 8:49 - loss: 0.6730 - acc: 0.5731"
          ]
        },
        {
          "output_type": "error",
          "ename": "KeyboardInterrupt",
          "evalue": "ignored",
          "traceback": [
            "\u001b[0;31m---------------------------------------------------------------------------\u001b[0m",
            "\u001b[0;31mKeyboardInterrupt\u001b[0m                         Traceback (most recent call last)",
            "\u001b[0;32m<ipython-input-38-5a2811813257>\u001b[0m in \u001b[0;36m<cell line: 1>\u001b[0;34m()\u001b[0m\n\u001b[0;32m----> 1\u001b[0;31m \u001b[0mhistory\u001b[0m \u001b[0;34m=\u001b[0m \u001b[0mnew_lanet_model\u001b[0m\u001b[0;34m.\u001b[0m\u001b[0mfit\u001b[0m\u001b[0;34m(\u001b[0m\u001b[0mtrain_dataset\u001b[0m\u001b[0;34m,\u001b[0m \u001b[0mvalidation_data\u001b[0m\u001b[0;34m=\u001b[0m\u001b[0mval_dataset\u001b[0m\u001b[0;34m,\u001b[0m \u001b[0mepochs\u001b[0m\u001b[0;34m=\u001b[0m\u001b[0;36m5\u001b[0m\u001b[0;34m,\u001b[0m \u001b[0mverbose\u001b[0m\u001b[0;34m=\u001b[0m\u001b[0;36m1\u001b[0m\u001b[0;34m)\u001b[0m\u001b[0;34m\u001b[0m\u001b[0;34m\u001b[0m\u001b[0m\n\u001b[0m",
            "\u001b[0;32m/usr/local/lib/python3.10/dist-packages/keras/utils/traceback_utils.py\u001b[0m in \u001b[0;36merror_handler\u001b[0;34m(*args, **kwargs)\u001b[0m\n\u001b[1;32m     63\u001b[0m         \u001b[0mfiltered_tb\u001b[0m \u001b[0;34m=\u001b[0m \u001b[0;32mNone\u001b[0m\u001b[0;34m\u001b[0m\u001b[0;34m\u001b[0m\u001b[0m\n\u001b[1;32m     64\u001b[0m         \u001b[0;32mtry\u001b[0m\u001b[0;34m:\u001b[0m\u001b[0;34m\u001b[0m\u001b[0;34m\u001b[0m\u001b[0m\n\u001b[0;32m---> 65\u001b[0;31m             \u001b[0;32mreturn\u001b[0m \u001b[0mfn\u001b[0m\u001b[0;34m(\u001b[0m\u001b[0;34m*\u001b[0m\u001b[0margs\u001b[0m\u001b[0;34m,\u001b[0m \u001b[0;34m**\u001b[0m\u001b[0mkwargs\u001b[0m\u001b[0;34m)\u001b[0m\u001b[0;34m\u001b[0m\u001b[0;34m\u001b[0m\u001b[0m\n\u001b[0m\u001b[1;32m     66\u001b[0m         \u001b[0;32mexcept\u001b[0m \u001b[0mException\u001b[0m \u001b[0;32mas\u001b[0m \u001b[0me\u001b[0m\u001b[0;34m:\u001b[0m\u001b[0;34m\u001b[0m\u001b[0;34m\u001b[0m\u001b[0m\n\u001b[1;32m     67\u001b[0m             \u001b[0mfiltered_tb\u001b[0m \u001b[0;34m=\u001b[0m \u001b[0m_process_traceback_frames\u001b[0m\u001b[0;34m(\u001b[0m\u001b[0me\u001b[0m\u001b[0;34m.\u001b[0m\u001b[0m__traceback__\u001b[0m\u001b[0;34m)\u001b[0m\u001b[0;34m\u001b[0m\u001b[0;34m\u001b[0m\u001b[0m\n",
            "\u001b[0;32m/usr/local/lib/python3.10/dist-packages/keras/engine/training.py\u001b[0m in \u001b[0;36mfit\u001b[0;34m(self, x, y, batch_size, epochs, verbose, callbacks, validation_split, validation_data, shuffle, class_weight, sample_weight, initial_epoch, steps_per_epoch, validation_steps, validation_batch_size, validation_freq, max_queue_size, workers, use_multiprocessing)\u001b[0m\n\u001b[1;32m   1683\u001b[0m                         ):\n\u001b[1;32m   1684\u001b[0m                             \u001b[0mcallbacks\u001b[0m\u001b[0;34m.\u001b[0m\u001b[0mon_train_batch_begin\u001b[0m\u001b[0;34m(\u001b[0m\u001b[0mstep\u001b[0m\u001b[0;34m)\u001b[0m\u001b[0;34m\u001b[0m\u001b[0;34m\u001b[0m\u001b[0m\n\u001b[0;32m-> 1685\u001b[0;31m                             \u001b[0mtmp_logs\u001b[0m \u001b[0;34m=\u001b[0m \u001b[0mself\u001b[0m\u001b[0;34m.\u001b[0m\u001b[0mtrain_function\u001b[0m\u001b[0;34m(\u001b[0m\u001b[0miterator\u001b[0m\u001b[0;34m)\u001b[0m\u001b[0;34m\u001b[0m\u001b[0;34m\u001b[0m\u001b[0m\n\u001b[0m\u001b[1;32m   1686\u001b[0m                             \u001b[0;32mif\u001b[0m \u001b[0mdata_handler\u001b[0m\u001b[0;34m.\u001b[0m\u001b[0mshould_sync\u001b[0m\u001b[0;34m:\u001b[0m\u001b[0;34m\u001b[0m\u001b[0;34m\u001b[0m\u001b[0m\n\u001b[1;32m   1687\u001b[0m                                 \u001b[0mcontext\u001b[0m\u001b[0;34m.\u001b[0m\u001b[0masync_wait\u001b[0m\u001b[0;34m(\u001b[0m\u001b[0;34m)\u001b[0m\u001b[0;34m\u001b[0m\u001b[0;34m\u001b[0m\u001b[0m\n",
            "\u001b[0;32m/usr/local/lib/python3.10/dist-packages/tensorflow/python/util/traceback_utils.py\u001b[0m in \u001b[0;36merror_handler\u001b[0;34m(*args, **kwargs)\u001b[0m\n\u001b[1;32m    148\u001b[0m     \u001b[0mfiltered_tb\u001b[0m \u001b[0;34m=\u001b[0m \u001b[0;32mNone\u001b[0m\u001b[0;34m\u001b[0m\u001b[0;34m\u001b[0m\u001b[0m\n\u001b[1;32m    149\u001b[0m     \u001b[0;32mtry\u001b[0m\u001b[0;34m:\u001b[0m\u001b[0;34m\u001b[0m\u001b[0;34m\u001b[0m\u001b[0m\n\u001b[0;32m--> 150\u001b[0;31m       \u001b[0;32mreturn\u001b[0m \u001b[0mfn\u001b[0m\u001b[0;34m(\u001b[0m\u001b[0;34m*\u001b[0m\u001b[0margs\u001b[0m\u001b[0;34m,\u001b[0m \u001b[0;34m**\u001b[0m\u001b[0mkwargs\u001b[0m\u001b[0;34m)\u001b[0m\u001b[0;34m\u001b[0m\u001b[0;34m\u001b[0m\u001b[0m\n\u001b[0m\u001b[1;32m    151\u001b[0m     \u001b[0;32mexcept\u001b[0m \u001b[0mException\u001b[0m \u001b[0;32mas\u001b[0m \u001b[0me\u001b[0m\u001b[0;34m:\u001b[0m\u001b[0;34m\u001b[0m\u001b[0;34m\u001b[0m\u001b[0m\n\u001b[1;32m    152\u001b[0m       \u001b[0mfiltered_tb\u001b[0m \u001b[0;34m=\u001b[0m \u001b[0m_process_traceback_frames\u001b[0m\u001b[0;34m(\u001b[0m\u001b[0me\u001b[0m\u001b[0;34m.\u001b[0m\u001b[0m__traceback__\u001b[0m\u001b[0;34m)\u001b[0m\u001b[0;34m\u001b[0m\u001b[0;34m\u001b[0m\u001b[0m\n",
            "\u001b[0;32m/usr/local/lib/python3.10/dist-packages/tensorflow/python/eager/polymorphic_function/polymorphic_function.py\u001b[0m in \u001b[0;36m__call__\u001b[0;34m(self, *args, **kwds)\u001b[0m\n\u001b[1;32m    892\u001b[0m \u001b[0;34m\u001b[0m\u001b[0m\n\u001b[1;32m    893\u001b[0m       \u001b[0;32mwith\u001b[0m \u001b[0mOptionalXlaContext\u001b[0m\u001b[0;34m(\u001b[0m\u001b[0mself\u001b[0m\u001b[0;34m.\u001b[0m\u001b[0m_jit_compile\u001b[0m\u001b[0;34m)\u001b[0m\u001b[0;34m:\u001b[0m\u001b[0;34m\u001b[0m\u001b[0;34m\u001b[0m\u001b[0m\n\u001b[0;32m--> 894\u001b[0;31m         \u001b[0mresult\u001b[0m \u001b[0;34m=\u001b[0m \u001b[0mself\u001b[0m\u001b[0;34m.\u001b[0m\u001b[0m_call\u001b[0m\u001b[0;34m(\u001b[0m\u001b[0;34m*\u001b[0m\u001b[0margs\u001b[0m\u001b[0;34m,\u001b[0m \u001b[0;34m**\u001b[0m\u001b[0mkwds\u001b[0m\u001b[0;34m)\u001b[0m\u001b[0;34m\u001b[0m\u001b[0;34m\u001b[0m\u001b[0m\n\u001b[0m\u001b[1;32m    895\u001b[0m \u001b[0;34m\u001b[0m\u001b[0m\n\u001b[1;32m    896\u001b[0m       \u001b[0mnew_tracing_count\u001b[0m \u001b[0;34m=\u001b[0m \u001b[0mself\u001b[0m\u001b[0;34m.\u001b[0m\u001b[0mexperimental_get_tracing_count\u001b[0m\u001b[0;34m(\u001b[0m\u001b[0;34m)\u001b[0m\u001b[0;34m\u001b[0m\u001b[0;34m\u001b[0m\u001b[0m\n",
            "\u001b[0;32m/usr/local/lib/python3.10/dist-packages/tensorflow/python/eager/polymorphic_function/polymorphic_function.py\u001b[0m in \u001b[0;36m_call\u001b[0;34m(self, *args, **kwds)\u001b[0m\n\u001b[1;32m    924\u001b[0m       \u001b[0;31m# In this case we have created variables on the first call, so we run the\u001b[0m\u001b[0;34m\u001b[0m\u001b[0;34m\u001b[0m\u001b[0m\n\u001b[1;32m    925\u001b[0m       \u001b[0;31m# defunned version which is guaranteed to never create variables.\u001b[0m\u001b[0;34m\u001b[0m\u001b[0;34m\u001b[0m\u001b[0m\n\u001b[0;32m--> 926\u001b[0;31m       \u001b[0;32mreturn\u001b[0m \u001b[0mself\u001b[0m\u001b[0;34m.\u001b[0m\u001b[0m_no_variable_creation_fn\u001b[0m\u001b[0;34m(\u001b[0m\u001b[0;34m*\u001b[0m\u001b[0margs\u001b[0m\u001b[0;34m,\u001b[0m \u001b[0;34m**\u001b[0m\u001b[0mkwds\u001b[0m\u001b[0;34m)\u001b[0m  \u001b[0;31m# pylint: disable=not-callable\u001b[0m\u001b[0;34m\u001b[0m\u001b[0;34m\u001b[0m\u001b[0m\n\u001b[0m\u001b[1;32m    927\u001b[0m     \u001b[0;32melif\u001b[0m \u001b[0mself\u001b[0m\u001b[0;34m.\u001b[0m\u001b[0m_variable_creation_fn\u001b[0m \u001b[0;32mis\u001b[0m \u001b[0;32mnot\u001b[0m \u001b[0;32mNone\u001b[0m\u001b[0;34m:\u001b[0m\u001b[0;34m\u001b[0m\u001b[0;34m\u001b[0m\u001b[0m\n\u001b[1;32m    928\u001b[0m       \u001b[0;31m# Release the lock early so that multiple threads can perform the call\u001b[0m\u001b[0;34m\u001b[0m\u001b[0;34m\u001b[0m\u001b[0m\n",
            "\u001b[0;32m/usr/local/lib/python3.10/dist-packages/tensorflow/python/eager/polymorphic_function/tracing_compiler.py\u001b[0m in \u001b[0;36m__call__\u001b[0;34m(self, *args, **kwargs)\u001b[0m\n\u001b[1;32m    141\u001b[0m       (concrete_function,\n\u001b[1;32m    142\u001b[0m        filtered_flat_args) = self._maybe_define_function(args, kwargs)\n\u001b[0;32m--> 143\u001b[0;31m     return concrete_function._call_flat(\n\u001b[0m\u001b[1;32m    144\u001b[0m         filtered_flat_args, captured_inputs=concrete_function.captured_inputs)  # pylint: disable=protected-access\n\u001b[1;32m    145\u001b[0m \u001b[0;34m\u001b[0m\u001b[0m\n",
            "\u001b[0;32m/usr/local/lib/python3.10/dist-packages/tensorflow/python/eager/polymorphic_function/monomorphic_function.py\u001b[0m in \u001b[0;36m_call_flat\u001b[0;34m(self, args, captured_inputs, cancellation_manager)\u001b[0m\n\u001b[1;32m   1755\u001b[0m         and executing_eagerly):\n\u001b[1;32m   1756\u001b[0m       \u001b[0;31m# No tape is watching; skip to running the function.\u001b[0m\u001b[0;34m\u001b[0m\u001b[0;34m\u001b[0m\u001b[0m\n\u001b[0;32m-> 1757\u001b[0;31m       return self._build_call_outputs(self._inference_function.call(\n\u001b[0m\u001b[1;32m   1758\u001b[0m           ctx, args, cancellation_manager=cancellation_manager))\n\u001b[1;32m   1759\u001b[0m     forward_backward = self._select_forward_and_backward_functions(\n",
            "\u001b[0;32m/usr/local/lib/python3.10/dist-packages/tensorflow/python/eager/polymorphic_function/monomorphic_function.py\u001b[0m in \u001b[0;36mcall\u001b[0;34m(self, ctx, args, cancellation_manager)\u001b[0m\n\u001b[1;32m    379\u001b[0m       \u001b[0;32mwith\u001b[0m \u001b[0m_InterpolateFunctionError\u001b[0m\u001b[0;34m(\u001b[0m\u001b[0mself\u001b[0m\u001b[0;34m)\u001b[0m\u001b[0;34m:\u001b[0m\u001b[0;34m\u001b[0m\u001b[0;34m\u001b[0m\u001b[0m\n\u001b[1;32m    380\u001b[0m         \u001b[0;32mif\u001b[0m \u001b[0mcancellation_manager\u001b[0m \u001b[0;32mis\u001b[0m \u001b[0;32mNone\u001b[0m\u001b[0;34m:\u001b[0m\u001b[0;34m\u001b[0m\u001b[0;34m\u001b[0m\u001b[0m\n\u001b[0;32m--> 381\u001b[0;31m           outputs = execute.execute(\n\u001b[0m\u001b[1;32m    382\u001b[0m               \u001b[0mstr\u001b[0m\u001b[0;34m(\u001b[0m\u001b[0mself\u001b[0m\u001b[0;34m.\u001b[0m\u001b[0msignature\u001b[0m\u001b[0;34m.\u001b[0m\u001b[0mname\u001b[0m\u001b[0;34m)\u001b[0m\u001b[0;34m,\u001b[0m\u001b[0;34m\u001b[0m\u001b[0;34m\u001b[0m\u001b[0m\n\u001b[1;32m    383\u001b[0m               \u001b[0mnum_outputs\u001b[0m\u001b[0;34m=\u001b[0m\u001b[0mself\u001b[0m\u001b[0;34m.\u001b[0m\u001b[0m_num_outputs\u001b[0m\u001b[0;34m,\u001b[0m\u001b[0;34m\u001b[0m\u001b[0;34m\u001b[0m\u001b[0m\n",
            "\u001b[0;32m/usr/local/lib/python3.10/dist-packages/tensorflow/python/eager/execute.py\u001b[0m in \u001b[0;36mquick_execute\u001b[0;34m(op_name, num_outputs, inputs, attrs, ctx, name)\u001b[0m\n\u001b[1;32m     50\u001b[0m   \u001b[0;32mtry\u001b[0m\u001b[0;34m:\u001b[0m\u001b[0;34m\u001b[0m\u001b[0;34m\u001b[0m\u001b[0m\n\u001b[1;32m     51\u001b[0m     \u001b[0mctx\u001b[0m\u001b[0;34m.\u001b[0m\u001b[0mensure_initialized\u001b[0m\u001b[0;34m(\u001b[0m\u001b[0;34m)\u001b[0m\u001b[0;34m\u001b[0m\u001b[0;34m\u001b[0m\u001b[0m\n\u001b[0;32m---> 52\u001b[0;31m     tensors = pywrap_tfe.TFE_Py_Execute(ctx._handle, device_name, op_name,\n\u001b[0m\u001b[1;32m     53\u001b[0m                                         inputs, attrs, num_outputs)\n\u001b[1;32m     54\u001b[0m   \u001b[0;32mexcept\u001b[0m \u001b[0mcore\u001b[0m\u001b[0;34m.\u001b[0m\u001b[0m_NotOkStatusException\u001b[0m \u001b[0;32mas\u001b[0m \u001b[0me\u001b[0m\u001b[0;34m:\u001b[0m\u001b[0;34m\u001b[0m\u001b[0;34m\u001b[0m\u001b[0m\n",
            "\u001b[0;31mKeyboardInterrupt\u001b[0m: "
          ]
        }
      ]
    },
    {
      "cell_type": "markdown",
      "source": [
        "# 最佳閥值與其他衡量模型的精確指標"
      ],
      "metadata": {
        "id": "6T8Xl1C7u8uN"
      }
    },
    {
      "cell_type": "markdown",
      "source": [
        "Model Training, 評估模型性能的指標\n",
        "\n",
        "假設我們有一個二元分類模型，用於預測人們是否患有某種疾病。我們將患有該疾病的情況定義為正例，未患有該疾病的情況定義為負例。在這種情況下，我們可以使用以下術語和示例來解釋:\n",
        "\n",
        "*   True Positives（真正例）：這是指模型正確預測出的正例數量。也就是說，模型將患有該疾病的人預測為正例。\n",
        "例如，模型正確預測了有疾病的 50 人，這些人確實患有該疾病，則這 50 人屬於真正例。\n",
        "*   False Positives（假正例）：這是指模型錯誤地將負例預測為正例的數量。也就是說，模型將未患有該疾病的人預測為正例。\n",
        "例如，模型錯誤地將未患有該疾病的 20 人預測為患病，則這 20 人屬於假正例。\n",
        "\n",
        "*   True Negatives（真負例）：這是指模型正確預測出的負例數量。也就是說，模型將未患有該疾病的人預測為負例。\n",
        "例如，模型正確預測了未患有該疾病的 300 人，這些人確實未患有該疾病，則這 300 人屬於真負例。\n",
        "*   False Negatives（假負例）：這是指模型錯誤地將正例預測為負例的數量。也就是說，模型將患有該疾病的人預測為負例。\n",
        "例如，模型錯誤地將患有該疾病的 30 人預測為未患病，則這 30 人屬於假負例。\n",
        "\n",
        "\n",
        "\n",
        "*   對於某些應用場景，特別是在醫學領域或其他需要高召回率的情況下，Recall（召回率）是一個重要的指標。在這些情況下，我們希望能夠盡可能地檢測出正確的實際正例，即盡可能減少 False Negatives（假負例），以降低遺漏重要信息的風險。(注重FN)\n",
        "*   另一方面，對於某些場景，例如垃圾郵件檢測或金融詐騙檢測等，我們可能更關注 Precision（精確率）。在這些情況下，我們希望減少 False Positives（假正例），即減少將負例錯誤地分類為正例的情況。這可以幫助我們減少虛假報警和不必要的後續處理。(注重FP)\n",
        "\n",
        "\n",
        "\n",
        "*   閥值（threshold）來調整預測結果的類別。預測概率或分數超過閥值的樣本被分類為正例，而低於閥值的樣本則被分類為負例\n",
        "*   ROC 曲線和 AUC：接收者操作特徵曲線（Receiver Operating Characteristic Curve，ROC Curve）是根據不同閥值計算模型的 True Positive Rate（召回率）和 False Positive Rate（假正例率）而繪製的曲線。ROC 曲線下的面積（Area Under the ROC Curve，AUC）是衡量模型整體分類能力的指標，AUC 值越大表示模型在不同閥值下的性能越好。ROC曲線越靠近右上方越好，因此，ROC曲線下的面積越大越好，代表模型的效益越高。\n",
        "\n",
        "\n",
        "\n",
        "\n",
        "\n",
        "\n",
        "\n",
        "\n",
        "\n",
        "\n",
        "\n"
      ],
      "metadata": {
        "id": "nzUBVf6xCt1v"
      }
    },
    {
      "cell_type": "code",
      "source": [
        "from tensorflow.keras.metrics import TruePositives, FalsePositives, TrueNegatives, FalseNegatives, BinaryAccuracy, Precision, Recall, AUC\n",
        "metrics = [TruePositives(name=\"tp\"), FalsePositives(name='fp'), TrueNegatives(name=\"tn\"), FalseNegatives(name='fn'), BinaryAccuracy(name='acc'), Precision(name=\"precision\"), Recall(name='recall'), AUC(name='auc')]\n"
      ],
      "metadata": {
        "id": "d3f6cDYKCt3z"
      },
      "execution_count": 12,
      "outputs": []
    },
    {
      "cell_type": "code",
      "source": [
        "lenet_sub_classed.compile(\n",
        "    optimizer = Adam(learning_rate=0.01),\n",
        "    loss = BinaryCrossentropy(),\n",
        "    metrics = metrics\n",
        ")"
      ],
      "metadata": {
        "id": "-xHrjI_3Ct5p"
      },
      "execution_count": 16,
      "outputs": []
    },
    {
      "cell_type": "code",
      "source": [
        "history = lenet_sub_classed.fit(train_dataset, validation_data=val_dataset, epochs=20, verbose=1)"
      ],
      "metadata": {
        "id": "KIu2ZPxJCt7_",
        "colab": {
          "base_uri": "https://localhost:8080/"
        },
        "outputId": "fd5c83e1-0fef-4b06-e83d-bb9e6891f70b"
      },
      "execution_count": 18,
      "outputs": [
        {
          "output_type": "stream",
          "name": "stdout",
          "text": [
            "Epoch 1/20\n",
            "689/689 [==============================] - 15s 21ms/step - loss: 0.1858 - tp: 10464.0000 - fp: 810.0000 - tn: 10211.0000 - fn: 561.0000 - acc: 0.9378 - precision: 0.9282 - recall: 0.9491 - auc: 0.9749 - val_loss: 0.1779 - val_tp: 1350.0000 - val_fp: 130.0000 - val_tn: 1236.0000 - val_fn: 39.0000 - val_acc: 0.9387 - val_precision: 0.9122 - val_recall: 0.9719 - val_auc: 0.9813\n",
            "Epoch 2/20\n",
            "689/689 [==============================] - 15s 21ms/step - loss: 0.1751 - tp: 10505.0000 - fp: 813.0000 - tn: 10210.0000 - fn: 518.0000 - acc: 0.9396 - precision: 0.9282 - recall: 0.9530 - auc: 0.9772 - val_loss: 0.1609 - val_tp: 1366.0000 - val_fp: 120.0000 - val_tn: 1238.0000 - val_fn: 31.0000 - val_acc: 0.9452 - val_precision: 0.9192 - val_recall: 0.9778 - val_auc: 0.9824\n",
            "Epoch 3/20\n",
            "689/689 [==============================] - 15s 21ms/step - loss: 0.1700 - tp: 10536.0000 - fp: 772.0000 - tn: 10249.0000 - fn: 489.0000 - acc: 0.9428 - precision: 0.9317 - recall: 0.9556 - auc: 0.9783 - val_loss: 0.2314 - val_tp: 1333.0000 - val_fp: 115.0000 - val_tn: 1248.0000 - val_fn: 59.0000 - val_acc: 0.9368 - val_precision: 0.9206 - val_recall: 0.9576 - val_auc: 0.9785\n",
            "Epoch 4/20\n",
            "689/689 [==============================] - 15s 21ms/step - loss: 0.1669 - tp: 10529.0000 - fp: 727.0000 - tn: 10294.0000 - fn: 496.0000 - acc: 0.9445 - precision: 0.9354 - recall: 0.9550 - auc: 0.9785 - val_loss: 0.2890 - val_tp: 1360.0000 - val_fp: 154.0000 - val_tn: 1204.0000 - val_fn: 37.0000 - val_acc: 0.9307 - val_precision: 0.8983 - val_recall: 0.9735 - val_auc: 0.9685\n",
            "Epoch 5/20\n",
            "689/689 [==============================] - 15s 21ms/step - loss: 0.1599 - tp: 10579.0000 - fp: 728.0000 - tn: 10295.0000 - fn: 444.0000 - acc: 0.9468 - precision: 0.9356 - recall: 0.9597 - auc: 0.9806 - val_loss: 0.1705 - val_tp: 1352.0000 - val_fp: 99.0000 - val_tn: 1261.0000 - val_fn: 43.0000 - val_acc: 0.9485 - val_precision: 0.9318 - val_recall: 0.9692 - val_auc: 0.9756\n",
            "Epoch 6/20\n",
            "689/689 [==============================] - 15s 20ms/step - loss: 0.1460 - tp: 10609.0000 - fp: 686.0000 - tn: 10334.0000 - fn: 417.0000 - acc: 0.9500 - precision: 0.9393 - recall: 0.9622 - auc: 0.9833 - val_loss: 0.1951 - val_tp: 1319.0000 - val_fp: 106.0000 - val_tn: 1262.0000 - val_fn: 68.0000 - val_acc: 0.9368 - val_precision: 0.9256 - val_recall: 0.9510 - val_auc: 0.9713\n",
            "Epoch 7/20\n",
            "689/689 [==============================] - 15s 20ms/step - loss: 0.1404 - tp: 10616.0000 - fp: 673.0000 - tn: 10351.0000 - fn: 406.0000 - acc: 0.9511 - precision: 0.9404 - recall: 0.9632 - auc: 0.9851 - val_loss: 0.2715 - val_tp: 1364.0000 - val_fp: 216.0000 - val_tn: 1157.0000 - val_fn: 18.0000 - val_acc: 0.9151 - val_precision: 0.8633 - val_recall: 0.9870 - val_auc: 0.9697\n",
            "Epoch 8/20\n",
            "689/689 [==============================] - 15s 20ms/step - loss: 0.1335 - tp: 10642.0000 - fp: 613.0000 - tn: 10406.0000 - fn: 385.0000 - acc: 0.9547 - precision: 0.9455 - recall: 0.9651 - auc: 0.9863 - val_loss: 0.2751 - val_tp: 1313.0000 - val_fp: 88.0000 - val_tn: 1280.0000 - val_fn: 74.0000 - val_acc: 0.9412 - val_precision: 0.9372 - val_recall: 0.9466 - val_auc: 0.9719\n",
            "Epoch 9/20\n",
            "689/689 [==============================] - 15s 21ms/step - loss: 0.1202 - tp: 10674.0000 - fp: 591.0000 - tn: 10432.0000 - fn: 349.0000 - acc: 0.9574 - precision: 0.9475 - recall: 0.9683 - auc: 0.9892 - val_loss: 0.1998 - val_tp: 1351.0000 - val_fp: 129.0000 - val_tn: 1234.0000 - val_fn: 41.0000 - val_acc: 0.9383 - val_precision: 0.9128 - val_recall: 0.9705 - val_auc: 0.9713\n",
            "Epoch 10/20\n",
            "689/689 [==============================] - 14s 20ms/step - loss: 0.1110 - tp: 10710.0000 - fp: 521.0000 - tn: 10502.0000 - fn: 313.0000 - acc: 0.9622 - precision: 0.9536 - recall: 0.9716 - auc: 0.9905 - val_loss: 0.2744 - val_tp: 1365.0000 - val_fp: 127.0000 - val_tn: 1236.0000 - val_fn: 27.0000 - val_acc: 0.9441 - val_precision: 0.9149 - val_recall: 0.9806 - val_auc: 0.9727\n",
            "Epoch 11/20\n",
            "689/689 [==============================] - 14s 20ms/step - loss: 0.1090 - tp: 10667.0000 - fp: 495.0000 - tn: 10528.0000 - fn: 356.0000 - acc: 0.9614 - precision: 0.9557 - recall: 0.9677 - auc: 0.9914 - val_loss: 0.8800 - val_tp: 1388.0000 - val_fp: 390.0000 - val_tn: 968.0000 - val_fn: 9.0000 - val_acc: 0.8552 - val_precision: 0.7807 - val_recall: 0.9936 - val_auc: 0.9203\n",
            "Epoch 12/20\n",
            "689/689 [==============================] - 15s 20ms/step - loss: 0.1003 - tp: 10725.0000 - fp: 451.0000 - tn: 10569.0000 - fn: 301.0000 - acc: 0.9659 - precision: 0.9596 - recall: 0.9727 - auc: 0.9923 - val_loss: 0.2647 - val_tp: 1221.0000 - val_fp: 87.0000 - val_tn: 1287.0000 - val_fn: 160.0000 - val_acc: 0.9103 - val_precision: 0.9335 - val_recall: 0.8841 - val_auc: 0.9619\n",
            "Epoch 13/20\n",
            "689/689 [==============================] - 15s 20ms/step - loss: 0.0901 - tp: 10754.0000 - fp: 428.0000 - tn: 10593.0000 - fn: 271.0000 - acc: 0.9683 - precision: 0.9617 - recall: 0.9754 - auc: 0.9937 - val_loss: 0.4438 - val_tp: 1347.0000 - val_fp: 136.0000 - val_tn: 1231.0000 - val_fn: 41.0000 - val_acc: 0.9358 - val_precision: 0.9083 - val_recall: 0.9705 - val_auc: 0.9647\n",
            "Epoch 14/20\n",
            "689/689 [==============================] - 15s 21ms/step - loss: 0.0736 - tp: 10801.0000 - fp: 354.0000 - tn: 10667.0000 - fn: 224.0000 - acc: 0.9738 - precision: 0.9683 - recall: 0.9797 - auc: 0.9958 - val_loss: 0.3261 - val_tp: 1342.0000 - val_fp: 108.0000 - val_tn: 1252.0000 - val_fn: 53.0000 - val_acc: 0.9416 - val_precision: 0.9255 - val_recall: 0.9620 - val_auc: 0.9702\n",
            "Epoch 15/20\n",
            "689/689 [==============================] - 15s 20ms/step - loss: 0.0811 - tp: 10775.0000 - fp: 344.0000 - tn: 10679.0000 - fn: 248.0000 - acc: 0.9731 - precision: 0.9691 - recall: 0.9775 - auc: 0.9950 - val_loss: 0.2386 - val_tp: 1340.0000 - val_fp: 137.0000 - val_tn: 1229.0000 - val_fn: 49.0000 - val_acc: 0.9325 - val_precision: 0.9072 - val_recall: 0.9647 - val_auc: 0.9679\n",
            "Epoch 16/20\n",
            "689/689 [==============================] - 15s 21ms/step - loss: 0.0698 - tp: 10823.0000 - fp: 308.0000 - tn: 10713.0000 - fn: 202.0000 - acc: 0.9769 - precision: 0.9723 - recall: 0.9817 - auc: 0.9960 - val_loss: 0.3078 - val_tp: 1353.0000 - val_fp: 101.0000 - val_tn: 1259.0000 - val_fn: 42.0000 - val_acc: 0.9481 - val_precision: 0.9305 - val_recall: 0.9699 - val_auc: 0.9691\n",
            "Epoch 17/20\n",
            "689/689 [==============================] - 15s 20ms/step - loss: 0.0908 - tp: 10755.0000 - fp: 411.0000 - tn: 10612.0000 - fn: 268.0000 - acc: 0.9692 - precision: 0.9632 - recall: 0.9757 - auc: 0.9935 - val_loss: 0.6400 - val_tp: 635.0000 - val_fp: 65.0000 - val_tn: 1298.0000 - val_fn: 757.0000 - val_acc: 0.7016 - val_precision: 0.9071 - val_recall: 0.4562 - val_auc: 0.9295\n",
            "Epoch 18/20\n",
            "689/689 [==============================] - 15s 20ms/step - loss: 0.0676 - tp: 10784.0000 - fp: 301.0000 - tn: 10723.0000 - fn: 238.0000 - acc: 0.9756 - precision: 0.9728 - recall: 0.9784 - auc: 0.9963 - val_loss: 0.5780 - val_tp: 1313.0000 - val_fp: 93.0000 - val_tn: 1267.0000 - val_fn: 82.0000 - val_acc: 0.9365 - val_precision: 0.9339 - val_recall: 0.9412 - val_auc: 0.9666\n",
            "Epoch 19/20\n",
            "689/689 [==============================] - 15s 20ms/step - loss: 0.0607 - tp: 10813.0000 - fp: 247.0000 - tn: 10774.0000 - fn: 212.0000 - acc: 0.9792 - precision: 0.9777 - recall: 0.9808 - auc: 0.9970 - val_loss: 0.3829 - val_tp: 1344.0000 - val_fp: 111.0000 - val_tn: 1252.0000 - val_fn: 48.0000 - val_acc: 0.9423 - val_precision: 0.9237 - val_recall: 0.9655 - val_auc: 0.9687\n",
            "Epoch 20/20\n",
            "689/689 [==============================] - 15s 20ms/step - loss: 0.1095 - tp: 10687.0000 - fp: 493.0000 - tn: 10530.0000 - fn: 336.0000 - acc: 0.9624 - precision: 0.9559 - recall: 0.9695 - auc: 0.9918 - val_loss: 0.2911 - val_tp: 1361.0000 - val_fp: 134.0000 - val_tn: 1233.0000 - val_fn: 27.0000 - val_acc: 0.9416 - val_precision: 0.9104 - val_recall: 0.9805 - val_auc: 0.9683\n"
          ]
        }
      ]
    },
    {
      "cell_type": "code",
      "source": [
        "lenet_sub_classed.evaluate(train_dataset)"
      ],
      "metadata": {
        "id": "5yuU82iaCt-I",
        "colab": {
          "base_uri": "https://localhost:8080/"
        },
        "outputId": "4f587e0b-a229-45f9-9f1e-15f56d1cb6b4"
      },
      "execution_count": 23,
      "outputs": [
        {
          "output_type": "stream",
          "name": "stdout",
          "text": [
            "689/689 [==============================] - 7s 10ms/step - loss: 0.0528 - tp: 10996.0000 - fp: 433.0000 - tn: 10590.0000 - fn: 27.0000 - acc: 0.9791 - precision: 0.9621 - recall: 0.9976 - auc: 0.9989\n"
          ]
        },
        {
          "output_type": "execute_result",
          "data": {
            "text/plain": [
              "[0.0527912974357605,\n",
              " 10996.0,\n",
              " 433.0,\n",
              " 10590.0,\n",
              " 27.0,\n",
              " 0.9791345596313477,\n",
              " 0.9621139168739319,\n",
              " 0.9975505471229553,\n",
              " 0.9989179372787476]"
            ]
          },
          "metadata": {},
          "execution_count": 23
        }
      ]
    },
    {
      "cell_type": "markdown",
      "source": [
        "將剛剛的數據繪圖"
      ],
      "metadata": {
        "id": "nbKM6vGhCuBz"
      }
    },
    {
      "cell_type": "code",
      "source": [
        "import seaborn as sns\n",
        "import sklearn\n",
        "from sklearn.metrics import confusion_matrix"
      ],
      "metadata": {
        "id": "b2bgIbwSCuD6"
      },
      "execution_count": 24,
      "outputs": []
    },
    {
      "cell_type": "code",
      "source": [
        "labels = []\n",
        "inp = []\n",
        "for x, y in test_dataset.as_numpy_iterator():\n",
        "  labels.append(y)\n",
        "  inp.append(x)"
      ],
      "metadata": {
        "id": "5XFp_2GJCuF9"
      },
      "execution_count": 25,
      "outputs": []
    },
    {
      "cell_type": "code",
      "source": [
        "# 將labels中的數據做處理, 變成可用的數據\n",
        "labels = np.array([i for i in labels])\n",
        "print(labels)"
      ],
      "metadata": {
        "colab": {
          "base_uri": "https://localhost:8080/"
        },
        "id": "8sctwnHpp7kr",
        "outputId": "39edc083-049a-4792-8adf-0ef81a072a43"
      },
      "execution_count": 26,
      "outputs": [
        {
          "output_type": "stream",
          "name": "stdout",
          "text": [
            "[1 1 1 ... 1 1 0]\n"
          ]
        }
      ]
    },
    {
      "cell_type": "code",
      "source": [
        "print(np.array(inp).shape)"
      ],
      "metadata": {
        "colab": {
          "base_uri": "https://localhost:8080/"
        },
        "id": "224nB07_p7iy",
        "outputId": "1f254c4c-b197-4585-a272-54fc22d49ec3"
      },
      "execution_count": 27,
      "outputs": [
        {
          "output_type": "stream",
          "name": "stdout",
          "text": [
            "(2757, 224, 224, 3)\n"
          ]
        }
      ]
    },
    {
      "cell_type": "markdown",
      "source": [
        "print(predicted.shape)可以發現是(2757, 1), 表示有2757筆資料, 然後有1個column, 就是預測的值, 現在要拿這個值跟labels的答案labels比對"
      ],
      "metadata": {
        "id": "RBKFw_rch_SU"
      }
    },
    {
      "cell_type": "code",
      "source": [
        "predicted = lenet_sub_classed.predict(np.array(inp))\n",
        "print(predicted[:,0])\n",
        "print(predicted.shape)"
      ],
      "metadata": {
        "colab": {
          "base_uri": "https://localhost:8080/"
        },
        "id": "MshwJXTXp7mx",
        "outputId": "52e73cda-8dd3-409a-c04d-93560d81937e"
      },
      "execution_count": 28,
      "outputs": [
        {
          "output_type": "stream",
          "name": "stdout",
          "text": [
            "87/87 [==============================] - 1s 8ms/step\n",
            "[9.7702026e-01 9.9999428e-01 9.9999440e-01 ... 9.9561751e-01 9.9964499e-01\n",
            " 2.1341879e-05]\n",
            "(2757, 1)\n"
          ]
        }
      ]
    },
    {
      "cell_type": "markdown",
      "source": [
        "閥值"
      ],
      "metadata": {
        "id": "WF2Azwgcp7ow"
      }
    },
    {
      "cell_type": "code",
      "source": [
        "threshold = 0.915\n",
        "cm = confusion_matrix(labels, predicted > threshold)\n",
        "print(cm)"
      ],
      "metadata": {
        "colab": {
          "base_uri": "https://localhost:8080/"
        },
        "id": "uaxWR2lOp7q5",
        "outputId": "01532fdd-5418-40ef-8fdb-d3954c5d9a85"
      },
      "execution_count": 34,
      "outputs": [
        {
          "output_type": "stream",
          "name": "stdout",
          "text": [
            "[[1299   94]\n",
            " [ 110 1254]]\n"
          ]
        }
      ]
    },
    {
      "cell_type": "code",
      "source": [
        "plt.figure(figsize=(8,8))\n",
        "sns.heatmap(cm, annot=True)\n",
        "plt.title(\"confusion matrix - {}\".format((threshold)))\n",
        "plt.ylabel(\"Actual\")\n",
        "plt.xlabel(\"Predicted\")"
      ],
      "metadata": {
        "colab": {
          "base_uri": "https://localhost:8080/",
          "height": 735
        },
        "id": "qulY-DWmp7su",
        "outputId": "f7b3eda6-2960-4e66-a303-35e75d7e3185"
      },
      "execution_count": 30,
      "outputs": [
        {
          "output_type": "execute_result",
          "data": {
            "text/plain": [
              "Text(0.5, 58.7222222222222, 'Predicted')"
            ]
          },
          "metadata": {},
          "execution_count": 30
        },
        {
          "output_type": "display_data",
          "data": {
            "text/plain": [
              "<Figure size 800x800 with 2 Axes>"
            ],
            "image/png": "[encoded data removed]"
          },
          "metadata": {}
        }
      ]
    },
    {
      "cell_type": "markdown",
      "source": [
        "製作ROC曲線"
      ],
      "metadata": {
        "id": "MCXRC59wp7u2"
      }
    },
    {
      "cell_type": "code",
      "source": [
        "from sklearn.metrics import roc_curve"
      ],
      "metadata": {
        "id": "19yQ0eH6p7w5"
      },
      "execution_count": 35,
      "outputs": []
    },
    {
      "cell_type": "code",
      "source": [
        "fp, tp, thresholds = roc_curve(labels, predicted)\n",
        "plt.figure(figsize=(16, 15))\n",
        "plt.plot(fp, tp)\n",
        "plt.xlabel(\"False Positive rate\")\n",
        "plt.ylabel(\"True Positive rate\")\n",
        "\n",
        "plt.grid()\n",
        "\n",
        "skip = 20\n",
        "for i in range(0, len(thresholds), skip):\n",
        "  plt.text(fp[i], tp[i], thresholds[i])\n",
        "\n",
        "plt.show()"
      ],
      "metadata": {
        "colab": {
          "base_uri": "https://localhost:8080/",
          "height": 1000
        },
        "id": "PQ5-x-a3p71P",
        "outputId": "efea076f-235d-4dd3-bc11-d29f38a35cc2"
      },
      "execution_count": 32,
      "outputs": [
        {
          "output_type": "display_data",
          "data": {
            "text/plain": [
              "<Figure size 1600x1500 with 1 Axes>"
            ],
            "image/png": "[encoded data removed]"
          },
          "metadata": {}
        }
      ]
    },
    {
      "cell_type": "markdown",
      "source": [
        "# Callbacks"
      ],
      "metadata": {
        "id": "DNsACE5Hp729"
      }
    },
    {
      "cell_type": "markdown",
      "source": [
        "\n",
        "\n",
        "\n",
        "\n",
        "\n",
        "\n",
        "\n",
        "\n",
        "\n",
        "\n",
        "\n",
        "\n",
        "*   Callbacks 在深度學習中是用於在訓練過程中執行特定操作的工具。它們可以在每個訓練批次或每個訓練週期之後觸發某些動作，例如記錄訓練指標、保存模型、動態調整學習率等。\n",
        "*   使用 Callbacks 可以在訓練過程中監控模型的性能並根據需要進行操作。常見的 Callbacks 包括：\n",
        "\n",
        "1.   ModelCheckpoint：在每個訓練週期結束時保存模型的檢查點。\n",
        "2.   TensorBoard：將訓練過程中的指標和可視化結果記錄到 TensorBoard 中，用於後續分析和可視化。\n",
        "\n",
        "1.   EarlyStopping：當模型在訓練過程中不再改善時，提前結束訓練。\n",
        "2.   LearningRateScheduler：動態調整學習率，根據訓練過程中的指標變化來調整學習率。\n",
        "\n",
        "1.   ReduceLROnPlateau：當指標停止改善時，降低學習率。\n",
        "\n",
        "\n",
        "\n",
        "\n",
        "\n",
        "\n",
        "\n",
        "\n",
        "\n"
      ],
      "metadata": {
        "id": "yw0aLpiiw00G"
      }
    },
    {
      "cell_type": "code",
      "source": [
        "from keras import callbacks\n",
        "from tensorflow.keras.callbacks import Callback, CSVLogger, EarlyStopping"
      ],
      "metadata": {
        "id": "VTiZr5hErOQX"
      },
      "execution_count": 49,
      "outputs": []
    },
    {
      "cell_type": "markdown",
      "source": [
        "在 on_epoch_end 方法中，它使用 logs 參數來獲取當前訓練週期的訓練指標，並透過 logs[\"loss\"] 獲取損失值。然後，它使用 format 函數將訓練週期和損失值結合起來輸出。這樣可以在每個訓練週期結束時得到該週期的損失值並進行打印，以便在訓練過程中監控模型的訓練進度。\n",
        "\n"
      ],
      "metadata": {
        "id": "uoNTuMmR-9_C"
      }
    },
    {
      "cell_type": "code",
      "source": [
        "class LossCallBack(Callback):\n",
        "  def on_epoch_end(self, epoch, logs):\n",
        "    print(\"\\n Epoch Number {} the model has a loss of {}\".format(epoch+1, logs[\"loss\"]))\n",
        "\n",
        "  def on_batch_end(self, batch, logs):\n",
        "    print(\"\\n Batch Number {} the model has a lot of {}\".format(batch+1, logs))\n",
        ""
      ],
      "metadata": {
        "id": "PjRcqD-S-cbb"
      },
      "execution_count": 42,
      "outputs": []
    },
    {
      "cell_type": "code",
      "source": [
        "history = lenet_sub_classed.fit(train_dataset, validation_data=val_dataset, epochs=1, verbose=1, callbacks=[LossCallBack()])"
      ],
      "metadata": {
        "colab": {
          "base_uri": "https://localhost:8080/"
        },
        "id": "sF54b2SgrOS1",
        "outputId": "62049070-b919-4d7d-a7a5-2ad24b273bfa"
      },
      "execution_count": 43,
      "outputs": [
        {
          "output_type": "stream",
          "name": "stdout",
          "text": [
            "\n",
            " Batch Number 1 the model has a lot of {'loss': 0.015032466500997543, 'tp': 18.0, 'fp': 0.0, 'tn': 14.0, 'fn': 0.0, 'acc': 1.0, 'precision': 1.0, 'recall': 1.0, 'auc': 1.0}\n",
            "  1/689 [..............................] - ETA: 7:41 - loss: 0.0150 - tp: 18.0000 - fp: 0.0000e+00 - tn: 14.0000 - fn: 0.0000e+00 - acc: 1.0000 - precision: 1.0000 - recall: 1.0000 - auc: 1.0000\n",
            " Batch Number 2 the model has a lot of {'loss': 0.012982102110981941, 'tp': 31.0, 'fp': 0.0, 'tn': 33.0, 'fn': 0.0, 'acc': 1.0, 'precision': 1.0, 'recall': 1.0, 'auc': 1.0}\n",
            "\n",
            " Batch Number 3 the model has a lot of {'loss': 0.02613569237291813, 'tp': 44.0, 'fp': 1.0, 'tn': 51.0, 'fn': 0.0, 'acc': 0.9895833134651184, 'precision': 0.9777777791023254, 'recall': 1.0, 'auc': 0.9999999403953552}\n",
            "\n",
            " Batch Number 4 the model has a lot of {'loss': 0.021315479651093483, 'tp': 59.0, 'fp': 1.0, 'tn': 68.0, 'fn': 0.0, 'acc': 0.9921875, 'precision': 0.9833333492279053, 'recall': 1.0, 'auc': 0.9999999403953552}\n",
            "  4/689 [..............................] - ETA: 12s - loss: 0.0213 - tp: 59.0000 - fp: 1.0000 - tn: 68.0000 - fn: 0.0000e+00 - acc: 0.9922 - precision: 0.9833 - recall: 1.0000 - auc: 1.0000     \n",
            " Batch Number 5 the model has a lot of {'loss': 0.0193034615367651, 'tp': 75.0, 'fp': 1.0, 'tn': 84.0, 'fn': 0.0, 'acc': 0.9937499761581421, 'precision': 0.9868420958518982, 'recall': 1.0, 'auc': 1.0}\n",
            "\n",
            " Batch Number 6 the model has a lot of {'loss': 0.023676065728068352, 'tp': 89.0, 'fp': 1.0, 'tn': 101.0, 'fn': 1.0, 'acc': 0.9895833134651184, 'precision': 0.9888888597488403, 'recall': 0.9888888597488403, 'auc': 0.9998911619186401}\n",
            "\n",
            " Batch Number 7 the model has a lot of {'loss': 0.02671065367758274, 'tp': 105.0, 'fp': 1.0, 'tn': 116.0, 'fn': 2.0, 'acc': 0.9866071343421936, 'precision': 0.9905660152435303, 'recall': 0.9813084006309509, 'auc': 0.9997603893280029}\n",
            "  7/689 [..............................] - ETA: 12s - loss: 0.0267 - tp: 105.0000 - fp: 1.0000 - tn: 116.0000 - fn: 2.0000 - acc: 0.9866 - precision: 0.9906 - recall: 0.9813 - auc: 0.9998  \n",
            " Batch Number 8 the model has a lot of {'loss': 0.02406861074268818, 'tp': 120.0, 'fp': 1.0, 'tn': 133.0, 'fn': 2.0, 'acc': 0.98828125, 'precision': 0.9917355179786682, 'recall': 0.9836065769195557, 'auc': 0.9998164772987366}\n",
            "\n",
            " Batch Number 9 the model has a lot of {'loss': 0.030191712081432343, 'tp': 133.0, 'fp': 2.0, 'tn': 151.0, 'fn': 2.0, 'acc': 0.9861111044883728, 'precision': 0.9851852059364319, 'recall': 0.9851852059364319, 'auc': 0.9994674324989319}\n",
            "\n",
            " Batch Number 10 the model has a lot of {'loss': 0.027622586116194725, 'tp': 151.0, 'fp': 2.0, 'tn': 165.0, 'fn': 2.0, 'acc': 0.987500011920929, 'precision': 0.9869281053543091, 'recall': 0.9869281053543091, 'auc': 0.9995695352554321}\n",
            " 10/689 [..............................] - ETA: 12s - loss: 0.0276 - tp: 151.0000 - fp: 2.0000 - tn: 165.0000 - fn: 2.0000 - acc: 0.9875 - precision: 0.9869 - recall: 0.9869 - auc: 0.9996\n",
            " Batch Number 11 the model has a lot of {'loss': 0.02740313857793808, 'tp': 162.0, 'fp': 2.0, 'tn': 186.0, 'fn': 2.0, 'acc': 0.9886363744735718, 'precision': 0.9878048896789551, 'recall': 0.9878048896789551, 'auc': 0.9996432662010193}\n",
            "\n",
            " Batch Number 12 the model has a lot of {'loss': 0.02601575292646885, 'tp': 179.0, 'fp': 2.0, 'tn': 201.0, 'fn': 2.0, 'acc': 0.9895833134651184, 'precision': 0.988950252532959, 'recall': 0.988950252532959, 'auc': 0.9996598362922668}\n",
            "\n",
            " Batch Number 13 the model has a lot of {'loss': 0.027624031528830528, 'tp': 191.0, 'fp': 3.0, 'tn': 220.0, 'fn': 2.0, 'acc': 0.9879807829856873, 'precision': 0.9845361113548279, 'recall': 0.9896373152732849, 'auc': 0.9996631145477295}\n",
            " 13/689 [..............................] - ETA: 12s - loss: 0.0276 - tp: 191.0000 - fp: 3.0000 - tn: 220.0000 - fn: 2.0000 - acc: 0.9880 - precision: 0.9845 - recall: 0.9896 - auc: 0.9997\n",
            " Batch Number 14 the model has a lot of {'loss': 0.029248250648379326, 'tp': 205.0, 'fp': 4.0, 'tn': 237.0, 'fn': 2.0, 'acc': 0.9866071343421936, 'precision': 0.980861246585846, 'recall': 0.990338146686554, 'auc': 0.9996291995048523}\n",
            "\n",
            " Batch Number 15 the model has a lot of {'loss': 0.03524806350469589, 'tp': 226.0, 'fp': 4.0, 'tn': 246.0, 'fn': 4.0, 'acc': 0.9833333492279053, 'precision': 0.9826086759567261, 'recall': 0.9826086759567261, 'auc': 0.9993826150894165}\n",
            "\n",
            " Batch Number 16 the model has a lot of {'loss': 0.06254163384437561, 'tp': 245.0, 'fp': 4.0, 'tn': 251.0, 'fn': 12.0, 'acc': 0.96875, 'precision': 0.9839357137680054, 'recall': 0.9533073902130127, 'auc': 0.99798583984375}\n",
            " 16/689 [..............................] - ETA: 12s - loss: 0.0625 - tp: 245.0000 - fp: 4.0000 - tn: 251.0000 - fn: 12.0000 - acc: 0.9688 - precision: 0.9839 - recall: 0.9533 - auc: 0.9980\n",
            " Batch Number 17 the model has a lot of {'loss': 0.06761351972818375, 'tp': 263.0, 'fp': 4.0, 'tn': 263.0, 'fn': 14.0, 'acc': 0.966911792755127, 'precision': 0.9850187301635742, 'recall': 0.9494584798812866, 'auc': 0.9977690577507019}\n",
            "\n",
            " Batch Number 18 the model has a lot of {'loss': 0.06405118107795715, 'tp': 280.0, 'fp': 4.0, 'tn': 278.0, 'fn': 14.0, 'acc': 0.96875, 'precision': 0.98591548204422, 'recall': 0.9523809552192688, 'auc': 0.9980098605155945}\n",
            "\n",
            " Batch Number 19 the model has a lot of {'loss': 0.06127287819981575, 'tp': 294.0, 'fp': 4.0, 'tn': 296.0, 'fn': 14.0, 'acc': 0.9703947305679321, 'precision': 0.9865771532058716, 'recall': 0.9545454382896423, 'auc': 0.9981818795204163}\n",
            " 19/689 [..............................] - ETA: 12s - loss: 0.0613 - tp: 294.0000 - fp: 4.0000 - tn: 296.0000 - fn: 14.0000 - acc: 0.9704 - precision: 0.9866 - recall: 0.9545 - auc: 0.9982\n",
            " Batch Number 20 the model has a lot of {'loss': 0.058608461171388626, 'tp': 312.0, 'fp': 4.0, 'tn': 310.0, 'fn': 14.0, 'acc': 0.971875011920929, 'precision': 0.9873417615890503, 'recall': 0.9570552110671997, 'auc': 0.9983490109443665}\n",
            "\n",
            " Batch Number 21 the model has a lot of {'loss': 0.05615267902612686, 'tp': 326.0, 'fp': 4.0, 'tn': 328.0, 'fn': 14.0, 'acc': 0.9732142686843872, 'precision': 0.9878787994384766, 'recall': 0.9588235020637512, 'auc': 0.9984716773033142}\n",
            "\n",
            " Batch Number 22 the model has a lot of {'loss': 0.05613165721297264, 'tp': 346.0, 'fp': 4.0, 'tn': 340.0, 'fn': 14.0, 'acc': 0.9744318127632141, 'precision': 0.9885714054107666, 'recall': 0.9611111283302307, 'auc': 0.998554527759552}\n",
            " 22/689 [..............................] - ETA: 11s - loss: 0.0561 - tp: 346.0000 - fp: 4.0000 - tn: 340.0000 - fn: 14.0000 - acc: 0.9744 - precision: 0.9886 - recall: 0.9611 - auc: 0.9986\n",
            " Batch Number 23 the model has a lot of {'loss': 0.05456695705652237, 'tp': 364.0, 'fp': 4.0, 'tn': 354.0, 'fn': 14.0, 'acc': 0.9755434989929199, 'precision': 0.989130437374115, 'recall': 0.9629629850387573, 'auc': 0.9986478090286255}\n",
            "\n",
            " Batch Number 24 the model has a lot of {'loss': 0.054338615387678146, 'tp': 383.0, 'fp': 4.0, 'tn': 366.0, 'fn': 15.0, 'acc': 0.9752604365348816, 'precision': 0.9896640777587891, 'recall': 0.9623115658760071, 'auc': 0.9987097382545471}\n",
            "\n",
            " Batch Number 25 the model has a lot of {'loss': 0.05282086879014969, 'tp': 404.0, 'fp': 4.0, 'tn': 377.0, 'fn': 15.0, 'acc': 0.9762499928474426, 'precision': 0.9901960492134094, 'recall': 0.964200496673584, 'auc': 0.9988034963607788}\n",
            " 25/689 [>.............................] - ETA: 11s - loss: 0.0528 - tp: 404.0000 - fp: 4.0000 - tn: 377.0000 - fn: 15.0000 - acc: 0.9762 - precision: 0.9902 - recall: 0.9642 - auc: 0.9988\n",
            " Batch Number 26 the model has a lot of {'loss': 0.05224500223994255, 'tp': 416.0, 'fp': 4.0, 'tn': 397.0, 'fn': 15.0, 'acc': 0.9771634340286255, 'precision': 0.9904761910438538, 'recall': 0.9651972055435181, 'auc': 0.9987472891807556}\n",
            "\n",
            " Batch Number 27 the model has a lot of {'loss': 0.05082031711935997, 'tp': 436.0, 'fp': 4.0, 'tn': 409.0, 'fn': 15.0, 'acc': 0.9780092835426331, 'precision': 0.9909090995788574, 'recall': 0.9667405486106873, 'auc': 0.9988269209861755}\n",
            "\n",
            " Batch Number 28 the model has a lot of {'loss': 0.04917028546333313, 'tp': 454.0, 'fp': 4.0, 'tn': 423.0, 'fn': 15.0, 'acc': 0.9787946343421936, 'precision': 0.9912663698196411, 'recall': 0.968017041683197, 'auc': 0.9989089965820312}\n",
            " 28/689 [>.............................] - ETA: 11s - loss: 0.0492 - tp: 454.0000 - fp: 4.0000 - tn: 423.0000 - fn: 15.0000 - acc: 0.9788 - precision: 0.9913 - recall: 0.9680 - auc: 0.9989\n",
            " Batch Number 29 the model has a lot of {'loss': 0.04758452624082565, 'tp': 471.0, 'fp': 4.0, 'tn': 438.0, 'fn': 15.0, 'acc': 0.9795258641242981, 'precision': 0.9915789365768433, 'recall': 0.9691358208656311, 'auc': 0.9989758133888245}\n",
            "\n",
            " Batch Number 30 the model has a lot of {'loss': 0.046552274376153946, 'tp': 492.0, 'fp': 4.0, 'tn': 449.0, 'fn': 15.0, 'acc': 0.9802083373069763, 'precision': 0.9919354915618896, 'recall': 0.9704142212867737, 'auc': 0.9990247488021851}\n",
            "\n",
            " Batch Number 31 the model has a lot of {'loss': 0.04530651494860649, 'tp': 510.0, 'fp': 4.0, 'tn': 463.0, 'fn': 15.0, 'acc': 0.9808467626571655, 'precision': 0.9922178983688354, 'recall': 0.9714285731315613, 'auc': 0.9990659952163696}\n",
            " 31/689 [>.............................] - ETA: 11s - loss: 0.0453 - tp: 510.0000 - fp: 4.0000 - tn: 463.0000 - fn: 15.0000 - acc: 0.9808 - precision: 0.9922 - recall: 0.9714 - auc: 0.9991\n",
            " Batch Number 32 the model has a lot of {'loss': 0.046623632311820984, 'tp': 525.0, 'fp': 5.0, 'tn': 479.0, 'fn': 15.0, 'acc': 0.98046875, 'precision': 0.9905660152435303, 'recall': 0.9722222089767456, 'auc': 0.998909592628479}\n",
            "\n",
            " Batch Number 33 the model has a lot of {'loss': 0.04536952078342438, 'tp': 544.0, 'fp': 5.0, 'tn': 492.0, 'fn': 15.0, 'acc': 0.9810606241226196, 'precision': 0.9908925294876099, 'recall': 0.9731663465499878, 'auc': 0.9989687204360962}\n",
            "\n",
            " Batch Number 34 the model has a lot of {'loss': 0.044781964272260666, 'tp': 562.0, 'fp': 5.0, 'tn': 506.0, 'fn': 15.0, 'acc': 0.9816176295280457, 'precision': 0.9911816716194153, 'recall': 0.9740034937858582, 'auc': 0.9989909529685974}\n",
            " 34/689 [>.............................] - ETA: 11s - loss: 0.0448 - tp: 562.0000 - fp: 5.0000 - tn: 506.0000 - fn: 15.0000 - acc: 0.9816 - precision: 0.9912 - recall: 0.9740 - auc: 0.9990\n",
            " Batch Number 35 the model has a lot of {'loss': 0.043840281665325165, 'tp': 583.0, 'fp': 5.0, 'tn': 517.0, 'fn': 15.0, 'acc': 0.9821428656578064, 'precision': 0.9914966225624084, 'recall': 0.974916398525238, 'auc': 0.9990405440330505}\n",
            "\n",
            " Batch Number 36 the model has a lot of {'loss': 0.04290580004453659, 'tp': 601.0, 'fp': 5.0, 'tn': 531.0, 'fn': 15.0, 'acc': 0.9826388955116272, 'precision': 0.9917491674423218, 'recall': 0.975649356842041, 'auc': 0.9990852475166321}\n",
            "\n",
            " Batch Number 37 the model has a lot of {'loss': 0.04216564819216728, 'tp': 616.0, 'fp': 5.0, 'tn': 548.0, 'fn': 15.0, 'acc': 0.9831081032752991, 'precision': 0.9919484853744507, 'recall': 0.9762282371520996, 'auc': 0.9991086721420288}\n",
            " 37/689 [>.............................] - ETA: 11s - loss: 0.0422 - tp: 616.0000 - fp: 5.0000 - tn: 548.0000 - fn: 15.0000 - acc: 0.9831 - precision: 0.9919 - recall: 0.9762 - auc: 0.9991\n",
            " Batch Number 38 the model has a lot of {'loss': 0.0413421094417572, 'tp': 634.0, 'fp': 5.0, 'tn': 562.0, 'fn': 15.0, 'acc': 0.9835526347160339, 'precision': 0.992175281047821, 'recall': 0.9768875241279602, 'auc': 0.9991304278373718}\n",
            "\n",
            " Batch Number 39 the model has a lot of {'loss': 0.040697257965803146, 'tp': 649.0, 'fp': 5.0, 'tn': 579.0, 'fn': 15.0, 'acc': 0.9839743375778198, 'precision': 0.9923547506332397, 'recall': 0.9774096608161926, 'auc': 0.9991438388824463}\n",
            "\n",
            " Batch Number 40 the model has a lot of {'loss': 0.03981586918234825, 'tp': 666.0, 'fp': 5.0, 'tn': 594.0, 'fn': 15.0, 'acc': 0.984375, 'precision': 0.992548406124115, 'recall': 0.9779735803604126, 'auc': 0.9991776347160339}\n",
            " 40/689 [>.............................] - ETA: 11s - loss: 0.0398 - tp: 666.0000 - fp: 5.0000 - tn: 594.0000 - fn: 15.0000 - acc: 0.9844 - precision: 0.9925 - recall: 0.9780 - auc: 0.9992\n",
            " Batch Number 41 the model has a lot of {'loss': 0.03900767117738724, 'tp': 681.0, 'fp': 5.0, 'tn': 611.0, 'fn': 15.0, 'acc': 0.9847561120986938, 'precision': 0.9927113652229309, 'recall': 0.9784482717514038, 'auc': 0.9992058873176575}\n",
            "\n",
            " Batch Number 42 the model has a lot of {'loss': 0.03860047459602356, 'tp': 701.0, 'fp': 5.0, 'tn': 623.0, 'fn': 15.0, 'acc': 0.9851190447807312, 'precision': 0.9929178357124329, 'recall': 0.9790502786636353, 'auc': 0.9992204904556274}\n",
            "\n",
            " Batch Number 43 the model has a lot of {'loss': 0.03776612877845764, 'tp': 716.0, 'fp': 5.0, 'tn': 640.0, 'fn': 15.0, 'acc': 0.9854651093482971, 'precision': 0.9930651783943176, 'recall': 0.9794801473617554, 'auc': 0.9992512464523315}\n",
            " 43/689 [>.............................] - ETA: 11s - loss: 0.0378 - tp: 716.0000 - fp: 5.0000 - tn: 640.0000 - fn: 15.0000 - acc: 0.9855 - precision: 0.9931 - recall: 0.9795 - auc: 0.9993\n",
            " Batch Number 44 the model has a lot of {'loss': 0.03698990121483803, 'tp': 733.0, 'fp': 5.0, 'tn': 655.0, 'fn': 15.0, 'acc': 0.9857954382896423, 'precision': 0.9932249188423157, 'recall': 0.9799465537071228, 'auc': 0.9992789030075073}\n",
            "\n",
            " Batch Number 45 the model has a lot of {'loss': 0.036277323961257935, 'tp': 751.0, 'fp': 5.0, 'tn': 669.0, 'fn': 15.0, 'acc': 0.9861111044883728, 'precision': 0.9933862686157227, 'recall': 0.9804177284240723, 'auc': 0.9993104338645935}\n",
            "\n",
            " Batch Number 46 the model has a lot of {'loss': 0.036054398864507675, 'tp': 766.0, 'fp': 5.0, 'tn': 685.0, 'fn': 16.0, 'acc': 0.985733687877655, 'precision': 0.993514895439148, 'recall': 0.9795396327972412, 'auc': 0.9993281960487366}\n",
            " 46/689 [=>............................] - ETA: 11s - loss: 0.0361 - tp: 766.0000 - fp: 5.0000 - tn: 685.0000 - fn: 16.0000 - acc: 0.9857 - precision: 0.9935 - recall: 0.9795 - auc: 0.9993\n",
            " Batch Number 47 the model has a lot of {'loss': 0.03537735715508461, 'tp': 781.0, 'fp': 5.0, 'tn': 702.0, 'fn': 16.0, 'acc': 0.9860372543334961, 'precision': 0.9936386942863464, 'recall': 0.979924738407135, 'auc': 0.9993478059768677}\n",
            "\n",
            " Batch Number 48 the model has a lot of {'loss': 0.03645215928554535, 'tp': 800.0, 'fp': 5.0, 'tn': 714.0, 'fn': 17.0, 'acc': 0.9856770634651184, 'precision': 0.9937888383865356, 'recall': 0.9791921377182007, 'auc': 0.9993224740028381}\n",
            "\n",
            " Batch Number 49 the model has a lot of {'loss': 0.03580961748957634, 'tp': 819.0, 'fp': 5.0, 'tn': 727.0, 'fn': 17.0, 'acc': 0.9859693646430969, 'precision': 0.9939320683479309, 'recall': 0.9796651005744934, 'auc': 0.9993487596511841}\n",
            " 49/689 [=>............................] - ETA: 11s - loss: 0.0358 - tp: 819.0000 - fp: 5.0000 - tn: 727.0000 - fn: 17.0000 - acc: 0.9860 - precision: 0.9939 - recall: 0.9797 - auc: 0.9993\n",
            " Batch Number 50 the model has a lot of {'loss': 0.03513570874929428, 'tp': 831.0, 'fp': 5.0, 'tn': 747.0, 'fn': 17.0, 'acc': 0.9862499833106995, 'precision': 0.9940191507339478, 'recall': 0.9799528121948242, 'auc': 0.9993752241134644}\n",
            "\n",
            " Batch Number 51 the model has a lot of {'loss': 0.03453265503048897, 'tp': 849.0, 'fp': 5.0, 'tn': 761.0, 'fn': 17.0, 'acc': 0.9865196347236633, 'precision': 0.9941452145576477, 'recall': 0.980369508266449, 'auc': 0.9993992447853088}\n",
            "\n",
            " Batch Number 52 the model has a lot of {'loss': 0.033976033329963684, 'tp': 866.0, 'fp': 5.0, 'tn': 776.0, 'fn': 17.0, 'acc': 0.9867788553237915, 'precision': 0.9942594766616821, 'recall': 0.9807474613189697, 'auc': 0.9994134306907654}\n",
            " 52/689 [=>............................] - ETA: 11s - loss: 0.0340 - tp: 866.0000 - fp: 5.0000 - tn: 776.0000 - fn: 17.0000 - acc: 0.9868 - precision: 0.9943 - recall: 0.9807 - auc: 0.9994\n",
            " Batch Number 53 the model has a lot of {'loss': 0.03356791287660599, 'tp': 884.0, 'fp': 5.0, 'tn': 790.0, 'fn': 17.0, 'acc': 0.9870283007621765, 'precision': 0.9943757057189941, 'recall': 0.9811320900917053, 'auc': 0.9994324445724487}\n",
            "\n",
            " Batch Number 54 the model has a lot of {'loss': 0.032975491136312485, 'tp': 901.0, 'fp': 5.0, 'tn': 805.0, 'fn': 17.0, 'acc': 0.9872685074806213, 'precision': 0.9944812655448914, 'recall': 0.9814814925193787, 'auc': 0.9994533061981201}\n",
            "\n",
            " Batch Number 55 the model has a lot of {'loss': 0.03238668292760849, 'tp': 918.0, 'fp': 5.0, 'tn': 820.0, 'fn': 17.0, 'acc': 0.987500011920929, 'precision': 0.9945828914642334, 'recall': 0.9818181991577148, 'auc': 0.999472975730896}\n",
            " 55/689 [=>............................] - ETA: 11s - loss: 0.0324 - tp: 918.0000 - fp: 5.0000 - tn: 820.0000 - fn: 17.0000 - acc: 0.9875 - precision: 0.9946 - recall: 0.9818 - auc: 0.9995\n",
            " Batch Number 56 the model has a lot of {'loss': 0.032841917127370834, 'tp': 935.0, 'fp': 6.0, 'tn': 834.0, 'fn': 17.0, 'acc': 0.9871651530265808, 'precision': 0.9936237931251526, 'recall': 0.9821428656578064, 'auc': 0.9994416832923889}\n",
            "\n",
            " Batch Number 57 the model has a lot of {'loss': 0.037354402244091034, 'tp': 954.0, 'fp': 7.0, 'tn': 846.0, 'fn': 17.0, 'acc': 0.9868420958518982, 'precision': 0.9927158951759338, 'recall': 0.9824922680854797, 'auc': 0.9987250566482544}\n",
            "\n",
            " Batch Number 58 the model has a lot of {'loss': 0.0391293540596962, 'tp': 967.0, 'fp': 8.0, 'tn': 864.0, 'fn': 17.0, 'acc': 0.9865301847457886, 'precision': 0.9917948842048645, 'recall': 0.982723593711853, 'auc': 0.9985671043395996}\n",
            " 58/689 [=>............................] - ETA: 10s - loss: 0.0391 - tp: 967.0000 - fp: 8.0000 - tn: 864.0000 - fn: 17.0000 - acc: 0.9865 - precision: 0.9918 - recall: 0.9827 - auc: 0.9986\n",
            " Batch Number 59 the model has a lot of {'loss': 0.038494840264320374, 'tp': 984.0, 'fp': 8.0, 'tn': 879.0, 'fn': 17.0, 'acc': 0.9867584705352783, 'precision': 0.9919354915618896, 'recall': 0.9830169677734375, 'auc': 0.9986034035682678}\n",
            "\n",
            " Batch Number 60 the model has a lot of {'loss': 0.03788187727332115, 'tp': 1001.0, 'fp': 8.0, 'tn': 894.0, 'fn': 17.0, 'acc': 0.9869791865348816, 'precision': 0.9920713305473328, 'recall': 0.9833005666732788, 'auc': 0.9986392855644226}\n",
            "\n",
            " Batch Number 61 the model has a lot of {'loss': 0.03737273067235947, 'tp': 1015.0, 'fp': 8.0, 'tn': 912.0, 'fn': 17.0, 'acc': 0.9871926307678223, 'precision': 0.9921798706054688, 'recall': 0.9835271239280701, 'auc': 0.9986728429794312}\n",
            " 61/689 [=>............................] - ETA: 10s - loss: 0.0374 - tp: 1015.0000 - fp: 8.0000 - tn: 912.0000 - fn: 17.0000 - acc: 0.9872 - precision: 0.9922 - recall: 0.9835 - auc: 0.9987\n",
            " Batch Number 62 the model has a lot of {'loss': 0.03690215200185776, 'tp': 1035.0, 'fp': 8.0, 'tn': 924.0, 'fn': 17.0, 'acc': 0.9873992204666138, 'precision': 0.9923298358917236, 'recall': 0.98384028673172, 'auc': 0.9986950755119324}\n",
            "\n",
            " Batch Number 63 the model has a lot of {'loss': 0.036650869995355606, 'tp': 1051.0, 'fp': 8.0, 'tn': 940.0, 'fn': 17.0, 'acc': 0.9875991940498352, 'precision': 0.992445707321167, 'recall': 0.9840824007987976, 'auc': 0.9987120032310486}\n",
            "\n",
            " Batch Number 64 the model has a lot of {'loss': 0.03889787942171097, 'tp': 1061.0, 'fp': 9.0, 'tn': 961.0, 'fn': 17.0, 'acc': 0.9873046875, 'precision': 0.9915887713432312, 'recall': 0.9842300415039062, 'auc': 0.9985133409500122}\n",
            " 64/689 [=>............................] - ETA: 10s - loss: 0.0389 - tp: 1061.0000 - fp: 9.0000 - tn: 961.0000 - fn: 17.0000 - acc: 0.9873 - precision: 0.9916 - recall: 0.9842 - auc: 0.9985\n",
            " Batch Number 65 the model has a lot of {'loss': 0.03844866529107094, 'tp': 1078.0, 'fp': 9.0, 'tn': 976.0, 'fn': 17.0, 'acc': 0.987500011920929, 'precision': 0.9917203187942505, 'recall': 0.9844748973846436, 'auc': 0.9985359907150269}\n",
            "\n",
            " Batch Number 66 the model has a lot of {'loss': 0.0383378304541111, 'tp': 1093.0, 'fp': 10.0, 'tn': 992.0, 'fn': 17.0, 'acc': 0.9872159361839294, 'precision': 0.9909338355064392, 'recall': 0.9846847057342529, 'auc': 0.9985524415969849}\n",
            "\n",
            " Batch Number 67 the model has a lot of {'loss': 0.039294786751270294, 'tp': 1106.0, 'fp': 11.0, 'tn': 1010.0, 'fn': 17.0, 'acc': 0.986940324306488, 'precision': 0.9901521801948547, 'recall': 0.9848619699478149, 'auc': 0.9985221028327942}\n",
            " 67/689 [=>............................] - ETA: 10s - loss: 0.0393 - tp: 1106.0000 - fp: 11.0000 - tn: 1010.0000 - fn: 17.0000 - acc: 0.9869 - precision: 0.9902 - recall: 0.9849 - auc: 0.9985\n",
            " Batch Number 68 the model has a lot of {'loss': 0.0389026515185833, 'tp': 1124.0, 'fp': 11.0, 'tn': 1024.0, 'fn': 17.0, 'acc': 0.9871323704719543, 'precision': 0.9903083443641663, 'recall': 0.9851008057594299, 'auc': 0.9985421895980835}\n",
            "\n",
            " Batch Number 69 the model has a lot of {'loss': 0.039045583456754684, 'tp': 1138.0, 'fp': 11.0, 'tn': 1042.0, 'fn': 17.0, 'acc': 0.9873188138008118, 'precision': 0.9904264807701111, 'recall': 0.9852814078330994, 'auc': 0.9985483884811401}\n",
            "\n",
            " Batch Number 70 the model has a lot of {'loss': 0.03854014724493027, 'tp': 1155.0, 'fp': 11.0, 'tn': 1057.0, 'fn': 17.0, 'acc': 0.987500011920929, 'precision': 0.9905660152435303, 'recall': 0.98549485206604, 'auc': 0.9985775947570801}\n",
            " 70/689 [==>...........................] - ETA: 10s - loss: 0.0385 - tp: 1155.0000 - fp: 11.0000 - tn: 1057.0000 - fn: 17.0000 - acc: 0.9875 - precision: 0.9906 - recall: 0.9855 - auc: 0.9986\n",
            " Batch Number 71 the model has a lot of {'loss': 0.040573958307504654, 'tp': 1165.0, 'fp': 13.0, 'tn': 1077.0, 'fn': 17.0, 'acc': 0.9867957830429077, 'precision': 0.988964319229126, 'recall': 0.9856175780296326, 'auc': 0.9984539747238159}\n",
            "\n",
            " Batch Number 72 the model has a lot of {'loss': 0.04052825644612312, 'tp': 1178.0, 'fp': 14.0, 'tn': 1095.0, 'fn': 17.0, 'acc': 0.9865451455116272, 'precision': 0.9882550239562988, 'recall': 0.985774040222168, 'auc': 0.9984716176986694}\n",
            "\n",
            " Batch Number 73 the model has a lot of {'loss': 0.04002540558576584, 'tp': 1193.0, 'fp': 14.0, 'tn': 1112.0, 'fn': 17.0, 'acc': 0.9867294430732727, 'precision': 0.9884009957313538, 'recall': 0.9859504103660583, 'auc': 0.9985019564628601}\n",
            " 73/689 [==>...........................] - ETA: 10s - loss: 0.0400 - tp: 1193.0000 - fp: 14.0000 - tn: 1112.0000 - fn: 17.0000 - acc: 0.9867 - precision: 0.9884 - recall: 0.9860 - auc: 0.9985\n",
            " Batch Number 74 the model has a lot of {'loss': 0.03964697942137718, 'tp': 1206.0, 'fp': 14.0, 'tn': 1131.0, 'fn': 17.0, 'acc': 0.9869087934494019, 'precision': 0.9885246157646179, 'recall': 0.9860997796058655, 'auc': 0.9985324144363403}\n",
            "\n",
            " Batch Number 75 the model has a lot of {'loss': 0.03917350620031357, 'tp': 1220.0, 'fp': 14.0, 'tn': 1149.0, 'fn': 17.0, 'acc': 0.9870833158493042, 'precision': 0.9886547923088074, 'recall': 0.9862570762634277, 'auc': 0.9985624551773071}\n",
            "\n",
            " Batch Number 76 the model has a lot of {'loss': 0.03903183341026306, 'tp': 1232.0, 'fp': 15.0, 'tn': 1168.0, 'fn': 17.0, 'acc': 0.9868420958518982, 'precision': 0.9879711270332336, 'recall': 0.9863891005516052, 'auc': 0.9985760450363159}\n",
            " 76/689 [==>...........................] - ETA: 10s - loss: 0.0390 - tp: 1232.0000 - fp: 15.0000 - tn: 1168.0000 - fn: 17.0000 - acc: 0.9868 - precision: 0.9880 - recall: 0.9864 - auc: 0.9986\n",
            " Batch Number 77 the model has a lot of {'loss': 0.03879070654511452, 'tp': 1252.0, 'fp': 15.0, 'tn': 1180.0, 'fn': 17.0, 'acc': 0.9870129823684692, 'precision': 0.988161027431488, 'recall': 0.9866036176681519, 'auc': 0.9985841512680054}\n",
            "\n",
            " Batch Number 78 the model has a lot of {'loss': 0.038956329226493835, 'tp': 1269.0, 'fp': 16.0, 'tn': 1194.0, 'fn': 17.0, 'acc': 0.9867788553237915, 'precision': 0.9875486493110657, 'recall': 0.9867807030677795, 'auc': 0.9985859394073486}\n",
            "\n",
            " Batch Number 79 the model has a lot of {'loss': 0.03852882608771324, 'tp': 1283.0, 'fp': 16.0, 'tn': 1212.0, 'fn': 17.0, 'acc': 0.9869462251663208, 'precision': 0.9876828193664551, 'recall': 0.986923098564148, 'auc': 0.998613178730011}\n",
            " 79/689 [==>...........................] - ETA: 10s - loss: 0.0385 - tp: 1283.0000 - fp: 16.0000 - tn: 1212.0000 - fn: 17.0000 - acc: 0.9869 - precision: 0.9877 - recall: 0.9869 - auc: 0.9986\n",
            " Batch Number 80 the model has a lot of {'loss': 0.03818380460143089, 'tp': 1303.0, 'fp': 16.0, 'tn': 1224.0, 'fn': 17.0, 'acc': 0.987109363079071, 'precision': 0.9878696203231812, 'recall': 0.9871212244033813, 'auc': 0.9986274838447571}\n",
            "\n",
            " Batch Number 81 the model has a lot of {'loss': 0.03800803795456886, 'tp': 1313.0, 'fp': 16.0, 'tn': 1246.0, 'fn': 17.0, 'acc': 0.9872685074806213, 'precision': 0.9879608750343323, 'recall': 0.9872180223464966, 'auc': 0.998647928237915}\n",
            "\n",
            " Batch Number 82 the model has a lot of {'loss': 0.038305170834064484, 'tp': 1326.0, 'fp': 17.0, 'tn': 1264.0, 'fn': 17.0, 'acc': 0.9870426654815674, 'precision': 0.9873417615890503, 'recall': 0.9873417615890503, 'auc': 0.9986528158187866}\n",
            " 82/689 [==>...........................] - ETA: 10s - loss: 0.0383 - tp: 1326.0000 - fp: 17.0000 - tn: 1264.0000 - fn: 17.0000 - acc: 0.9870 - precision: 0.9873 - recall: 0.9873 - auc: 0.9987\n",
            " Batch Number 83 the model has a lot of {'loss': 0.03826368972659111, 'tp': 1344.0, 'fp': 17.0, 'tn': 1277.0, 'fn': 18.0, 'acc': 0.9868223071098328, 'precision': 0.9875091910362244, 'recall': 0.9867841601371765, 'auc': 0.9986549019813538}\n",
            "\n",
            " Batch Number 84 the model has a lot of {'loss': 0.03784485533833504, 'tp': 1361.0, 'fp': 17.0, 'tn': 1292.0, 'fn': 18.0, 'acc': 0.9869791865348816, 'precision': 0.9876632690429688, 'recall': 0.9869470596313477, 'auc': 0.9986774921417236}\n",
            "\n",
            " Batch Number 85 the model has a lot of {'loss': 0.0374332033097744, 'tp': 1375.0, 'fp': 17.0, 'tn': 1310.0, 'fn': 18.0, 'acc': 0.9871323704719543, 'precision': 0.9877873659133911, 'recall': 0.9870782494544983, 'auc': 0.9987035989761353}\n",
            " 85/689 [==>...........................] - ETA: 10s - loss: 0.0374 - tp: 1375.0000 - fp: 17.0000 - tn: 1310.0000 - fn: 18.0000 - acc: 0.9871 - precision: 0.9878 - recall: 0.9871 - auc: 0.9987\n",
            " Batch Number 86 the model has a lot of {'loss': 0.0370459109544754, 'tp': 1389.0, 'fp': 17.0, 'tn': 1328.0, 'fn': 18.0, 'acc': 0.9872819781303406, 'precision': 0.9879089593887329, 'recall': 0.9872068166732788, 'auc': 0.9987270832061768}\n",
            "\n",
            " Batch Number 87 the model has a lot of {'loss': 0.036667972803115845, 'tp': 1405.0, 'fp': 17.0, 'tn': 1344.0, 'fn': 18.0, 'acc': 0.9874281883239746, 'precision': 0.9880450367927551, 'recall': 0.9873506426811218, 'auc': 0.9987467527389526}\n",
            "\n",
            " Batch Number 88 the model has a lot of {'loss': 0.036592453718185425, 'tp': 1425.0, 'fp': 17.0, 'tn': 1356.0, 'fn': 18.0, 'acc': 0.9875710010528564, 'precision': 0.9882107973098755, 'recall': 0.987525999546051, 'auc': 0.9987439513206482}\n",
            " 88/689 [==>...........................] - ETA: 10s - loss: 0.0366 - tp: 1425.0000 - fp: 17.0000 - tn: 1356.0000 - fn: 18.0000 - acc: 0.9876 - precision: 0.9882 - recall: 0.9875 - auc: 0.9987\n",
            " Batch Number 89 the model has a lot of {'loss': 0.036810945719480515, 'tp': 1446.0, 'fp': 17.0, 'tn': 1367.0, 'fn': 18.0, 'acc': 0.9877106547355652, 'precision': 0.9883800148963928, 'recall': 0.9877049326896667, 'auc': 0.9987333416938782}\n",
            "\n",
            " Batch Number 90 the model has a lot of {'loss': 0.036763302981853485, 'tp': 1457.0, 'fp': 17.0, 'tn': 1388.0, 'fn': 18.0, 'acc': 0.9878472089767456, 'precision': 0.988466739654541, 'recall': 0.9877966046333313, 'auc': 0.9987478852272034}\n",
            "\n",
            " Batch Number 91 the model has a lot of {'loss': 0.03644607216119766, 'tp': 1471.0, 'fp': 17.0, 'tn': 1406.0, 'fn': 18.0, 'acc': 0.9879807829856873, 'precision': 0.988575279712677, 'recall': 0.9879113435745239, 'auc': 0.9987685680389404}\n",
            " 91/689 [==>...........................] - ETA: 10s - loss: 0.0364 - tp: 1471.0000 - fp: 17.0000 - tn: 1406.0000 - fn: 18.0000 - acc: 0.9880 - precision: 0.9886 - recall: 0.9879 - auc: 0.9988\n",
            " Batch Number 92 the model has a lot of {'loss': 0.036890193819999695, 'tp': 1482.0, 'fp': 18.0, 'tn': 1426.0, 'fn': 18.0, 'acc': 0.98777174949646, 'precision': 0.9879999756813049, 'recall': 0.9879999756813049, 'auc': 0.9987642765045166}\n",
            "\n",
            " Batch Number 93 the model has a lot of {'loss': 0.03871544823050499, 'tp': 1488.0, 'fp': 20.0, 'tn': 1450.0, 'fn': 18.0, 'acc': 0.9872311949729919, 'precision': 0.9867374300956726, 'recall': 0.9880478382110596, 'auc': 0.9986748695373535}\n",
            "\n",
            " Batch Number 94 the model has a lot of {'loss': 0.03833301365375519, 'tp': 1500.0, 'fp': 20.0, 'tn': 1470.0, 'fn': 18.0, 'acc': 0.9873670339584351, 'precision': 0.9868420958518982, 'recall': 0.9881423115730286, 'auc': 0.9987002611160278}\n",
            " 94/689 [===>..........................] - ETA: 10s - loss: 0.0383 - tp: 1500.0000 - fp: 20.0000 - tn: 1470.0000 - fn: 18.0000 - acc: 0.9874 - precision: 0.9868 - recall: 0.9881 - auc: 0.9987\n",
            " Batch Number 95 the model has a lot of {'loss': 0.038339871913194656, 'tp': 1513.0, 'fp': 20.0, 'tn': 1489.0, 'fn': 18.0, 'acc': 0.987500011920929, 'precision': 0.9869536757469177, 'recall': 0.9882429838180542, 'auc': 0.9987107515335083}\n",
            "\n",
            " Batch Number 96 the model has a lot of {'loss': 0.03849496692419052, 'tp': 1528.0, 'fp': 21.0, 'tn': 1505.0, 'fn': 18.0, 'acc': 0.9873046875, 'precision': 0.9864428639411926, 'recall': 0.9883570671081543, 'auc': 0.9987119436264038}\n",
            "\n",
            " Batch Number 97 the model has a lot of {'loss': 0.03881773352622986, 'tp': 1548.0, 'fp': 21.0, 'tn': 1516.0, 'fn': 19.0, 'acc': 0.9871134161949158, 'precision': 0.9866156578063965, 'recall': 0.9878749251365662, 'auc': 0.9986958503723145}\n",
            " 97/689 [===>..........................] - ETA: 10s - loss: 0.0388 - tp: 1548.0000 - fp: 21.0000 - tn: 1516.0000 - fn: 19.0000 - acc: 0.9871 - precision: 0.9866 - recall: 0.9879 - auc: 0.9987\n",
            " Batch Number 98 the model has a lot of {'loss': 0.03847304731607437, 'tp': 1564.0, 'fp': 21.0, 'tn': 1532.0, 'fn': 19.0, 'acc': 0.9872449040412903, 'precision': 0.9867507815361023, 'recall': 0.9879974722862244, 'auc': 0.9987102150917053}\n",
            "\n",
            " Batch Number 99 the model has a lot of {'loss': 0.03918305039405823, 'tp': 1583.0, 'fp': 21.0, 'tn': 1544.0, 'fn': 20.0, 'acc': 0.9870581030845642, 'precision': 0.9869077205657959, 'recall': 0.9875233769416809, 'auc': 0.9986777901649475}\n",
            "\n",
            " Batch Number 100 the model has a lot of {'loss': 0.03882035240530968, 'tp': 1598.0, 'fp': 21.0, 'tn': 1561.0, 'fn': 20.0, 'acc': 0.9871875047683716, 'precision': 0.9870290160179138, 'recall': 0.9876390695571899, 'auc': 0.998699426651001}\n",
            "100/689 [===>..........................] - ETA: 10s - loss: 0.0388 - tp: 1598.0000 - fp: 21.0000 - tn: 1561.0000 - fn: 20.0000 - acc: 0.9872 - precision: 0.9870 - recall: 0.9876 - auc: 0.9987\n",
            " Batch Number 101 the model has a lot of {'loss': 0.039207302033901215, 'tp': 1613.0, 'fp': 22.0, 'tn': 1577.0, 'fn': 20.0, 'acc': 0.9870049357414246, 'precision': 0.9865443706512451, 'recall': 0.9877526164054871, 'auc': 0.9986891746520996}\n",
            "\n",
            " Batch Number 102 the model has a lot of {'loss': 0.03900168091058731, 'tp': 1631.0, 'fp': 22.0, 'tn': 1591.0, 'fn': 20.0, 'acc': 0.9871323704719543, 'precision': 0.986690878868103, 'recall': 0.9878861308097839, 'auc': 0.99870365858078}\n",
            "\n",
            " Batch Number 103 the model has a lot of {'loss': 0.03869178518652916, 'tp': 1647.0, 'fp': 22.0, 'tn': 1607.0, 'fn': 20.0, 'acc': 0.9872573018074036, 'precision': 0.9868184328079224, 'recall': 0.9880024194717407, 'auc': 0.9987179636955261}\n",
            "103/689 [===>..........................] - ETA: 10s - loss: 0.0387 - tp: 1647.0000 - fp: 22.0000 - tn: 1607.0000 - fn: 20.0000 - acc: 0.9873 - precision: 0.9868 - recall: 0.9880 - auc: 0.9987\n",
            " Batch Number 104 the model has a lot of {'loss': 0.03846363350749016, 'tp': 1659.0, 'fp': 22.0, 'tn': 1627.0, 'fn': 20.0, 'acc': 0.987379789352417, 'precision': 0.9869125485420227, 'recall': 0.9880881309509277, 'auc': 0.9987362623214722}\n",
            "\n",
            " Batch Number 105 the model has a lot of {'loss': 0.0391976498067379, 'tp': 1673.0, 'fp': 24.0, 'tn': 1643.0, 'fn': 20.0, 'acc': 0.9869047403335571, 'precision': 0.985857367515564, 'recall': 0.9881866574287415, 'auc': 0.9987114667892456}\n",
            "\n",
            " Batch Number 106 the model has a lot of {'loss': 0.03995204716920853, 'tp': 1691.0, 'fp': 24.0, 'tn': 1655.0, 'fn': 22.0, 'acc': 0.9864386916160583, 'precision': 0.9860058426856995, 'recall': 0.9871570467948914, 'auc': 0.9986796379089355}\n",
            "106/689 [===>..........................] - ETA: 10s - loss: 0.0400 - tp: 1691.0000 - fp: 24.0000 - tn: 1655.0000 - fn: 22.0000 - acc: 0.9864 - precision: 0.9860 - recall: 0.9872 - auc: 0.9987\n",
            " Batch Number 107 the model has a lot of {'loss': 0.039604999125003815, 'tp': 1707.0, 'fp': 24.0, 'tn': 1671.0, 'fn': 22.0, 'acc': 0.9865654110908508, 'precision': 0.9861351847648621, 'recall': 0.9872758984565735, 'auc': 0.9986985325813293}\n",
            "\n",
            " Batch Number 108 the model has a lot of {'loss': 0.03934742510318756, 'tp': 1719.0, 'fp': 24.0, 'tn': 1691.0, 'fn': 22.0, 'acc': 0.9866898059844971, 'precision': 0.9862306118011475, 'recall': 0.9873635768890381, 'auc': 0.9987176060676575}\n",
            "\n",
            " Batch Number 109 the model has a lot of {'loss': 0.03973415493965149, 'tp': 1739.0, 'fp': 24.0, 'tn': 1702.0, 'fn': 23.0, 'acc': 0.9865252375602722, 'precision': 0.9863868355751038, 'recall': 0.9869466423988342, 'auc': 0.9987015128135681}\n",
            "109/689 [===>..........................] - ETA: 10s - loss: 0.0397 - tp: 1739.0000 - fp: 24.0000 - tn: 1702.0000 - fn: 23.0000 - acc: 0.9865 - precision: 0.9864 - recall: 0.9869 - auc: 0.9987\n",
            " Batch Number 110 the model has a lot of {'loss': 0.03991543874144554, 'tp': 1751.0, 'fp': 25.0, 'tn': 1721.0, 'fn': 23.0, 'acc': 0.9863636493682861, 'precision': 0.9859234094619751, 'recall': 0.9870349764823914, 'auc': 0.9987019300460815}\n",
            "\n",
            " Batch Number 111 the model has a lot of {'loss': 0.03963683545589447, 'tp': 1769.0, 'fp': 25.0, 'tn': 1735.0, 'fn': 23.0, 'acc': 0.9864864945411682, 'precision': 0.9860646724700928, 'recall': 0.9871651530265808, 'auc': 0.9987145066261292}\n",
            "\n",
            " Batch Number 112 the model has a lot of {'loss': 0.03946772962808609, 'tp': 1786.0, 'fp': 25.0, 'tn': 1750.0, 'fn': 23.0, 'acc': 0.9866071343421936, 'precision': 0.98619544506073, 'recall': 0.9872857928276062, 'auc': 0.9987244009971619}\n",
            "112/689 [===>..........................] - ETA: 9s - loss: 0.0395 - tp: 1786.0000 - fp: 25.0000 - tn: 1750.0000 - fn: 23.0000 - acc: 0.9866 - precision: 0.9862 - recall: 0.9873 - auc: 0.9987 \n",
            " Batch Number 113 the model has a lot of {'loss': 0.039149388670921326, 'tp': 1801.0, 'fp': 25.0, 'tn': 1767.0, 'fn': 23.0, 'acc': 0.9867256879806519, 'precision': 0.9863088726997375, 'recall': 0.9873903393745422, 'auc': 0.9987419247627258}\n",
            "\n",
            " Batch Number 114 the model has a lot of {'loss': 0.03984356299042702, 'tp': 1817.0, 'fp': 25.0, 'tn': 1782.0, 'fn': 24.0, 'acc': 0.9865679740905762, 'precision': 0.9864277839660645, 'recall': 0.9869636297225952, 'auc': 0.998709499835968}\n",
            "\n",
            " Batch Number 115 the model has a lot of {'loss': 0.03952695429325104, 'tp': 1832.0, 'fp': 25.0, 'tn': 1799.0, 'fn': 24.0, 'acc': 0.9866847991943359, 'precision': 0.9865373969078064, 'recall': 0.9870689511299133, 'auc': 0.998727023601532}\n",
            "115/689 [====>.........................] - ETA: 9s - loss: 0.0395 - tp: 1832.0000 - fp: 25.0000 - tn: 1799.0000 - fn: 24.0000 - acc: 0.9867 - precision: 0.9865 - recall: 0.9871 - auc: 0.9987\n",
            " Batch Number 116 the model has a lot of {'loss': 0.04013475775718689, 'tp': 1848.0, 'fp': 25.0, 'tn': 1813.0, 'fn': 26.0, 'acc': 0.9862607717514038, 'precision': 0.9866524338722229, 'recall': 0.9861259460449219, 'auc': 0.9987035393714905}\n",
            "\n",
            " Batch Number 117 the model has a lot of {'loss': 0.04137774556875229, 'tp': 1864.0, 'fp': 25.0, 'tn': 1826.0, 'fn': 29.0, 'acc': 0.9855769276618958, 'precision': 0.9867655038833618, 'recall': 0.9846804141998291, 'auc': 0.998659610748291}\n",
            "\n",
            " Batch Number 118 the model has a lot of {'loss': 0.041470300406217575, 'tp': 1878.0, 'fp': 25.0, 'tn': 1843.0, 'fn': 30.0, 'acc': 0.9854342937469482, 'precision': 0.98686283826828, 'recall': 0.9842767119407654, 'auc': 0.9986606240272522}\n",
            "118/689 [====>.........................] - ETA: 9s - loss: 0.0415 - tp: 1878.0000 - fp: 25.0000 - tn: 1843.0000 - fn: 30.0000 - acc: 0.9854 - precision: 0.9869 - recall: 0.9843 - auc: 0.9987\n",
            " Batch Number 119 the model has a lot of {'loss': 0.04121151566505432, 'tp': 1891.0, 'fp': 25.0, 'tn': 1862.0, 'fn': 30.0, 'acc': 0.9855567216873169, 'precision': 0.986952006816864, 'recall': 0.9843831062316895, 'auc': 0.9986776113510132}\n",
            "\n",
            " Batch Number 120 the model has a lot of {'loss': 0.04200764372944832, 'tp': 1906.0, 'fp': 26.0, 'tn': 1878.0, 'fn': 30.0, 'acc': 0.9854166507720947, 'precision': 0.9865424633026123, 'recall': 0.9845041036605835, 'auc': 0.9986187219619751}\n",
            "\n",
            " Batch Number 121 the model has a lot of {'loss': 0.04373500496149063, 'tp': 1925.0, 'fp': 26.0, 'tn': 1890.0, 'fn': 31.0, 'acc': 0.9852789044380188, 'precision': 0.9866734743118286, 'recall': 0.984151303768158, 'auc': 0.998311460018158}\n",
            "121/689 [====>.........................] - ETA: 9s - loss: 0.0437 - tp: 1925.0000 - fp: 26.0000 - tn: 1890.0000 - fn: 31.0000 - acc: 0.9853 - precision: 0.9867 - recall: 0.9842 - auc: 0.9983\n",
            " Batch Number 122 the model has a lot of {'loss': 0.0457514189183712, 'tp': 1944.0, 'fp': 26.0, 'tn': 1900.0, 'fn': 34.0, 'acc': 0.9846311211585999, 'precision': 0.9868020415306091, 'recall': 0.982810914516449, 'auc': 0.9979957342147827}\n",
            "\n",
            " Batch Number 123 the model has a lot of {'loss': 0.045836079865694046, 'tp': 1960.0, 'fp': 27.0, 'tn': 1915.0, 'fn': 34.0, 'acc': 0.9845020174980164, 'precision': 0.9864116907119751, 'recall': 0.9829488396644592, 'auc': 0.9979947209358215}\n",
            "\n",
            " Batch Number 124 the model has a lot of {'loss': 0.045526813715696335, 'tp': 1977.0, 'fp': 27.0, 'tn': 1930.0, 'fn': 34.0, 'acc': 0.9846270084381104, 'precision': 0.9865269660949707, 'recall': 0.9830929636955261, 'auc': 0.9980117082595825}\n",
            "124/689 [====>.........................] - ETA: 9s - loss: 0.0455 - tp: 1977.0000 - fp: 27.0000 - tn: 1930.0000 - fn: 34.0000 - acc: 0.9846 - precision: 0.9865 - recall: 0.9831 - auc: 0.9980\n",
            " Batch Number 125 the model has a lot of {'loss': 0.04691389575600624, 'tp': 1990.0, 'fp': 28.0, 'tn': 1947.0, 'fn': 35.0, 'acc': 0.984250009059906, 'precision': 0.9861248731613159, 'recall': 0.9827160239219666, 'auc': 0.997947633266449}\n",
            "\n",
            " Batch Number 126 the model has a lot of {'loss': 0.047267597168684006, 'tp': 2003.0, 'fp': 28.0, 'tn': 1965.0, 'fn': 36.0, 'acc': 0.9841269850730896, 'precision': 0.9862136840820312, 'recall': 0.9823442697525024, 'auc': 0.9979403614997864}\n",
            "\n",
            " Batch Number 127 the model has a lot of {'loss': 0.047129515558481216, 'tp': 2018.0, 'fp': 28.0, 'tn': 1981.0, 'fn': 37.0, 'acc': 0.9840059280395508, 'precision': 0.9863147735595703, 'recall': 0.9819951057434082, 'auc': 0.9979540109634399}\n",
            "127/689 [====>.........................] - ETA: 9s - loss: 0.0471 - tp: 2018.0000 - fp: 28.0000 - tn: 1981.0000 - fn: 37.0000 - acc: 0.9840 - precision: 0.9863 - recall: 0.9820 - auc: 0.9980\n",
            " Batch Number 128 the model has a lot of {'loss': 0.04719866067171097, 'tp': 2033.0, 'fp': 29.0, 'tn': 1997.0, 'fn': 37.0, 'acc': 0.98388671875, 'precision': 0.9859359860420227, 'recall': 0.9821255803108215, 'auc': 0.9979572296142578}\n",
            "\n",
            " Batch Number 129 the model has a lot of {'loss': 0.04700778052210808, 'tp': 2049.0, 'fp': 29.0, 'tn': 2013.0, 'fn': 37.0, 'acc': 0.9840116500854492, 'precision': 0.9860442876815796, 'recall': 0.9822627305984497, 'auc': 0.9979696273803711}\n",
            "\n",
            " Batch Number 130 the model has a lot of {'loss': 0.04678168520331383, 'tp': 2065.0, 'fp': 29.0, 'tn': 2029.0, 'fn': 37.0, 'acc': 0.9841346144676208, 'precision': 0.9861509203910828, 'recall': 0.982397735118866, 'auc': 0.9979844689369202}\n",
            "130/689 [====>.........................] - ETA: 9s - loss: 0.0468 - tp: 2065.0000 - fp: 29.0000 - tn: 2029.0000 - fn: 37.0000 - acc: 0.9841 - precision: 0.9862 - recall: 0.9824 - auc: 0.9980\n",
            " Batch Number 131 the model has a lot of {'loss': 0.04665369912981987, 'tp': 2080.0, 'fp': 29.0, 'tn': 2046.0, 'fn': 37.0, 'acc': 0.9842557311058044, 'precision': 0.9862493872642517, 'recall': 0.9825224280357361, 'auc': 0.9979933500289917}\n",
            "\n",
            " Batch Number 132 the model has a lot of {'loss': 0.046708881855010986, 'tp': 2098.0, 'fp': 29.0, 'tn': 2060.0, 'fn': 37.0, 'acc': 0.984375, 'precision': 0.986365795135498, 'recall': 0.9826697707176208, 'auc': 0.9979948401451111}\n",
            "\n",
            " Batch Number 133 the model has a lot of {'loss': 0.046669378876686096, 'tp': 2115.0, 'fp': 29.0, 'tn': 2074.0, 'fn': 38.0, 'acc': 0.9842575192451477, 'precision': 0.9864738583564758, 'recall': 0.98235023021698, 'auc': 0.9980034232139587}\n",
            "133/689 [====>.........................] - ETA: 9s - loss: 0.0467 - tp: 2115.0000 - fp: 29.0000 - tn: 2074.0000 - fn: 38.0000 - acc: 0.9843 - precision: 0.9865 - recall: 0.9824 - auc: 0.9980\n",
            " Batch Number 134 the model has a lot of {'loss': 0.04658886417746544, 'tp': 2130.0, 'fp': 29.0, 'tn': 2091.0, 'fn': 38.0, 'acc': 0.984375, 'precision': 0.9865678548812866, 'recall': 0.98247230052948, 'auc': 0.9980141520500183}\n",
            "\n",
            " Batch Number 135 the model has a lot of {'loss': 0.0466950349509716, 'tp': 2145.0, 'fp': 30.0, 'tn': 2107.0, 'fn': 38.0, 'acc': 0.9842592477798462, 'precision': 0.9862068891525269, 'recall': 0.982592761516571, 'auc': 0.9980108737945557}\n",
            "\n",
            " Batch Number 136 the model has a lot of {'loss': 0.046787720173597336, 'tp': 2158.0, 'fp': 31.0, 'tn': 2125.0, 'fn': 38.0, 'acc': 0.9841452240943909, 'precision': 0.9858382940292358, 'recall': 0.9826958179473877, 'auc': 0.9980096220970154}\n",
            "136/689 [====>.........................] - ETA: 9s - loss: 0.0468 - tp: 2158.0000 - fp: 31.0000 - tn: 2125.0000 - fn: 38.0000 - acc: 0.9841 - precision: 0.9858 - recall: 0.9827 - auc: 0.9980\n",
            " Batch Number 137 the model has a lot of {'loss': 0.04661080241203308, 'tp': 2177.0, 'fp': 31.0, 'tn': 2138.0, 'fn': 38.0, 'acc': 0.9842609763145447, 'precision': 0.9859601259231567, 'recall': 0.9828442335128784, 'auc': 0.9980179667472839}\n",
            "\n",
            " Batch Number 138 the model has a lot of {'loss': 0.04648291692137718, 'tp': 2190.0, 'fp': 32.0, 'tn': 2156.0, 'fn': 38.0, 'acc': 0.9841485619544983, 'precision': 0.9855985641479492, 'recall': 0.9829443693161011, 'auc': 0.9980298280715942}\n",
            "\n",
            " Batch Number 139 the model has a lot of {'loss': 0.0462612546980381, 'tp': 2206.0, 'fp': 32.0, 'tn': 2172.0, 'fn': 38.0, 'acc': 0.9842625856399536, 'precision': 0.9857015013694763, 'recall': 0.9830659627914429, 'auc': 0.9980438947677612}\n",
            "139/689 [=====>........................] - ETA: 9s - loss: 0.0463 - tp: 2206.0000 - fp: 32.0000 - tn: 2172.0000 - fn: 38.0000 - acc: 0.9843 - precision: 0.9857 - recall: 0.9831 - auc: 0.9980\n",
            " Batch Number 140 the model has a lot of {'loss': 0.04642018303275108, 'tp': 2217.0, 'fp': 34.0, 'tn': 2191.0, 'fn': 38.0, 'acc': 0.9839285612106323, 'precision': 0.9848955869674683, 'recall': 0.9831485748291016, 'auc': 0.9980416297912598}\n",
            "\n",
            " Batch Number 141 the model has a lot of {'loss': 0.04780722036957741, 'tp': 2236.0, 'fp': 34.0, 'tn': 2201.0, 'fn': 41.0, 'acc': 0.9833776354789734, 'precision': 0.9850220084190369, 'recall': 0.9819938540458679, 'auc': 0.99798983335495}\n",
            "\n",
            " Batch Number 142 the model has a lot of {'loss': 0.04758918657898903, 'tp': 2253.0, 'fp': 34.0, 'tn': 2216.0, 'fn': 41.0, 'acc': 0.9834946990013123, 'precision': 0.9851333498954773, 'recall': 0.98212730884552, 'auc': 0.9980043172836304}\n",
            "142/689 [=====>........................] - ETA: 9s - loss: 0.0476 - tp: 2253.0000 - fp: 34.0000 - tn: 2216.0000 - fn: 41.0000 - acc: 0.9835 - precision: 0.9851 - recall: 0.9821 - auc: 0.9980\n",
            " Batch Number 143 the model has a lot of {'loss': 0.047475140541791916, 'tp': 2268.0, 'fp': 35.0, 'tn': 2232.0, 'fn': 41.0, 'acc': 0.9833915829658508, 'precision': 0.9848024249076843, 'recall': 0.9822434186935425, 'auc': 0.9980148673057556}\n",
            "\n",
            " Batch Number 144 the model has a lot of {'loss': 0.04732154309749603, 'tp': 2284.0, 'fp': 35.0, 'tn': 2248.0, 'fn': 41.0, 'acc': 0.9835069179534912, 'precision': 0.9849072694778442, 'recall': 0.982365608215332, 'auc': 0.9980288743972778}\n",
            "\n",
            " Batch Number 145 the model has a lot of {'loss': 0.048148393630981445, 'tp': 2299.0, 'fp': 36.0, 'tn': 2263.0, 'fn': 42.0, 'acc': 0.9831896424293518, 'precision': 0.9845824241638184, 'recall': 0.9820589423179626, 'auc': 0.9979928135871887}\n",
            "\n",
            " Batch Number 146 the model has a lot of {'loss': 0.04823010414838791, 'tp': 2318.0, 'fp': 36.0, 'tn': 2276.0, 'fn': 42.0, 'acc': 0.9833047986030579, 'precision': 0.9847068786621094, 'recall': 0.9822033643722534, 'auc': 0.9979914426803589}\n",
            "146/689 [=====>........................] - ETA: 9s - loss: 0.0482 - tp: 2318.0000 - fp: 36.0000 - tn: 2276.0000 - fn: 42.0000 - acc: 0.9833 - precision: 0.9847 - recall: 0.9822 - auc: 0.9980\n",
            " Batch Number 147 the model has a lot of {'loss': 0.04793177917599678, 'tp': 2333.0, 'fp': 36.0, 'tn': 2293.0, 'fn': 42.0, 'acc': 0.983418345451355, 'precision': 0.9848037362098694, 'recall': 0.9823157787322998, 'auc': 0.9980120658874512}\n",
            "\n",
            " Batch Number 148 the model has a lot of {'loss': 0.04775366559624672, 'tp': 2352.0, 'fp': 36.0, 'tn': 2306.0, 'fn': 42.0, 'acc': 0.9835304021835327, 'precision': 0.9849246144294739, 'recall': 0.9824561476707458, 'auc': 0.998025119304657}\n",
            "\n",
            " Batch Number 149 the model has a lot of {'loss': 0.04757782071828842, 'tp': 2371.0, 'fp': 36.0, 'tn': 2319.0, 'fn': 42.0, 'acc': 0.9836409687995911, 'precision': 0.9850436449050903, 'recall': 0.9825942516326904, 'auc': 0.9980379939079285}\n",
            "149/689 [=====>........................] - ETA: 9s - loss: 0.0476 - tp: 2371.0000 - fp: 36.0000 - tn: 2319.0000 - fn: 42.0000 - acc: 0.9836 - precision: 0.9850 - recall: 0.9826 - auc: 0.9980\n",
            " Batch Number 150 the model has a lot of {'loss': 0.04727580398321152, 'tp': 2387.0, 'fp': 36.0, 'tn': 2335.0, 'fn': 42.0, 'acc': 0.9837499856948853, 'precision': 0.9851424098014832, 'recall': 0.9827089309692383, 'auc': 0.998058557510376}\n",
            "\n",
            " Batch Number 151 the model has a lot of {'loss': 0.04707171767950058, 'tp': 2397.0, 'fp': 36.0, 'tn': 2357.0, 'fn': 42.0, 'acc': 0.9838576316833496, 'precision': 0.9852034449577332, 'recall': 0.9827798008918762, 'auc': 0.9980741143226624}\n",
            "\n",
            " Batch Number 152 the model has a lot of {'loss': 0.04677972570061684, 'tp': 2410.0, 'fp': 36.0, 'tn': 2376.0, 'fn': 42.0, 'acc': 0.9839637875556946, 'precision': 0.9852820634841919, 'recall': 0.9828711152076721, 'auc': 0.9980928897857666}\n",
            "152/689 [=====>........................] - ETA: 9s - loss: 0.0468 - tp: 2410.0000 - fp: 36.0000 - tn: 2376.0000 - fn: 42.0000 - acc: 0.9840 - precision: 0.9853 - recall: 0.9829 - auc: 0.9981\n",
            " Batch Number 153 the model has a lot of {'loss': 0.04764025658369064, 'tp': 2422.0, 'fp': 38.0, 'tn': 2394.0, 'fn': 42.0, 'acc': 0.983660101890564, 'precision': 0.9845528602600098, 'recall': 0.9829545617103577, 'auc': 0.99800705909729}\n",
            "\n",
            " Batch Number 154 the model has a lot of {'loss': 0.04916166886687279, 'tp': 2438.0, 'fp': 40.0, 'tn': 2406.0, 'fn': 44.0, 'acc': 0.9829545617103577, 'precision': 0.9838579297065735, 'recall': 0.9822723865509033, 'auc': 0.9979349970817566}\n",
            "\n",
            " Batch Number 155 the model has a lot of {'loss': 0.04887452721595764, 'tp': 2454.0, 'fp': 40.0, 'tn': 2422.0, 'fn': 44.0, 'acc': 0.9830645322799683, 'precision': 0.9839615225791931, 'recall': 0.9823859333992004, 'auc': 0.9979532957077026}\n",
            "155/689 [=====>........................] - ETA: 9s - loss: 0.0489 - tp: 2454.0000 - fp: 40.0000 - tn: 2422.0000 - fn: 44.0000 - acc: 0.9831 - precision: 0.9840 - recall: 0.9824 - auc: 0.9980\n",
            " Batch Number 156 the model has a lot of {'loss': 0.048743586987257004, 'tp': 2473.0, 'fp': 40.0, 'tn': 2435.0, 'fn': 44.0, 'acc': 0.9831730723381042, 'precision': 0.9840827584266663, 'recall': 0.9825188517570496, 'auc': 0.9979625344276428}\n",
            "\n",
            " Batch Number 157 the model has a lot of {'loss': 0.04874362424015999, 'tp': 2491.0, 'fp': 40.0, 'tn': 2448.0, 'fn': 45.0, 'acc': 0.9830812215805054, 'precision': 0.9841959476470947, 'recall': 0.9822555184364319, 'auc': 0.9979676604270935}\n",
            "\n",
            " Batch Number 158 the model has a lot of {'loss': 0.04860201105475426, 'tp': 2506.0, 'fp': 40.0, 'tn': 2465.0, 'fn': 45.0, 'acc': 0.983188271522522, 'precision': 0.9842891097068787, 'recall': 0.9823598861694336, 'auc': 0.9979804158210754}\n",
            "158/689 [=====>........................] - ETA: 9s - loss: 0.0486 - tp: 2506.0000 - fp: 40.0000 - tn: 2465.0000 - fn: 45.0000 - acc: 0.9832 - precision: 0.9843 - recall: 0.9824 - auc: 0.9980\n",
            " Batch Number 159 the model has a lot of {'loss': 0.049745798110961914, 'tp': 2527.0, 'fp': 40.0, 'tn': 2474.0, 'fn': 47.0, 'acc': 0.9829009175300598, 'precision': 0.9844176173210144, 'recall': 0.9817404747009277, 'auc': 0.9979346394538879}\n",
            "\n",
            " Batch Number 160 the model has a lot of {'loss': 0.04954427108168602, 'tp': 2545.0, 'fp': 40.0, 'tn': 2488.0, 'fn': 47.0, 'acc': 0.9830077886581421, 'precision': 0.9845260977745056, 'recall': 0.9818673133850098, 'auc': 0.9979480504989624}\n",
            "\n",
            " Batch Number 161 the model has a lot of {'loss': 0.04973079264163971, 'tp': 2563.0, 'fp': 40.0, 'tn': 2501.0, 'fn': 48.0, 'acc': 0.9829192757606506, 'precision': 0.9846330881118774, 'recall': 0.9816162586212158, 'auc': 0.9979444146156311}\n",
            "161/689 [======>.......................] - ETA: 9s - loss: 0.0497 - tp: 2563.0000 - fp: 40.0000 - tn: 2501.0000 - fn: 48.0000 - acc: 0.9829 - precision: 0.9846 - recall: 0.9816 - auc: 0.9979\n",
            " Batch Number 162 the model has a lot of {'loss': 0.04962357133626938, 'tp': 2576.0, 'fp': 41.0, 'tn': 2519.0, 'fn': 48.0, 'acc': 0.9828317761421204, 'precision': 0.9843332171440125, 'recall': 0.9817073345184326, 'auc': 0.9979541301727295}\n",
            "\n",
            " Batch Number 163 the model has a lot of {'loss': 0.04945528507232666, 'tp': 2593.0, 'fp': 41.0, 'tn': 2534.0, 'fn': 48.0, 'acc': 0.9829370975494385, 'precision': 0.9844343066215515, 'recall': 0.981825053691864, 'auc': 0.9979652166366577}\n",
            "\n",
            " Batch Number 164 the model has a lot of {'loss': 0.04931795969605446, 'tp': 2608.0, 'fp': 42.0, 'tn': 2550.0, 'fn': 48.0, 'acc': 0.9828506112098694, 'precision': 0.9841509461402893, 'recall': 0.9819276928901672, 'auc': 0.9979764819145203}\n",
            "164/689 [======>.......................] - ETA: 9s - loss: 0.0493 - tp: 2608.0000 - fp: 42.0000 - tn: 2550.0000 - fn: 48.0000 - acc: 0.9829 - precision: 0.9842 - recall: 0.9819 - auc: 0.9980\n",
            " Batch Number 165 the model has a lot of {'loss': 0.04918421059846878, 'tp': 2623.0, 'fp': 43.0, 'tn': 2566.0, 'fn': 48.0, 'acc': 0.9827651381492615, 'precision': 0.9838709831237793, 'recall': 0.9820291996002197, 'auc': 0.9979879856109619}\n",
            "\n",
            " Batch Number 166 the model has a lot of {'loss': 0.0494399294257164, 'tp': 2642.0, 'fp': 44.0, 'tn': 2578.0, 'fn': 48.0, 'acc': 0.9826807379722595, 'precision': 0.9836187362670898, 'recall': 0.9821561574935913, 'auc': 0.9979739189147949}\n",
            "\n",
            " Batch Number 167 the model has a lot of {'loss': 0.04932355135679245, 'tp': 2656.0, 'fp': 45.0, 'tn': 2595.0, 'fn': 48.0, 'acc': 0.982597291469574, 'precision': 0.9833394885063171, 'recall': 0.9822485446929932, 'auc': 0.9979845285415649}\n",
            "167/689 [======>.......................] - ETA: 9s - loss: 0.0493 - tp: 2656.0000 - fp: 45.0000 - tn: 2595.0000 - fn: 48.0000 - acc: 0.9826 - precision: 0.9833 - recall: 0.9822 - auc: 0.9980\n",
            " Batch Number 168 the model has a lot of {'loss': 0.04968605190515518, 'tp': 2673.0, 'fp': 46.0, 'tn': 2609.0, 'fn': 48.0, 'acc': 0.9825148582458496, 'precision': 0.9830819964408875, 'recall': 0.9823594093322754, 'auc': 0.9979637861251831}\n",
            "\n",
            " Batch Number 169 the model has a lot of {'loss': 0.04953819513320923, 'tp': 2688.0, 'fp': 46.0, 'tn': 2626.0, 'fn': 48.0, 'acc': 0.9826183319091797, 'precision': 0.9831748604774475, 'recall': 0.9824561476707458, 'auc': 0.99797523021698}\n",
            "\n",
            " Batch Number 170 the model has a lot of {'loss': 0.05002911388874054, 'tp': 2703.0, 'fp': 48.0, 'tn': 2641.0, 'fn': 48.0, 'acc': 0.9823529124259949, 'precision': 0.9825518131256104, 'recall': 0.9825518131256104, 'auc': 0.9979490637779236}\n",
            "170/689 [======>.......................] - ETA: 8s - loss: 0.0500 - tp: 2703.0000 - fp: 48.0000 - tn: 2641.0000 - fn: 48.0000 - acc: 0.9824 - precision: 0.9826 - recall: 0.9826 - auc: 0.9979\n",
            " Batch Number 171 the model has a lot of {'loss': 0.0500507578253746, 'tp': 2722.0, 'fp': 48.0, 'tn': 2653.0, 'fn': 49.0, 'acc': 0.9822733998298645, 'precision': 0.9826714992523193, 'recall': 0.9823168516159058, 'auc': 0.9979512095451355}\n",
            "\n",
            " Batch Number 172 the model has a lot of {'loss': 0.05037764459848404, 'tp': 2736.0, 'fp': 49.0, 'tn': 2670.0, 'fn': 49.0, 'acc': 0.9821947813034058, 'precision': 0.9824057221412659, 'recall': 0.9824057221412659, 'auc': 0.9979313015937805}\n",
            "\n",
            " Batch Number 173 the model has a lot of {'loss': 0.05017436668276787, 'tp': 2752.0, 'fp': 49.0, 'tn': 2686.0, 'fn': 49.0, 'acc': 0.9822976589202881, 'precision': 0.982506275177002, 'recall': 0.982506275177002, 'auc': 0.9979467988014221}\n",
            "173/689 [======>.......................] - ETA: 8s - loss: 0.0502 - tp: 2752.0000 - fp: 49.0000 - tn: 2686.0000 - fn: 49.0000 - acc: 0.9823 - precision: 0.9825 - recall: 0.9825 - auc: 0.9979\n",
            " Batch Number 174 the model has a lot of {'loss': 0.049895916134119034, 'tp': 2766.0, 'fp': 49.0, 'tn': 2704.0, 'fn': 49.0, 'acc': 0.9823994040489197, 'precision': 0.9825932383537292, 'recall': 0.9825932383537292, 'auc': 0.9979667067527771}\n",
            "\n",
            " Batch Number 175 the model has a lot of {'loss': 0.04981156066060066, 'tp': 2778.0, 'fp': 50.0, 'tn': 2723.0, 'fn': 49.0, 'acc': 0.9823214411735535, 'precision': 0.9823196530342102, 'recall': 0.9826671481132507, 'auc': 0.9979740381240845}\n",
            "\n",
            " Batch Number 176 the model has a lot of {'loss': 0.04954966530203819, 'tp': 2792.0, 'fp': 50.0, 'tn': 2741.0, 'fn': 49.0, 'acc': 0.982421875, 'precision': 0.982406735420227, 'recall': 0.9827525615692139, 'auc': 0.997991144657135}\n",
            "176/689 [======>.......................] - ETA: 8s - loss: 0.0495 - tp: 2792.0000 - fp: 50.0000 - tn: 2741.0000 - fn: 49.0000 - acc: 0.9824 - precision: 0.9824 - recall: 0.9828 - auc: 0.9980\n",
            " Batch Number 177 the model has a lot of {'loss': 0.05015259608626366, 'tp': 2806.0, 'fp': 51.0, 'tn': 2758.0, 'fn': 49.0, 'acc': 0.9823446273803711, 'precision': 0.9821491241455078, 'recall': 0.9828371405601501, 'auc': 0.9979214072227478}\n",
            "\n",
            " Batch Number 178 the model has a lot of {'loss': 0.05011250451207161, 'tp': 2822.0, 'fp': 51.0, 'tn': 2773.0, 'fn': 50.0, 'acc': 0.9822682738304138, 'precision': 0.9822485446929932, 'recall': 0.9825905561447144, 'auc': 0.9979282021522522}\n",
            "\n",
            " Batch Number 179 the model has a lot of {'loss': 0.050156284123659134, 'tp': 2838.0, 'fp': 51.0, 'tn': 2788.0, 'fn': 51.0, 'acc': 0.9821927547454834, 'precision': 0.9823468327522278, 'recall': 0.9823468327522278, 'auc': 0.9979300498962402}\n",
            "179/689 [======>.......................] - ETA: 8s - loss: 0.0502 - tp: 2838.0000 - fp: 51.0000 - tn: 2788.0000 - fn: 51.0000 - acc: 0.9822 - precision: 0.9823 - recall: 0.9823 - auc: 0.9979\n",
            " Batch Number 180 the model has a lot of {'loss': 0.05047961696982384, 'tp': 2853.0, 'fp': 51.0, 'tn': 2804.0, 'fn': 52.0, 'acc': 0.9821180701255798, 'precision': 0.9824380278587341, 'recall': 0.9820998311042786, 'auc': 0.9979202747344971}\n",
            "\n",
            " Batch Number 181 the model has a lot of {'loss': 0.0503041036427021, 'tp': 2867.0, 'fp': 51.0, 'tn': 2822.0, 'fn': 52.0, 'acc': 0.9822168350219727, 'precision': 0.9825222492218018, 'recall': 0.9821856617927551, 'auc': 0.997933030128479}\n",
            "\n",
            " Batch Number 182 the model has a lot of {'loss': 0.05040772259235382, 'tp': 2887.0, 'fp': 51.0, 'tn': 2833.0, 'fn': 53.0, 'acc': 0.9821428656578064, 'precision': 0.9826412796974182, 'recall': 0.9819728136062622, 'auc': 0.9979302287101746}\n",
            "182/689 [======>.......................] - ETA: 8s - loss: 0.0504 - tp: 2887.0000 - fp: 51.0000 - tn: 2833.0000 - fn: 53.0000 - acc: 0.9821 - precision: 0.9826 - recall: 0.9820 - auc: 0.9979\n",
            " Batch Number 183 the model has a lot of {'loss': 0.051396314054727554, 'tp': 2898.0, 'fp': 53.0, 'tn': 2852.0, 'fn': 53.0, 'acc': 0.9818989038467407, 'precision': 0.9820399880409241, 'recall': 0.9820399880409241, 'auc': 0.9978702664375305}\n",
            "\n",
            " Batch Number 184 the model has a lot of {'loss': 0.051246896386146545, 'tp': 2918.0, 'fp': 53.0, 'tn': 2864.0, 'fn': 53.0, 'acc': 0.9819973111152649, 'precision': 0.9821608662605286, 'recall': 0.9821608662605286, 'auc': 0.9978784322738647}\n",
            "\n",
            " Batch Number 185 the model has a lot of {'loss': 0.05114156752824783, 'tp': 2933.0, 'fp': 53.0, 'tn': 2880.0, 'fn': 54.0, 'acc': 0.9819256663322449, 'precision': 0.9822505116462708, 'recall': 0.9819216728210449, 'auc': 0.9978880882263184}\n",
            "185/689 [=======>......................] - ETA: 8s - loss: 0.0511 - tp: 2933.0000 - fp: 53.0000 - tn: 2880.0000 - fn: 54.0000 - acc: 0.9819 - precision: 0.9823 - recall: 0.9819 - auc: 0.9979\n",
            " Batch Number 186 the model has a lot of {'loss': 0.05115437135100365, 'tp': 2948.0, 'fp': 53.0, 'tn': 2896.0, 'fn': 55.0, 'acc': 0.9818548560142517, 'precision': 0.9823392033576965, 'recall': 0.9816849827766418, 'auc': 0.9978906512260437}\n",
            "\n",
            " Batch Number 187 the model has a lot of {'loss': 0.05121384188532829, 'tp': 2966.0, 'fp': 54.0, 'tn': 2909.0, 'fn': 55.0, 'acc': 0.9817847609519958, 'precision': 0.9821192026138306, 'recall': 0.9817941188812256, 'auc': 0.99788898229599}\n",
            "\n",
            " Batch Number 188 the model has a lot of {'loss': 0.05155210942029953, 'tp': 2980.0, 'fp': 55.0, 'tn': 2925.0, 'fn': 56.0, 'acc': 0.9815492033958435, 'precision': 0.9818781018257141, 'recall': 0.9815546870231628, 'auc': 0.9978708624839783}\n",
            "188/689 [=======>......................] - ETA: 8s - loss: 0.0516 - tp: 2980.0000 - fp: 55.0000 - tn: 2925.0000 - fn: 56.0000 - acc: 0.9815 - precision: 0.9819 - recall: 0.9816 - auc: 0.9979\n",
            " Batch Number 189 the model has a lot of {'loss': 0.05142371729016304, 'tp': 2996.0, 'fp': 55.0, 'tn': 2941.0, 'fn': 56.0, 'acc': 0.9816468358039856, 'precision': 0.9819731116294861, 'recall': 0.9816513657569885, 'auc': 0.9978812336921692}\n",
            "\n",
            " Batch Number 190 the model has a lot of {'loss': 0.05126835033297539, 'tp': 3013.0, 'fp': 55.0, 'tn': 2956.0, 'fn': 56.0, 'acc': 0.9817433953285217, 'precision': 0.9820730090141296, 'recall': 0.9817529916763306, 'auc': 0.9978901743888855}\n",
            "\n",
            " Batch Number 191 the model has a lot of {'loss': 0.05102479085326195, 'tp': 3030.0, 'fp': 55.0, 'tn': 2971.0, 'fn': 56.0, 'acc': 0.9818390011787415, 'precision': 0.9821717739105225, 'recall': 0.9818535447120667, 'auc': 0.997905433177948}\n",
            "191/689 [=======>......................] - ETA: 8s - loss: 0.0510 - tp: 3030.0000 - fp: 55.0000 - tn: 2971.0000 - fn: 56.0000 - acc: 0.9818 - precision: 0.9822 - recall: 0.9819 - auc: 0.9979\n",
            " Batch Number 192 the model has a lot of {'loss': 0.05078479275107384, 'tp': 3046.0, 'fp': 55.0, 'tn': 2987.0, 'fn': 56.0, 'acc': 0.98193359375, 'precision': 0.9822638034820557, 'recall': 0.981947124004364, 'auc': 0.9979223012924194}\n",
            "\n",
            " Batch Number 193 the model has a lot of {'loss': 0.050747860223054886, 'tp': 3059.0, 'fp': 55.0, 'tn': 3006.0, 'fn': 56.0, 'acc': 0.9820271730422974, 'precision': 0.9823378324508667, 'recall': 0.9820224642753601, 'auc': 0.997929036617279}\n",
            "\n",
            " Batch Number 194 the model has a lot of {'loss': 0.05051581934094429, 'tp': 3075.0, 'fp': 55.0, 'tn': 3022.0, 'fn': 56.0, 'acc': 0.9821198582649231, 'precision': 0.9824281334877014, 'recall': 0.982114315032959, 'auc': 0.9979445338249207}\n",
            "194/689 [=======>......................] - ETA: 8s - loss: 0.0505 - tp: 3075.0000 - fp: 55.0000 - tn: 3022.0000 - fn: 56.0000 - acc: 0.9821 - precision: 0.9824 - recall: 0.9821 - auc: 0.9979\n",
            " Batch Number 195 the model has a lot of {'loss': 0.05113741010427475, 'tp': 3089.0, 'fp': 56.0, 'tn': 3039.0, 'fn': 56.0, 'acc': 0.9820512533187866, 'precision': 0.9821939468383789, 'recall': 0.9821939468383789, 'auc': 0.997878909111023}\n",
            "\n",
            " Batch Number 196 the model has a lot of {'loss': 0.05112028494477272, 'tp': 3107.0, 'fp': 57.0, 'tn': 3052.0, 'fn': 56.0, 'acc': 0.9819834232330322, 'precision': 0.9819848537445068, 'recall': 0.9822952747344971, 'auc': 0.9978805780410767}\n",
            "\n",
            " Batch Number 197 the model has a lot of {'loss': 0.05096927285194397, 'tp': 3123.0, 'fp': 57.0, 'tn': 3068.0, 'fn': 56.0, 'acc': 0.9820748567581177, 'precision': 0.9820754528045654, 'recall': 0.9823843836784363, 'auc': 0.9978923201560974}\n",
            "197/689 [=======>......................] - ETA: 8s - loss: 0.0510 - tp: 3123.0000 - fp: 57.0000 - tn: 3068.0000 - fn: 56.0000 - acc: 0.9821 - precision: 0.9821 - recall: 0.9824 - auc: 0.9979\n",
            " Batch Number 198 the model has a lot of {'loss': 0.05073969438672066, 'tp': 3140.0, 'fp': 57.0, 'tn': 3083.0, 'fn': 56.0, 'acc': 0.9821653962135315, 'precision': 0.9821707606315613, 'recall': 0.9824780821800232, 'auc': 0.997908353805542}\n",
            "\n",
            " Batch Number 199 the model has a lot of {'loss': 0.05097073316574097, 'tp': 3158.0, 'fp': 57.0, 'tn': 3095.0, 'fn': 58.0, 'acc': 0.9819409251213074, 'precision': 0.9822705984115601, 'recall': 0.981965184211731, 'auc': 0.9978989958763123}\n",
            "\n",
            " Batch Number 200 the model has a lot of {'loss': 0.050885289907455444, 'tp': 3174.0, 'fp': 57.0, 'tn': 3111.0, 'fn': 58.0, 'acc': 0.9820312261581421, 'precision': 0.9823583960533142, 'recall': 0.9820544719696045, 'auc': 0.9979040026664734}\n",
            "200/689 [=======>......................] - ETA: 8s - loss: 0.0509 - tp: 3174.0000 - fp: 57.0000 - tn: 3111.0000 - fn: 58.0000 - acc: 0.9820 - precision: 0.9824 - recall: 0.9821 - auc: 0.9979\n",
            " Batch Number 201 the model has a lot of {'loss': 0.05206150934100151, 'tp': 3185.0, 'fp': 60.0, 'tn': 3129.0, 'fn': 58.0, 'acc': 0.9816542267799377, 'precision': 0.9815100431442261, 'recall': 0.9821153283119202, 'auc': 0.9978228807449341}\n",
            "\n",
            " Batch Number 202 the model has a lot of {'loss': 0.051882054656744, 'tp': 3203.0, 'fp': 60.0, 'tn': 3143.0, 'fn': 58.0, 'acc': 0.9817450642585754, 'precision': 0.9816120266914368, 'recall': 0.9822140336036682, 'auc': 0.9978349208831787}\n",
            "\n",
            " Batch Number 203 the model has a lot of {'loss': 0.051694732159376144, 'tp': 3223.0, 'fp': 60.0, 'tn': 3155.0, 'fn': 58.0, 'acc': 0.9818349480628967, 'precision': 0.9817240238189697, 'recall': 0.9823224544525146, 'auc': 0.9978446960449219}\n",
            "203/689 [=======>......................] - ETA: 8s - loss: 0.0517 - tp: 3223.0000 - fp: 60.0000 - tn: 3155.0000 - fn: 58.0000 - acc: 0.9818 - precision: 0.9817 - recall: 0.9823 - auc: 0.9978\n",
            " Batch Number 204 the model has a lot of {'loss': 0.05189952999353409, 'tp': 3236.0, 'fp': 61.0, 'tn': 3173.0, 'fn': 58.0, 'acc': 0.9817708134651184, 'precision': 0.9814983606338501, 'recall': 0.9823922514915466, 'auc': 0.9978362917900085}\n",
            "\n",
            " Batch Number 205 the model has a lot of {'loss': 0.05168502777814865, 'tp': 3253.0, 'fp': 61.0, 'tn': 3188.0, 'fn': 58.0, 'acc': 0.9818597435951233, 'precision': 0.9815932512283325, 'recall': 0.9824826121330261, 'auc': 0.9978494644165039}\n",
            "\n",
            " Batch Number 206 the model has a lot of {'loss': 0.05163154378533363, 'tp': 3266.0, 'fp': 62.0, 'tn': 3206.0, 'fn': 58.0, 'acc': 0.981796145439148, 'precision': 0.981370210647583, 'recall': 0.9825511574745178, 'auc': 0.9978576302528381}\n",
            "206/689 [=======>......................] - ETA: 8s - loss: 0.0516 - tp: 3266.0000 - fp: 62.0000 - tn: 3206.0000 - fn: 58.0000 - acc: 0.9818 - precision: 0.9814 - recall: 0.9826 - auc: 0.9979\n",
            " Batch Number 207 the model has a lot of {'loss': 0.05153503641486168, 'tp': 3285.0, 'fp': 62.0, 'tn': 3219.0, 'fn': 58.0, 'acc': 0.9818840622901917, 'precision': 0.9814759492874146, 'recall': 0.9826503396034241, 'auc': 0.9978653788566589}\n",
            "\n",
            " Batch Number 208 the model has a lot of {'loss': 0.051556117832660675, 'tp': 3298.0, 'fp': 63.0, 'tn': 3237.0, 'fn': 58.0, 'acc': 0.9818209409713745, 'precision': 0.9812555909156799, 'recall': 0.9827175140380859, 'auc': 0.9978675246238708}\n",
            "\n",
            " Batch Number 209 the model has a lot of {'loss': 0.05159461498260498, 'tp': 3314.0, 'fp': 63.0, 'tn': 3252.0, 'fn': 59.0, 'acc': 0.9817583560943604, 'precision': 0.9813444018363953, 'recall': 0.9825081825256348, 'auc': 0.9978693127632141}\n",
            "209/689 [========>.....................] - ETA: 8s - loss: 0.0516 - tp: 3314.0000 - fp: 63.0000 - tn: 3252.0000 - fn: 59.0000 - acc: 0.9818 - precision: 0.9813 - recall: 0.9825 - auc: 0.9979\n",
            " Batch Number 210 the model has a lot of {'loss': 0.051392678171396255, 'tp': 3327.0, 'fp': 63.0, 'tn': 3271.0, 'fn': 59.0, 'acc': 0.9818452596664429, 'precision': 0.9814159274101257, 'recall': 0.9825752973556519, 'auc': 0.9978844523429871}\n",
            "\n",
            " Batch Number 211 the model has a lot of {'loss': 0.051334086805582047, 'tp': 3346.0, 'fp': 63.0, 'tn': 3284.0, 'fn': 59.0, 'acc': 0.9819312691688538, 'precision': 0.9815195202827454, 'recall': 0.9826725125312805, 'auc': 0.997885525226593}\n",
            "\n",
            " Batch Number 212 the model has a lot of {'loss': 0.05124351382255554, 'tp': 3363.0, 'fp': 63.0, 'tn': 3299.0, 'fn': 59.0, 'acc': 0.9820165038108826, 'precision': 0.9816111922264099, 'recall': 0.982758641242981, 'auc': 0.9978920817375183}\n",
            "212/689 [========>.....................] - ETA: 8s - loss: 0.0512 - tp: 3363.0000 - fp: 63.0000 - tn: 3299.0000 - fn: 59.0000 - acc: 0.9820 - precision: 0.9816 - recall: 0.9828 - auc: 0.9979\n",
            " Batch Number 213 the model has a lot of {'loss': 0.05128323659300804, 'tp': 3376.0, 'fp': 64.0, 'tn': 3317.0, 'fn': 59.0, 'acc': 0.9819542169570923, 'precision': 0.9813953638076782, 'recall': 0.9828238487243652, 'auc': 0.9978929758071899}\n",
            "\n",
            " Batch Number 214 the model has a lot of {'loss': 0.051365602761507034, 'tp': 3389.0, 'fp': 64.0, 'tn': 3335.0, 'fn': 60.0, 'acc': 0.9818925261497498, 'precision': 0.9814653992652893, 'recall': 0.9826036691665649, 'auc': 0.9978968501091003}\n",
            "\n",
            " Batch Number 215 the model has a lot of {'loss': 0.051178544759750366, 'tp': 3407.0, 'fp': 64.0, 'tn': 3349.0, 'fn': 60.0, 'acc': 0.9819767475128174, 'precision': 0.9815614819526672, 'recall': 0.9826939702033997, 'auc': 0.9979071617126465}\n",
            "215/689 [========>.....................] - ETA: 8s - loss: 0.0512 - tp: 3407.0000 - fp: 64.0000 - tn: 3349.0000 - fn: 60.0000 - acc: 0.9820 - precision: 0.9816 - recall: 0.9827 - auc: 0.9979\n",
            " Batch Number 216 the model has a lot of {'loss': 0.05127503350377083, 'tp': 3420.0, 'fp': 65.0, 'tn': 3367.0, 'fn': 60.0, 'acc': 0.9819155335426331, 'precision': 0.9813486337661743, 'recall': 0.982758641242981, 'auc': 0.9979035258293152}\n",
            "\n",
            " Batch Number 217 the model has a lot of {'loss': 0.05105871334671974, 'tp': 3436.0, 'fp': 65.0, 'tn': 3383.0, 'fn': 60.0, 'acc': 0.981998860836029, 'precision': 0.9814338684082031, 'recall': 0.9828375577926636, 'auc': 0.9979185461997986}\n",
            "\n",
            " Batch Number 218 the model has a lot of {'loss': 0.05084211751818657, 'tp': 3447.0, 'fp': 65.0, 'tn': 3404.0, 'fn': 60.0, 'acc': 0.982081413269043, 'precision': 0.9814920425415039, 'recall': 0.9828913807868958, 'auc': 0.9979338645935059}\n",
            "218/689 [========>.....................] - ETA: 8s - loss: 0.0508 - tp: 3447.0000 - fp: 65.0000 - tn: 3404.0000 - fn: 60.0000 - acc: 0.9821 - precision: 0.9815 - recall: 0.9829 - auc: 0.9979\n",
            " Batch Number 219 the model has a lot of {'loss': 0.050707295536994934, 'tp': 3464.0, 'fp': 65.0, 'tn': 3419.0, 'fn': 60.0, 'acc': 0.9821632504463196, 'precision': 0.9815812110900879, 'recall': 0.9829738736152649, 'auc': 0.9979422688484192}\n",
            "\n",
            " Batch Number 220 the model has a lot of {'loss': 0.05164453759789467, 'tp': 3482.0, 'fp': 65.0, 'tn': 3429.0, 'fn': 64.0, 'acc': 0.9816761612892151, 'precision': 0.9816746711730957, 'recall': 0.9819514751434326, 'auc': 0.9978991150856018}\n",
            "\n",
            " Batch Number 221 the model has a lot of {'loss': 0.05192262679338455, 'tp': 3498.0, 'fp': 66.0, 'tn': 3443.0, 'fn': 65.0, 'acc': 0.9814762473106384, 'precision': 0.9814814925193787, 'recall': 0.9817569255828857, 'auc': 0.9978865385055542}\n",
            "221/689 [========>.....................] - ETA: 8s - loss: 0.0519 - tp: 3498.0000 - fp: 66.0000 - tn: 3443.0000 - fn: 65.0000 - acc: 0.9815 - precision: 0.9815 - recall: 0.9818 - auc: 0.9979\n",
            " Batch Number 222 the model has a lot of {'loss': 0.05176716297864914, 'tp': 3514.0, 'fp': 66.0, 'tn': 3459.0, 'fn': 65.0, 'acc': 0.981559693813324, 'precision': 0.9815642237663269, 'recall': 0.9818385243415833, 'auc': 0.9978970289230347}\n",
            "\n",
            " Batch Number 223 the model has a lot of {'loss': 0.05160447210073471, 'tp': 3528.0, 'fp': 66.0, 'tn': 3477.0, 'fn': 65.0, 'acc': 0.9816423654556274, 'precision': 0.9816360473632812, 'recall': 0.9819092750549316, 'auc': 0.9979094862937927}\n",
            "\n",
            " Batch Number 224 the model has a lot of {'loss': 0.05143151059746742, 'tp': 3544.0, 'fp': 66.0, 'tn': 3493.0, 'fn': 65.0, 'acc': 0.9817243218421936, 'precision': 0.9817174673080444, 'recall': 0.9819894433021545, 'auc': 0.9979196786880493}\n",
            "224/689 [========>.....................] - ETA: 8s - loss: 0.0514 - tp: 3544.0000 - fp: 66.0000 - tn: 3493.0000 - fn: 65.0000 - acc: 0.9817 - precision: 0.9817 - recall: 0.9820 - auc: 0.9979\n",
            " Batch Number 225 the model has a lot of {'loss': 0.05125334858894348, 'tp': 3558.0, 'fp': 66.0, 'tn': 3511.0, 'fn': 65.0, 'acc': 0.9818055629730225, 'precision': 0.9817880988121033, 'recall': 0.9820590615272522, 'auc': 0.9979308247566223}\n",
            "\n",
            " Batch Number 226 the model has a lot of {'loss': 0.051490094512701035, 'tp': 3576.0, 'fp': 66.0, 'tn': 3524.0, 'fn': 66.0, 'acc': 0.9817478060722351, 'precision': 0.9818781018257141, 'recall': 0.9818781018257141, 'auc': 0.9979225993156433}\n",
            "\n",
            " Batch Number 227 the model has a lot of {'loss': 0.05186251550912857, 'tp': 3595.0, 'fp': 66.0, 'tn': 3535.0, 'fn': 68.0, 'acc': 0.9815528392791748, 'precision': 0.9819721579551697, 'recall': 0.9814359545707703, 'auc': 0.9979048371315002}\n",
            "227/689 [========>.....................] - ETA: 7s - loss: 0.0519 - tp: 3595.0000 - fp: 66.0000 - tn: 3535.0000 - fn: 68.0000 - acc: 0.9816 - precision: 0.9820 - recall: 0.9814 - auc: 0.9979\n",
            " Batch Number 228 the model has a lot of {'loss': 0.0517624132335186, 'tp': 3612.0, 'fp': 66.0, 'tn': 3550.0, 'fn': 68.0, 'acc': 0.9816337823867798, 'precision': 0.9820554852485657, 'recall': 0.981521725654602, 'auc': 0.9979116320610046}\n",
            "\n",
            " Batch Number 229 the model has a lot of {'loss': 0.05167747661471367, 'tp': 3630.0, 'fp': 66.0, 'tn': 3564.0, 'fn': 68.0, 'acc': 0.9817139506340027, 'precision': 0.9821428656578064, 'recall': 0.9816116690635681, 'auc': 0.9979194402694702}\n",
            "\n",
            " Batch Number 230 the model has a lot of {'loss': 0.051647696644067764, 'tp': 3644.0, 'fp': 66.0, 'tn': 3581.0, 'fn': 69.0, 'acc': 0.9816576242446899, 'precision': 0.9822102189064026, 'recall': 0.981416642665863, 'auc': 0.9979256391525269}\n",
            "230/689 [=========>....................] - ETA: 7s - loss: 0.0516 - tp: 3644.0000 - fp: 66.0000 - tn: 3581.0000 - fn: 69.0000 - acc: 0.9817 - precision: 0.9822 - recall: 0.9814 - auc: 0.9979\n",
            " Batch Number 231 the model has a lot of {'loss': 0.05181322991847992, 'tp': 3663.0, 'fp': 67.0, 'tn': 3593.0, 'fn': 69.0, 'acc': 0.9816017150878906, 'precision': 0.9820375442504883, 'recall': 0.9815112352371216, 'auc': 0.9979133009910583}\n",
            "\n",
            " Batch Number 232 the model has a lot of {'loss': 0.051725078374147415, 'tp': 3681.0, 'fp': 67.0, 'tn': 3607.0, 'fn': 69.0, 'acc': 0.9816810488700867, 'precision': 0.9821237921714783, 'recall': 0.9815999865531921, 'auc': 0.9979199767112732}\n",
            "\n",
            " Batch Number 233 the model has a lot of {'loss': 0.05156296119093895, 'tp': 3700.0, 'fp': 67.0, 'tn': 3620.0, 'fn': 69.0, 'acc': 0.9817596673965454, 'precision': 0.9822139739990234, 'recall': 0.9816927313804626, 'auc': 0.9979289770126343}\n",
            "233/689 [=========>....................] - ETA: 7s - loss: 0.0516 - tp: 3700.0000 - fp: 67.0000 - tn: 3620.0000 - fn: 69.0000 - acc: 0.9818 - precision: 0.9822 - recall: 0.9817 - auc: 0.9979\n",
            " Batch Number 234 the model has a lot of {'loss': 0.051423635333776474, 'tp': 3712.0, 'fp': 67.0, 'tn': 3640.0, 'fn': 69.0, 'acc': 0.9818376302719116, 'precision': 0.9822704195976257, 'recall': 0.9817508459091187, 'auc': 0.997940182685852}\n",
            "\n",
            " Batch Number 235 the model has a lot of {'loss': 0.05129270255565643, 'tp': 3727.0, 'fp': 67.0, 'tn': 3657.0, 'fn': 69.0, 'acc': 0.9819148778915405, 'precision': 0.9823405146598816, 'recall': 0.9818229675292969, 'auc': 0.9979497790336609}\n",
            "\n",
            " Batch Number 236 the model has a lot of {'loss': 0.05130867287516594, 'tp': 3742.0, 'fp': 68.0, 'tn': 3673.0, 'fn': 69.0, 'acc': 0.9818590879440308, 'precision': 0.9821522235870361, 'recall': 0.9818944931030273, 'auc': 0.9979515671730042}\n",
            "236/689 [=========>....................] - ETA: 7s - loss: 0.0513 - tp: 3742.0000 - fp: 68.0000 - tn: 3673.0000 - fn: 69.0000 - acc: 0.9819 - precision: 0.9822 - recall: 0.9819 - auc: 0.9980\n",
            " Batch Number 237 the model has a lot of {'loss': 0.051322247833013535, 'tp': 3755.0, 'fp': 70.0, 'tn': 3690.0, 'fn': 69.0, 'acc': 0.981671929359436, 'precision': 0.9816993474960327, 'recall': 0.9819560647010803, 'auc': 0.9979549050331116}\n",
            "\n",
            " Batch Number 238 the model has a lot of {'loss': 0.05225219205021858, 'tp': 3771.0, 'fp': 72.0, 'tn': 3704.0, 'fn': 69.0, 'acc': 0.9814863204956055, 'precision': 0.9812646508216858, 'recall': 0.9820312261581421, 'auc': 0.9978629350662231}\n",
            "\n",
            " Batch Number 239 the model has a lot of {'loss': 0.05212485045194626, 'tp': 3788.0, 'fp': 72.0, 'tn': 3719.0, 'fn': 69.0, 'acc': 0.9815638065338135, 'precision': 0.9813471436500549, 'recall': 0.9821104407310486, 'auc': 0.9978734254837036}\n",
            "239/689 [=========>....................] - ETA: 7s - loss: 0.0521 - tp: 3788.0000 - fp: 72.0000 - tn: 3719.0000 - fn: 69.0000 - acc: 0.9816 - precision: 0.9813 - recall: 0.9821 - auc: 0.9979\n",
            " Batch Number 240 the model has a lot of {'loss': 0.05266748368740082, 'tp': 3801.0, 'fp': 74.0, 'tn': 3736.0, 'fn': 69.0, 'acc': 0.9813802242279053, 'precision': 0.9809032082557678, 'recall': 0.9821705222129822, 'auc': 0.9978330135345459}\n",
            "\n",
            " Batch Number 241 the model has a lot of {'loss': 0.05295167863368988, 'tp': 3818.0, 'fp': 75.0, 'tn': 3750.0, 'fn': 69.0, 'acc': 0.9813277721405029, 'precision': 0.980734646320343, 'recall': 0.9822485446929932, 'auc': 0.9978094696998596}\n",
            "\n",
            " Batch Number 242 the model has a lot of {'loss': 0.05313371121883392, 'tp': 3833.0, 'fp': 76.0, 'tn': 3766.0, 'fn': 69.0, 'acc': 0.9812757968902588, 'precision': 0.9805576801300049, 'recall': 0.9823167324066162, 'auc': 0.9978049993515015}\n",
            "242/689 [=========>....................] - ETA: 7s - loss: 0.0531 - tp: 3833.0000 - fp: 76.0000 - tn: 3766.0000 - fn: 69.0000 - acc: 0.9813 - precision: 0.9806 - recall: 0.9823 - auc: 0.9978\n",
            " Batch Number 243 the model has a lot of {'loss': 0.05328584089875221, 'tp': 3844.0, 'fp': 77.0, 'tn': 3786.0, 'fn': 69.0, 'acc': 0.9812242984771729, 'precision': 0.9803621768951416, 'recall': 0.9823664426803589, 'auc': 0.9978012442588806}\n",
            "\n",
            " Batch Number 244 the model has a lot of {'loss': 0.0531340092420578, 'tp': 3861.0, 'fp': 77.0, 'tn': 3801.0, 'fn': 69.0, 'acc': 0.9813012480735779, 'precision': 0.9804469347000122, 'recall': 0.9824427366256714, 'auc': 0.9978125095367432}\n",
            "\n",
            " Batch Number 245 the model has a lot of {'loss': 0.05299210920929909, 'tp': 3875.0, 'fp': 77.0, 'tn': 3819.0, 'fn': 69.0, 'acc': 0.9813775420188904, 'precision': 0.9805161952972412, 'recall': 0.9825050830841064, 'auc': 0.9978229999542236}\n",
            "245/689 [=========>....................] - ETA: 7s - loss: 0.0530 - tp: 3875.0000 - fp: 77.0000 - tn: 3819.0000 - fn: 69.0000 - acc: 0.9814 - precision: 0.9805 - recall: 0.9825 - auc: 0.9978\n",
            " Batch Number 246 the model has a lot of {'loss': 0.052795421332120895, 'tp': 3890.0, 'fp': 77.0, 'tn': 3836.0, 'fn': 69.0, 'acc': 0.9814532399177551, 'precision': 0.9805898666381836, 'recall': 0.9825713634490967, 'auc': 0.9978366494178772}\n",
            "\n",
            " Batch Number 247 the model has a lot of {'loss': 0.053104449063539505, 'tp': 3909.0, 'fp': 78.0, 'tn': 3847.0, 'fn': 70.0, 'acc': 0.9812753200531006, 'precision': 0.9804364442825317, 'recall': 0.9824076294898987, 'auc': 0.9978245496749878}\n",
            "\n",
            " Batch Number 248 the model has a lot of {'loss': 0.05298890545964241, 'tp': 3923.0, 'fp': 79.0, 'tn': 3864.0, 'fn': 70.0, 'acc': 0.981224775314331, 'precision': 0.980259895324707, 'recall': 0.9824693202972412, 'auc': 0.9978350400924683}\n",
            "248/689 [=========>....................] - ETA: 7s - loss: 0.0530 - tp: 3923.0000 - fp: 79.0000 - tn: 3864.0000 - fn: 70.0000 - acc: 0.9812 - precision: 0.9803 - recall: 0.9825 - auc: 0.9978\n",
            " Batch Number 249 the model has a lot of {'loss': 0.05278222635388374, 'tp': 3939.0, 'fp': 79.0, 'tn': 3880.0, 'fn': 70.0, 'acc': 0.9813001751899719, 'precision': 0.980338454246521, 'recall': 0.9825392961502075, 'auc': 0.9978506565093994}\n",
            "\n",
            " Batch Number 250 the model has a lot of {'loss': 0.05287761241197586, 'tp': 3949.0, 'fp': 80.0, 'tn': 3901.0, 'fn': 70.0, 'acc': 0.981249988079071, 'precision': 0.9801439642906189, 'recall': 0.9825827479362488, 'auc': 0.9978470206260681}\n",
            "\n",
            " Batch Number 251 the model has a lot of {'loss': 0.052677225321531296, 'tp': 3963.0, 'fp': 80.0, 'tn': 3919.0, 'fn': 70.0, 'acc': 0.9813246726989746, 'precision': 0.9802126884460449, 'recall': 0.982643187046051, 'auc': 0.9978604912757874}\n",
            "251/689 [=========>....................] - ETA: 7s - loss: 0.0527 - tp: 3963.0000 - fp: 80.0000 - tn: 3919.0000 - fn: 70.0000 - acc: 0.9813 - precision: 0.9802 - recall: 0.9826 - auc: 0.9979\n",
            " Batch Number 252 the model has a lot of {'loss': 0.05250268802046776, 'tp': 3976.0, 'fp': 80.0, 'tn': 3938.0, 'fn': 70.0, 'acc': 0.9813988208770752, 'precision': 0.9802761077880859, 'recall': 0.9826989769935608, 'auc': 0.9978722333908081}\n",
            "\n",
            " Batch Number 253 the model has a lot of {'loss': 0.052689604461193085, 'tp': 3994.0, 'fp': 80.0, 'tn': 3951.0, 'fn': 71.0, 'acc': 0.9813488125801086, 'precision': 0.9803632497787476, 'recall': 0.9825338125228882, 'auc': 0.9978644251823425}\n",
            "\n",
            " Batch Number 254 the model has a lot of {'loss': 0.0525553934276104, 'tp': 4013.0, 'fp': 80.0, 'tn': 3964.0, 'fn': 71.0, 'acc': 0.9814222455024719, 'precision': 0.9804544448852539, 'recall': 0.982615053653717, 'auc': 0.9978717565536499}\n",
            "254/689 [==========>...................] - ETA: 7s - loss: 0.0526 - tp: 4013.0000 - fp: 80.0000 - tn: 3964.0000 - fn: 71.0000 - acc: 0.9814 - precision: 0.9805 - recall: 0.9826 - auc: 0.9979\n",
            " Batch Number 255 the model has a lot of {'loss': 0.052519943565130234, 'tp': 4028.0, 'fp': 80.0, 'tn': 3980.0, 'fn': 72.0, 'acc': 0.9813725352287292, 'precision': 0.98052579164505, 'recall': 0.9824390411376953, 'auc': 0.9978749752044678}\n",
            "\n",
            " Batch Number 256 the model has a lot of {'loss': 0.052356135100126266, 'tp': 4040.0, 'fp': 80.0, 'tn': 4000.0, 'fn': 72.0, 'acc': 0.9814453125, 'precision': 0.9805825352668762, 'recall': 0.9824903011322021, 'auc': 0.9978874325752258}\n",
            "\n",
            " Batch Number 257 the model has a lot of {'loss': 0.05217120423913002, 'tp': 4049.0, 'fp': 80.0, 'tn': 4023.0, 'fn': 72.0, 'acc': 0.981517493724823, 'precision': 0.9806248545646667, 'recall': 0.9825285077095032, 'auc': 0.9979008436203003}\n",
            "257/689 [==========>...................] - ETA: 7s - loss: 0.0522 - tp: 4049.0000 - fp: 80.0000 - tn: 4023.0000 - fn: 72.0000 - acc: 0.9815 - precision: 0.9806 - recall: 0.9825 - auc: 0.9979\n",
            " Batch Number 258 the model has a lot of {'loss': 0.05200628936290741, 'tp': 4063.0, 'fp': 80.0, 'tn': 4041.0, 'fn': 72.0, 'acc': 0.981589138507843, 'precision': 0.9806903004646301, 'recall': 0.9825876951217651, 'auc': 0.9979124665260315}\n",
            "\n",
            " Batch Number 259 the model has a lot of {'loss': 0.051830850541591644, 'tp': 4078.0, 'fp': 80.0, 'tn': 4058.0, 'fn': 72.0, 'acc': 0.9816602468490601, 'precision': 0.9807599782943726, 'recall': 0.9826505780220032, 'auc': 0.997923731803894}\n",
            "\n",
            " Batch Number 260 the model has a lot of {'loss': 0.05175914987921715, 'tp': 4091.0, 'fp': 80.0, 'tn': 4076.0, 'fn': 73.0, 'acc': 0.9816105961799622, 'precision': 0.9808199405670166, 'recall': 0.9824687838554382, 'auc': 0.9979309439659119}\n",
            "260/689 [==========>...................] - ETA: 7s - loss: 0.0518 - tp: 4091.0000 - fp: 80.0000 - tn: 4076.0000 - fn: 73.0000 - acc: 0.9816 - precision: 0.9808 - recall: 0.9825 - auc: 0.9979\n",
            " Batch Number 261 the model has a lot of {'loss': 0.051765263080596924, 'tp': 4109.0, 'fp': 80.0, 'tn': 4090.0, 'fn': 73.0, 'acc': 0.9816810488700867, 'precision': 0.980902373790741, 'recall': 0.9825442433357239, 'auc': 0.9979298114776611}\n",
            "\n",
            " Batch Number 262 the model has a lot of {'loss': 0.051588986068964005, 'tp': 4123.0, 'fp': 80.0, 'tn': 4108.0, 'fn': 73.0, 'acc': 0.9817509651184082, 'precision': 0.9809659719467163, 'recall': 0.9826024770736694, 'auc': 0.9979420900344849}\n",
            "\n",
            " Batch Number 263 the model has a lot of {'loss': 0.05144580826163292, 'tp': 4142.0, 'fp': 80.0, 'tn': 4121.0, 'fn': 73.0, 'acc': 0.9818203449249268, 'precision': 0.9810516238212585, 'recall': 0.9826809167861938, 'auc': 0.9979496598243713}\n",
            "263/689 [==========>...................] - ETA: 7s - loss: 0.0514 - tp: 4142.0000 - fp: 80.0000 - tn: 4121.0000 - fn: 73.0000 - acc: 0.9818 - precision: 0.9811 - recall: 0.9827 - auc: 0.9979\n",
            " Batch Number 264 the model has a lot of {'loss': 0.051431119441986084, 'tp': 4161.0, 'fp': 80.0, 'tn': 4134.0, 'fn': 73.0, 'acc': 0.9818891882896423, 'precision': 0.9811365008354187, 'recall': 0.982758641242981, 'auc': 0.997949481010437}\n",
            "\n",
            " Batch Number 265 the model has a lot of {'loss': 0.051274798810482025, 'tp': 4175.0, 'fp': 80.0, 'tn': 4152.0, 'fn': 73.0, 'acc': 0.9819575548171997, 'precision': 0.9811986088752747, 'recall': 0.9828154444694519, 'auc': 0.9979593753814697}\n",
            "\n",
            " Batch Number 266 the model has a lot of {'loss': 0.051361989229917526, 'tp': 4191.0, 'fp': 80.0, 'tn': 4167.0, 'fn': 74.0, 'acc': 0.9819079041481018, 'precision': 0.9812690019607544, 'recall': 0.9826494455337524, 'auc': 0.9979590177536011}\n",
            "266/689 [==========>...................] - ETA: 7s - loss: 0.0514 - tp: 4191.0000 - fp: 80.0000 - tn: 4167.0000 - fn: 74.0000 - acc: 0.9819 - precision: 0.9813 - recall: 0.9826 - auc: 0.9980\n",
            " Batch Number 267 the model has a lot of {'loss': 0.05125359445810318, 'tp': 4202.0, 'fp': 80.0, 'tn': 4188.0, 'fn': 74.0, 'acc': 0.9819756746292114, 'precision': 0.9813171625137329, 'recall': 0.9826940894126892, 'auc': 0.9979676008224487}\n",
            "\n",
            " Batch Number 268 the model has a lot of {'loss': 0.05127014219760895, 'tp': 4222.0, 'fp': 80.0, 'tn': 4199.0, 'fn': 75.0, 'acc': 0.9819263219833374, 'precision': 0.9814040064811707, 'recall': 0.9825459718704224, 'auc': 0.9979671239852905}\n",
            "\n",
            " Batch Number 269 the model has a lot of {'loss': 0.051093362271785736, 'tp': 4239.0, 'fp': 80.0, 'tn': 4214.0, 'fn': 75.0, 'acc': 0.9819934964179993, 'precision': 0.9814772009849548, 'recall': 0.9826147556304932, 'auc': 0.997979462146759}\n",
            "269/689 [==========>...................] - ETA: 7s - loss: 0.0511 - tp: 4239.0000 - fp: 80.0000 - tn: 4214.0000 - fn: 75.0000 - acc: 0.9820 - precision: 0.9815 - recall: 0.9826 - auc: 0.9980\n",
            " Batch Number 270 the model has a lot of {'loss': 0.05093330517411232, 'tp': 4255.0, 'fp': 80.0, 'tn': 4230.0, 'fn': 75.0, 'acc': 0.9820601940155029, 'precision': 0.9815455675125122, 'recall': 0.982679009437561, 'auc': 0.9979905486106873}\n",
            "\n",
            " Batch Number 271 the model has a lot of {'loss': 0.05077456310391426, 'tp': 4272.0, 'fp': 80.0, 'tn': 4245.0, 'fn': 75.0, 'acc': 0.9821263551712036, 'precision': 0.9816176295280457, 'recall': 0.9827467203140259, 'auc': 0.9980005025863647}\n",
            "\n",
            " Batch Number 272 the model has a lot of {'loss': 0.05061645060777664, 'tp': 4288.0, 'fp': 80.0, 'tn': 4261.0, 'fn': 75.0, 'acc': 0.9821920990943909, 'precision': 0.9816849827766418, 'recall': 0.9828100204467773, 'auc': 0.9980114102363586}\n",
            "272/689 [==========>...................] - ETA: 7s - loss: 0.0506 - tp: 4288.0000 - fp: 80.0000 - tn: 4261.0000 - fn: 75.0000 - acc: 0.9822 - precision: 0.9817 - recall: 0.9828 - auc: 0.9980\n",
            " Batch Number 273 the model has a lot of {'loss': 0.050458647310733795, 'tp': 4301.0, 'fp': 80.0, 'tn': 4280.0, 'fn': 75.0, 'acc': 0.9822573065757751, 'precision': 0.981739342212677, 'recall': 0.9828610420227051, 'auc': 0.9980230331420898}\n",
            "\n",
            " Batch Number 274 the model has a lot of {'loss': 0.0504455529153347, 'tp': 4313.0, 'fp': 81.0, 'tn': 4299.0, 'fn': 75.0, 'acc': 0.9822080135345459, 'precision': 0.9815657734870911, 'recall': 0.9829079508781433, 'auc': 0.9980272650718689}\n",
            "\n",
            " Batch Number 275 the model has a lot of {'loss': 0.050308022648096085, 'tp': 4331.0, 'fp': 81.0, 'tn': 4313.0, 'fn': 75.0, 'acc': 0.982272744178772, 'precision': 0.9816409945487976, 'recall': 0.9829777479171753, 'auc': 0.9980354905128479}\n",
            "275/689 [==========>...................] - ETA: 7s - loss: 0.0503 - tp: 4331.0000 - fp: 81.0000 - tn: 4313.0000 - fn: 75.0000 - acc: 0.9823 - precision: 0.9816 - recall: 0.9830 - auc: 0.9980\n",
            " Batch Number 276 the model has a lot of {'loss': 0.050453051924705505, 'tp': 4347.0, 'fp': 83.0, 'tn': 4327.0, 'fn': 75.0, 'acc': 0.9821105003356934, 'precision': 0.9812641143798828, 'recall': 0.9830393195152283, 'auc': 0.9980312585830688}\n",
            "\n",
            " Batch Number 277 the model has a lot of {'loss': 0.050616469234228134, 'tp': 4368.0, 'fp': 83.0, 'tn': 4337.0, 'fn': 76.0, 'acc': 0.9820622801780701, 'precision': 0.9813525080680847, 'recall': 0.9828982949256897, 'auc': 0.9980228543281555}\n",
            "\n",
            " Batch Number 278 the model has a lot of {'loss': 0.050542160868644714, 'tp': 4379.0, 'fp': 83.0, 'tn': 4358.0, 'fn': 76.0, 'acc': 0.982126772403717, 'precision': 0.9813984632492065, 'recall': 0.9829404950141907, 'auc': 0.9980299472808838}\n",
            "278/689 [===========>..................] - ETA: 7s - loss: 0.0505 - tp: 4379.0000 - fp: 83.0000 - tn: 4358.0000 - fn: 76.0000 - acc: 0.9821 - precision: 0.9814 - recall: 0.9829 - auc: 0.9980\n",
            " Batch Number 279 the model has a lot of {'loss': 0.0509195551276207, 'tp': 4400.0, 'fp': 83.0, 'tn': 4368.0, 'fn': 77.0, 'acc': 0.9820788502693176, 'precision': 0.9814856052398682, 'recall': 0.9828009605407715, 'auc': 0.9980092644691467}\n",
            "\n",
            " Batch Number 280 the model has a lot of {'loss': 0.05085064470767975, 'tp': 4414.0, 'fp': 84.0, 'tn': 4385.0, 'fn': 77.0, 'acc': 0.9820312261581421, 'precision': 0.9813250303268433, 'recall': 0.9828546047210693, 'auc': 0.998015820980072}\n",
            "\n",
            " Batch Number 281 the model has a lot of {'loss': 0.05070630460977554, 'tp': 4430.0, 'fp': 84.0, 'tn': 4401.0, 'fn': 77.0, 'acc': 0.9820951819419861, 'precision': 0.9813912510871887, 'recall': 0.982915461063385, 'auc': 0.9980266094207764}\n",
            "281/689 [===========>..................] - ETA: 7s - loss: 0.0507 - tp: 4430.0000 - fp: 84.0000 - tn: 4401.0000 - fn: 77.0000 - acc: 0.9821 - precision: 0.9814 - recall: 0.9829 - auc: 0.9980\n",
            " Batch Number 282 the model has a lot of {'loss': 0.050759848207235336, 'tp': 4448.0, 'fp': 84.0, 'tn': 4414.0, 'fn': 78.0, 'acc': 0.9820478558540344, 'precision': 0.9814651608467102, 'recall': 0.9827662110328674, 'auc': 0.9980273842811584}\n",
            "\n",
            " Batch Number 283 the model has a lot of {'loss': 0.050709933042526245, 'tp': 4464.0, 'fp': 85.0, 'tn': 4429.0, 'fn': 78.0, 'acc': 0.9820008873939514, 'precision': 0.9813145995140076, 'recall': 0.9828269481658936, 'auc': 0.9980309009552002}\n",
            "\n",
            " Batch Number 284 the model has a lot of {'loss': 0.05055566504597664, 'tp': 4483.0, 'fp': 85.0, 'tn': 4442.0, 'fn': 78.0, 'acc': 0.9820642471313477, 'precision': 0.9813923239707947, 'recall': 0.982898473739624, 'auc': 0.9980398416519165}\n",
            "284/689 [===========>..................] - ETA: 7s - loss: 0.0506 - tp: 4483.0000 - fp: 85.0000 - tn: 4442.0000 - fn: 78.0000 - acc: 0.9821 - precision: 0.9814 - recall: 0.9829 - auc: 0.9980\n",
            " Batch Number 285 the model has a lot of {'loss': 0.05045783147215843, 'tp': 4498.0, 'fp': 85.0, 'tn': 4459.0, 'fn': 78.0, 'acc': 0.9821271896362305, 'precision': 0.9814531803131104, 'recall': 0.9829545617103577, 'auc': 0.9980462789535522}\n",
            "\n",
            " Batch Number 286 the model has a lot of {'loss': 0.050659120082855225, 'tp': 4509.0, 'fp': 86.0, 'tn': 4479.0, 'fn': 78.0, 'acc': 0.9820803999900818, 'precision': 0.9812840223312378, 'recall': 0.9829954504966736, 'auc': 0.9980329871177673}\n",
            "\n",
            " Batch Number 287 the model has a lot of {'loss': 0.05048906430602074, 'tp': 4526.0, 'fp': 86.0, 'tn': 4494.0, 'fn': 78.0, 'acc': 0.9821428656578064, 'precision': 0.9813529849052429, 'recall': 0.9830582141876221, 'auc': 0.9980452060699463}\n",
            "287/689 [===========>..................] - ETA: 6s - loss: 0.0505 - tp: 4526.0000 - fp: 86.0000 - tn: 4494.0000 - fn: 78.0000 - acc: 0.9821 - precision: 0.9814 - recall: 0.9831 - auc: 0.9980\n",
            " Batch Number 288 the model has a lot of {'loss': 0.050320103764534, 'tp': 4541.0, 'fp': 86.0, 'tn': 4511.0, 'fn': 78.0, 'acc': 0.9822048544883728, 'precision': 0.9814134240150452, 'recall': 0.9831132292747498, 'auc': 0.998056948184967}\n",
            "\n",
            " Batch Number 289 the model has a lot of {'loss': 0.05036256089806557, 'tp': 4554.0, 'fp': 87.0, 'tn': 4529.0, 'fn': 78.0, 'acc': 0.9821583032608032, 'precision': 0.9812540411949158, 'recall': 0.9831606149673462, 'auc': 0.9980565905570984}\n",
            "\n",
            " Batch Number 290 the model has a lot of {'loss': 0.05052332207560539, 'tp': 4573.0, 'fp': 87.0, 'tn': 4540.0, 'fn': 80.0, 'acc': 0.9820042848587036, 'precision': 0.9813304543495178, 'recall': 0.9828068017959595, 'auc': 0.9980490803718567}\n",
            "290/689 [===========>..................] - ETA: 6s - loss: 0.0505 - tp: 4573.0000 - fp: 87.0000 - tn: 4540.0000 - fn: 80.0000 - acc: 0.9820 - precision: 0.9813 - recall: 0.9828 - auc: 0.9980\n",
            " Batch Number 291 the model has a lot of {'loss': 0.05042143166065216, 'tp': 4583.0, 'fp': 87.0, 'tn': 4562.0, 'fn': 80.0, 'acc': 0.9820661544799805, 'precision': 0.9813704490661621, 'recall': 0.9828436374664307, 'auc': 0.9980564713478088}\n",
            "\n",
            " Batch Number 292 the model has a lot of {'loss': 0.050255779176950455, 'tp': 4598.0, 'fp': 87.0, 'tn': 4579.0, 'fn': 80.0, 'acc': 0.9821275472640991, 'precision': 0.9814301133155823, 'recall': 0.9828986525535583, 'auc': 0.9980677962303162}\n",
            "\n",
            " Batch Number 293 the model has a lot of {'loss': 0.050601061433553696, 'tp': 4611.0, 'fp': 88.0, 'tn': 4597.0, 'fn': 80.0, 'acc': 0.9820818901062012, 'precision': 0.9812726378440857, 'recall': 0.9829460382461548, 'auc': 0.998040497303009}\n",
            "293/689 [===========>..................] - ETA: 6s - loss: 0.0506 - tp: 4611.0000 - fp: 88.0000 - tn: 4597.0000 - fn: 80.0000 - acc: 0.9821 - precision: 0.9813 - recall: 0.9829 - auc: 0.9980\n",
            " Batch Number 294 the model has a lot of {'loss': 0.05043288320302963, 'tp': 4625.0, 'fp': 88.0, 'tn': 4615.0, 'fn': 80.0, 'acc': 0.9821428656578064, 'precision': 0.9813282489776611, 'recall': 0.9829968214035034, 'auc': 0.9980522990226746}\n",
            "\n",
            " Batch Number 295 the model has a lot of {'loss': 0.050271112471818924, 'tp': 4640.0, 'fp': 88.0, 'tn': 4632.0, 'fn': 80.0, 'acc': 0.9822033643722534, 'precision': 0.9813874959945679, 'recall': 0.9830508232116699, 'auc': 0.9980638027191162}\n",
            "\n",
            " Batch Number 296 the model has a lot of {'loss': 0.05014427751302719, 'tp': 4657.0, 'fp': 88.0, 'tn': 4647.0, 'fn': 80.0, 'acc': 0.9822635054588318, 'precision': 0.9814541339874268, 'recall': 0.9831116795539856, 'auc': 0.9980723857879639}\n",
            "296/689 [===========>..................] - ETA: 6s - loss: 0.0501 - tp: 4657.0000 - fp: 88.0000 - tn: 4647.0000 - fn: 80.0000 - acc: 0.9823 - precision: 0.9815 - recall: 0.9831 - auc: 0.9981\n",
            " Batch Number 297 the model has a lot of {'loss': 0.05044221132993698, 'tp': 4672.0, 'fp': 89.0, 'tn': 4662.0, 'fn': 81.0, 'acc': 0.9821127653121948, 'precision': 0.9813064336776733, 'recall': 0.9829581379890442, 'auc': 0.998060405254364}\n",
            "\n",
            " Batch Number 298 the model has a lot of {'loss': 0.050587646663188934, 'tp': 4691.0, 'fp': 89.0, 'tn': 4674.0, 'fn': 82.0, 'acc': 0.9820679426193237, 'precision': 0.9813807606697083, 'recall': 0.9828200340270996, 'auc': 0.9980565309524536}\n",
            "\n",
            " Batch Number 299 the model has a lot of {'loss': 0.050992682576179504, 'tp': 4704.0, 'fp': 89.0, 'tn': 4690.0, 'fn': 85.0, 'acc': 0.9818143844604492, 'precision': 0.981431245803833, 'recall': 0.982250988483429, 'auc': 0.998038113117218}\n",
            "299/689 [============>.................] - ETA: 6s - loss: 0.0510 - tp: 4704.0000 - fp: 89.0000 - tn: 4690.0000 - fn: 85.0000 - acc: 0.9818 - precision: 0.9814 - recall: 0.9823 - auc: 0.9980\n",
            " Batch Number 300 the model has a lot of {'loss': 0.051206838339567184, 'tp': 4719.0, 'fp': 90.0, 'tn': 4705.0, 'fn': 86.0, 'acc': 0.9816666841506958, 'precision': 0.9812850952148438, 'recall': 0.9821019768714905, 'auc': 0.9980273246765137}\n",
            "\n",
            " Batch Number 301 the model has a lot of {'loss': 0.05136113613843918, 'tp': 4733.0, 'fp': 91.0, 'tn': 4722.0, 'fn': 86.0, 'acc': 0.9816237688064575, 'precision': 0.9811359643936157, 'recall': 0.9821539521217346, 'auc': 0.9980195164680481}\n",
            "\n",
            " Batch Number 302 the model has a lot of {'loss': 0.05124478042125702, 'tp': 4747.0, 'fp': 91.0, 'tn': 4740.0, 'fn': 86.0, 'acc': 0.9816846251487732, 'precision': 0.98119056224823, 'recall': 0.9822056889533997, 'auc': 0.9980280995368958}\n",
            "302/689 [============>.................] - ETA: 6s - loss: 0.0512 - tp: 4747.0000 - fp: 91.0000 - tn: 4740.0000 - fn: 86.0000 - acc: 0.9817 - precision: 0.9812 - recall: 0.9822 - auc: 0.9980\n",
            " Batch Number 303 the model has a lot of {'loss': 0.05124780535697937, 'tp': 4761.0, 'fp': 91.0, 'tn': 4757.0, 'fn': 87.0, 'acc': 0.9816418886184692, 'precision': 0.9812448620796204, 'recall': 0.9820544719696045, 'auc': 0.9980316758155823}\n",
            "\n",
            " Batch Number 304 the model has a lot of {'loss': 0.051489997655153275, 'tp': 4777.0, 'fp': 92.0, 'tn': 4772.0, 'fn': 87.0, 'acc': 0.9815995097160339, 'precision': 0.9811049699783325, 'recall': 0.9821134805679321, 'auc': 0.9980136752128601}\n",
            "\n",
            " Batch Number 305 the model has a lot of {'loss': 0.051372602581977844, 'tp': 4792.0, 'fp': 92.0, 'tn': 4789.0, 'fn': 87.0, 'acc': 0.9816598296165466, 'precision': 0.981162965297699, 'recall': 0.9821684956550598, 'auc': 0.9980214238166809}\n",
            "305/689 [============>.................] - ETA: 6s - loss: 0.0514 - tp: 4792.0000 - fp: 92.0000 - tn: 4789.0000 - fn: 87.0000 - acc: 0.9817 - precision: 0.9812 - recall: 0.9822 - auc: 0.9980\n",
            " Batch Number 306 the model has a lot of {'loss': 0.05172400549054146, 'tp': 4810.0, 'fp': 92.0, 'tn': 4801.0, 'fn': 89.0, 'acc': 0.9815155267715454, 'precision': 0.9812321662902832, 'recall': 0.9818330407142639, 'auc': 0.9980081915855408}\n",
            "\n",
            " Batch Number 307 the model has a lot of {'loss': 0.0518888495862484, 'tp': 4818.0, 'fp': 94.0, 'tn': 4823.0, 'fn': 89.0, 'acc': 0.9813721776008606, 'precision': 0.9808632135391235, 'recall': 0.9818626642227173, 'auc': 0.9980010390281677}\n",
            "\n",
            " Batch Number 308 the model has a lot of {'loss': 0.051737599074840546, 'tp': 4832.0, 'fp': 94.0, 'tn': 4841.0, 'fn': 89.0, 'acc': 0.9814326167106628, 'precision': 0.9809175729751587, 'recall': 0.981914222240448, 'auc': 0.9980117082595825}\n",
            "308/689 [============>.................] - ETA: 6s - loss: 0.0517 - tp: 4832.0000 - fp: 94.0000 - tn: 4841.0000 - fn: 89.0000 - acc: 0.9814 - precision: 0.9809 - recall: 0.9819 - auc: 0.9980\n",
            " Batch Number 309 the model has a lot of {'loss': 0.05166139081120491, 'tp': 4846.0, 'fp': 94.0, 'tn': 4859.0, 'fn': 89.0, 'acc': 0.9814926981925964, 'precision': 0.98097163438797, 'recall': 0.9819655418395996, 'auc': 0.9980173707008362}\n",
            "\n",
            " Batch Number 310 the model has a lot of {'loss': 0.051550522446632385, 'tp': 4861.0, 'fp': 94.0, 'tn': 4876.0, 'fn': 89.0, 'acc': 0.9815524220466614, 'precision': 0.9810292720794678, 'recall': 0.9820201992988586, 'auc': 0.998023509979248}\n",
            "\n",
            " Batch Number 311 the model has a lot of {'loss': 0.05141172558069229, 'tp': 4879.0, 'fp': 94.0, 'tn': 4890.0, 'fn': 89.0, 'acc': 0.9816117286682129, 'precision': 0.981097936630249, 'recall': 0.9820853471755981, 'auc': 0.9980319142341614}\n",
            "311/689 [============>.................] - ETA: 6s - loss: 0.0514 - tp: 4879.0000 - fp: 94.0000 - tn: 4890.0000 - fn: 89.0000 - acc: 0.9816 - precision: 0.9811 - recall: 0.9821 - auc: 0.9980\n",
            " Batch Number 312 the model has a lot of {'loss': 0.05164365842938423, 'tp': 4891.0, 'fp': 96.0, 'tn': 4908.0, 'fn': 89.0, 'acc': 0.9814703464508057, 'precision': 0.9807499647140503, 'recall': 0.9821285009384155, 'auc': 0.9980189800262451}\n",
            "\n",
            " Batch Number 313 the model has a lot of {'loss': 0.05149831622838974, 'tp': 4905.0, 'fp': 96.0, 'tn': 4926.0, 'fn': 89.0, 'acc': 0.9815295338630676, 'precision': 0.9808038473129272, 'recall': 0.9821786284446716, 'auc': 0.9980283379554749}\n",
            "\n",
            " Batch Number 314 the model has a lot of {'loss': 0.05138745903968811, 'tp': 4927.0, 'fp': 96.0, 'tn': 4936.0, 'fn': 89.0, 'acc': 0.9815883636474609, 'precision': 0.9808878898620605, 'recall': 0.9822567701339722, 'auc': 0.9980336427688599}\n",
            "314/689 [============>.................] - ETA: 6s - loss: 0.0514 - tp: 4927.0000 - fp: 96.0000 - tn: 4936.0000 - fn: 89.0000 - acc: 0.9816 - precision: 0.9809 - recall: 0.9823 - auc: 0.9980\n",
            " Batch Number 315 the model has a lot of {'loss': 0.051301151514053345, 'tp': 4945.0, 'fp': 96.0, 'tn': 4950.0, 'fn': 89.0, 'acc': 0.9816468358039856, 'precision': 0.9809561371803284, 'recall': 0.982320249080658, 'auc': 0.9980388879776001}\n",
            "\n",
            " Batch Number 316 the model has a lot of {'loss': 0.05115245282649994, 'tp': 4961.0, 'fp': 96.0, 'tn': 4966.0, 'fn': 89.0, 'acc': 0.9817048907279968, 'precision': 0.9810163974761963, 'recall': 0.982376217842102, 'auc': 0.9980493187904358}\n",
            "\n",
            " Batch Number 317 the model has a lot of {'loss': 0.05110460892319679, 'tp': 4979.0, 'fp': 97.0, 'tn': 4979.0, 'fn': 89.0, 'acc': 0.9816640615463257, 'precision': 0.9808904528617859, 'recall': 0.9824388027191162, 'auc': 0.9980528354644775}\n",
            "317/689 [============>.................] - ETA: 6s - loss: 0.0511 - tp: 4979.0000 - fp: 97.0000 - tn: 4979.0000 - fn: 89.0000 - acc: 0.9817 - precision: 0.9809 - recall: 0.9824 - auc: 0.9981\n",
            " Batch Number 318 the model has a lot of {'loss': 0.05095631256699562, 'tp': 4994.0, 'fp': 97.0, 'tn': 4996.0, 'fn': 89.0, 'acc': 0.9817216992378235, 'precision': 0.9809467792510986, 'recall': 0.9824906587600708, 'auc': 0.9980629086494446}\n",
            "\n",
            " Batch Number 319 the model has a lot of {'loss': 0.051118358969688416, 'tp': 5013.0, 'fp': 98.0, 'tn': 5008.0, 'fn': 89.0, 'acc': 0.9816810488700867, 'precision': 0.980825662612915, 'recall': 0.9825558662414551, 'auc': 0.9980530142784119}\n",
            "\n",
            " Batch Number 320 the model has a lot of {'loss': 0.0510094091296196, 'tp': 5031.0, 'fp': 98.0, 'tn': 5022.0, 'fn': 89.0, 'acc': 0.981738269329071, 'precision': 0.9808929562568665, 'recall': 0.982617199420929, 'auc': 0.9980596899986267}\n",
            "320/689 [============>.................] - ETA: 6s - loss: 0.0510 - tp: 5031.0000 - fp: 98.0000 - tn: 5022.0000 - fn: 89.0000 - acc: 0.9817 - precision: 0.9809 - recall: 0.9826 - auc: 0.9981\n",
            " Batch Number 321 the model has a lot of {'loss': 0.05128544196486473, 'tp': 5043.0, 'fp': 99.0, 'tn': 5041.0, 'fn': 89.0, 'acc': 0.9816977977752686, 'precision': 0.9807468056678772, 'recall': 0.9826578497886658, 'auc': 0.998031735420227}\n",
            "\n",
            " Batch Number 322 the model has a lot of {'loss': 0.051146648824214935, 'tp': 5056.0, 'fp': 99.0, 'tn': 5060.0, 'fn': 89.0, 'acc': 0.9817546606063843, 'precision': 0.9807953238487244, 'recall': 0.9827016592025757, 'auc': 0.9980407953262329}\n",
            "\n",
            " Batch Number 323 the model has a lot of {'loss': 0.05133982002735138, 'tp': 5075.0, 'fp': 99.0, 'tn': 5072.0, 'fn': 90.0, 'acc': 0.9817143678665161, 'precision': 0.9808658957481384, 'recall': 0.982574999332428, 'auc': 0.9980306029319763}\n",
            "323/689 [=============>................] - ETA: 6s - loss: 0.0513 - tp: 5075.0000 - fp: 99.0000 - tn: 5072.0000 - fn: 90.0000 - acc: 0.9817 - precision: 0.9809 - recall: 0.9826 - auc: 0.9980\n",
            " Batch Number 324 the model has a lot of {'loss': 0.05127537250518799, 'tp': 5089.0, 'fp': 99.0, 'tn': 5090.0, 'fn': 90.0, 'acc': 0.9817708134651184, 'precision': 0.9809175133705139, 'recall': 0.9826221466064453, 'auc': 0.9980355501174927}\n",
            "\n",
            " Batch Number 325 the model has a lot of {'loss': 0.05121626704931259, 'tp': 5103.0, 'fp': 99.0, 'tn': 5108.0, 'fn': 90.0, 'acc': 0.981826901435852, 'precision': 0.9809688329696655, 'recall': 0.9826689958572388, 'auc': 0.9980401396751404}\n",
            "\n",
            " Batch Number 326 the model has a lot of {'loss': 0.05124964565038681, 'tp': 5118.0, 'fp': 99.0, 'tn': 5124.0, 'fn': 91.0, 'acc': 0.9817867875099182, 'precision': 0.9810235500335693, 'recall': 0.9825302362442017, 'auc': 0.9980409741401672}\n",
            "326/689 [=============>................] - ETA: 6s - loss: 0.0512 - tp: 5118.0000 - fp: 99.0000 - tn: 5124.0000 - fn: 91.0000 - acc: 0.9818 - precision: 0.9810 - recall: 0.9825 - auc: 0.9980\n",
            " Batch Number 327 the model has a lot of {'loss': 0.05114562809467316, 'tp': 5131.0, 'fp': 99.0, 'tn': 5143.0, 'fn': 91.0, 'acc': 0.9818425178527832, 'precision': 0.9810707569122314, 'recall': 0.9825737476348877, 'auc': 0.9980484247207642}\n",
            "\n",
            " Batch Number 328 the model has a lot of {'loss': 0.05102766305208206, 'tp': 5144.0, 'fp': 99.0, 'tn': 5162.0, 'fn': 91.0, 'acc': 0.9818978905677795, 'precision': 0.9811176657676697, 'recall': 0.9826170206069946, 'auc': 0.998056173324585}\n",
            "\n",
            " Batch Number 329 the model has a lot of {'loss': 0.05089134722948074, 'tp': 5159.0, 'fp': 99.0, 'tn': 5179.0, 'fn': 91.0, 'acc': 0.9819529056549072, 'precision': 0.9811715483665466, 'recall': 0.9826666712760925, 'auc': 0.9980646371841431}\n",
            "329/689 [=============>................] - ETA: 6s - loss: 0.0509 - tp: 5159.0000 - fp: 99.0000 - tn: 5179.0000 - fn: 91.0000 - acc: 0.9820 - precision: 0.9812 - recall: 0.9827 - auc: 0.9981\n",
            " Batch Number 330 the model has a lot of {'loss': 0.05075635761022568, 'tp': 5174.0, 'fp': 99.0, 'tn': 5196.0, 'fn': 91.0, 'acc': 0.9820075631141663, 'precision': 0.9812251329421997, 'recall': 0.9827160239219666, 'auc': 0.9980732798576355}\n",
            "\n",
            " Batch Number 331 the model has a lot of {'loss': 0.05062580853700638, 'tp': 5193.0, 'fp': 99.0, 'tn': 5209.0, 'fn': 91.0, 'acc': 0.9820619225502014, 'precision': 0.9812925457954407, 'recall': 0.9827781915664673, 'auc': 0.9980812072753906}\n",
            "\n",
            " Batch Number 332 the model has a lot of {'loss': 0.050529271364212036, 'tp': 5212.0, 'fp': 99.0, 'tn': 5222.0, 'fn': 91.0, 'acc': 0.9821159839630127, 'precision': 0.9813594222068787, 'recall': 0.9828398823738098, 'auc': 0.9980857968330383}\n",
            "332/689 [=============>................] - ETA: 6s - loss: 0.0505 - tp: 5212.0000 - fp: 99.0000 - tn: 5222.0000 - fn: 91.0000 - acc: 0.9821 - precision: 0.9814 - recall: 0.9828 - auc: 0.9981\n",
            " Batch Number 333 the model has a lot of {'loss': 0.050419874489307404, 'tp': 5227.0, 'fp': 99.0, 'tn': 5239.0, 'fn': 91.0, 'acc': 0.9821696877479553, 'precision': 0.9814119338989258, 'recall': 0.9828882813453674, 'auc': 0.9980924129486084}\n",
            "\n",
            " Batch Number 334 the model has a lot of {'loss': 0.05039781704545021, 'tp': 5239.0, 'fp': 99.0, 'tn': 5259.0, 'fn': 91.0, 'acc': 0.9822230339050293, 'precision': 0.9814537167549133, 'recall': 0.9829268455505371, 'auc': 0.9980952739715576}\n",
            "\n",
            " Batch Number 335 the model has a lot of {'loss': 0.05039726197719574, 'tp': 5253.0, 'fp': 100.0, 'tn': 5276.0, 'fn': 91.0, 'acc': 0.9821828603744507, 'precision': 0.9813188910484314, 'recall': 0.9829715490341187, 'auc': 0.998097836971283}\n",
            "335/689 [=============>................] - ETA: 6s - loss: 0.0504 - tp: 5253.0000 - fp: 100.0000 - tn: 5276.0000 - fn: 91.0000 - acc: 0.9822 - precision: 0.9813 - recall: 0.9830 - auc: 0.9981\n",
            " Batch Number 336 the model has a lot of {'loss': 0.05026393383741379, 'tp': 5268.0, 'fp': 100.0, 'tn': 5293.0, 'fn': 91.0, 'acc': 0.982235848903656, 'precision': 0.9813711047172546, 'recall': 0.983019232749939, 'auc': 0.9981063604354858}\n",
            "\n",
            " Batch Number 337 the model has a lot of {'loss': 0.050190187990665436, 'tp': 5282.0, 'fp': 100.0, 'tn': 5311.0, 'fn': 91.0, 'acc': 0.9822885990142822, 'precision': 0.981419563293457, 'recall': 0.9830634593963623, 'auc': 0.9981111884117126}\n",
            "\n",
            " Batch Number 338 the model has a lot of {'loss': 0.050088874995708466, 'tp': 5299.0, 'fp': 100.0, 'tn': 5326.0, 'fn': 91.0, 'acc': 0.9823409914970398, 'precision': 0.9814780354499817, 'recall': 0.983116865158081, 'auc': 0.9981191754341125}\n",
            "338/689 [=============>................] - ETA: 6s - loss: 0.0501 - tp: 5299.0000 - fp: 100.0000 - tn: 5326.0000 - fn: 91.0000 - acc: 0.9823 - precision: 0.9815 - recall: 0.9831 - auc: 0.9981\n",
            " Batch Number 339 the model has a lot of {'loss': 0.04996155574917793, 'tp': 5315.0, 'fp': 100.0, 'tn': 5342.0, 'fn': 91.0, 'acc': 0.9823930859565735, 'precision': 0.9815327525138855, 'recall': 0.9831668734550476, 'auc': 0.9981269836425781}\n",
            "\n",
            " Batch Number 340 the model has a lot of {'loss': 0.049854714423418045, 'tp': 5332.0, 'fp': 100.0, 'tn': 5357.0, 'fn': 91.0, 'acc': 0.9824448823928833, 'precision': 0.9815905690193176, 'recall': 0.9832196235656738, 'auc': 0.9981326460838318}\n",
            "\n",
            " Batch Number 341 the model has a lot of {'loss': 0.049920521676540375, 'tp': 5345.0, 'fp': 101.0, 'tn': 5375.0, 'fn': 91.0, 'acc': 0.9824047088623047, 'precision': 0.9814542531967163, 'recall': 0.9832597374916077, 'auc': 0.9981303811073303}\n",
            "341/689 [=============>................] - ETA: 6s - loss: 0.0499 - tp: 5345.0000 - fp: 101.0000 - tn: 5375.0000 - fn: 91.0000 - acc: 0.9824 - precision: 0.9815 - recall: 0.9833 - auc: 0.9981\n",
            " Batch Number 342 the model has a lot of {'loss': 0.04980706796050072, 'tp': 5363.0, 'fp': 101.0, 'tn': 5389.0, 'fn': 91.0, 'acc': 0.9824561476707458, 'precision': 0.9815153479576111, 'recall': 0.9833149909973145, 'auc': 0.9981369972229004}\n",
            "\n",
            " Batch Number 343 the model has a lot of {'loss': 0.049696408212184906, 'tp': 5378.0, 'fp': 101.0, 'tn': 5406.0, 'fn': 91.0, 'acc': 0.9825072884559631, 'precision': 0.9815659523010254, 'recall': 0.983360767364502, 'auc': 0.99814373254776}\n",
            "\n",
            " Batch Number 344 the model has a lot of {'loss': 0.049576692283153534, 'tp': 5394.0, 'fp': 101.0, 'tn': 5422.0, 'fn': 91.0, 'acc': 0.9825581312179565, 'precision': 0.981619656085968, 'recall': 0.9834092855453491, 'auc': 0.998151421546936}\n",
            "344/689 [=============>................] - ETA: 5s - loss: 0.0496 - tp: 5394.0000 - fp: 101.0000 - tn: 5422.0000 - fn: 91.0000 - acc: 0.9826 - precision: 0.9816 - recall: 0.9834 - auc: 0.9982\n",
            " Batch Number 345 the model has a lot of {'loss': 0.04991530999541283, 'tp': 5412.0, 'fp': 102.0, 'tn': 5434.0, 'fn': 92.0, 'acc': 0.9824275374412537, 'precision': 0.9815016388893127, 'recall': 0.9832848906517029, 'auc': 0.9981330633163452}\n",
            "\n",
            " Batch Number 346 the model has a lot of {'loss': 0.04999643564224243, 'tp': 5425.0, 'fp': 102.0, 'tn': 5451.0, 'fn': 94.0, 'acc': 0.9822976589202881, 'precision': 0.9815451502799988, 'recall': 0.9829679131507874, 'auc': 0.9981310367584229}\n",
            "\n",
            " Batch Number 347 the model has a lot of {'loss': 0.049869734793901443, 'tp': 5439.0, 'fp': 102.0, 'tn': 5469.0, 'fn': 94.0, 'acc': 0.9823486804962158, 'precision': 0.9815917611122131, 'recall': 0.98301100730896, 'auc': 0.9981392621994019}\n",
            "347/689 [==============>...............] - ETA: 5s - loss: 0.0499 - tp: 5439.0000 - fp: 102.0000 - tn: 5469.0000 - fn: 94.0000 - acc: 0.9823 - precision: 0.9816 - recall: 0.9830 - auc: 0.9981\n",
            " Batch Number 348 the model has a lot of {'loss': 0.05001285672187805, 'tp': 5447.0, 'fp': 103.0, 'tn': 5492.0, 'fn': 94.0, 'acc': 0.9823096394538879, 'precision': 0.9814414381980896, 'recall': 0.9830355644226074, 'auc': 0.9981334209442139}\n",
            "\n",
            " Batch Number 349 the model has a lot of {'loss': 0.050065360963344574, 'tp': 5458.0, 'fp': 105.0, 'tn': 5511.0, 'fn': 94.0, 'acc': 0.9821812510490417, 'precision': 0.9811252951622009, 'recall': 0.9830691814422607, 'auc': 0.9981340765953064}\n",
            "\n",
            " Batch Number 350 the model has a lot of {'loss': 0.049956969916820526, 'tp': 5478.0, 'fp': 105.0, 'tn': 5523.0, 'fn': 94.0, 'acc': 0.9822321534156799, 'precision': 0.9811928868293762, 'recall': 0.9831299185752869, 'auc': 0.9981408715248108}\n",
            "350/689 [==============>...............] - ETA: 5s - loss: 0.0500 - tp: 5478.0000 - fp: 105.0000 - tn: 5523.0000 - fn: 94.0000 - acc: 0.9822 - precision: 0.9812 - recall: 0.9831 - auc: 0.9981\n",
            " Batch Number 351 the model has a lot of {'loss': 0.049926429986953735, 'tp': 5495.0, 'fp': 105.0, 'tn': 5537.0, 'fn': 95.0, 'acc': 0.9821937084197998, 'precision': 0.981249988079071, 'recall': 0.9830053448677063, 'auc': 0.9981412887573242}\n",
            "\n",
            " Batch Number 352 the model has a lot of {'loss': 0.05004524067044258, 'tp': 5515.0, 'fp': 105.0, 'tn': 5547.0, 'fn': 97.0, 'acc': 0.9820667505264282, 'precision': 0.9813167452812195, 'recall': 0.9827156066894531, 'auc': 0.9981359243392944}\n",
            "\n",
            " Batch Number 353 the model has a lot of {'loss': 0.049923088401556015, 'tp': 5532.0, 'fp': 105.0, 'tn': 5562.0, 'fn': 97.0, 'acc': 0.9821175932884216, 'precision': 0.9813730716705322, 'recall': 0.9827678203582764, 'auc': 0.998143196105957}\n",
            "353/689 [==============>...............] - ETA: 5s - loss: 0.0499 - tp: 5532.0000 - fp: 105.0000 - tn: 5562.0000 - fn: 97.0000 - acc: 0.9821 - precision: 0.9814 - recall: 0.9828 - auc: 0.9981\n",
            " Batch Number 354 the model has a lot of {'loss': 0.04986785724759102, 'tp': 5548.0, 'fp': 106.0, 'tn': 5577.0, 'fn': 97.0, 'acc': 0.982079803943634, 'precision': 0.9812521934509277, 'recall': 0.9828166365623474, 'auc': 0.9981477856636047}\n",
            "\n",
            " Batch Number 355 the model has a lot of {'loss': 0.04989637807011604, 'tp': 5566.0, 'fp': 106.0, 'tn': 5590.0, 'fn': 98.0, 'acc': 0.9820422530174255, 'precision': 0.9813116788864136, 'recall': 0.9826977252960205, 'auc': 0.9981445074081421}\n",
            "\n",
            " Batch Number 356 the model has a lot of {'loss': 0.04988537356257439, 'tp': 5583.0, 'fp': 106.0, 'tn': 5604.0, 'fn': 99.0, 'acc': 0.9820049405097961, 'precision': 0.9813675284385681, 'recall': 0.9825765490531921, 'auc': 0.9981482625007629}\n",
            "356/689 [==============>...............] - ETA: 5s - loss: 0.0499 - tp: 5583.0000 - fp: 106.0000 - tn: 5604.0000 - fn: 99.0000 - acc: 0.9820 - precision: 0.9814 - recall: 0.9826 - auc: 0.9981\n",
            " Batch Number 357 the model has a lot of {'loss': 0.049762506037950516, 'tp': 5597.0, 'fp': 106.0, 'tn': 5622.0, 'fn': 99.0, 'acc': 0.9820553064346313, 'precision': 0.9814133048057556, 'recall': 0.9826194047927856, 'auc': 0.9981561303138733}\n",
            "\n",
            " Batch Number 358 the model has a lot of {'loss': 0.04962942376732826, 'tp': 5614.0, 'fp': 106.0, 'tn': 5637.0, 'fn': 99.0, 'acc': 0.9821054339408875, 'precision': 0.9814685583114624, 'recall': 0.9826710820198059, 'auc': 0.9981648921966553}\n",
            "\n",
            " Batch Number 359 the model has a lot of {'loss': 0.04953670874238014, 'tp': 5629.0, 'fp': 106.0, 'tn': 5654.0, 'fn': 99.0, 'acc': 0.9821552634239197, 'precision': 0.9815170168876648, 'recall': 0.9827165007591248, 'auc': 0.9981712698936462}\n",
            "359/689 [==============>...............] - ETA: 5s - loss: 0.0495 - tp: 5629.0000 - fp: 106.0000 - tn: 5654.0000 - fn: 99.0000 - acc: 0.9822 - precision: 0.9815 - recall: 0.9827 - auc: 0.9982\n",
            " Batch Number 360 the model has a lot of {'loss': 0.04970145598053932, 'tp': 5647.0, 'fp': 107.0, 'tn': 5666.0, 'fn': 100.0, 'acc': 0.9820312261581421, 'precision': 0.9814042448997498, 'recall': 0.9825996160507202, 'auc': 0.998163640499115}\n",
            "\n",
            " Batch Number 361 the model has a lot of {'loss': 0.04968613013625145, 'tp': 5657.0, 'fp': 108.0, 'tn': 5687.0, 'fn': 100.0, 'acc': 0.9819944500923157, 'precision': 0.9812662601470947, 'recall': 0.9826298356056213, 'auc': 0.9981668591499329}\n",
            "\n",
            " Batch Number 362 the model has a lot of {'loss': 0.0495750829577446, 'tp': 5677.0, 'fp': 108.0, 'tn': 5699.0, 'fn': 100.0, 'acc': 0.9820442199707031, 'precision': 0.9813310503959656, 'recall': 0.9826899766921997, 'auc': 0.9981732964515686}\n",
            "362/689 [==============>...............] - ETA: 5s - loss: 0.0496 - tp: 5677.0000 - fp: 108.0000 - tn: 5699.0000 - fn: 100.0000 - acc: 0.9820 - precision: 0.9813 - recall: 0.9827 - auc: 0.9982\n",
            " Batch Number 363 the model has a lot of {'loss': 0.049452122300863266, 'tp': 5694.0, 'fp': 108.0, 'tn': 5714.0, 'fn': 100.0, 'acc': 0.9820936918258667, 'precision': 0.9813857078552246, 'recall': 0.9827407598495483, 'auc': 0.9981812834739685}\n",
            "\n",
            " Batch Number 364 the model has a lot of {'loss': 0.04932010546326637, 'tp': 5709.0, 'fp': 108.0, 'tn': 5731.0, 'fn': 100.0, 'acc': 0.9821428656578064, 'precision': 0.9814337491989136, 'recall': 0.9827853441238403, 'auc': 0.9981903433799744}\n",
            "\n",
            " Batch Number 365 the model has a lot of {'loss': 0.04927339404821396, 'tp': 5732.0, 'fp': 108.0, 'tn': 5740.0, 'fn': 100.0, 'acc': 0.982191801071167, 'precision': 0.9815068244934082, 'recall': 0.9828532338142395, 'auc': 0.9981926083564758}\n",
            "365/689 [==============>...............] - ETA: 5s - loss: 0.0493 - tp: 5732.0000 - fp: 108.0000 - tn: 5740.0000 - fn: 100.0000 - acc: 0.9822 - precision: 0.9815 - recall: 0.9829 - auc: 0.9982\n",
            " Batch Number 366 the model has a lot of {'loss': 0.04915763810276985, 'tp': 5749.0, 'fp': 108.0, 'tn': 5755.0, 'fn': 100.0, 'acc': 0.9822404384613037, 'precision': 0.9815605282783508, 'recall': 0.9829030632972717, 'auc': 0.9982001781463623}\n",
            "\n",
            " Batch Number 367 the model has a lot of {'loss': 0.049030378460884094, 'tp': 5765.0, 'fp': 108.0, 'tn': 5771.0, 'fn': 100.0, 'acc': 0.9822888374328613, 'precision': 0.9816107749938965, 'recall': 0.9829496741294861, 'auc': 0.9982088804244995}\n",
            "\n",
            " Batch Number 368 the model has a lot of {'loss': 0.04893236607313156, 'tp': 5785.0, 'fp': 108.0, 'tn': 5783.0, 'fn': 100.0, 'acc': 0.9823369383811951, 'precision': 0.9816731810569763, 'recall': 0.9830076694488525, 'auc': 0.9982134699821472}\n",
            "368/689 [===============>..............] - ETA: 5s - loss: 0.0489 - tp: 5785.0000 - fp: 108.0000 - tn: 5783.0000 - fn: 100.0000 - acc: 0.9823 - precision: 0.9817 - recall: 0.9830 - auc: 0.9982\n",
            " Batch Number 369 the model has a lot of {'loss': 0.048810914158821106, 'tp': 5802.0, 'fp': 108.0, 'tn': 5798.0, 'fn': 100.0, 'acc': 0.9823848009109497, 'precision': 0.9817258715629578, 'recall': 0.9830566048622131, 'auc': 0.9982211589813232}\n",
            "\n",
            " Batch Number 370 the model has a lot of {'loss': 0.048698343336582184, 'tp': 5814.0, 'fp': 108.0, 'tn': 5818.0, 'fn': 100.0, 'acc': 0.9824324250221252, 'precision': 0.9817629456520081, 'recall': 0.9830909967422485, 'auc': 0.9982286095619202}\n",
            "\n",
            " Batch Number 371 the model has a lot of {'loss': 0.048569533973932266, 'tp': 5827.0, 'fp': 108.0, 'tn': 5837.0, 'fn': 100.0, 'acc': 0.9824798107147217, 'precision': 0.9818028807640076, 'recall': 0.9831280708312988, 'auc': 0.9982373118400574}\n",
            "371/689 [===============>..............] - ETA: 5s - loss: 0.0486 - tp: 5827.0000 - fp: 108.0000 - tn: 5837.0000 - fn: 100.0000 - acc: 0.9825 - precision: 0.9818 - recall: 0.9831 - auc: 0.9982\n",
            " Batch Number 372 the model has a lot of {'loss': 0.048457637429237366, 'tp': 5844.0, 'fp': 108.0, 'tn': 5852.0, 'fn': 100.0, 'acc': 0.9825268983840942, 'precision': 0.9818548560142517, 'recall': 0.9831762909889221, 'auc': 0.9982438087463379}\n",
            "\n",
            " Batch Number 373 the model has a lot of {'loss': 0.04834386706352234, 'tp': 5863.0, 'fp': 108.0, 'tn': 5865.0, 'fn': 100.0, 'acc': 0.9825737476348877, 'precision': 0.9819125533103943, 'recall': 0.98322993516922, 'auc': 0.9982506036758423}\n",
            "\n",
            " Batch Number 374 the model has a lot of {'loss': 0.04823317006230354, 'tp': 5875.0, 'fp': 108.0, 'tn': 5885.0, 'fn': 100.0, 'acc': 0.9826202988624573, 'precision': 0.9819488525390625, 'recall': 0.9832636117935181, 'auc': 0.9982582926750183}\n",
            "374/689 [===============>..............] - ETA: 5s - loss: 0.0482 - tp: 5875.0000 - fp: 108.0000 - tn: 5885.0000 - fn: 100.0000 - acc: 0.9826 - precision: 0.9819 - recall: 0.9833 - auc: 0.9983\n",
            " Batch Number 375 the model has a lot of {'loss': 0.04817090928554535, 'tp': 5894.0, 'fp': 108.0, 'tn': 5898.0, 'fn': 100.0, 'acc': 0.9826666712760925, 'precision': 0.9820060133934021, 'recall': 0.9833166599273682, 'auc': 0.9982627630233765}\n",
            "\n",
            " Batch Number 376 the model has a lot of {'loss': 0.04805167764425278, 'tp': 5908.0, 'fp': 108.0, 'tn': 5916.0, 'fn': 100.0, 'acc': 0.9827127456665039, 'precision': 0.9820478558540344, 'recall': 0.9833555221557617, 'auc': 0.9982709288597107}\n",
            "\n",
            " Batch Number 377 the model has a lot of {'loss': 0.04793925955891609, 'tp': 5925.0, 'fp': 108.0, 'tn': 5931.0, 'fn': 100.0, 'acc': 0.982758641242981, 'precision': 0.9820984601974487, 'recall': 0.9834024906158447, 'auc': 0.9982777833938599}\n",
            "377/689 [===============>..............] - ETA: 5s - loss: 0.0479 - tp: 5925.0000 - fp: 108.0000 - tn: 5931.0000 - fn: 100.0000 - acc: 0.9828 - precision: 0.9821 - recall: 0.9834 - auc: 0.9983\n",
            " Batch Number 378 the model has a lot of {'loss': 0.047876615077257156, 'tp': 5936.0, 'fp': 108.0, 'tn': 5952.0, 'fn': 100.0, 'acc': 0.9828042387962341, 'precision': 0.9821310639381409, 'recall': 0.9834327101707458, 'auc': 0.9982830286026001}\n",
            "\n",
            " Batch Number 379 the model has a lot of {'loss': 0.047874461859464645, 'tp': 5954.0, 'fp': 108.0, 'tn': 5966.0, 'fn': 100.0, 'acc': 0.9828495979309082, 'precision': 0.982184112071991, 'recall': 0.9834820032119751, 'auc': 0.998283863067627}\n",
            "\n",
            " Batch Number 380 the model has a lot of {'loss': 0.04780441150069237, 'tp': 5973.0, 'fp': 108.0, 'tn': 5979.0, 'fn': 100.0, 'acc': 0.9828947186470032, 'precision': 0.9822397828102112, 'recall': 0.9835336804389954, 'auc': 0.9982874989509583}\n",
            "380/689 [===============>..............] - ETA: 5s - loss: 0.0478 - tp: 5973.0000 - fp: 108.0000 - tn: 5979.0000 - fn: 100.0000 - acc: 0.9829 - precision: 0.9822 - recall: 0.9835 - auc: 0.9983\n",
            " Batch Number 381 the model has a lot of {'loss': 0.047716837376356125, 'tp': 5993.0, 'fp': 108.0, 'tn': 5991.0, 'fn': 100.0, 'acc': 0.9829396605491638, 'precision': 0.982297956943512, 'recall': 0.9835877418518066, 'auc': 0.9982914924621582}\n",
            "\n",
            " Batch Number 382 the model has a lot of {'loss': 0.04824746400117874, 'tp': 6014.0, 'fp': 109.0, 'tn': 6000.0, 'fn': 101.0, 'acc': 0.9828206896781921, 'precision': 0.9821982979774475, 'recall': 0.9834832549095154, 'auc': 0.998197615146637}\n",
            "\n",
            " Batch Number 383 the model has a lot of {'loss': 0.04812527075409889, 'tp': 6028.0, 'fp': 109.0, 'tn': 6018.0, 'fn': 101.0, 'acc': 0.9828655123710632, 'precision': 0.9822388887405396, 'recall': 0.9835209846496582, 'auc': 0.998205840587616}\n",
            "383/689 [===============>..............] - ETA: 5s - loss: 0.0481 - tp: 6028.0000 - fp: 109.0000 - tn: 6018.0000 - fn: 101.0000 - acc: 0.9829 - precision: 0.9822 - recall: 0.9835 - auc: 0.9982\n",
            " Batch Number 384 the model has a lot of {'loss': 0.04803677275776863, 'tp': 6045.0, 'fp': 109.0, 'tn': 6033.0, 'fn': 101.0, 'acc': 0.98291015625, 'precision': 0.9822879433631897, 'recall': 0.9835665225982666, 'auc': 0.9982114434242249}\n",
            "\n",
            " Batch Number 385 the model has a lot of {'loss': 0.047917719930410385, 'tp': 6062.0, 'fp': 109.0, 'tn': 6048.0, 'fn': 101.0, 'acc': 0.9829545617103577, 'precision': 0.9823367595672607, 'recall': 0.9836118817329407, 'auc': 0.9982196092605591}\n",
            "\n",
            " Batch Number 386 the model has a lot of {'loss': 0.048116475343704224, 'tp': 6084.0, 'fp': 109.0, 'tn': 6056.0, 'fn': 103.0, 'acc': 0.9828367829322815, 'precision': 0.9823994636535645, 'recall': 0.9833521842956543, 'auc': 0.9982091784477234}\n",
            "386/689 [===============>..............] - ETA: 5s - loss: 0.0481 - tp: 6084.0000 - fp: 109.0000 - tn: 6056.0000 - fn: 103.0000 - acc: 0.9828 - precision: 0.9824 - recall: 0.9834 - auc: 0.9982\n",
            " Batch Number 387 the model has a lot of {'loss': 0.048018794506788254, 'tp': 6101.0, 'fp': 109.0, 'tn': 6071.0, 'fn': 103.0, 'acc': 0.9828811287879944, 'precision': 0.9824476838111877, 'recall': 0.9833977818489075, 'auc': 0.998214840888977}\n",
            "\n",
            " Batch Number 388 the model has a lot of {'loss': 0.04793591424822807, 'tp': 6118.0, 'fp': 109.0, 'tn': 6086.0, 'fn': 103.0, 'acc': 0.9829252362251282, 'precision': 0.9824956059455872, 'recall': 0.9834432005882263, 'auc': 0.9982204437255859}\n",
            "\n",
            " Batch Number 389 the model has a lot of {'loss': 0.047820597887039185, 'tp': 6134.0, 'fp': 109.0, 'tn': 6102.0, 'fn': 103.0, 'acc': 0.9829691648483276, 'precision': 0.9825404286384583, 'recall': 0.9834856390953064, 'auc': 0.9982283115386963}\n",
            "389/689 [===============>..............] - ETA: 5s - loss: 0.0478 - tp: 6134.0000 - fp: 109.0000 - tn: 6102.0000 - fn: 103.0000 - acc: 0.9830 - precision: 0.9825 - recall: 0.9835 - auc: 0.9982\n",
            " Batch Number 390 the model has a lot of {'loss': 0.0477384515106678, 'tp': 6145.0, 'fp': 109.0, 'tn': 6123.0, 'fn': 103.0, 'acc': 0.9830127954483032, 'precision': 0.9825711250305176, 'recall': 0.9835147261619568, 'auc': 0.9982342720031738}\n",
            "\n",
            " Batch Number 391 the model has a lot of {'loss': 0.04908520728349686, 'tp': 6151.0, 'fp': 112.0, 'tn': 6146.0, 'fn': 103.0, 'acc': 0.9828165173530579, 'precision': 0.9821171760559082, 'recall': 0.9835305213928223, 'auc': 0.9981285929679871}\n",
            "\n",
            " Batch Number 392 the model has a lot of {'loss': 0.04910309985280037, 'tp': 6166.0, 'fp': 113.0, 'tn': 6162.0, 'fn': 103.0, 'acc': 0.9827806353569031, 'precision': 0.9820035099983215, 'recall': 0.9835699200630188, 'auc': 0.9981300830841064}\n",
            "392/689 [================>.............] - ETA: 5s - loss: 0.0491 - tp: 6166.0000 - fp: 113.0000 - tn: 6162.0000 - fn: 103.0000 - acc: 0.9828 - precision: 0.9820 - recall: 0.9836 - auc: 0.9981\n",
            " Batch Number 393 the model has a lot of {'loss': 0.0490071140229702, 'tp': 6185.0, 'fp': 113.0, 'tn': 6175.0, 'fn': 103.0, 'acc': 0.982824444770813, 'precision': 0.9820578098297119, 'recall': 0.9836195707321167, 'auc': 0.9981354475021362}\n",
            "\n",
            " Batch Number 394 the model has a lot of {'loss': 0.04889193922281265, 'tp': 6202.0, 'fp': 113.0, 'tn': 6190.0, 'fn': 103.0, 'acc': 0.9828680157661438, 'precision': 0.98210608959198, 'recall': 0.9836637377738953, 'auc': 0.9981427192687988}\n",
            "\n",
            " Batch Number 395 the model has a lot of {'loss': 0.04890997335314751, 'tp': 6218.0, 'fp': 113.0, 'tn': 6206.0, 'fn': 103.0, 'acc': 0.9829114079475403, 'precision': 0.9821513295173645, 'recall': 0.9837051033973694, 'auc': 0.9981427192687988}\n",
            "395/689 [================>.............] - ETA: 5s - loss: 0.0489 - tp: 6218.0000 - fp: 113.0000 - tn: 6206.0000 - fn: 103.0000 - acc: 0.9829 - precision: 0.9822 - recall: 0.9837 - auc: 0.9981\n",
            " Batch Number 396 the model has a lot of {'loss': 0.04882506653666496, 'tp': 6234.0, 'fp': 113.0, 'tn': 6222.0, 'fn': 103.0, 'acc': 0.9829545617103577, 'precision': 0.9821963310241699, 'recall': 0.9837462306022644, 'auc': 0.9981479048728943}\n",
            "\n",
            " Batch Number 397 the model has a lot of {'loss': 0.04873370751738548, 'tp': 6249.0, 'fp': 113.0, 'tn': 6239.0, 'fn': 103.0, 'acc': 0.982997477054596, 'precision': 0.9822382926940918, 'recall': 0.9837846159934998, 'auc': 0.998153805732727}\n",
            "\n",
            " Batch Number 398 the model has a lot of {'loss': 0.048629194498062134, 'tp': 6269.0, 'fp': 113.0, 'tn': 6251.0, 'fn': 103.0, 'acc': 0.9830402135848999, 'precision': 0.982293963432312, 'recall': 0.9838355183601379, 'auc': 0.998160183429718}\n",
            "398/689 [================>.............] - ETA: 5s - loss: 0.0486 - tp: 6269.0000 - fp: 113.0000 - tn: 6251.0000 - fn: 103.0000 - acc: 0.9830 - precision: 0.9823 - recall: 0.9838 - auc: 0.9982\n",
            " Batch Number 399 the model has a lot of {'loss': 0.048619482666254044, 'tp': 6285.0, 'fp': 113.0, 'tn': 6266.0, 'fn': 104.0, 'acc': 0.9830043911933899, 'precision': 0.9823382496833801, 'recall': 0.9837220311164856, 'auc': 0.9981616139411926}\n",
            "\n",
            " Batch Number 400 the model has a lot of {'loss': 0.048563383519649506, 'tp': 6305.0, 'fp': 113.0, 'tn': 6278.0, 'fn': 104.0, 'acc': 0.9830468893051147, 'precision': 0.9823932647705078, 'recall': 0.9837728142738342, 'auc': 0.9981653094291687}\n",
            "\n",
            " Batch Number 401 the model has a lot of {'loss': 0.04848373681306839, 'tp': 6324.0, 'fp': 113.0, 'tn': 6291.0, 'fn': 104.0, 'acc': 0.9830891489982605, 'precision': 0.982445240020752, 'recall': 0.9838207960128784, 'auc': 0.9981696605682373}\n",
            "401/689 [================>.............] - ETA: 4s - loss: 0.0485 - tp: 6324.0000 - fp: 113.0000 - tn: 6291.0000 - fn: 104.0000 - acc: 0.9831 - precision: 0.9824 - recall: 0.9838 - auc: 0.9982\n",
            " Batch Number 402 the model has a lot of {'loss': 0.048397552222013474, 'tp': 6337.0, 'fp': 113.0, 'tn': 6310.0, 'fn': 104.0, 'acc': 0.9831312298774719, 'precision': 0.9824806451797485, 'recall': 0.9838534593582153, 'auc': 0.9981753826141357}\n",
            "\n",
            " Batch Number 403 the model has a lot of {'loss': 0.04834047704935074, 'tp': 6355.0, 'fp': 113.0, 'tn': 6324.0, 'fn': 104.0, 'acc': 0.9831730723381042, 'precision': 0.9825294017791748, 'recall': 0.9838984608650208, 'auc': 0.9981796741485596}\n",
            "\n",
            " Batch Number 404 the model has a lot of {'loss': 0.04830775409936905, 'tp': 6370.0, 'fp': 114.0, 'tn': 6340.0, 'fn': 104.0, 'acc': 0.9831373691558838, 'precision': 0.9824182391166687, 'recall': 0.9839357137680054, 'auc': 0.9981822967529297}\n",
            "404/689 [================>.............] - ETA: 4s - loss: 0.0483 - tp: 6370.0000 - fp: 114.0000 - tn: 6340.0000 - fn: 104.0000 - acc: 0.9831 - precision: 0.9824 - recall: 0.9839 - auc: 0.9982\n",
            " Batch Number 405 the model has a lot of {'loss': 0.04824233055114746, 'tp': 6388.0, 'fp': 114.0, 'tn': 6354.0, 'fn': 104.0, 'acc': 0.9831790328025818, 'precision': 0.9824669361114502, 'recall': 0.9839802980422974, 'auc': 0.9981858730316162}\n",
            "\n",
            " Batch Number 406 the model has a lot of {'loss': 0.04814466834068298, 'tp': 6402.0, 'fp': 114.0, 'tn': 6372.0, 'fn': 104.0, 'acc': 0.9832204580307007, 'precision': 0.9825046062469482, 'recall': 0.9840147495269775, 'auc': 0.9981924891471863}\n",
            "\n",
            " Batch Number 407 the model has a lot of {'loss': 0.048071082681417465, 'tp': 6419.0, 'fp': 114.0, 'tn': 6387.0, 'fn': 104.0, 'acc': 0.9832616448402405, 'precision': 0.9825501441955566, 'recall': 0.9840564131736755, 'auc': 0.9981975555419922}\n",
            "407/689 [================>.............] - ETA: 4s - loss: 0.0481 - tp: 6419.0000 - fp: 114.0000 - tn: 6387.0000 - fn: 104.0000 - acc: 0.9833 - precision: 0.9826 - recall: 0.9841 - auc: 0.9982\n",
            " Batch Number 408 the model has a lot of {'loss': 0.04810608923435211, 'tp': 6441.0, 'fp': 114.0, 'tn': 6397.0, 'fn': 104.0, 'acc': 0.9833027124404907, 'precision': 0.9826086759567261, 'recall': 0.9841099977493286, 'auc': 0.998195469379425}\n",
            "\n",
            " Batch Number 409 the model has a lot of {'loss': 0.04799506440758705, 'tp': 6455.0, 'fp': 114.0, 'tn': 6415.0, 'fn': 104.0, 'acc': 0.9833435416221619, 'precision': 0.9826457500457764, 'recall': 0.9841439127922058, 'auc': 0.9982027411460876}\n",
            "\n",
            " Batch Number 410 the model has a lot of {'loss': 0.04794147610664368, 'tp': 6472.0, 'fp': 114.0, 'tn': 6430.0, 'fn': 104.0, 'acc': 0.9833841323852539, 'precision': 0.9826905727386475, 'recall': 0.9841849207878113, 'auc': 0.9982055425643921}\n",
            "410/689 [================>.............] - ETA: 4s - loss: 0.0479 - tp: 6472.0000 - fp: 114.0000 - tn: 6430.0000 - fn: 104.0000 - acc: 0.9834 - precision: 0.9827 - recall: 0.9842 - auc: 0.9982\n",
            " Batch Number 411 the model has a lot of {'loss': 0.04799110069870949, 'tp': 6490.0, 'fp': 115.0, 'tn': 6443.0, 'fn': 104.0, 'acc': 0.983348548412323, 'precision': 0.9825889468193054, 'recall': 0.9842280745506287, 'auc': 0.998204231262207}\n",
            "\n",
            " Batch Number 412 the model has a lot of {'loss': 0.047882575541734695, 'tp': 6504.0, 'fp': 115.0, 'tn': 6461.0, 'fn': 104.0, 'acc': 0.9833889603614807, 'precision': 0.9826257824897766, 'recall': 0.9842615127563477, 'auc': 0.9982115626335144}\n",
            "\n",
            " Batch Number 413 the model has a lot of {'loss': 0.047809623181819916, 'tp': 6515.0, 'fp': 115.0, 'tn': 6482.0, 'fn': 104.0, 'acc': 0.9834291934967041, 'precision': 0.9826545715332031, 'recall': 0.984287679195404, 'auc': 0.9982171058654785}\n",
            "413/689 [================>.............] - ETA: 4s - loss: 0.0478 - tp: 6515.0000 - fp: 115.0000 - tn: 6482.0000 - fn: 104.0000 - acc: 0.9834 - precision: 0.9827 - recall: 0.9843 - auc: 0.9982\n",
            " Batch Number 414 the model has a lot of {'loss': 0.04771965742111206, 'tp': 6532.0, 'fp': 115.0, 'tn': 6497.0, 'fn': 104.0, 'acc': 0.9834691882133484, 'precision': 0.9826989769935608, 'recall': 0.9843279123306274, 'auc': 0.9982224702835083}\n",
            "\n",
            " Batch Number 415 the model has a lot of {'loss': 0.047615405172109604, 'tp': 6549.0, 'fp': 115.0, 'tn': 6512.0, 'fn': 104.0, 'acc': 0.9835090637207031, 'precision': 0.9827430844306946, 'recall': 0.9843679666519165, 'auc': 0.9982290863990784}\n",
            "\n",
            " Batch Number 416 the model has a lot of {'loss': 0.0475861057639122, 'tp': 6568.0, 'fp': 115.0, 'tn': 6525.0, 'fn': 104.0, 'acc': 0.9835487008094788, 'precision': 0.9827921390533447, 'recall': 0.9844124913215637, 'auc': 0.9982302188873291}\n",
            "416/689 [=================>............] - ETA: 4s - loss: 0.0476 - tp: 6568.0000 - fp: 115.0000 - tn: 6525.0000 - fn: 104.0000 - acc: 0.9835 - precision: 0.9828 - recall: 0.9844 - auc: 0.9982\n",
            " Batch Number 417 the model has a lot of {'loss': 0.04757598415017128, 'tp': 6582.0, 'fp': 116.0, 'tn': 6542.0, 'fn': 104.0, 'acc': 0.9835131764411926, 'precision': 0.982681393623352, 'recall': 0.9844450950622559, 'auc': 0.998232901096344}\n",
            "\n",
            " Batch Number 418 the model has a lot of {'loss': 0.04784722253680229, 'tp': 6603.0, 'fp': 116.0, 'tn': 6551.0, 'fn': 106.0, 'acc': 0.9834030866622925, 'precision': 0.9827355146408081, 'recall': 0.9842002987861633, 'auc': 0.9982203245162964}\n",
            "\n",
            " Batch Number 419 the model has a lot of {'loss': 0.047765668481588364, 'tp': 6620.0, 'fp': 116.0, 'tn': 6566.0, 'fn': 106.0, 'acc': 0.9834427237510681, 'precision': 0.9827790856361389, 'recall': 0.9842402338981628, 'auc': 0.9982245564460754}\n",
            "419/689 [=================>............] - ETA: 4s - loss: 0.0478 - tp: 6620.0000 - fp: 116.0000 - tn: 6566.0000 - fn: 106.0000 - acc: 0.9834 - precision: 0.9828 - recall: 0.9842 - auc: 0.9982\n",
            " Batch Number 420 the model has a lot of {'loss': 0.04766271635890007, 'tp': 6633.0, 'fp': 116.0, 'tn': 6585.0, 'fn': 106.0, 'acc': 0.9834821224212646, 'precision': 0.9828122854232788, 'recall': 0.9842706918716431, 'auc': 0.9982311725616455}\n",
            "\n",
            " Batch Number 421 the model has a lot of {'loss': 0.04760758951306343, 'tp': 6654.0, 'fp': 116.0, 'tn': 6596.0, 'fn': 106.0, 'acc': 0.9835214018821716, 'precision': 0.982865571975708, 'recall': 0.9843195080757141, 'auc': 0.9982337355613708}\n",
            "\n",
            " Batch Number 422 the model has a lot of {'loss': 0.0475534088909626, 'tp': 6668.0, 'fp': 116.0, 'tn': 6614.0, 'fn': 106.0, 'acc': 0.9835604429244995, 'precision': 0.9829009175300598, 'recall': 0.9843519330024719, 'auc': 0.9982385039329529}\n",
            "422/689 [=================>............] - ETA: 4s - loss: 0.0476 - tp: 6668.0000 - fp: 116.0000 - tn: 6614.0000 - fn: 106.0000 - acc: 0.9836 - precision: 0.9829 - recall: 0.9844 - auc: 0.9982\n",
            " Batch Number 423 the model has a lot of {'loss': 0.04747174307703972, 'tp': 6682.0, 'fp': 116.0, 'tn': 6632.0, 'fn': 106.0, 'acc': 0.9835993051528931, 'precision': 0.9829361438751221, 'recall': 0.9843841791152954, 'auc': 0.9982441067695618}\n",
            "\n",
            " Batch Number 424 the model has a lot of {'loss': 0.047413215041160583, 'tp': 6700.0, 'fp': 116.0, 'tn': 6646.0, 'fn': 106.0, 'acc': 0.9836379885673523, 'precision': 0.9829812049865723, 'recall': 0.9844254851341248, 'auc': 0.9982483386993408}\n",
            "\n",
            " Batch Number 425 the model has a lot of {'loss': 0.04730411618947983, 'tp': 6715.0, 'fp': 116.0, 'tn': 6663.0, 'fn': 106.0, 'acc': 0.9836764931678772, 'precision': 0.9830185770988464, 'recall': 0.9844597578048706, 'auc': 0.9982556700706482}\n",
            "425/689 [=================>............] - ETA: 4s - loss: 0.0473 - tp: 6715.0000 - fp: 116.0000 - tn: 6663.0000 - fn: 106.0000 - acc: 0.9837 - precision: 0.9830 - recall: 0.9845 - auc: 0.9983\n",
            " Batch Number 426 the model has a lot of {'loss': 0.0472174808382988, 'tp': 6734.0, 'fp': 116.0, 'tn': 6676.0, 'fn': 106.0, 'acc': 0.983714759349823, 'precision': 0.983065664768219, 'recall': 0.984502911567688, 'auc': 0.9982600808143616}\n",
            "\n",
            " Batch Number 427 the model has a lot of {'loss': 0.047197021543979645, 'tp': 6748.0, 'fp': 117.0, 'tn': 6693.0, 'fn': 106.0, 'acc': 0.9836797714233398, 'precision': 0.9829570055007935, 'recall': 0.9845345616340637, 'auc': 0.9982621669769287}\n",
            "\n",
            " Batch Number 428 the model has a lot of {'loss': 0.047126688063144684, 'tp': 6761.0, 'fp': 117.0, 'tn': 6712.0, 'fn': 106.0, 'acc': 0.9837178587913513, 'precision': 0.9829892516136169, 'recall': 0.9845638275146484, 'auc': 0.9982675909996033}\n",
            "428/689 [=================>............] - ETA: 4s - loss: 0.0471 - tp: 6761.0000 - fp: 117.0000 - tn: 6712.0000 - fn: 106.0000 - acc: 0.9837 - precision: 0.9830 - recall: 0.9846 - auc: 0.9983\n",
            " Batch Number 429 the model has a lot of {'loss': 0.04702158272266388, 'tp': 6775.0, 'fp': 117.0, 'tn': 6730.0, 'fn': 106.0, 'acc': 0.9837558269500732, 'precision': 0.9830238223075867, 'recall': 0.9845952391624451, 'auc': 0.9982746243476868}\n",
            "\n",
            " Batch Number 430 the model has a lot of {'loss': 0.04707864671945572, 'tp': 6795.0, 'fp': 117.0, 'tn': 6741.0, 'fn': 107.0, 'acc': 0.9837209582328796, 'precision': 0.9830729365348816, 'recall': 0.9844972491264343, 'auc': 0.9982726573944092}\n",
            "\n",
            " Batch Number 431 the model has a lot of {'loss': 0.046987369656562805, 'tp': 6809.0, 'fp': 117.0, 'tn': 6759.0, 'fn': 107.0, 'acc': 0.9837586879730225, 'precision': 0.9831071496009827, 'recall': 0.9845286011695862, 'auc': 0.9982784986495972}\n",
            "431/689 [=================>............] - ETA: 4s - loss: 0.0470 - tp: 6809.0000 - fp: 117.0000 - tn: 6759.0000 - fn: 107.0000 - acc: 0.9838 - precision: 0.9831 - recall: 0.9845 - auc: 0.9983\n",
            " Batch Number 432 the model has a lot of {'loss': 0.04690973088145256, 'tp': 6825.0, 'fp': 117.0, 'tn': 6775.0, 'fn': 107.0, 'acc': 0.9837962985038757, 'precision': 0.983146071434021, 'recall': 0.9845643639564514, 'auc': 0.9982828497886658}\n",
            "\n",
            " Batch Number 433 the model has a lot of {'loss': 0.046861838549375534, 'tp': 6840.0, 'fp': 117.0, 'tn': 6792.0, 'fn': 107.0, 'acc': 0.9838337302207947, 'precision': 0.983182430267334, 'recall': 0.9845976829528809, 'auc': 0.9982866048812866}\n",
            "\n",
            " Batch Number 434 the model has a lot of {'loss': 0.046943917870521545, 'tp': 6854.0, 'fp': 118.0, 'tn': 6809.0, 'fn': 107.0, 'acc': 0.9837989807128906, 'precision': 0.9830751419067383, 'recall': 0.9846286177635193, 'auc': 0.9982828497886658}\n",
            "434/689 [=================>............] - ETA: 4s - loss: 0.0469 - tp: 6854.0000 - fp: 118.0000 - tn: 6809.0000 - fn: 107.0000 - acc: 0.9838 - precision: 0.9831 - recall: 0.9846 - auc: 0.9983\n",
            " Batch Number 435 the model has a lot of {'loss': 0.04702683538198471, 'tp': 6868.0, 'fp': 119.0, 'tn': 6826.0, 'fn': 107.0, 'acc': 0.9837643504142761, 'precision': 0.9829683899879456, 'recall': 0.9846594929695129, 'auc': 0.9982791543006897}\n",
            "\n",
            " Batch Number 436 the model has a lot of {'loss': 0.04693141579627991, 'tp': 6881.0, 'fp': 119.0, 'tn': 6845.0, 'fn': 107.0, 'acc': 0.9838016033172607, 'precision': 0.9829999804496765, 'recall': 0.9846880435943604, 'auc': 0.9982853531837463}\n",
            "\n",
            " Batch Number 437 the model has a lot of {'loss': 0.046947602182626724, 'tp': 6899.0, 'fp': 120.0, 'tn': 6858.0, 'fn': 107.0, 'acc': 0.9837671518325806, 'precision': 0.9829035401344299, 'recall': 0.9847273826599121, 'auc': 0.9982854723930359}\n",
            "437/689 [==================>...........] - ETA: 4s - loss: 0.0469 - tp: 6899.0000 - fp: 120.0000 - tn: 6858.0000 - fn: 107.0000 - acc: 0.9838 - precision: 0.9829 - recall: 0.9847 - auc: 0.9983\n",
            " Batch Number 438 the model has a lot of {'loss': 0.04685095697641373, 'tp': 6916.0, 'fp': 120.0, 'tn': 6873.0, 'fn': 107.0, 'acc': 0.9838042259216309, 'precision': 0.9829448461532593, 'recall': 0.9847643375396729, 'auc': 0.9982911944389343}\n",
            "\n",
            " Batch Number 439 the model has a lot of {'loss': 0.04746627435088158, 'tp': 6930.0, 'fp': 123.0, 'tn': 6888.0, 'fn': 107.0, 'acc': 0.9836275577545166, 'precision': 0.9825606346130371, 'recall': 0.9847946763038635, 'auc': 0.9982511401176453}\n",
            "\n",
            " Batch Number 440 the model has a lot of {'loss': 0.04737993702292442, 'tp': 6947.0, 'fp': 123.0, 'tn': 6903.0, 'fn': 107.0, 'acc': 0.9836647510528564, 'precision': 0.9826025366783142, 'recall': 0.9848312735557556, 'auc': 0.9982564449310303}\n",
            "440/689 [==================>...........] - ETA: 4s - loss: 0.0474 - tp: 6947.0000 - fp: 123.0000 - tn: 6903.0000 - fn: 107.0000 - acc: 0.9837 - precision: 0.9826 - recall: 0.9848 - auc: 0.9983\n",
            " Batch Number 441 the model has a lot of {'loss': 0.047284264117479324, 'tp': 6960.0, 'fp': 123.0, 'tn': 6922.0, 'fn': 107.0, 'acc': 0.9837018251419067, 'precision': 0.9826344847679138, 'recall': 0.9848592281341553, 'auc': 0.9982627034187317}\n",
            "\n",
            " Batch Number 442 the model has a lot of {'loss': 0.047478340566158295, 'tp': 6973.0, 'fp': 125.0, 'tn': 6939.0, 'fn': 107.0, 'acc': 0.9835972785949707, 'precision': 0.9823893904685974, 'recall': 0.9848870038986206, 'auc': 0.998250424861908}\n",
            "\n",
            " Batch Number 443 the model has a lot of {'loss': 0.047486696392297745, 'tp': 6991.0, 'fp': 126.0, 'tn': 6952.0, 'fn': 107.0, 'acc': 0.9835637807846069, 'precision': 0.9822959303855896, 'recall': 0.9849253296852112, 'auc': 0.9982505440711975}\n",
            "443/689 [==================>...........] - ETA: 4s - loss: 0.0475 - tp: 6991.0000 - fp: 126.0000 - tn: 6952.0000 - fn: 107.0000 - acc: 0.9836 - precision: 0.9823 - recall: 0.9849 - auc: 0.9983\n",
            " Batch Number 444 the model has a lot of {'loss': 0.047401394695043564, 'tp': 6999.0, 'fp': 126.0, 'tn': 6976.0, 'fn': 107.0, 'acc': 0.9836007952690125, 'precision': 0.9823157787322998, 'recall': 0.9849423170089722, 'auc': 0.9982563853263855}\n",
            "\n",
            " Batch Number 445 the model has a lot of {'loss': 0.04769136384129524, 'tp': 7010.0, 'fp': 127.0, 'tn': 6995.0, 'fn': 108.0, 'acc': 0.9834972023963928, 'precision': 0.9822053909301758, 'recall': 0.9848272204399109, 'auc': 0.998244047164917}\n",
            "\n",
            " Batch Number 446 the model has a lot of {'loss': 0.04788229987025261, 'tp': 7024.0, 'fp': 128.0, 'tn': 7012.0, 'fn': 108.0, 'acc': 0.9834641218185425, 'precision': 0.9821029305458069, 'recall': 0.9848569631576538, 'auc': 0.9982274174690247}\n",
            "446/689 [==================>...........] - ETA: 4s - loss: 0.0479 - tp: 7024.0000 - fp: 128.0000 - tn: 7012.0000 - fn: 108.0000 - acc: 0.9835 - precision: 0.9821 - recall: 0.9849 - auc: 0.9982\n",
            " Batch Number 447 the model has a lot of {'loss': 0.04791063070297241, 'tp': 7045.0, 'fp': 128.0, 'tn': 7022.0, 'fn': 109.0, 'acc': 0.9834312200546265, 'precision': 0.9821553230285645, 'recall': 0.9847637414932251, 'auc': 0.9982250928878784}\n",
            "\n",
            " Batch Number 448 the model has a lot of {'loss': 0.048026684671640396, 'tp': 7058.0, 'fp': 129.0, 'tn': 7040.0, 'fn': 109.0, 'acc': 0.9833984375, 'precision': 0.982050895690918, 'recall': 0.9847913980484009, 'auc': 0.9982202649116516}\n",
            "\n",
            " Batch Number 449 the model has a lot of {'loss': 0.04793329909443855, 'tp': 7076.0, 'fp': 129.0, 'tn': 7054.0, 'fn': 109.0, 'acc': 0.9834353923797607, 'precision': 0.9820957779884338, 'recall': 0.9848294854164124, 'auc': 0.9982261657714844}\n",
            "449/689 [==================>...........] - ETA: 4s - loss: 0.0479 - tp: 7076.0000 - fp: 129.0000 - tn: 7054.0000 - fn: 109.0000 - acc: 0.9834 - precision: 0.9821 - recall: 0.9848 - auc: 0.9982\n",
            " Batch Number 450 the model has a lot of {'loss': 0.04784300550818443, 'tp': 7091.0, 'fp': 129.0, 'tn': 7071.0, 'fn': 109.0, 'acc': 0.9834722280502319, 'precision': 0.9821329712867737, 'recall': 0.9848611354827881, 'auc': 0.9982316493988037}\n",
            "\n",
            " Batch Number 451 the model has a lot of {'loss': 0.04794761911034584, 'tp': 7109.0, 'fp': 129.0, 'tn': 7083.0, 'fn': 111.0, 'acc': 0.983370304107666, 'precision': 0.9821773767471313, 'recall': 0.984626054763794, 'auc': 0.9982270002365112}\n",
            "\n",
            " Batch Number 452 the model has a lot of {'loss': 0.047983285039663315, 'tp': 7119.0, 'fp': 130.0, 'tn': 7104.0, 'fn': 111.0, 'acc': 0.983337938785553, 'precision': 0.9820665121078491, 'recall': 0.984647274017334, 'auc': 0.9982276558876038}\n",
            "452/689 [==================>...........] - ETA: 4s - loss: 0.0480 - tp: 7119.0000 - fp: 130.0000 - tn: 7104.0000 - fn: 111.0000 - acc: 0.9833 - precision: 0.9821 - recall: 0.9846 - auc: 0.9982\n",
            " Batch Number 453 the model has a lot of {'loss': 0.047891225665807724, 'tp': 7132.0, 'fp': 130.0, 'tn': 7123.0, 'fn': 111.0, 'acc': 0.9833747148513794, 'precision': 0.9820985794067383, 'recall': 0.984674870967865, 'auc': 0.9982333183288574}\n",
            "\n",
            " Batch Number 454 the model has a lot of {'loss': 0.04784169793128967, 'tp': 7149.0, 'fp': 130.0, 'tn': 7138.0, 'fn': 111.0, 'acc': 0.9834113717079163, 'precision': 0.9821404218673706, 'recall': 0.9847107529640198, 'auc': 0.9982364177703857}\n",
            "\n",
            " Batch Number 455 the model has a lot of {'loss': 0.04788362234830856, 'tp': 7165.0, 'fp': 130.0, 'tn': 7153.0, 'fn': 112.0, 'acc': 0.9833791255950928, 'precision': 0.982179582118988, 'recall': 0.984609067440033, 'auc': 0.9982360601425171}\n",
            "455/689 [==================>...........] - ETA: 4s - loss: 0.0479 - tp: 7165.0000 - fp: 130.0000 - tn: 7153.0000 - fn: 112.0000 - acc: 0.9834 - precision: 0.9822 - recall: 0.9846 - auc: 0.9982\n",
            " Batch Number 456 the model has a lot of {'loss': 0.04791426658630371, 'tp': 7180.0, 'fp': 130.0, 'tn': 7169.0, 'fn': 113.0, 'acc': 0.9833470582962036, 'precision': 0.9822161197662354, 'recall': 0.9845057129859924, 'auc': 0.9982345104217529}\n",
            "\n",
            " Batch Number 457 the model has a lot of {'loss': 0.04784903675317764, 'tp': 7194.0, 'fp': 130.0, 'tn': 7187.0, 'fn': 113.0, 'acc': 0.9833834767341614, 'precision': 0.9822501540184021, 'recall': 0.9845353960990906, 'auc': 0.9982379674911499}\n",
            "\n",
            " Batch Number 458 the model has a lot of {'loss': 0.04776836931705475, 'tp': 7211.0, 'fp': 130.0, 'tn': 7202.0, 'fn': 113.0, 'acc': 0.9834197759628296, 'precision': 0.9822912216186523, 'recall': 0.9845712780952454, 'auc': 0.998242974281311}\n",
            "458/689 [==================>...........] - ETA: 4s - loss: 0.0478 - tp: 7211.0000 - fp: 130.0000 - tn: 7202.0000 - fn: 113.0000 - acc: 0.9834 - precision: 0.9823 - recall: 0.9846 - auc: 0.9982\n",
            " Batch Number 459 the model has a lot of {'loss': 0.04769221320748329, 'tp': 7229.0, 'fp': 130.0, 'tn': 7216.0, 'fn': 113.0, 'acc': 0.9834558963775635, 'precision': 0.982334554195404, 'recall': 0.9846091270446777, 'auc': 0.9982470870018005}\n",
            "\n",
            " Batch Number 460 the model has a lot of {'loss': 0.047617703676223755, 'tp': 7240.0, 'fp': 130.0, 'tn': 7237.0, 'fn': 113.0, 'acc': 0.983491837978363, 'precision': 0.9823608994483948, 'recall': 0.984632134437561, 'auc': 0.9982525110244751}\n",
            "\n",
            " Batch Number 461 the model has a lot of {'loss': 0.04760317504405975, 'tp': 7253.0, 'fp': 131.0, 'tn': 7255.0, 'fn': 113.0, 'acc': 0.9834598898887634, 'precision': 0.9822589159011841, 'recall': 0.9846592545509338, 'auc': 0.9982554316520691}\n",
            "461/689 [===================>..........] - ETA: 3s - loss: 0.0476 - tp: 7253.0000 - fp: 131.0000 - tn: 7255.0000 - fn: 113.0000 - acc: 0.9835 - precision: 0.9823 - recall: 0.9847 - auc: 0.9983\n",
            " Batch Number 462 the model has a lot of {'loss': 0.047594886273145676, 'tp': 7271.0, 'fp': 132.0, 'tn': 7268.0, 'fn': 113.0, 'acc': 0.9834280014038086, 'precision': 0.9821693897247314, 'recall': 0.984696626663208, 'auc': 0.9982563853263855}\n",
            "\n",
            " Batch Number 463 the model has a lot of {'loss': 0.047608159482479095, 'tp': 7285.0, 'fp': 133.0, 'tn': 7285.0, 'fn': 113.0, 'acc': 0.9833963513374329, 'precision': 0.9820706248283386, 'recall': 0.9847255945205688, 'auc': 0.998257577419281}\n",
            "\n",
            " Batch Number 464 the model has a lot of {'loss': 0.047888729721307755, 'tp': 7298.0, 'fp': 135.0, 'tn': 7302.0, 'fn': 113.0, 'acc': 0.9832974076271057, 'precision': 0.9818377494812012, 'recall': 0.9847524166107178, 'auc': 0.9982420206069946}\n",
            "464/689 [===================>..........] - ETA: 3s - loss: 0.0479 - tp: 7298.0000 - fp: 135.0000 - tn: 7302.0000 - fn: 113.0000 - acc: 0.9833 - precision: 0.9818 - recall: 0.9848 - auc: 0.9982\n",
            " Batch Number 465 the model has a lot of {'loss': 0.04807094857096672, 'tp': 7312.0, 'fp': 136.0, 'tn': 7318.0, 'fn': 114.0, 'acc': 0.9831989407539368, 'precision': 0.9817400574684143, 'recall': 0.9846485257148743, 'auc': 0.9982351064682007}\n",
            "\n",
            " Batch Number 466 the model has a lot of {'loss': 0.04797954857349396, 'tp': 7326.0, 'fp': 136.0, 'tn': 7336.0, 'fn': 114.0, 'acc': 0.9832350015640259, 'precision': 0.9817743301391602, 'recall': 0.9846774339675903, 'auc': 0.99824059009552}\n",
            "\n",
            " Batch Number 467 the model has a lot of {'loss': 0.047898538410663605, 'tp': 7341.0, 'fp': 136.0, 'tn': 7353.0, 'fn': 114.0, 'acc': 0.9832708835601807, 'precision': 0.9818108677864075, 'recall': 0.9847082495689392, 'auc': 0.998245358467102}\n",
            "467/689 [===================>..........] - ETA: 3s - loss: 0.0479 - tp: 7341.0000 - fp: 136.0000 - tn: 7353.0000 - fn: 114.0000 - acc: 0.9833 - precision: 0.9818 - recall: 0.9847 - auc: 0.9982\n",
            " Batch Number 468 the model has a lot of {'loss': 0.0478186272084713, 'tp': 7358.0, 'fp': 136.0, 'tn': 7368.0, 'fn': 114.0, 'acc': 0.9833066463470459, 'precision': 0.9818521738052368, 'recall': 0.984743058681488, 'auc': 0.9982501268386841}\n",
            "\n",
            " Batch Number 469 the model has a lot of {'loss': 0.04781099036335945, 'tp': 7376.0, 'fp': 136.0, 'tn': 7382.0, 'fn': 114.0, 'acc': 0.9833422303199768, 'precision': 0.9818956255912781, 'recall': 0.9847797155380249, 'auc': 0.9982504844665527}\n",
            "\n",
            " Batch Number 470 the model has a lot of {'loss': 0.04774374142289162, 'tp': 7395.0, 'fp': 136.0, 'tn': 7395.0, 'fn': 114.0, 'acc': 0.9833776354789734, 'precision': 0.981941282749176, 'recall': 0.9848182201385498, 'auc': 0.998254656791687}\n",
            "470/689 [===================>..........] - ETA: 3s - loss: 0.0477 - tp: 7395.0000 - fp: 136.0000 - tn: 7395.0000 - fn: 114.0000 - acc: 0.9834 - precision: 0.9819 - recall: 0.9848 - auc: 0.9983\n",
            " Batch Number 471 the model has a lot of {'loss': 0.047659944742918015, 'tp': 7410.0, 'fp': 136.0, 'tn': 7412.0, 'fn': 114.0, 'acc': 0.9834129214286804, 'precision': 0.9819772243499756, 'recall': 0.9848484992980957, 'auc': 0.9982597827911377}\n",
            "\n",
            " Batch Number 472 the model has a lot of {'loss': 0.047664813697338104, 'tp': 7431.0, 'fp': 136.0, 'tn': 7422.0, 'fn': 115.0, 'acc': 0.9833818674087524, 'precision': 0.9820272326469421, 'recall': 0.9847601652145386, 'auc': 0.9982584714889526}\n",
            "\n",
            " Batch Number 473 the model has a lot of {'loss': 0.04761585220694542, 'tp': 7448.0, 'fp': 136.0, 'tn': 7437.0, 'fn': 115.0, 'acc': 0.9834170341491699, 'precision': 0.9820675253868103, 'recall': 0.9847943782806396, 'auc': 0.9982605576515198}\n",
            "473/689 [===================>..........] - ETA: 3s - loss: 0.0476 - tp: 7448.0000 - fp: 136.0000 - tn: 7437.0000 - fn: 115.0000 - acc: 0.9834 - precision: 0.9821 - recall: 0.9848 - auc: 0.9983\n",
            " Batch Number 474 the model has a lot of {'loss': 0.04789327457547188, 'tp': 7467.0, 'fp': 136.0, 'tn': 7448.0, 'fn': 117.0, 'acc': 0.9833201766014099, 'precision': 0.9821123480796814, 'recall': 0.9845727682113647, 'auc': 0.9982472658157349}\n",
            "\n",
            " Batch Number 475 the model has a lot of {'loss': 0.04795003682374954, 'tp': 7484.0, 'fp': 136.0, 'tn': 7462.0, 'fn': 118.0, 'acc': 0.9832894802093506, 'precision': 0.9821522235870361, 'recall': 0.9844777584075928, 'auc': 0.9982447624206543}\n",
            "\n",
            " Batch Number 476 the model has a lot of {'loss': 0.04790959507226944, 'tp': 7495.0, 'fp': 137.0, 'tn': 7482.0, 'fn': 118.0, 'acc': 0.9832589030265808, 'precision': 0.982049286365509, 'recall': 0.9845001697540283, 'auc': 0.998248815536499}\n",
            "476/689 [===================>..........] - ETA: 3s - loss: 0.0479 - tp: 7495.0000 - fp: 137.0000 - tn: 7482.0000 - fn: 118.0000 - acc: 0.9833 - precision: 0.9820 - recall: 0.9845 - auc: 0.9982\n",
            " Batch Number 477 the model has a lot of {'loss': 0.047820109874010086, 'tp': 7509.0, 'fp': 137.0, 'tn': 7500.0, 'fn': 118.0, 'acc': 0.9832940101623535, 'precision': 0.9820821285247803, 'recall': 0.984528660774231, 'auc': 0.998254656791687}\n",
            "\n",
            " Batch Number 478 the model has a lot of {'loss': 0.04782148823142052, 'tp': 7522.0, 'fp': 138.0, 'tn': 7518.0, 'fn': 118.0, 'acc': 0.9832636117935181, 'precision': 0.9819843173027039, 'recall': 0.9845549464225769, 'auc': 0.9982565641403198}\n",
            "\n",
            " Batch Number 479 the model has a lot of {'loss': 0.0477452352643013, 'tp': 7544.0, 'fp': 138.0, 'tn': 7528.0, 'fn': 118.0, 'acc': 0.9832985401153564, 'precision': 0.9820359349250793, 'recall': 0.9845992922782898, 'auc': 0.9982606768608093}\n",
            "479/689 [===================>..........] - ETA: 3s - loss: 0.0477 - tp: 7544.0000 - fp: 138.0000 - tn: 7528.0000 - fn: 118.0000 - acc: 0.9833 - precision: 0.9820 - recall: 0.9846 - auc: 0.9983\n",
            " Batch Number 480 the model has a lot of {'loss': 0.047667186707258224, 'tp': 7562.0, 'fp': 138.0, 'tn': 7542.0, 'fn': 118.0, 'acc': 0.9833333492279053, 'precision': 0.9820778965950012, 'recall': 0.9846354126930237, 'auc': 0.9982654452323914}\n",
            "\n",
            " Batch Number 481 the model has a lot of {'loss': 0.047726795077323914, 'tp': 7577.0, 'fp': 139.0, 'tn': 7557.0, 'fn': 119.0, 'acc': 0.9832380414009094, 'precision': 0.9819855093955994, 'recall': 0.9845374226570129, 'auc': 0.9982636570930481}\n",
            "\n",
            " Batch Number 482 the model has a lot of {'loss': 0.04770306497812271, 'tp': 7595.0, 'fp': 140.0, 'tn': 7570.0, 'fn': 119.0, 'acc': 0.9832080006599426, 'precision': 0.9819004535675049, 'recall': 0.984573483467102, 'auc': 0.9982657432556152}\n",
            "482/689 [===================>..........] - ETA: 3s - loss: 0.0477 - tp: 7595.0000 - fp: 140.0000 - tn: 7570.0000 - fn: 119.0000 - acc: 0.9832 - precision: 0.9819 - recall: 0.9846 - auc: 0.9983\n",
            " Batch Number 483 the model has a lot of {'loss': 0.04762966185808182, 'tp': 7613.0, 'fp': 140.0, 'tn': 7584.0, 'fn': 119.0, 'acc': 0.9832427501678467, 'precision': 0.9819424748420715, 'recall': 0.9846094250679016, 'auc': 0.9982703328132629}\n",
            "\n",
            " Batch Number 484 the model has a lot of {'loss': 0.047561343759298325, 'tp': 7628.0, 'fp': 140.0, 'tn': 7601.0, 'fn': 119.0, 'acc': 0.9832773804664612, 'precision': 0.9819773435592651, 'recall': 0.9846392273902893, 'auc': 0.9982742071151733}\n",
            "\n",
            " Batch Number 485 the model has a lot of {'loss': 0.04748963192105293, 'tp': 7645.0, 'fp': 140.0, 'tn': 7616.0, 'fn': 119.0, 'acc': 0.9833118319511414, 'precision': 0.9820166826248169, 'recall': 0.9846728444099426, 'auc': 0.9982779026031494}\n",
            "485/689 [====================>.........] - ETA: 3s - loss: 0.0475 - tp: 7645.0000 - fp: 140.0000 - tn: 7616.0000 - fn: 119.0000 - acc: 0.9833 - precision: 0.9820 - recall: 0.9847 - auc: 0.9983\n",
            " Batch Number 486 the model has a lot of {'loss': 0.04740265756845474, 'tp': 7660.0, 'fp': 140.0, 'tn': 7633.0, 'fn': 119.0, 'acc': 0.983346164226532, 'precision': 0.9820512533187866, 'recall': 0.9847024083137512, 'auc': 0.9982829689979553}\n",
            "\n",
            " Batch Number 487 the model has a lot of {'loss': 0.047341931611299515, 'tp': 7678.0, 'fp': 140.0, 'tn': 7647.0, 'fn': 119.0, 'acc': 0.9833803772926331, 'precision': 0.9820926189422607, 'recall': 0.9847376942634583, 'auc': 0.998285710811615}\n",
            "\n",
            " Batch Number 488 the model has a lot of {'loss': 0.04736240208148956, 'tp': 7694.0, 'fp': 140.0, 'tn': 7662.0, 'fn': 120.0, 'acc': 0.983350396156311, 'precision': 0.9821291565895081, 'recall': 0.9846429228782654, 'auc': 0.9982853531837463}\n",
            "488/689 [====================>.........] - ETA: 3s - loss: 0.0474 - tp: 7694.0000 - fp: 140.0000 - tn: 7662.0000 - fn: 120.0000 - acc: 0.9834 - precision: 0.9821 - recall: 0.9846 - auc: 0.9983\n",
            " Batch Number 489 the model has a lot of {'loss': 0.04731622710824013, 'tp': 7712.0, 'fp': 140.0, 'tn': 7676.0, 'fn': 120.0, 'acc': 0.9833844304084778, 'precision': 0.9821701645851135, 'recall': 0.9846782684326172, 'auc': 0.9982879757881165}\n",
            "\n",
            " Batch Number 490 the model has a lot of {'loss': 0.04741210490465164, 'tp': 7726.0, 'fp': 141.0, 'tn': 7692.0, 'fn': 121.0, 'acc': 0.9832907915115356, 'precision': 0.9820770025253296, 'recall': 0.9845800995826721, 'auc': 0.9982836246490479}\n",
            "\n",
            " Batch Number 491 the model has a lot of {'loss': 0.047328364104032516, 'tp': 7743.0, 'fp': 141.0, 'tn': 7707.0, 'fn': 121.0, 'acc': 0.9833248257637024, 'precision': 0.9821156859397888, 'recall': 0.9846134185791016, 'auc': 0.9982887506484985}\n",
            "491/689 [====================>.........] - ETA: 3s - loss: 0.0473 - tp: 7743.0000 - fp: 141.0000 - tn: 7707.0000 - fn: 121.0000 - acc: 0.9833 - precision: 0.9821 - recall: 0.9846 - auc: 0.9983\n",
            " Batch Number 492 the model has a lot of {'loss': 0.04734576866030693, 'tp': 7758.0, 'fp': 141.0, 'tn': 7723.0, 'fn': 122.0, 'acc': 0.983295202255249, 'precision': 0.9821496605873108, 'recall': 0.9845177531242371, 'auc': 0.9982878565788269}\n",
            "\n",
            " Batch Number 493 the model has a lot of {'loss': 0.047256652265787125, 'tp': 7771.0, 'fp': 141.0, 'tn': 7742.0, 'fn': 122.0, 'acc': 0.9833291172981262, 'precision': 0.9821789860725403, 'recall': 0.9845432639122009, 'auc': 0.9982937574386597}\n",
            "\n",
            " Batch Number 494 the model has a lot of {'loss': 0.047167275100946426, 'tp': 7786.0, 'fp': 141.0, 'tn': 7759.0, 'fn': 122.0, 'acc': 0.9833628535270691, 'precision': 0.9822126626968384, 'recall': 0.9845725893974304, 'auc': 0.9982995390892029}\n",
            "494/689 [====================>.........] - ETA: 3s - loss: 0.0472 - tp: 7786.0000 - fp: 141.0000 - tn: 7759.0000 - fn: 122.0000 - acc: 0.9834 - precision: 0.9822 - recall: 0.9846 - auc: 0.9983\n",
            " Batch Number 495 the model has a lot of {'loss': 0.04728241264820099, 'tp': 7803.0, 'fp': 142.0, 'tn': 7773.0, 'fn': 122.0, 'acc': 0.9833333492279053, 'precision': 0.9821271300315857, 'recall': 0.9846056699752808, 'auc': 0.9982911944389343}\n",
            "\n",
            " Batch Number 496 the model has a lot of {'loss': 0.04737222194671631, 'tp': 7816.0, 'fp': 143.0, 'tn': 7791.0, 'fn': 122.0, 'acc': 0.9833039045333862, 'precision': 0.9820328950881958, 'recall': 0.9846308827400208, 'auc': 0.998287558555603}\n",
            "\n",
            " Batch Number 497 the model has a lot of {'loss': 0.04729268699884415, 'tp': 7834.0, 'fp': 143.0, 'tn': 7805.0, 'fn': 122.0, 'acc': 0.9833375215530396, 'precision': 0.9820734858512878, 'recall': 0.9846656322479248, 'auc': 0.9982920289039612}\n",
            "497/689 [====================>.........] - ETA: 3s - loss: 0.0473 - tp: 7834.0000 - fp: 143.0000 - tn: 7805.0000 - fn: 122.0000 - acc: 0.9833 - precision: 0.9821 - recall: 0.9847 - auc: 0.9983\n",
            " Batch Number 498 the model has a lot of {'loss': 0.04726783558726311, 'tp': 7848.0, 'fp': 144.0, 'tn': 7822.0, 'fn': 122.0, 'acc': 0.9833082556724548, 'precision': 0.9819819927215576, 'recall': 0.9846925735473633, 'auc': 0.9982950687408447}\n",
            "\n",
            " Batch Number 499 the model has a lot of {'loss': 0.04718216881155968, 'tp': 7863.0, 'fp': 144.0, 'tn': 7839.0, 'fn': 122.0, 'acc': 0.9833416938781738, 'precision': 0.9820157289505005, 'recall': 0.9847213625907898, 'auc': 0.9983006715774536}\n",
            "\n",
            " Batch Number 500 the model has a lot of {'loss': 0.047093816101551056, 'tp': 7879.0, 'fp': 144.0, 'tn': 7855.0, 'fn': 122.0, 'acc': 0.9833750128746033, 'precision': 0.9820516109466553, 'recall': 0.9847518801689148, 'auc': 0.9983058571815491}\n",
            "500/689 [====================>.........] - ETA: 3s - loss: 0.0471 - tp: 7879.0000 - fp: 144.0000 - tn: 7855.0000 - fn: 122.0000 - acc: 0.9834 - precision: 0.9821 - recall: 0.9848 - auc: 0.9983\n",
            " Batch Number 501 the model has a lot of {'loss': 0.04709740728139877, 'tp': 7897.0, 'fp': 145.0, 'tn': 7868.0, 'fn': 122.0, 'acc': 0.9833458065986633, 'precision': 0.9819696545600891, 'recall': 0.9847861528396606, 'auc': 0.9983068108558655}\n",
            "\n",
            " Batch Number 502 the model has a lot of {'loss': 0.04701259359717369, 'tp': 7912.0, 'fp': 145.0, 'tn': 7885.0, 'fn': 122.0, 'acc': 0.9833790063858032, 'precision': 0.9820032119750977, 'recall': 0.9848145246505737, 'auc': 0.9983123540878296}\n",
            "\n",
            " Batch Number 503 the model has a lot of {'loss': 0.04692923650145531, 'tp': 7927.0, 'fp': 145.0, 'tn': 7902.0, 'fn': 122.0, 'acc': 0.9834120273590088, 'precision': 0.9820366501808167, 'recall': 0.984842836856842, 'auc': 0.9983179569244385}\n",
            "503/689 [====================>.........] - ETA: 3s - loss: 0.0469 - tp: 7927.0000 - fp: 145.0000 - tn: 7902.0000 - fn: 122.0000 - acc: 0.9834 - precision: 0.9820 - recall: 0.9848 - auc: 0.9983\n",
            " Batch Number 504 the model has a lot of {'loss': 0.04689989984035492, 'tp': 7941.0, 'fp': 146.0, 'tn': 7919.0, 'fn': 122.0, 'acc': 0.9833829402923584, 'precision': 0.9819463491439819, 'recall': 0.9848691821098328, 'auc': 0.9983204007148743}\n",
            "\n",
            " Batch Number 505 the model has a lot of {'loss': 0.04683615267276764, 'tp': 7955.0, 'fp': 146.0, 'tn': 7937.0, 'fn': 122.0, 'acc': 0.9834158420562744, 'precision': 0.9819775223731995, 'recall': 0.9848954081535339, 'auc': 0.9983245134353638}\n",
            "\n",
            " Batch Number 506 the model has a lot of {'loss': 0.04678894951939583, 'tp': 7970.0, 'fp': 146.0, 'tn': 7954.0, 'fn': 122.0, 'acc': 0.9834486246109009, 'precision': 0.9820108413696289, 'recall': 0.9849233627319336, 'auc': 0.9983283281326294}\n",
            "506/689 [=====================>........] - ETA: 3s - loss: 0.0468 - tp: 7970.0000 - fp: 146.0000 - tn: 7954.0000 - fn: 122.0000 - acc: 0.9834 - precision: 0.9820 - recall: 0.9849 - auc: 0.9983\n",
            " Batch Number 507 the model has a lot of {'loss': 0.04672906547784805, 'tp': 7989.0, 'fp': 146.0, 'tn': 7967.0, 'fn': 122.0, 'acc': 0.9834812879562378, 'precision': 0.9820528626441956, 'recall': 0.9849587082862854, 'auc': 0.9983323216438293}\n",
            "\n",
            " Batch Number 508 the model has a lot of {'loss': 0.046654265373945236, 'tp': 8008.0, 'fp': 146.0, 'tn': 7980.0, 'fn': 122.0, 'acc': 0.9835137724876404, 'precision': 0.9820947051048279, 'recall': 0.9849938750267029, 'auc': 0.9983361959457397}\n",
            "\n",
            " Batch Number 509 the model has a lot of {'loss': 0.046585772186517715, 'tp': 8023.0, 'fp': 146.0, 'tn': 7997.0, 'fn': 122.0, 'acc': 0.9835461974143982, 'precision': 0.9821275472640991, 'recall': 0.9850214719772339, 'auc': 0.9983407258987427}\n",
            "509/689 [=====================>........] - ETA: 3s - loss: 0.0466 - tp: 8023.0000 - fp: 146.0000 - tn: 7997.0000 - fn: 122.0000 - acc: 0.9835 - precision: 0.9821 - recall: 0.9850 - auc: 0.9983\n",
            " Batch Number 510 the model has a lot of {'loss': 0.04651342332363129, 'tp': 8037.0, 'fp': 146.0, 'tn': 8015.0, 'fn': 122.0, 'acc': 0.9835784435272217, 'precision': 0.9821581244468689, 'recall': 0.9850471615791321, 'auc': 0.9983456134796143}\n",
            "\n",
            " Batch Number 511 the model has a lot of {'loss': 0.0464264340698719, 'tp': 8053.0, 'fp': 146.0, 'tn': 8031.0, 'fn': 122.0, 'acc': 0.9836105704307556, 'precision': 0.9821929335594177, 'recall': 0.9850764274597168, 'auc': 0.9983511567115784}\n",
            "\n",
            " Batch Number 512 the model has a lot of {'loss': 0.04637466371059418, 'tp': 8063.0, 'fp': 146.0, 'tn': 8053.0, 'fn': 122.0, 'acc': 0.983642578125, 'precision': 0.982214629650116, 'recall': 0.9850946664810181, 'auc': 0.9983553886413574}\n",
            "512/689 [=====================>........] - ETA: 3s - loss: 0.0464 - tp: 8063.0000 - fp: 146.0000 - tn: 8053.0000 - fn: 122.0000 - acc: 0.9836 - precision: 0.9822 - recall: 0.9851 - auc: 0.9984\n",
            " Batch Number 513 the model has a lot of {'loss': 0.04630386084318161, 'tp': 8075.0, 'fp': 146.0, 'tn': 8073.0, 'fn': 122.0, 'acc': 0.9836744666099548, 'precision': 0.982240617275238, 'recall': 0.9851164817810059, 'auc': 0.9983597993850708}\n",
            "\n",
            " Batch Number 514 the model has a lot of {'loss': 0.04637890309095383, 'tp': 8090.0, 'fp': 146.0, 'tn': 8089.0, 'fn': 123.0, 'acc': 0.9836454391479492, 'precision': 0.9822729229927063, 'recall': 0.9850237369537354, 'auc': 0.9983583092689514}\n",
            "\n",
            " Batch Number 515 the model has a lot of {'loss': 0.04659217223525047, 'tp': 8100.0, 'fp': 147.0, 'tn': 8109.0, 'fn': 124.0, 'acc': 0.9835558533668518, 'precision': 0.982175350189209, 'recall': 0.9849221706390381, 'auc': 0.9983450174331665}\n",
            "515/689 [=====================>........] - ETA: 3s - loss: 0.0466 - tp: 8100.0000 - fp: 147.0000 - tn: 8109.0000 - fn: 124.0000 - acc: 0.9836 - precision: 0.9822 - recall: 0.9849 - auc: 0.9983\n",
            " Batch Number 516 the model has a lot of {'loss': 0.04654908552765846, 'tp': 8122.0, 'fp': 147.0, 'tn': 8119.0, 'fn': 124.0, 'acc': 0.9835876822471619, 'precision': 0.9822227358818054, 'recall': 0.9849624037742615, 'auc': 0.9983459711074829}\n",
            "\n",
            " Batch Number 517 the model has a lot of {'loss': 0.0467538982629776, 'tp': 8140.0, 'fp': 147.0, 'tn': 8132.0, 'fn': 125.0, 'acc': 0.9835590124130249, 'precision': 0.9822613596916199, 'recall': 0.9848759770393372, 'auc': 0.9983320236206055}\n",
            "\n",
            " Batch Number 518 the model has a lot of {'loss': 0.04667232930660248, 'tp': 8152.0, 'fp': 147.0, 'tn': 8152.0, 'fn': 125.0, 'acc': 0.9835907220840454, 'precision': 0.9822870492935181, 'recall': 0.9848979115486145, 'auc': 0.9983372688293457}\n",
            "518/689 [=====================>........] - ETA: 2s - loss: 0.0467 - tp: 8152.0000 - fp: 147.0000 - tn: 8152.0000 - fn: 125.0000 - acc: 0.9836 - precision: 0.9823 - recall: 0.9849 - auc: 0.9983\n",
            " Batch Number 519 the model has a lot of {'loss': 0.046635620296001434, 'tp': 8169.0, 'fp': 147.0, 'tn': 8167.0, 'fn': 125.0, 'acc': 0.9836223721504211, 'precision': 0.9823232293128967, 'recall': 0.9849288463592529, 'auc': 0.9983391761779785}\n",
            "\n",
            " Batch Number 520 the model has a lot of {'loss': 0.046587519347667694, 'tp': 8187.0, 'fp': 147.0, 'tn': 8181.0, 'fn': 125.0, 'acc': 0.9836538434028625, 'precision': 0.9823614358901978, 'recall': 0.9849615097045898, 'auc': 0.9983420968055725}\n",
            "\n",
            " Batch Number 521 the model has a lot of {'loss': 0.04698199778795242, 'tp': 8207.0, 'fp': 147.0, 'tn': 8189.0, 'fn': 129.0, 'acc': 0.9834452867507935, 'precision': 0.9824036359786987, 'recall': 0.9845249652862549, 'auc': 0.998325765132904}\n",
            "521/689 [=====================>........] - ETA: 2s - loss: 0.0470 - tp: 8207.0000 - fp: 147.0000 - tn: 8189.0000 - fn: 129.0000 - acc: 0.9834 - precision: 0.9824 - recall: 0.9845 - auc: 0.9983\n",
            " Batch Number 522 the model has a lot of {'loss': 0.0469195581972599, 'tp': 8224.0, 'fp': 147.0, 'tn': 8204.0, 'fn': 129.0, 'acc': 0.983476996421814, 'precision': 0.982439398765564, 'recall': 0.9845564365386963, 'auc': 0.9983289837837219}\n",
            "\n",
            " Batch Number 523 the model has a lot of {'loss': 0.0469072200357914, 'tp': 8242.0, 'fp': 147.0, 'tn': 8218.0, 'fn': 129.0, 'acc': 0.9835085868835449, 'precision': 0.982477068901062, 'recall': 0.9845896363258362, 'auc': 0.998330295085907}\n",
            "\n",
            " Batch Number 524 the model has a lot of {'loss': 0.04726460576057434, 'tp': 8252.0, 'fp': 148.0, 'tn': 8239.0, 'fn': 129.0, 'acc': 0.9834804534912109, 'precision': 0.9823809266090393, 'recall': 0.9846080541610718, 'auc': 0.998258650302887}\n",
            "524/689 [=====================>........] - ETA: 2s - loss: 0.0473 - tp: 8252.0000 - fp: 148.0000 - tn: 8239.0000 - fn: 129.0000 - acc: 0.9835 - precision: 0.9824 - recall: 0.9846 - auc: 0.9983\n",
            " Batch Number 525 the model has a lot of {'loss': 0.047187067568302155, 'tp': 8267.0, 'fp': 148.0, 'tn': 8256.0, 'fn': 129.0, 'acc': 0.9835119247436523, 'precision': 0.9824123382568359, 'recall': 0.9846355319023132, 'auc': 0.9982635378837585}\n",
            "\n",
            " Batch Number 526 the model has a lot of {'loss': 0.04709959402680397, 'tp': 8284.0, 'fp': 148.0, 'tn': 8271.0, 'fn': 129.0, 'acc': 0.9835432767868042, 'precision': 0.9824478030204773, 'recall': 0.9846665859222412, 'auc': 0.998269259929657}\n",
            "\n",
            " Batch Number 527 the model has a lot of {'loss': 0.047023192048072815, 'tp': 8304.0, 'fp': 148.0, 'tn': 8283.0, 'fn': 129.0, 'acc': 0.9835744500160217, 'precision': 0.9824893474578857, 'recall': 0.9847029447555542, 'auc': 0.9982733130455017}\n",
            "527/689 [=====================>........] - ETA: 2s - loss: 0.0470 - tp: 8304.0000 - fp: 148.0000 - tn: 8283.0000 - fn: 129.0000 - acc: 0.9836 - precision: 0.9825 - recall: 0.9847 - auc: 0.9983\n",
            " Batch Number 528 the model has a lot of {'loss': 0.046958040446043015, 'tp': 8322.0, 'fp': 148.0, 'tn': 8297.0, 'fn': 129.0, 'acc': 0.9836055636405945, 'precision': 0.9825265407562256, 'recall': 0.9847355484962463, 'auc': 0.9982773065567017}\n",
            "\n",
            " Batch Number 529 the model has a lot of {'loss': 0.04697495326399803, 'tp': 8337.0, 'fp': 149.0, 'tn': 8313.0, 'fn': 129.0, 'acc': 0.9835774898529053, 'precision': 0.9824416637420654, 'recall': 0.9847626090049744, 'auc': 0.9982780814170837}\n",
            "\n",
            " Batch Number 530 the model has a lot of {'loss': 0.046949248760938644, 'tp': 8349.0, 'fp': 150.0, 'tn': 8332.0, 'fn': 129.0, 'acc': 0.9835495352745056, 'precision': 0.9823508858680725, 'recall': 0.9847841262817383, 'auc': 0.998280942440033}\n",
            "530/689 [======================>.......] - ETA: 2s - loss: 0.0469 - tp: 8349.0000 - fp: 150.0000 - tn: 8332.0000 - fn: 129.0000 - acc: 0.9835 - precision: 0.9824 - recall: 0.9848 - auc: 0.9983\n",
            " Batch Number 531 the model has a lot of {'loss': 0.04687567800283432, 'tp': 8363.0, 'fp': 150.0, 'tn': 8350.0, 'fn': 129.0, 'acc': 0.9835805296897888, 'precision': 0.9823799133300781, 'recall': 0.9848092198371887, 'auc': 0.9982853531837463}\n",
            "\n",
            " Batch Number 532 the model has a lot of {'loss': 0.04728403687477112, 'tp': 8378.0, 'fp': 153.0, 'tn': 8364.0, 'fn': 129.0, 'acc': 0.9834351539611816, 'precision': 0.9820653796195984, 'recall': 0.9848360419273376, 'auc': 0.9982088804244995}\n",
            "\n",
            " Batch Number 533 the model has a lot of {'loss': 0.04722137749195099, 'tp': 8396.0, 'fp': 153.0, 'tn': 8378.0, 'fn': 129.0, 'acc': 0.9834662079811096, 'precision': 0.982103168964386, 'recall': 0.984868049621582, 'auc': 0.9982128143310547}\n",
            "533/689 [======================>.......] - ETA: 2s - loss: 0.0472 - tp: 8396.0000 - fp: 153.0000 - tn: 8378.0000 - fn: 129.0000 - acc: 0.9835 - precision: 0.9821 - recall: 0.9849 - auc: 0.9982\n",
            " Batch Number 534 the model has a lot of {'loss': 0.047164686024188995, 'tp': 8418.0, 'fp': 153.0, 'tn': 8388.0, 'fn': 129.0, 'acc': 0.9834972023963928, 'precision': 0.9821491241455078, 'recall': 0.9849069714546204, 'auc': 0.998214840888977}\n",
            "\n",
            " Batch Number 535 the model has a lot of {'loss': 0.04710527881979942, 'tp': 8432.0, 'fp': 153.0, 'tn': 8406.0, 'fn': 129.0, 'acc': 0.9835280179977417, 'precision': 0.9821782112121582, 'recall': 0.9849316477775574, 'auc': 0.9982191324234009}\n",
            "\n",
            " Batch Number 536 the model has a lot of {'loss': 0.04706396535038948, 'tp': 8445.0, 'fp': 153.0, 'tn': 8425.0, 'fn': 129.0, 'acc': 0.9835587739944458, 'precision': 0.9822051525115967, 'recall': 0.9849545359611511, 'auc': 0.998222827911377}\n",
            "536/689 [======================>.......] - ETA: 2s - loss: 0.0471 - tp: 8445.0000 - fp: 153.0000 - tn: 8425.0000 - fn: 129.0000 - acc: 0.9836 - precision: 0.9822 - recall: 0.9850 - auc: 0.9982\n",
            " Batch Number 537 the model has a lot of {'loss': 0.047073494642972946, 'tp': 8461.0, 'fp': 153.0, 'tn': 8440.0, 'fn': 130.0, 'acc': 0.9835311770439148, 'precision': 0.982238233089447, 'recall': 0.9848678708076477, 'auc': 0.9982231259346008}\n",
            "\n",
            " Batch Number 538 the model has a lot of {'loss': 0.04701421409845352, 'tp': 8476.0, 'fp': 153.0, 'tn': 8457.0, 'fn': 130.0, 'acc': 0.9835618138313293, 'precision': 0.9822691082954407, 'recall': 0.9848942756652832, 'auc': 0.9982268214225769}\n",
            "\n",
            " Batch Number 539 the model has a lot of {'loss': 0.04693581908941269, 'tp': 8493.0, 'fp': 153.0, 'tn': 8472.0, 'fn': 130.0, 'acc': 0.9835922718048096, 'precision': 0.9823039770126343, 'recall': 0.9849240183830261, 'auc': 0.9982316493988037}\n",
            "539/689 [======================>.......] - ETA: 2s - loss: 0.0469 - tp: 8493.0000 - fp: 153.0000 - tn: 8472.0000 - fn: 130.0000 - acc: 0.9836 - precision: 0.9823 - recall: 0.9849 - auc: 0.9982\n",
            " Batch Number 540 the model has a lot of {'loss': 0.047048989683389664, 'tp': 8509.0, 'fp': 154.0, 'tn': 8486.0, 'fn': 131.0, 'acc': 0.9835069179534912, 'precision': 0.9822232723236084, 'recall': 0.9848379492759705, 'auc': 0.9982274174690247}\n",
            "\n",
            " Batch Number 541 the model has a lot of {'loss': 0.04704929143190384, 'tp': 8523.0, 'fp': 155.0, 'tn': 8503.0, 'fn': 131.0, 'acc': 0.9834796786308289, 'precision': 0.9821387529373169, 'recall': 0.9848625063896179, 'auc': 0.9982289671897888}\n",
            "\n",
            " Batch Number 542 the model has a lot of {'loss': 0.04717717319726944, 'tp': 8536.0, 'fp': 155.0, 'tn': 8521.0, 'fn': 132.0, 'acc': 0.9834524989128113, 'precision': 0.9821654558181763, 'recall': 0.9847715497016907, 'auc': 0.9982243180274963}\n",
            "542/689 [======================>.......] - ETA: 2s - loss: 0.0472 - tp: 8536.0000 - fp: 155.0000 - tn: 8521.0000 - fn: 132.0000 - acc: 0.9835 - precision: 0.9822 - recall: 0.9848 - auc: 0.9982\n",
            " Batch Number 543 the model has a lot of {'loss': 0.047254323959350586, 'tp': 8550.0, 'fp': 156.0, 'tn': 8538.0, 'fn': 132.0, 'acc': 0.9834254384040833, 'precision': 0.9820812940597534, 'recall': 0.9847961068153381, 'auc': 0.9982208013534546}\n",
            "\n",
            " Batch Number 544 the model has a lot of {'loss': 0.047180190682411194, 'tp': 8568.0, 'fp': 156.0, 'tn': 8552.0, 'fn': 132.0, 'acc': 0.9834558963775635, 'precision': 0.9821183085441589, 'recall': 0.9848275780677795, 'auc': 0.9982253909111023}\n",
            "\n",
            " Batch Number 545 the model has a lot of {'loss': 0.04709460586309433, 'tp': 8583.0, 'fp': 156.0, 'tn': 8569.0, 'fn': 132.0, 'acc': 0.9834862351417542, 'precision': 0.9821490049362183, 'recall': 0.9848536849021912, 'auc': 0.9982311129570007}\n",
            "545/689 [======================>.......] - ETA: 2s - loss: 0.0471 - tp: 8583.0000 - fp: 156.0000 - tn: 8569.0000 - fn: 132.0000 - acc: 0.9835 - precision: 0.9821 - recall: 0.9849 - auc: 0.9982\n",
            " Batch Number 546 the model has a lot of {'loss': 0.04714738950133324, 'tp': 8602.0, 'fp': 156.0, 'tn': 8581.0, 'fn': 133.0, 'acc': 0.9834592342376709, 'precision': 0.9821876883506775, 'recall': 0.9847738742828369, 'auc': 0.9982284903526306}\n",
            "\n",
            " Batch Number 547 the model has a lot of {'loss': 0.04707140102982521, 'tp': 8615.0, 'fp': 156.0, 'tn': 8600.0, 'fn': 133.0, 'acc': 0.9834895133972168, 'precision': 0.982214093208313, 'recall': 0.9847965240478516, 'auc': 0.9982334971427917}\n",
            "\n",
            " Batch Number 548 the model has a lot of {'loss': 0.04711895436048508, 'tp': 8630.0, 'fp': 156.0, 'tn': 8616.0, 'fn': 134.0, 'acc': 0.9834625720977783, 'precision': 0.9822444915771484, 'recall': 0.984710156917572, 'auc': 0.9982328414916992}\n",
            "548/689 [======================>.......] - ETA: 2s - loss: 0.0471 - tp: 8630.0000 - fp: 156.0000 - tn: 8616.0000 - fn: 134.0000 - acc: 0.9835 - precision: 0.9822 - recall: 0.9847 - auc: 0.9982\n",
            " Batch Number 549 the model has a lot of {'loss': 0.047184959053993225, 'tp': 8642.0, 'fp': 157.0, 'tn': 8635.0, 'fn': 134.0, 'acc': 0.9834358096122742, 'precision': 0.9821570515632629, 'recall': 0.9847310781478882, 'auc': 0.9982309341430664}\n",
            "\n",
            " Batch Number 550 the model has a lot of {'loss': 0.04725169762969017, 'tp': 8660.0, 'fp': 157.0, 'tn': 8648.0, 'fn': 135.0, 'acc': 0.9834091067314148, 'precision': 0.9821934700012207, 'recall': 0.9846503734588623, 'auc': 0.9982289671897888}\n",
            "\n",
            " Batch Number 551 the model has a lot of {'loss': 0.04729655012488365, 'tp': 8678.0, 'fp': 157.0, 'tn': 8661.0, 'fn': 136.0, 'acc': 0.9833824634552002, 'precision': 0.9822297692298889, 'recall': 0.9845700263977051, 'auc': 0.9982269406318665}\n",
            "551/689 [======================>.......] - ETA: 2s - loss: 0.0473 - tp: 8678.0000 - fp: 157.0000 - tn: 8661.0000 - fn: 136.0000 - acc: 0.9834 - precision: 0.9822 - recall: 0.9846 - auc: 0.9982\n",
            " Batch Number 552 the model has a lot of {'loss': 0.047303203493356705, 'tp': 8691.0, 'fp': 158.0, 'tn': 8679.0, 'fn': 136.0, 'acc': 0.9833559989929199, 'precision': 0.9821448922157288, 'recall': 0.9845927357673645, 'auc': 0.9982283711433411}\n",
            "\n",
            " Batch Number 553 the model has a lot of {'loss': 0.04733533412218094, 'tp': 8706.0, 'fp': 159.0, 'tn': 8695.0, 'fn': 136.0, 'acc': 0.9833295941352844, 'precision': 0.9820643067359924, 'recall': 0.9846188426017761, 'auc': 0.998227596282959}\n",
            "\n",
            " Batch Number 554 the model has a lot of {'loss': 0.047271933406591415, 'tp': 8721.0, 'fp': 159.0, 'tn': 8712.0, 'fn': 136.0, 'acc': 0.9833596348762512, 'precision': 0.9820945858955383, 'recall': 0.984644889831543, 'auc': 0.9982314705848694}\n",
            "554/689 [=======================>......] - ETA: 2s - loss: 0.0473 - tp: 8721.0000 - fp: 159.0000 - tn: 8712.0000 - fn: 136.0000 - acc: 0.9834 - precision: 0.9821 - recall: 0.9846 - auc: 0.9982\n",
            " Batch Number 555 the model has a lot of {'loss': 0.047230314463377, 'tp': 8737.0, 'fp': 159.0, 'tn': 8728.0, 'fn': 136.0, 'acc': 0.9833896160125732, 'precision': 0.982126772403717, 'recall': 0.9846726059913635, 'auc': 0.9982343316078186}\n",
            "\n",
            " Batch Number 556 the model has a lot of {'loss': 0.047438714653253555, 'tp': 8753.0, 'fp': 159.0, 'tn': 8743.0, 'fn': 137.0, 'acc': 0.9833633303642273, 'precision': 0.982158899307251, 'recall': 0.9845893979072571, 'auc': 0.998221218585968}\n",
            "\n",
            " Batch Number 557 the model has a lot of {'loss': 0.04740588366985321, 'tp': 8767.0, 'fp': 159.0, 'tn': 8760.0, 'fn': 138.0, 'acc': 0.9833370447158813, 'precision': 0.9821868538856506, 'recall': 0.9845030903816223, 'auc': 0.9982244372367859}\n",
            "557/689 [=======================>......] - ETA: 2s - loss: 0.0474 - tp: 8767.0000 - fp: 159.0000 - tn: 8760.0000 - fn: 138.0000 - acc: 0.9833 - precision: 0.9822 - recall: 0.9845 - auc: 0.9982\n",
            " Batch Number 558 the model has a lot of {'loss': 0.04743557423353195, 'tp': 8784.0, 'fp': 159.0, 'tn': 8774.0, 'fn': 139.0, 'acc': 0.9833109378814697, 'precision': 0.9822207093238831, 'recall': 0.9844222664833069, 'auc': 0.9982252717018127}\n",
            "\n",
            " Batch Number 559 the model has a lot of {'loss': 0.04821076616644859, 'tp': 8796.0, 'fp': 163.0, 'tn': 8790.0, 'fn': 139.0, 'acc': 0.9831171631813049, 'precision': 0.9818059802055359, 'recall': 0.984443187713623, 'auc': 0.9980807304382324}\n",
            "\n",
            " Batch Number 560 the model has a lot of {'loss': 0.04821276664733887, 'tp': 8816.0, 'fp': 163.0, 'tn': 8802.0, 'fn': 139.0, 'acc': 0.9831473231315613, 'precision': 0.9818465113639832, 'recall': 0.9844779372215271, 'auc': 0.9980805516242981}\n",
            "560/689 [=======================>......] - ETA: 2s - loss: 0.0482 - tp: 8816.0000 - fp: 163.0000 - tn: 8802.0000 - fn: 139.0000 - acc: 0.9831 - precision: 0.9818 - recall: 0.9845 - auc: 0.9981\n",
            " Batch Number 561 the model has a lot of {'loss': 0.04817797616124153, 'tp': 8833.0, 'fp': 163.0, 'tn': 8817.0, 'fn': 139.0, 'acc': 0.9831773638725281, 'precision': 0.9818808436393738, 'recall': 0.9845073819160461, 'auc': 0.998083233833313}\n",
            "\n",
            " Batch Number 562 the model has a lot of {'loss': 0.0481160432100296, 'tp': 8851.0, 'fp': 163.0, 'tn': 8831.0, 'fn': 139.0, 'acc': 0.9832072854042053, 'precision': 0.9819170236587524, 'recall': 0.9845383763313293, 'auc': 0.9980869293212891}\n",
            "\n",
            " Batch Number 563 the model has a lot of {'loss': 0.048223841935396194, 'tp': 8868.0, 'fp': 164.0, 'tn': 8845.0, 'fn': 139.0, 'acc': 0.9831815958023071, 'precision': 0.9818423390388489, 'recall': 0.9845675826072693, 'auc': 0.9980799555778503}\n",
            "563/689 [=======================>......] - ETA: 2s - loss: 0.0482 - tp: 8868.0000 - fp: 164.0000 - tn: 8845.0000 - fn: 139.0000 - acc: 0.9832 - precision: 0.9818 - recall: 0.9846 - auc: 0.9981\n",
            " Batch Number 564 the model has a lot of {'loss': 0.048214975744485855, 'tp': 8885.0, 'fp': 164.0, 'tn': 8859.0, 'fn': 140.0, 'acc': 0.9831560254096985, 'precision': 0.9818764328956604, 'recall': 0.9844875335693359, 'auc': 0.9980818629264832}\n",
            "\n",
            " Batch Number 565 the model has a lot of {'loss': 0.04820748791098595, 'tp': 8899.0, 'fp': 164.0, 'tn': 8876.0, 'fn': 141.0, 'acc': 0.9831305146217346, 'precision': 0.9819044470787048, 'recall': 0.9844026565551758, 'auc': 0.9980834722518921}\n",
            "\n",
            " Batch Number 566 the model has a lot of {'loss': 0.048216890543699265, 'tp': 8912.0, 'fp': 165.0, 'tn': 8894.0, 'fn': 141.0, 'acc': 0.9831051230430603, 'precision': 0.9818221926689148, 'recall': 0.9844250679016113, 'auc': 0.9980847239494324}\n",
            "566/689 [=======================>......] - ETA: 2s - loss: 0.0482 - tp: 8912.0000 - fp: 165.0000 - tn: 8894.0000 - fn: 141.0000 - acc: 0.9831 - precision: 0.9818 - recall: 0.9844 - auc: 0.9981\n",
            " Batch Number 567 the model has a lot of {'loss': 0.04818546399474144, 'tp': 8930.0, 'fp': 165.0, 'tn': 8908.0, 'fn': 141.0, 'acc': 0.983134925365448, 'precision': 0.9818581342697144, 'recall': 0.984455943107605, 'auc': 0.9980859160423279}\n",
            "\n",
            " Batch Number 568 the model has a lot of {'loss': 0.04811493307352066, 'tp': 8943.0, 'fp': 165.0, 'tn': 8927.0, 'fn': 141.0, 'acc': 0.9831646084785461, 'precision': 0.9818840622901917, 'recall': 0.9844781756401062, 'auc': 0.9980909824371338}\n",
            "\n",
            " Batch Number 569 the model has a lot of {'loss': 0.04805680736899376, 'tp': 8958.0, 'fp': 165.0, 'tn': 8944.0, 'fn': 141.0, 'acc': 0.9831941723823547, 'precision': 0.9819138646125793, 'recall': 0.9845038056373596, 'auc': 0.9980945587158203}\n",
            "569/689 [=======================>......] - ETA: 2s - loss: 0.0481 - tp: 8958.0000 - fp: 165.0000 - tn: 8944.0000 - fn: 141.0000 - acc: 0.9832 - precision: 0.9819 - recall: 0.9845 - auc: 0.9981\n",
            " Batch Number 570 the model has a lot of {'loss': 0.04805251955986023, 'tp': 8976.0, 'fp': 165.0, 'tn': 8957.0, 'fn': 142.0, 'acc': 0.9831688404083252, 'precision': 0.9819494485855103, 'recall': 0.9844264388084412, 'auc': 0.998095691204071}\n",
            "\n",
            " Batch Number 571 the model has a lot of {'loss': 0.0480065792798996, 'tp': 8990.0, 'fp': 165.0, 'tn': 8975.0, 'fn': 142.0, 'acc': 0.983198344707489, 'precision': 0.9819770455360413, 'recall': 0.9844502806663513, 'auc': 0.9980987310409546}\n",
            "\n",
            " Batch Number 572 the model has a lot of {'loss': 0.0479300282895565, 'tp': 9006.0, 'fp': 165.0, 'tn': 8991.0, 'fn': 142.0, 'acc': 0.9832277297973633, 'precision': 0.9820085167884827, 'recall': 0.9844774603843689, 'auc': 0.99810391664505}\n",
            "572/689 [=======================>......] - ETA: 2s - loss: 0.0479 - tp: 9006.0000 - fp: 165.0000 - tn: 8991.0000 - fn: 142.0000 - acc: 0.9832 - precision: 0.9820 - recall: 0.9845 - auc: 0.9981\n",
            " Batch Number 573 the model has a lot of {'loss': 0.04804938659071922, 'tp': 9019.0, 'fp': 166.0, 'tn': 9008.0, 'fn': 143.0, 'acc': 0.983147919178009, 'precision': 0.9819270372390747, 'recall': 0.9843920469284058, 'auc': 0.9980974793434143}\n",
            "\n",
            " Batch Number 574 the model has a lot of {'loss': 0.04799536615610123, 'tp': 9031.0, 'fp': 166.0, 'tn': 9028.0, 'fn': 143.0, 'acc': 0.9831772446632385, 'precision': 0.9819506406784058, 'recall': 0.9844124913215637, 'auc': 0.9981021285057068}\n",
            "\n",
            " Batch Number 575 the model has a lot of {'loss': 0.04807014763355255, 'tp': 9046.0, 'fp': 167.0, 'tn': 9044.0, 'fn': 143.0, 'acc': 0.9831521511077881, 'precision': 0.9818734526634216, 'recall': 0.9844379425048828, 'auc': 0.9980985522270203}\n",
            "575/689 [========================>.....] - ETA: 1s - loss: 0.0481 - tp: 9046.0000 - fp: 167.0000 - tn: 9044.0000 - fn: 143.0000 - acc: 0.9832 - precision: 0.9819 - recall: 0.9844 - auc: 0.9981\n",
            " Batch Number 576 the model has a lot of {'loss': 0.048015762120485306, 'tp': 9067.0, 'fp': 167.0, 'tn': 9055.0, 'fn': 143.0, 'acc': 0.9831814169883728, 'precision': 0.9819146394729614, 'recall': 0.9844734072685242, 'auc': 0.9981006979942322}\n",
            "\n",
            " Batch Number 577 the model has a lot of {'loss': 0.04802309349179268, 'tp': 9084.0, 'fp': 168.0, 'tn': 9069.0, 'fn': 143.0, 'acc': 0.9831563830375671, 'precision': 0.9818417429924011, 'recall': 0.9845020174980164, 'auc': 0.9981012940406799}\n",
            "\n",
            " Batch Number 578 the model has a lot of {'loss': 0.047990769147872925, 'tp': 9097.0, 'fp': 169.0, 'tn': 9087.0, 'fn': 143.0, 'acc': 0.983131468296051, 'precision': 0.9817612767219543, 'recall': 0.9845238327980042, 'auc': 0.9981046915054321}\n",
            "578/689 [========================>.....] - ETA: 1s - loss: 0.0480 - tp: 9097.0000 - fp: 169.0000 - tn: 9087.0000 - fn: 143.0000 - acc: 0.9831 - precision: 0.9818 - recall: 0.9845 - auc: 0.9981\n",
            " Batch Number 579 the model has a lot of {'loss': 0.04801478981971741, 'tp': 9109.0, 'fp': 170.0, 'tn': 9106.0, 'fn': 143.0, 'acc': 0.9831066727638245, 'precision': 0.9816790819168091, 'recall': 0.9845438599586487, 'auc': 0.9981057643890381}\n",
            "\n",
            " Batch Number 580 the model has a lot of {'loss': 0.04799295589327812, 'tp': 9124.0, 'fp': 171.0, 'tn': 9122.0, 'fn': 143.0, 'acc': 0.9830818772315979, 'precision': 0.9816030263900757, 'recall': 0.9845688939094543, 'auc': 0.9981085658073425}\n",
            "\n",
            " Batch Number 581 the model has a lot of {'loss': 0.04802851378917694, 'tp': 9139.0, 'fp': 172.0, 'tn': 9138.0, 'fn': 143.0, 'acc': 0.9830572009086609, 'precision': 0.9815272092819214, 'recall': 0.9845938086509705, 'auc': 0.9981078505516052}\n",
            "581/689 [========================>.....] - ETA: 1s - loss: 0.0480 - tp: 9139.0000 - fp: 172.0000 - tn: 9138.0000 - fn: 143.0000 - acc: 0.9831 - precision: 0.9815 - recall: 0.9846 - auc: 0.9981\n",
            " Batch Number 582 the model has a lot of {'loss': 0.04799730330705643, 'tp': 9155.0, 'fp': 173.0, 'tn': 9153.0, 'fn': 143.0, 'acc': 0.9830326437950134, 'precision': 0.9814537167549133, 'recall': 0.9846203327178955, 'auc': 0.9981101751327515}\n",
            "\n",
            " Batch Number 583 the model has a lot of {'loss': 0.0479184128344059, 'tp': 9171.0, 'fp': 173.0, 'tn': 9169.0, 'fn': 143.0, 'acc': 0.9830617308616638, 'precision': 0.9814854264259338, 'recall': 0.9846467971801758, 'auc': 0.998115599155426}\n",
            "\n",
            " Batch Number 584 the model has a lot of {'loss': 0.04813670739531517, 'tp': 9189.0, 'fp': 173.0, 'tn': 9180.0, 'fn': 146.0, 'acc': 0.9829302430152893, 'precision': 0.9815210700035095, 'recall': 0.9843599200248718, 'auc': 0.9981063008308411}\n",
            "584/689 [========================>.....] - ETA: 1s - loss: 0.0481 - tp: 9189.0000 - fp: 173.0000 - tn: 9180.0000 - fn: 146.0000 - acc: 0.9829 - precision: 0.9815 - recall: 0.9844 - auc: 0.9981\n",
            " Batch Number 585 the model has a lot of {'loss': 0.04805726557970047, 'tp': 9202.0, 'fp': 173.0, 'tn': 9199.0, 'fn': 146.0, 'acc': 0.9829593896865845, 'precision': 0.9815466403961182, 'recall': 0.9843816757202148, 'auc': 0.9981117844581604}\n",
            "\n",
            " Batch Number 586 the model has a lot of {'loss': 0.04799274355173111, 'tp': 9216.0, 'fp': 173.0, 'tn': 9217.0, 'fn': 146.0, 'acc': 0.9829884767532349, 'precision': 0.9815741777420044, 'recall': 0.9844050407409668, 'auc': 0.9981160163879395}\n",
            "\n",
            " Batch Number 587 the model has a lot of {'loss': 0.04814080893993378, 'tp': 9233.0, 'fp': 174.0, 'tn': 9230.0, 'fn': 147.0, 'acc': 0.9829109907150269, 'precision': 0.9815031290054321, 'recall': 0.9843283295631409, 'auc': 0.9981091022491455}\n",
            "587/689 [========================>.....] - ETA: 1s - loss: 0.0481 - tp: 9233.0000 - fp: 174.0000 - tn: 9230.0000 - fn: 147.0000 - acc: 0.9829 - precision: 0.9815 - recall: 0.9843 - auc: 0.9981\n",
            " Batch Number 588 the model has a lot of {'loss': 0.04806471988558769, 'tp': 9246.0, 'fp': 174.0, 'tn': 9249.0, 'fn': 147.0, 'acc': 0.9829400777816772, 'precision': 0.981528639793396, 'recall': 0.9843500256538391, 'auc': 0.9981143474578857}\n",
            "\n",
            " Batch Number 589 the model has a lot of {'loss': 0.04803084582090378, 'tp': 9265.0, 'fp': 174.0, 'tn': 9262.0, 'fn': 147.0, 'acc': 0.9829689860343933, 'precision': 0.9815658330917358, 'recall': 0.9843816161155701, 'auc': 0.9981157183647156}\n",
            "\n",
            " Batch Number 590 the model has a lot of {'loss': 0.04799870774149895, 'tp': 9281.0, 'fp': 174.0, 'tn': 9277.0, 'fn': 148.0, 'acc': 0.982944905757904, 'precision': 0.9815970659255981, 'recall': 0.9843037724494934, 'auc': 0.9981184601783752}\n",
            "590/689 [========================>.....] - ETA: 1s - loss: 0.0480 - tp: 9281.0000 - fp: 174.0000 - tn: 9277.0000 - fn: 148.0000 - acc: 0.9829 - precision: 0.9816 - recall: 0.9843 - auc: 0.9981\n",
            " Batch Number 591 the model has a lot of {'loss': 0.048112496733665466, 'tp': 9300.0, 'fp': 175.0, 'tn': 9289.0, 'fn': 148.0, 'acc': 0.9829208850860596, 'precision': 0.9815303683280945, 'recall': 0.9843353033065796, 'auc': 0.9981115460395813}\n",
            "\n",
            " Batch Number 592 the model has a lot of {'loss': 0.04824167490005493, 'tp': 9315.0, 'fp': 175.0, 'tn': 9305.0, 'fn': 149.0, 'acc': 0.9828969836235046, 'precision': 0.9815595149993896, 'recall': 0.9842561483383179, 'auc': 0.9981067776679993}\n",
            "\n",
            " Batch Number 593 the model has a lot of {'loss': 0.04817940667271614, 'tp': 9332.0, 'fp': 175.0, 'tn': 9320.0, 'fn': 149.0, 'acc': 0.9829257726669312, 'precision': 0.9815925359725952, 'recall': 0.9842843413352966, 'auc': 0.9981104731559753}\n",
            "593/689 [========================>.....] - ETA: 1s - loss: 0.0482 - tp: 9332.0000 - fp: 175.0000 - tn: 9320.0000 - fn: 149.0000 - acc: 0.9829 - precision: 0.9816 - recall: 0.9843 - auc: 0.9981\n",
            " Batch Number 594 the model has a lot of {'loss': 0.04821915179491043, 'tp': 9343.0, 'fp': 176.0, 'tn': 9340.0, 'fn': 149.0, 'acc': 0.982901930809021, 'precision': 0.9815106391906738, 'recall': 0.9843025803565979, 'auc': 0.9981095790863037}\n",
            "\n",
            " Batch Number 595 the model has a lot of {'loss': 0.04820013418793678, 'tp': 9358.0, 'fp': 176.0, 'tn': 9357.0, 'fn': 149.0, 'acc': 0.9829306602478027, 'precision': 0.9815397262573242, 'recall': 0.9843273162841797, 'auc': 0.99811190366745}\n",
            "\n",
            " Batch Number 596 the model has a lot of {'loss': 0.048200756311416626, 'tp': 9375.0, 'fp': 177.0, 'tn': 9371.0, 'fn': 149.0, 'acc': 0.9829068779945374, 'precision': 0.9814698696136475, 'recall': 0.9843553304672241, 'auc': 0.9981136322021484}\n",
            "596/689 [========================>.....] - ETA: 1s - loss: 0.0482 - tp: 9375.0000 - fp: 177.0000 - tn: 9371.0000 - fn: 149.0000 - acc: 0.9829 - precision: 0.9815 - recall: 0.9844 - auc: 0.9981\n",
            " Batch Number 597 the model has a lot of {'loss': 0.0484660379588604, 'tp': 9388.0, 'fp': 179.0, 'tn': 9387.0, 'fn': 150.0, 'acc': 0.9827784895896912, 'precision': 0.9812898635864258, 'recall': 0.9842734336853027, 'auc': 0.9980989098548889}\n",
            "\n",
            " Batch Number 598 the model has a lot of {'loss': 0.0484870970249176, 'tp': 9405.0, 'fp': 179.0, 'tn': 9401.0, 'fn': 151.0, 'acc': 0.9827550053596497, 'precision': 0.9813230633735657, 'recall': 0.9841983914375305, 'auc': 0.9980990886688232}\n",
            "\n",
            " Batch Number 599 the model has a lot of {'loss': 0.04841875657439232, 'tp': 9420.0, 'fp': 179.0, 'tn': 9418.0, 'fn': 151.0, 'acc': 0.9827837944030762, 'precision': 0.9813522100448608, 'recall': 0.9842231869697571, 'auc': 0.998103678226471}\n",
            "599/689 [=========================>....] - ETA: 1s - loss: 0.0484 - tp: 9420.0000 - fp: 179.0000 - tn: 9418.0000 - fn: 151.0000 - acc: 0.9828 - precision: 0.9814 - recall: 0.9842 - auc: 0.9981\n",
            " Batch Number 600 the model has a lot of {'loss': 0.04837987571954727, 'tp': 9435.0, 'fp': 179.0, 'tn': 9435.0, 'fn': 151.0, 'acc': 0.9828125238418579, 'precision': 0.9813812971115112, 'recall': 0.9842478632926941, 'auc': 0.9981061816215515}\n",
            "\n",
            " Batch Number 601 the model has a lot of {'loss': 0.04837639257311821, 'tp': 9453.0, 'fp': 179.0, 'tn': 9448.0, 'fn': 152.0, 'acc': 0.9827890992164612, 'precision': 0.9814161062240601, 'recall': 0.984174907207489, 'auc': 0.9981069564819336}\n",
            "\n",
            " Batch Number 602 the model has a lot of {'loss': 0.048370055854320526, 'tp': 9467.0, 'fp': 180.0, 'tn': 9465.0, 'fn': 152.0, 'acc': 0.982765793800354, 'precision': 0.9813413619995117, 'recall': 0.9841979146003723, 'auc': 0.9981085062026978}\n",
            "602/689 [=========================>....] - ETA: 1s - loss: 0.0484 - tp: 9467.0000 - fp: 180.0000 - tn: 9465.0000 - fn: 152.0000 - acc: 0.9828 - precision: 0.9813 - recall: 0.9842 - auc: 0.9981\n",
            " Batch Number 603 the model has a lot of {'loss': 0.048291951417922974, 'tp': 9480.0, 'fp': 180.0, 'tn': 9484.0, 'fn': 152.0, 'acc': 0.9827943444252014, 'precision': 0.9813664555549622, 'recall': 0.9842192530632019, 'auc': 0.9981139898300171}\n",
            "\n",
            " Batch Number 604 the model has a lot of {'loss': 0.04830656945705414, 'tp': 9495.0, 'fp': 181.0, 'tn': 9500.0, 'fn': 152.0, 'acc': 0.982771098613739, 'precision': 0.9812939167022705, 'recall': 0.9842438101768494, 'auc': 0.9981147646903992}\n",
            "\n",
            " Batch Number 605 the model has a lot of {'loss': 0.04826807230710983, 'tp': 9513.0, 'fp': 181.0, 'tn': 9514.0, 'fn': 152.0, 'acc': 0.9827995896339417, 'precision': 0.9813286662101746, 'recall': 0.9842731356620789, 'auc': 0.9981165528297424}\n",
            "605/689 [=========================>....] - ETA: 1s - loss: 0.0483 - tp: 9513.0000 - fp: 181.0000 - tn: 9514.0000 - fn: 152.0000 - acc: 0.9828 - precision: 0.9813 - recall: 0.9843 - auc: 0.9981\n",
            " Batch Number 606 the model has a lot of {'loss': 0.04822711646556854, 'tp': 9530.0, 'fp': 181.0, 'tn': 9529.0, 'fn': 152.0, 'acc': 0.9828279614448547, 'precision': 0.9813613295555115, 'recall': 0.9843007922172546, 'auc': 0.9981192350387573}\n",
            "\n",
            " Batch Number 607 the model has a lot of {'loss': 0.04815983027219772, 'tp': 9546.0, 'fp': 181.0, 'tn': 9545.0, 'fn': 152.0, 'acc': 0.982856273651123, 'precision': 0.9813920259475708, 'recall': 0.9843266606330872, 'auc': 0.9981236457824707}\n",
            "\n",
            " Batch Number 608 the model has a lot of {'loss': 0.0481087788939476, 'tp': 9561.0, 'fp': 181.0, 'tn': 9562.0, 'fn': 152.0, 'acc': 0.9828844666481018, 'precision': 0.981420636177063, 'recall': 0.984350860118866, 'auc': 0.9981274008750916}\n",
            "608/689 [=========================>....] - ETA: 1s - loss: 0.0481 - tp: 9561.0000 - fp: 181.0000 - tn: 9562.0000 - fn: 152.0000 - acc: 0.9829 - precision: 0.9814 - recall: 0.9844 - auc: 0.9981\n",
            " Batch Number 609 the model has a lot of {'loss': 0.0480334609746933, 'tp': 9575.0, 'fp': 181.0, 'tn': 9580.0, 'fn': 152.0, 'acc': 0.982912540435791, 'precision': 0.9814473390579224, 'recall': 0.9843733906745911, 'auc': 0.998132586479187}\n",
            "\n",
            " Batch Number 610 the model has a lot of {'loss': 0.04830089211463928, 'tp': 9594.0, 'fp': 181.0, 'tn': 9590.0, 'fn': 155.0, 'acc': 0.9827868938446045, 'precision': 0.9814833998680115, 'recall': 0.9841009378433228, 'auc': 0.9981199502944946}\n",
            "\n",
            " Batch Number 611 the model has a lot of {'loss': 0.048230476677417755, 'tp': 9607.0, 'fp': 181.0, 'tn': 9609.0, 'fn': 155.0, 'acc': 0.9828150868415833, 'precision': 0.9815079569816589, 'recall': 0.984122097492218, 'auc': 0.9981245994567871}\n",
            "611/689 [=========================>....] - ETA: 1s - loss: 0.0482 - tp: 9607.0000 - fp: 181.0000 - tn: 9609.0000 - fn: 155.0000 - acc: 0.9828 - precision: 0.9815 - recall: 0.9841 - auc: 0.9981\n",
            " Batch Number 612 the model has a lot of {'loss': 0.04820111021399498, 'tp': 9623.0, 'fp': 182.0, 'tn': 9624.0, 'fn': 155.0, 'acc': 0.9827920794487, 'precision': 0.9814380407333374, 'recall': 0.9841480851173401, 'auc': 0.9981268048286438}\n",
            "\n",
            " Batch Number 613 the model has a lot of {'loss': 0.04821410030126572, 'tp': 9635.0, 'fp': 183.0, 'tn': 9643.0, 'fn': 155.0, 'acc': 0.9827691912651062, 'precision': 0.9813607931137085, 'recall': 0.9841675162315369, 'auc': 0.9981281161308289}\n",
            "\n",
            " Batch Number 614 the model has a lot of {'loss': 0.048146072775125504, 'tp': 9652.0, 'fp': 183.0, 'tn': 9658.0, 'fn': 155.0, 'acc': 0.9827972054481506, 'precision': 0.9813929796218872, 'recall': 0.9841949343681335, 'auc': 0.9981324672698975}\n",
            "614/689 [=========================>....] - ETA: 1s - loss: 0.0481 - tp: 9652.0000 - fp: 183.0000 - tn: 9658.0000 - fn: 155.0000 - acc: 0.9828 - precision: 0.9814 - recall: 0.9842 - auc: 0.9981\n",
            " Batch Number 615 the model has a lot of {'loss': 0.048293761909008026, 'tp': 9671.0, 'fp': 183.0, 'tn': 9670.0, 'fn': 156.0, 'acc': 0.9827743768692017, 'precision': 0.981428861618042, 'recall': 0.9841253757476807, 'auc': 0.9981245994567871}\n",
            "\n",
            " Batch Number 616 the model has a lot of {'loss': 0.04827020689845085, 'tp': 9687.0, 'fp': 183.0, 'tn': 9686.0, 'fn': 156.0, 'acc': 0.9828023314476013, 'precision': 0.9814589619636536, 'recall': 0.9841511845588684, 'auc': 0.9981262683868408}\n",
            "\n",
            " Batch Number 617 the model has a lot of {'loss': 0.04824351146817207, 'tp': 9705.0, 'fp': 183.0, 'tn': 9700.0, 'fn': 156.0, 'acc': 0.9828302264213562, 'precision': 0.9814926981925964, 'recall': 0.9841800928115845, 'auc': 0.9981284141540527}\n",
            "617/689 [=========================>....] - ETA: 1s - loss: 0.0482 - tp: 9705.0000 - fp: 183.0000 - tn: 9700.0000 - fn: 156.0000 - acc: 0.9828 - precision: 0.9815 - recall: 0.9842 - auc: 0.9981\n",
            " Batch Number 618 the model has a lot of {'loss': 0.04821418598294258, 'tp': 9724.0, 'fp': 183.0, 'tn': 9712.0, 'fn': 157.0, 'acc': 0.982807457447052, 'precision': 0.9815282225608826, 'recall': 0.9841108918190002, 'auc': 0.9981308579444885}\n",
            "\n",
            " Batch Number 619 the model has a lot of {'loss': 0.04816555231809616, 'tp': 9739.0, 'fp': 183.0, 'tn': 9729.0, 'fn': 157.0, 'acc': 0.9828352332115173, 'precision': 0.9815561175346375, 'recall': 0.9841350317001343, 'auc': 0.9981340169906616}\n",
            "\n",
            " Batch Number 620 the model has a lot of {'loss': 0.04829205200076103, 'tp': 9756.0, 'fp': 184.0, 'tn': 9742.0, 'fn': 158.0, 'acc': 0.9827620983123779, 'precision': 0.9814889430999756, 'recall': 0.9840629696846008, 'auc': 0.9981277585029602}\n",
            "620/689 [=========================>....] - ETA: 1s - loss: 0.0483 - tp: 9756.0000 - fp: 184.0000 - tn: 9742.0000 - fn: 158.0000 - acc: 0.9828 - precision: 0.9815 - recall: 0.9841 - auc: 0.9981\n",
            " Batch Number 621 the model has a lot of {'loss': 0.048329826444387436, 'tp': 9777.0, 'fp': 184.0, 'tn': 9752.0, 'fn': 159.0, 'acc': 0.9827395081520081, 'precision': 0.9815279841423035, 'recall': 0.9839975833892822, 'auc': 0.9981257319450378}\n",
            "\n",
            " Batch Number 622 the model has a lot of {'loss': 0.048463307321071625, 'tp': 9790.0, 'fp': 186.0, 'tn': 9769.0, 'fn': 159.0, 'acc': 0.9826667904853821, 'precision': 0.9813552498817444, 'recall': 0.9840185046195984, 'auc': 0.9981201887130737}\n",
            "\n",
            " Batch Number 623 the model has a lot of {'loss': 0.04846573621034622, 'tp': 9806.0, 'fp': 186.0, 'tn': 9785.0, 'fn': 159.0, 'acc': 0.9826946258544922, 'precision': 0.9813851118087769, 'recall': 0.9840441346168518, 'auc': 0.9981210827827454}\n",
            "623/689 [==========================>...] - ETA: 1s - loss: 0.0485 - tp: 9806.0000 - fp: 186.0000 - tn: 9785.0000 - fn: 159.0000 - acc: 0.9827 - precision: 0.9814 - recall: 0.9840 - auc: 0.9981\n",
            " Batch Number 624 the model has a lot of {'loss': 0.048425205051898956, 'tp': 9824.0, 'fp': 186.0, 'tn': 9799.0, 'fn': 159.0, 'acc': 0.9827223420143127, 'precision': 0.9814186096191406, 'recall': 0.9840729236602783, 'auc': 0.9981236457824707}\n",
            "\n",
            " Batch Number 625 the model has a lot of {'loss': 0.04835040494799614, 'tp': 9838.0, 'fp': 186.0, 'tn': 9817.0, 'fn': 159.0, 'acc': 0.9827499985694885, 'precision': 0.9814445376396179, 'recall': 0.9840952157974243, 'auc': 0.9981288313865662}\n",
            "\n",
            " Batch Number 626 the model has a lot of {'loss': 0.048285409808158875, 'tp': 9855.0, 'fp': 186.0, 'tn': 9832.0, 'fn': 159.0, 'acc': 0.9827775359153748, 'precision': 0.9814759492874146, 'recall': 0.9841222167015076, 'auc': 0.9981328845024109}\n",
            "\n",
            " Batch Number 627 the model has a lot of {'loss': 0.04827657341957092, 'tp': 9868.0, 'fp': 187.0, 'tn': 9850.0, 'fn': 159.0, 'acc': 0.982755184173584, 'precision': 0.9814022779464722, 'recall': 0.9841428399085999, 'auc': 0.9981351494789124}\n",
            "627/689 [==========================>...] - ETA: 1s - loss: 0.0483 - tp: 9868.0000 - fp: 187.0000 - tn: 9850.0000 - fn: 159.0000 - acc: 0.9828 - precision: 0.9814 - recall: 0.9841 - auc: 0.9981\n",
            " Batch Number 628 the model has a lot of {'loss': 0.048257213085889816, 'tp': 9888.0, 'fp': 187.0, 'tn': 9862.0, 'fn': 159.0, 'acc': 0.9827826619148254, 'precision': 0.9814392328262329, 'recall': 0.984174370765686, 'auc': 0.9981361031532288}\n",
            "\n",
            " Batch Number 629 the model has a lot of {'loss': 0.048232436180114746, 'tp': 9904.0, 'fp': 187.0, 'tn': 9877.0, 'fn': 160.0, 'acc': 0.9827603101730347, 'precision': 0.9814686179161072, 'recall': 0.9841017723083496, 'auc': 0.9981386065483093}\n",
            "\n",
            " Batch Number 630 the model has a lot of {'loss': 0.04852652549743652, 'tp': 9914.0, 'fp': 189.0, 'tn': 9897.0, 'fn': 160.0, 'acc': 0.9826884865760803, 'precision': 0.9812926650047302, 'recall': 0.9841175079345703, 'auc': 0.998077392578125}\n",
            "630/689 [==========================>...] - ETA: 1s - loss: 0.0485 - tp: 9914.0000 - fp: 189.0000 - tn: 9897.0000 - fn: 160.0000 - acc: 0.9827 - precision: 0.9813 - recall: 0.9841 - auc: 0.9981\n",
            " Batch Number 631 the model has a lot of {'loss': 0.04854822903871536, 'tp': 9928.0, 'fp': 191.0, 'tn': 9913.0, 'fn': 160.0, 'acc': 0.9826169013977051, 'precision': 0.9811246395111084, 'recall': 0.9841395616531372, 'auc': 0.9980784058570862}\n",
            "\n",
            " Batch Number 632 the model has a lot of {'loss': 0.04855141416192055, 'tp': 9941.0, 'fp': 192.0, 'tn': 9931.0, 'fn': 160.0, 'acc': 0.982594907283783, 'precision': 0.9810519814491272, 'recall': 0.9841600060462952, 'auc': 0.998079776763916}\n",
            "\n",
            " Batch Number 633 the model has a lot of {'loss': 0.04866320639848709, 'tp': 9951.0, 'fp': 193.0, 'tn': 9952.0, 'fn': 160.0, 'acc': 0.9825730919837952, 'precision': 0.9809739589691162, 'recall': 0.9841756224632263, 'auc': 0.998075544834137}\n",
            "633/689 [==========================>...] - ETA: 0s - loss: 0.0487 - tp: 9951.0000 - fp: 193.0000 - tn: 9952.0000 - fn: 160.0000 - acc: 0.9826 - precision: 0.9810 - recall: 0.9842 - auc: 0.9981\n",
            " Batch Number 634 the model has a lot of {'loss': 0.04860740527510643, 'tp': 9971.0, 'fp': 193.0, 'tn': 9964.0, 'fn': 160.0, 'acc': 0.9826005697250366, 'precision': 0.9810113906860352, 'recall': 0.9842069149017334, 'auc': 0.9980788230895996}\n",
            "\n",
            " Batch Number 635 the model has a lot of {'loss': 0.048569463193416595, 'tp': 9988.0, 'fp': 193.0, 'tn': 9979.0, 'fn': 160.0, 'acc': 0.9826279282569885, 'precision': 0.9810431003570557, 'recall': 0.9842333197593689, 'auc': 0.9980812072753906}\n",
            "\n",
            " Batch Number 636 the model has a lot of {'loss': 0.048504408448934555, 'tp': 10006.0, 'fp': 193.0, 'tn': 9993.0, 'fn': 160.0, 'acc': 0.9826552867889404, 'precision': 0.9810765981674194, 'recall': 0.9842612743377686, 'auc': 0.9980854988098145}\n",
            "636/689 [==========================>...] - ETA: 0s - loss: 0.0485 - tp: 10006.0000 - fp: 193.0000 - tn: 9993.0000 - fn: 160.0000 - acc: 0.9827 - precision: 0.9811 - recall: 0.9843 - auc: 0.9981\n",
            " Batch Number 637 the model has a lot of {'loss': 0.048445187509059906, 'tp': 10024.0, 'fp': 193.0, 'tn': 10007.0, 'fn': 160.0, 'acc': 0.982682466506958, 'precision': 0.9811099171638489, 'recall': 0.9842891097068787, 'auc': 0.9980893135070801}\n",
            "\n",
            " Batch Number 638 the model has a lot of {'loss': 0.0483831949532032, 'tp': 10040.0, 'fp': 193.0, 'tn': 10023.0, 'fn': 160.0, 'acc': 0.9827096462249756, 'precision': 0.9811394214630127, 'recall': 0.9843137264251709, 'auc': 0.9980931878089905}\n",
            "\n",
            " Batch Number 639 the model has a lot of {'loss': 0.048310257494449615, 'tp': 10057.0, 'fp': 193.0, 'tn': 10038.0, 'fn': 160.0, 'acc': 0.9827367067337036, 'precision': 0.9811707139015198, 'recall': 0.9843398332595825, 'auc': 0.9980980753898621}\n",
            "639/689 [==========================>...] - ETA: 0s - loss: 0.0483 - tp: 10057.0000 - fp: 193.0000 - tn: 10038.0000 - fn: 160.0000 - acc: 0.9827 - precision: 0.9812 - recall: 0.9843 - auc: 0.9981\n",
            " Batch Number 640 the model has a lot of {'loss': 0.04829098656773567, 'tp': 10072.0, 'fp': 194.0, 'tn': 10054.0, 'fn': 160.0, 'acc': 0.982714831829071, 'precision': 0.9811026453971863, 'recall': 0.984362781047821, 'auc': 0.9981005787849426}\n",
            "\n",
            " Batch Number 641 the model has a lot of {'loss': 0.048219047486782074, 'tp': 10089.0, 'fp': 194.0, 'tn': 10069.0, 'fn': 160.0, 'acc': 0.9827418327331543, 'precision': 0.9811339378356934, 'recall': 0.9843887090682983, 'auc': 0.9981054663658142}\n",
            "\n",
            " Batch Number 642 the model has a lot of {'loss': 0.04823446273803711, 'tp': 10109.0, 'fp': 194.0, 'tn': 10080.0, 'fn': 161.0, 'acc': 0.9827200174331665, 'precision': 0.9811705350875854, 'recall': 0.984323263168335, 'auc': 0.9981050491333008}\n",
            "642/689 [==========================>...] - ETA: 0s - loss: 0.0482 - tp: 10109.0000 - fp: 194.0000 - tn: 10080.0000 - fn: 161.0000 - acc: 0.9827 - precision: 0.9812 - recall: 0.9843 - auc: 0.9981\n",
            " Batch Number 643 the model has a lot of {'loss': 0.048179350793361664, 'tp': 10128.0, 'fp': 194.0, 'tn': 10093.0, 'fn': 161.0, 'acc': 0.9827468991279602, 'precision': 0.9812051653862, 'recall': 0.9843522310256958, 'auc': 0.9981082081794739}\n",
            "\n",
            " Batch Number 644 the model has a lot of {'loss': 0.04829106852412224, 'tp': 10141.0, 'fp': 196.0, 'tn': 10109.0, 'fn': 162.0, 'acc': 0.9826281070709229, 'precision': 0.9810389876365662, 'recall': 0.9842764139175415, 'auc': 0.9981052875518799}\n",
            "\n",
            " Batch Number 645 the model has a lot of {'loss': 0.04822015389800072, 'tp': 10154.0, 'fp': 196.0, 'tn': 10128.0, 'fn': 162.0, 'acc': 0.9826550483703613, 'precision': 0.9810628294944763, 'recall': 0.9842962622642517, 'auc': 0.9981101751327515}\n",
            "645/689 [===========================>..] - ETA: 0s - loss: 0.0482 - tp: 10154.0000 - fp: 196.0000 - tn: 10128.0000 - fn: 162.0000 - acc: 0.9827 - precision: 0.9811 - recall: 0.9843 - auc: 0.9981\n",
            " Batch Number 646 the model has a lot of {'loss': 0.048154525458812714, 'tp': 10170.0, 'fp': 196.0, 'tn': 10144.0, 'fn': 162.0, 'acc': 0.9826818704605103, 'precision': 0.9810920357704163, 'recall': 0.9843205809593201, 'auc': 0.9981142282485962}\n",
            "\n",
            " Batch Number 647 the model has a lot of {'loss': 0.0481095053255558, 'tp': 10192.0, 'fp': 196.0, 'tn': 10154.0, 'fn': 162.0, 'acc': 0.9827086329460144, 'precision': 0.9811320900917053, 'recall': 0.9843538999557495, 'auc': 0.9981162548065186}\n",
            "\n",
            " Batch Number 648 the model has a lot of {'loss': 0.04807990416884422, 'tp': 10207.0, 'fp': 196.0, 'tn': 10171.0, 'fn': 162.0, 'acc': 0.9827353358268738, 'precision': 0.9811592698097229, 'recall': 0.9843764901161194, 'auc': 0.9981182217597961}\n",
            "648/689 [===========================>..] - ETA: 0s - loss: 0.0481 - tp: 10207.0000 - fp: 196.0000 - tn: 10171.0000 - fn: 162.0000 - acc: 0.9827 - precision: 0.9812 - recall: 0.9844 - auc: 0.9981\n",
            " Batch Number 649 the model has a lot of {'loss': 0.04809977486729622, 'tp': 10220.0, 'fp': 197.0, 'tn': 10189.0, 'fn': 162.0, 'acc': 0.9827138185501099, 'precision': 0.9810885787010193, 'recall': 0.9843960404396057, 'auc': 0.9981191754341125}\n",
            "\n",
            " Batch Number 650 the model has a lot of {'loss': 0.04814977943897247, 'tp': 10237.0, 'fp': 197.0, 'tn': 10202.0, 'fn': 164.0, 'acc': 0.982644259929657, 'precision': 0.9811193943023682, 'recall': 0.9842323064804077, 'auc': 0.9981175661087036}\n",
            "\n",
            " Batch Number 651 the model has a lot of {'loss': 0.04807978868484497, 'tp': 10253.0, 'fp': 197.0, 'tn': 10218.0, 'fn': 164.0, 'acc': 0.9826709032058716, 'precision': 0.9811483025550842, 'recall': 0.9842565059661865, 'auc': 0.9981225728988647}\n",
            "651/689 [===========================>..] - ETA: 0s - loss: 0.0481 - tp: 10253.0000 - fp: 197.0000 - tn: 10218.0000 - fn: 164.0000 - acc: 0.9827 - precision: 0.9811 - recall: 0.9843 - auc: 0.9981\n",
            " Batch Number 652 the model has a lot of {'loss': 0.048017166554927826, 'tp': 10270.0, 'fp': 197.0, 'tn': 10233.0, 'fn': 164.0, 'acc': 0.9826974868774414, 'precision': 0.9811789393424988, 'recall': 0.9842821359634399, 'auc': 0.9981263279914856}\n",
            "\n",
            " Batch Number 653 the model has a lot of {'loss': 0.04795994237065315, 'tp': 10286.0, 'fp': 197.0, 'tn': 10249.0, 'fn': 164.0, 'acc': 0.9827239513397217, 'precision': 0.9812076687812805, 'recall': 0.9843062162399292, 'auc': 0.9981303811073303}\n",
            "\n",
            " Batch Number 654 the model has a lot of {'loss': 0.04789320379495621, 'tp': 10299.0, 'fp': 197.0, 'tn': 10268.0, 'fn': 164.0, 'acc': 0.9827503561973572, 'precision': 0.9812309741973877, 'recall': 0.9843257069587708, 'auc': 0.9981349110603333}\n",
            "654/689 [===========================>..] - ETA: 0s - loss: 0.0479 - tp: 10299.0000 - fp: 197.0000 - tn: 10268.0000 - fn: 164.0000 - acc: 0.9828 - precision: 0.9812 - recall: 0.9843 - auc: 0.9981\n",
            " Batch Number 655 the model has a lot of {'loss': 0.047841962426900864, 'tp': 10315.0, 'fp': 197.0, 'tn': 10284.0, 'fn': 164.0, 'acc': 0.9827767014503479, 'precision': 0.9812595248222351, 'recall': 0.9843496680259705, 'auc': 0.9981383085250854}\n",
            "\n",
            " Batch Number 656 the model has a lot of {'loss': 0.0477728545665741, 'tp': 10328.0, 'fp': 197.0, 'tn': 10303.0, 'fn': 164.0, 'acc': 0.9828029870986938, 'precision': 0.981282651424408, 'recall': 0.9843690395355225, 'auc': 0.998143196105957}\n",
            "\n",
            " Batch Number 657 the model has a lot of {'loss': 0.047774456441402435, 'tp': 10342.0, 'fp': 198.0, 'tn': 10320.0, 'fn': 164.0, 'acc': 0.9827815890312195, 'precision': 0.9812144041061401, 'recall': 0.9843899011611938, 'auc': 0.9981440901756287}\n",
            "657/689 [===========================>..] - ETA: 0s - loss: 0.0478 - tp: 10342.0000 - fp: 198.0000 - tn: 10320.0000 - fn: 164.0000 - acc: 0.9828 - precision: 0.9812 - recall: 0.9844 - auc: 0.9981\n",
            " Batch Number 658 the model has a lot of {'loss': 0.0477253720164299, 'tp': 10355.0, 'fp': 198.0, 'tn': 10339.0, 'fn': 164.0, 'acc': 0.9828077554702759, 'precision': 0.9812375903129578, 'recall': 0.9844091534614563, 'auc': 0.99814772605896}\n",
            "\n",
            " Batch Number 659 the model has a lot of {'loss': 0.047789882868528366, 'tp': 10369.0, 'fp': 200.0, 'tn': 10355.0, 'fn': 164.0, 'acc': 0.9827389717102051, 'precision': 0.981076717376709, 'recall': 0.9844298958778381, 'auc': 0.9981460571289062}\n",
            "\n",
            " Batch Number 660 the model has a lot of {'loss': 0.04777902364730835, 'tp': 10383.0, 'fp': 201.0, 'tn': 10372.0, 'fn': 164.0, 'acc': 0.9827178120613098, 'precision': 0.9810090661048889, 'recall': 0.9844505786895752, 'auc': 0.9981483817100525}\n",
            "660/689 [===========================>..] - ETA: 0s - loss: 0.0478 - tp: 10383.0000 - fp: 201.0000 - tn: 10372.0000 - fn: 164.0000 - acc: 0.9827 - precision: 0.9810 - recall: 0.9845 - auc: 0.9981\n",
            " Batch Number 661 the model has a lot of {'loss': 0.0478183776140213, 'tp': 10401.0, 'fp': 201.0, 'tn': 10384.0, 'fn': 166.0, 'acc': 0.9826493859291077, 'precision': 0.9810413122177124, 'recall': 0.9842907190322876, 'auc': 0.9981467127799988}\n",
            "\n",
            " Batch Number 662 the model has a lot of {'loss': 0.04796265438199043, 'tp': 10412.0, 'fp': 202.0, 'tn': 10404.0, 'fn': 166.0, 'acc': 0.9826284050941467, 'precision': 0.9809685349464417, 'recall': 0.984307050704956, 'auc': 0.9981350302696228}\n",
            "\n",
            " Batch Number 663 the model has a lot of {'loss': 0.04789859801530838, 'tp': 10424.0, 'fp': 202.0, 'tn': 10424.0, 'fn': 166.0, 'acc': 0.9826545715332031, 'precision': 0.9809900522232056, 'recall': 0.9843248128890991, 'auc': 0.9981395602226257}\n",
            "663/689 [===========================>..] - ETA: 0s - loss: 0.0479 - tp: 10424.0000 - fp: 202.0000 - tn: 10424.0000 - fn: 166.0000 - acc: 0.9827 - precision: 0.9810 - recall: 0.9843 - auc: 0.9981\n",
            " Batch Number 664 the model has a lot of {'loss': 0.04785265401005745, 'tp': 10439.0, 'fp': 202.0, 'tn': 10441.0, 'fn': 166.0, 'acc': 0.9826807379722595, 'precision': 0.9810168147087097, 'recall': 0.9843469858169556, 'auc': 0.9981425404548645}\n",
            "\n",
            " Batch Number 665 the model has a lot of {'loss': 0.04781521484255791, 'tp': 10454.0, 'fp': 202.0, 'tn': 10458.0, 'fn': 166.0, 'acc': 0.9827067852020264, 'precision': 0.9810435175895691, 'recall': 0.9843690991401672, 'auc': 0.998145341873169}\n",
            "\n",
            " Batch Number 666 the model has a lot of {'loss': 0.047806065529584885, 'tp': 10471.0, 'fp': 203.0, 'tn': 10472.0, 'fn': 166.0, 'acc': 0.9826858043670654, 'precision': 0.9809818267822266, 'recall': 0.9843940734863281, 'auc': 0.998147189617157}\n",
            "666/689 [===========================>..] - ETA: 0s - loss: 0.0478 - tp: 10471.0000 - fp: 203.0000 - tn: 10472.0000 - fn: 166.0000 - acc: 0.9827 - precision: 0.9810 - recall: 0.9844 - auc: 0.9981\n",
            " Batch Number 667 the model has a lot of {'loss': 0.04775798320770264, 'tp': 10487.0, 'fp': 203.0, 'tn': 10488.0, 'fn': 166.0, 'acc': 0.9827117919921875, 'precision': 0.9810103178024292, 'recall': 0.9844175577163696, 'auc': 0.9981504678726196}\n",
            "\n",
            " Batch Number 668 the model has a lot of {'loss': 0.04784279689192772, 'tp': 10505.0, 'fp': 203.0, 'tn': 10500.0, 'fn': 168.0, 'acc': 0.9826440811157227, 'precision': 0.981042206287384, 'recall': 0.9842593669891357, 'auc': 0.9981468915939331}\n",
            "\n",
            " Batch Number 669 the model has a lot of {'loss': 0.04782429337501526, 'tp': 10523.0, 'fp': 203.0, 'tn': 10514.0, 'fn': 168.0, 'acc': 0.9826700091362, 'precision': 0.9810740351676941, 'recall': 0.984285831451416, 'auc': 0.9981475472450256}\n",
            "669/689 [============================>.] - ETA: 0s - loss: 0.0478 - tp: 10523.0000 - fp: 203.0000 - tn: 10514.0000 - fn: 168.0000 - acc: 0.9827 - precision: 0.9811 - recall: 0.9843 - auc: 0.9981\n",
            " Batch Number 670 the model has a lot of {'loss': 0.047758590430021286, 'tp': 10539.0, 'fp': 203.0, 'tn': 10530.0, 'fn': 168.0, 'acc': 0.9826958775520325, 'precision': 0.9811022281646729, 'recall': 0.9843093156814575, 'auc': 0.9981517195701599}\n",
            "\n",
            " Batch Number 671 the model has a lot of {'loss': 0.04769766703248024, 'tp': 10556.0, 'fp': 203.0, 'tn': 10545.0, 'fn': 168.0, 'acc': 0.9827216863632202, 'precision': 0.9811320900917053, 'recall': 0.9843342304229736, 'auc': 0.9981553554534912}\n",
            "\n",
            " Batch Number 672 the model has a lot of {'loss': 0.047716207802295685, 'tp': 10567.0, 'fp': 204.0, 'tn': 10565.0, 'fn': 168.0, 'acc': 0.9827008843421936, 'precision': 0.981060266494751, 'recall': 0.9843502640724182, 'auc': 0.9981561303138733}\n",
            "672/689 [============================>.] - ETA: 0s - loss: 0.0477 - tp: 10567.0000 - fp: 204.0000 - tn: 10565.0000 - fn: 168.0000 - acc: 0.9827 - precision: 0.9811 - recall: 0.9844 - auc: 0.9982\n",
            " Batch Number 673 the model has a lot of {'loss': 0.04765098914504051, 'tp': 10583.0, 'fp': 204.0, 'tn': 10581.0, 'fn': 168.0, 'acc': 0.9827265739440918, 'precision': 0.9810883402824402, 'recall': 0.9843735694885254, 'auc': 0.9981604218482971}\n",
            "\n",
            " Batch Number 674 the model has a lot of {'loss': 0.047609034925699234, 'tp': 10601.0, 'fp': 204.0, 'tn': 10595.0, 'fn': 168.0, 'acc': 0.9827522039413452, 'precision': 0.9811198711395264, 'recall': 0.984399676322937, 'auc': 0.9981624484062195}\n",
            "\n",
            " Batch Number 675 the model has a lot of {'loss': 0.047663070261478424, 'tp': 10620.0, 'fp': 204.0, 'tn': 10607.0, 'fn': 169.0, 'acc': 0.9827314615249634, 'precision': 0.9811530113220215, 'recall': 0.9843358993530273, 'auc': 0.9981597661972046}\n",
            "675/689 [============================>.] - ETA: 0s - loss: 0.0477 - tp: 10620.0000 - fp: 204.0000 - tn: 10607.0000 - fn: 169.0000 - acc: 0.9827 - precision: 0.9812 - recall: 0.9843 - auc: 0.9982\n",
            " Batch Number 676 the model has a lot of {'loss': 0.047682978212833405, 'tp': 10637.0, 'fp': 204.0, 'tn': 10621.0, 'fn': 170.0, 'acc': 0.9827107787132263, 'precision': 0.9811825752258301, 'recall': 0.9842694401741028, 'auc': 0.9981600046157837}\n",
            "\n",
            " Batch Number 677 the model has a lot of {'loss': 0.04762466251850128, 'tp': 10655.0, 'fp': 204.0, 'tn': 10635.0, 'fn': 170.0, 'acc': 0.982736349105835, 'precision': 0.9812137484550476, 'recall': 0.9842956066131592, 'auc': 0.9981632232666016}\n",
            "\n",
            " Batch Number 678 the model has a lot of {'loss': 0.047563329339027405, 'tp': 10672.0, 'fp': 204.0, 'tn': 10650.0, 'fn': 170.0, 'acc': 0.982761800289154, 'precision': 0.9812431335449219, 'recall': 0.9843202233314514, 'auc': 0.9981672763824463}\n",
            "678/689 [============================>.] - ETA: 0s - loss: 0.0476 - tp: 10672.0000 - fp: 204.0000 - tn: 10650.0000 - fn: 170.0000 - acc: 0.9828 - precision: 0.9812 - recall: 0.9843 - auc: 0.9982\n",
            " Batch Number 679 the model has a lot of {'loss': 0.04766087234020233, 'tp': 10691.0, 'fp': 204.0, 'tn': 10661.0, 'fn': 172.0, 'acc': 0.9826951622962952, 'precision': 0.9812757968902588, 'recall': 0.9841664433479309, 'auc': 0.9981626272201538}\n",
            "\n",
            " Batch Number 680 the model has a lot of {'loss': 0.04763605073094368, 'tp': 10706.0, 'fp': 204.0, 'tn': 10678.0, 'fn': 172.0, 'acc': 0.9827206134796143, 'precision': 0.9813015460968018, 'recall': 0.9841882586479187, 'auc': 0.9981647729873657}\n",
            "\n",
            " Batch Number 681 the model has a lot of {'loss': 0.04757574945688248, 'tp': 10717.0, 'fp': 204.0, 'tn': 10699.0, 'fn': 172.0, 'acc': 0.9827459454536438, 'precision': 0.9813203811645508, 'recall': 0.9842042326927185, 'auc': 0.9981689453125}\n",
            "681/689 [============================>.] - ETA: 0s - loss: 0.0476 - tp: 10717.0000 - fp: 204.0000 - tn: 10699.0000 - fn: 172.0000 - acc: 0.9827 - precision: 0.9813 - recall: 0.9842 - auc: 0.9982\n",
            " Batch Number 682 the model has a lot of {'loss': 0.04751693829894066, 'tp': 10732.0, 'fp': 204.0, 'tn': 10716.0, 'fn': 172.0, 'acc': 0.9827712774276733, 'precision': 0.9813460111618042, 'recall': 0.9842259883880615, 'auc': 0.9981729984283447}\n",
            "\n",
            " Batch Number 683 the model has a lot of {'loss': 0.047459039837121964, 'tp': 10748.0, 'fp': 204.0, 'tn': 10732.0, 'fn': 172.0, 'acc': 0.9827964901924133, 'precision': 0.9813732504844666, 'recall': 0.9842490553855896, 'auc': 0.9981767535209656}\n",
            "\n",
            " Batch Number 684 the model has a lot of {'loss': 0.04741767421364784, 'tp': 10763.0, 'fp': 204.0, 'tn': 10749.0, 'fn': 172.0, 'acc': 0.9828216433525085, 'precision': 0.9813987612724304, 'recall': 0.9842706918716431, 'auc': 0.9981798529624939}\n",
            "\n",
            " Batch Number 685 the model has a lot of {'loss': 0.047371864318847656, 'tp': 10782.0, 'fp': 204.0, 'tn': 10762.0, 'fn': 172.0, 'acc': 0.982846736907959, 'precision': 0.9814308881759644, 'recall': 0.9842979907989502, 'auc': 0.9981829524040222}\n",
            "685/689 [============================>.] - ETA: 0s - loss: 0.0474 - tp: 10782.0000 - fp: 204.0000 - tn: 10762.0000 - fn: 172.0000 - acc: 0.9828 - precision: 0.9814 - recall: 0.9843 - auc: 0.9982\n",
            " Batch Number 686 the model has a lot of {'loss': 0.04731912910938263, 'tp': 10803.0, 'fp': 204.0, 'tn': 10773.0, 'fn': 172.0, 'acc': 0.9828717112541199, 'precision': 0.9814663529396057, 'recall': 0.984328031539917, 'auc': 0.9981856346130371}\n",
            "\n",
            " Batch Number 687 the model has a lot of {'loss': 0.047257717698812485, 'tp': 10821.0, 'fp': 204.0, 'tn': 10787.0, 'fn': 172.0, 'acc': 0.982896625995636, 'precision': 0.9814965724945068, 'recall': 0.9843536615371704, 'auc': 0.9981896281242371}\n",
            "\n",
            " Batch Number 688 the model has a lot of {'loss': 0.04730183631181717, 'tp': 10836.0, 'fp': 205.0, 'tn': 10803.0, 'fn': 172.0, 'acc': 0.9828760623931885, 'precision': 0.9814328551292419, 'recall': 0.984375, 'auc': 0.9981881976127625}\n",
            "688/689 [============================>.] - ETA: 0s - loss: 0.0473 - tp: 10836.0000 - fp: 205.0000 - tn: 10803.0000 - fn: 172.0000 - acc: 0.9829 - precision: 0.9814 - recall: 0.9844 - auc: 0.9982\n",
            " Batch Number 689 the model has a lot of {'loss': 0.04727855697274208, 'tp': 10854.0, 'fp': 205.0, 'tn': 10815.0, 'fn': 172.0, 'acc': 0.9828993678092957, 'precision': 0.9814630746841431, 'recall': 0.9844005107879639, 'auc': 0.9981896281242371}\n",
            "\n",
            " Epoch Number 1 the model has a loss of 0.04727855697274208\n",
            "689/689 [==============================] - 16s 22ms/step - loss: 0.0473 - tp: 10854.0000 - fp: 205.0000 - tn: 10815.0000 - fn: 172.0000 - acc: 0.9829 - precision: 0.9815 - recall: 0.9844 - auc: 0.9982 - val_loss: 0.3750 - val_tp: 1338.0000 - val_fp: 101.0000 - val_tn: 1266.0000 - val_fn: 50.0000 - val_acc: 0.9452 - val_precision: 0.9298 - val_recall: 0.9640 - val_auc: 0.9670\n"
          ]
        }
      ]
    },
    {
      "cell_type": "code",
      "source": [
        "# CSV Logger"
      ],
      "metadata": {
        "id": "KwN6EolFrOUy"
      },
      "execution_count": 44,
      "outputs": []
    },
    {
      "cell_type": "markdown",
      "source": [
        "*   append 參數用於指定是否將新的記錄附加到現有文件中。默認情況下，append 設置為 True，表示新記錄將被附加到現有文件的末尾。\n",
        "*   如果將 append 設置為 False，則每次調用 CSVLogger 時都會創建一個新的文件，舊文件的內容將被覆蓋。\n",
        "\n"
      ],
      "metadata": {
        "id": "KdPEb4U4oS2r"
      }
    },
    {
      "cell_type": "code",
      "source": [
        "csv_callback = CSVLogger(\n",
        "    'logs.csv', separator=',', append=False\n",
        ")"
      ],
      "metadata": {
        "id": "FxvUBvlurOW4"
      },
      "execution_count": 46,
      "outputs": []
    },
    {
      "cell_type": "code",
      "source": [
        "history = lenet_sub_classed.fit(train_dataset, validation_data=val_dataset, epochs=1, verbose=1, callbacks=[csv_callback])\n"
      ],
      "metadata": {
        "id": "o6AAOgmArOYp",
        "colab": {
          "base_uri": "https://localhost:8080/"
        },
        "outputId": "2f57a186-dffb-4d31-85fa-ea60eba7907f"
      },
      "execution_count": 48,
      "outputs": [
        {
          "output_type": "stream",
          "name": "stdout",
          "text": [
            "689/689 [==============================] - 14s 20ms/step - loss: 0.0355 - tp: 10926.0000 - fp: 171.0000 - tn: 10852.0000 - fn: 97.0000 - acc: 0.9878 - precision: 0.9846 - recall: 0.9912 - auc: 0.9988 - val_loss: 0.3571 - val_tp: 1220.0000 - val_fp: 88.0000 - val_tn: 1279.0000 - val_fn: 168.0000 - val_acc: 0.9071 - val_precision: 0.9327 - val_recall: 0.8790 - val_auc: 0.9611\n"
          ]
        }
      ]
    },
    {
      "cell_type": "markdown",
      "source": [
        "\n",
        "\n",
        "\n",
        "\n",
        "*   baseline：你開始時的體重是80公斤，你將這個數值作為基準值（baseline）。現在你想要設定一個旗標，只有在你的體重低於這個基準值時才認為有進步。這樣，如果你的體重超過80公斤，即使它比前一週的體重更好，你仍然認為沒有達到目標。\n",
        "*   min_delta：你希望每週至少減少1公斤的體重，這樣你才認為有足夠的改善。這樣一來，即使你的體重只減少幾百克，你仍然不滿足，因為它未達到你設定的最小改善閥值\n",
        "\n"
      ],
      "metadata": {
        "id": "jYwr9gZmrmat"
      }
    },
    {
      "cell_type": "code",
      "source": [
        "es_callback = EarlyStopping(\n",
        "    monitor='val_loss', min_delta=0, patience=2, verbose=0,\n",
        "    mode=\"auto\", baseline=None, restore_best_weights=False\n",
        ")"
      ],
      "metadata": {
        "id": "9dxYFMcerOa4"
      },
      "execution_count": 67,
      "outputs": []
    },
    {
      "cell_type": "code",
      "source": [
        "history = lenet_sub_classed.fit(train_dataset, validation_data=val_dataset, epochs=1, verbose=1, callbacks=[csv_callback, es_callback])"
      ],
      "metadata": {
        "id": "C0zcdSkHrOci"
      },
      "execution_count": 48,
      "outputs": []
    },
    {
      "cell_type": "markdown",
      "source": [
        "# 學習率"
      ],
      "metadata": {
        "id": "C_1AD0BswdVU"
      }
    },
    {
      "cell_type": "code",
      "source": [
        "from tensorflow.keras.callbacks import LearningRateScheduler"
      ],
      "metadata": {
        "id": "1BlpU47QsDFS"
      },
      "execution_count": 51,
      "outputs": []
    },
    {
      "cell_type": "code",
      "source": [
        "def scheduler(epoch, lr):\n",
        "  if epoch < 10:\n",
        "    return lr\n",
        "  else:\n",
        "    return lr * tf.math.exp(-0.1)\n",
        "scheduler_callback = LearningRateScheduler(scheduler, verbosity=1)"
      ],
      "metadata": {
        "id": "3xmKeQU6sDKB"
      },
      "execution_count": null,
      "outputs": []
    },
    {
      "cell_type": "code",
      "source": [
        "history = lenet_sub_classed.fit(train_dataset, validation_data=val_dataset, epochs=1, verbose=1, callbacks=[scheduler_callback])\n"
      ],
      "metadata": {
        "id": "guMlWtY_1fjD"
      },
      "execution_count": null,
      "outputs": []
    },
    {
      "cell_type": "markdown",
      "source": [
        "# CheckPoint"
      ],
      "metadata": {
        "id": "SDo6q6uysDMK"
      }
    },
    {
      "cell_type": "code",
      "source": [
        "from tensorflow.keras.callbacks import ModelCheckpoint"
      ],
      "metadata": {
        "id": "sEVbS7e_sDOB"
      },
      "execution_count": 52,
      "outputs": []
    },
    {
      "cell_type": "code",
      "source": [
        "callback_check_point = ModelCheckpoint(\n",
        "    filepath='check_points/',  # 模型權重的保存路徑\n",
        "    monitor='val_loss',  # 監控的指標，這裡使用驗證集的損失函數值\n",
        "    save_best_only=True,  # 只保存在驗證集上表現最好的模型權重\n",
        "    save_weights_only=False,  # 只保存模型的權重，而不包括模型結構\n",
        "    mode='auto',  # 監控指標的模式，這裡是自動取驗證集的損失函數值\n",
        "    save_freq = 'epoch',\n",
        "    verbose=1  # 顯示保存模型的信息\n",
        ")"
      ],
      "metadata": {
        "id": "0zf1s_BHsDP9"
      },
      "execution_count": 53,
      "outputs": []
    },
    {
      "cell_type": "code",
      "source": [
        "history = lenet_sub_classed.fit(train_dataset, validation_data=val_dataset, epochs=1, verbose=1, callbacks=[callback_check_point])"
      ],
      "metadata": {
        "id": "CITAx3grsDSI"
      },
      "execution_count": null,
      "outputs": []
    },
    {
      "cell_type": "markdown",
      "source": [
        "# ReduceLROnPlateau"
      ],
      "metadata": {
        "id": "Ym5b_ZkIsDUA"
      }
    },
    {
      "cell_type": "markdown",
      "source": [
        "\n",
        "\n",
        "\n",
        "\n",
        "\n",
        "\n",
        "\n",
        "*   ReduceLROnPlateau 是一個回調函數，用於在訓練過程中根據模型在驗證集上的表現動態調整學習率。它的主要參數解釋如下：\n",
        "\n",
        "\n",
        "1.   monitor：要監控的指標，這裡是驗證集的準確度。當指標觸發條件時，將調整學習率。\n",
        "2.   factor：學習率的衰減因子。當指標停止改善時，學習率將乘以該因子。例如，如果 factor = 0.1，則學習率將以 0.1 的比例減少。\n",
        "\n",
        "1.   patience：指標停止改善後的等待步數。如果在這個步數之後指標仍然沒有改善，則會調整學習率。\n",
        "\n",
        "1.   verbose：控制是否輸出調整學習率的信息。\n",
        "\n",
        "\n",
        "\n",
        "\n",
        "\n",
        "\n"
      ],
      "metadata": {
        "id": "RUs3QK0x2hB_"
      }
    },
    {
      "cell_type": "code",
      "source": [
        "from tensorflow.keras.callbacks import ReduceLROnPlateau"
      ],
      "metadata": {
        "id": "UDyO9VC91-5V"
      },
      "execution_count": 55,
      "outputs": []
    },
    {
      "cell_type": "code",
      "source": [
        "plateau_callack = ReduceLROnPlateau(\n",
        "    monitor = \"val_accuracy\",\n",
        "    factor = 0.1,\n",
        "    patience = 2,\n",
        "    verbose = 1\n",
        ")"
      ],
      "metadata": {
        "id": "uvc3ZQoZsDWH"
      },
      "execution_count": 56,
      "outputs": []
    },
    {
      "cell_type": "code",
      "source": [
        "history = lenet_sub_classed.fit(train_dataset, validation_data=val_dataset, epochs=1, verbose=1, callbacks=[plateau_callack])"
      ],
      "metadata": {
        "id": "-YzFmhVQ16b3"
      },
      "execution_count": null,
      "outputs": []
    },
    {
      "cell_type": "markdown",
      "source": [
        "# 過擬合 & 欠擬合"
      ],
      "metadata": {
        "id": "N38mZSrT16eL"
      }
    },
    {
      "cell_type": "markdown",
      "source": [
        "\n",
        "\n",
        "\n",
        "\n",
        "\n",
        "\n",
        "\n",
        "\n",
        "\n",
        "\n",
        "\n",
        "\n",
        "*   Dropout 是一種常用的正則化技術，用於減少深度學習模型的過擬合現象。在訓練過程中，Dropout 隨機將一些神經元的輸出設為 0，這樣可以強制模型去學習多個獨立的子模型，從而提高模型的泛化能力。Dropout 的作用如下：\n",
        "\n",
        "\n",
        "1.   減少過擬合：Dropout 通過隨機關閉神經元的輸出，減少了神經元之間的相互依賴關係，從而減少了模型的過擬合現象。這樣模型在訓練集上的表現和在測試集上的表現更加一致。\n",
        "\n",
        "1.   提高模型的泛化能力：由於 Dropout 強制模型學習多個獨立的子模型，每個子模型只能依賴部分神經元的輸出，這使得模型具有更強的泛化能力，能夠更好地處理新的未見數據。\n",
        "\n",
        "1.   防止共適應：當模型中存在共適應現象時，神經元之間會出現過度相互依賴的情況，這可能導致模型無法很好地應對新的數據。Dropout 的使用可以打破這種共適應，強制模型學習獨立的特徵。\n",
        "2.   需要注意的是，Dropout 只在訓練過程中應用，而在測試過程中是不使用 Dropout 的，這是因為在測試過程中，我們希望獲得模型的確定性預測結果。在實際應用中，通常會將 Dropout 的比例設置為 0.2 到 0.5 之間，具體的數值需要根據問題和數據集的特點進行調整。\n",
        "\n",
        "\n",
        "\n",
        "\n",
        "\n"
      ],
      "metadata": {
        "id": "h_VVlGtT4GO-"
      }
    },
    {
      "cell_type": "code",
      "source": [
        "from tensorflow.keras.layers import Dropout\n",
        "from tensorflow.keras.regularizers import L2"
      ],
      "metadata": {
        "id": "3r8zZSWF16gf"
      },
      "execution_count": 76,
      "outputs": []
    },
    {
      "cell_type": "code",
      "source": [
        "class FeatureExtractor(Layer):\n",
        "  def __init__(self, filters, kernel_size, strides, padding, activation, pool_size, dropout_rating):\n",
        "    # 建構特徵提取的模型\n",
        "    super(FeatureExtractor, self).__init__()     ## 呼叫自己, 確保被初始化 ##\n",
        "    self.conv_1 = Conv2D(filters=filters, kernel_size=kernel_size, strides=strides, padding=padding, activation=activation, kernel_regularizer=L2(0.01))\n",
        "    self.batch_1 = BatchNormalization()\n",
        "    self.pool_1 = MaxPool2D(pool_size=pool_size, strides=strides*2)\n",
        "    self.dropout_1 = Dropout(rate=dropout_rating)\n",
        "\n",
        "\n",
        "    self.conv_2 = Conv2D(filters=filters*2, kernel_size=kernel_size, strides=strides, padding=padding, activation=activation, kernel_regularizer=L2(0.01))\n",
        "    self.batch_2 = BatchNormalization()\n",
        "    self.pool_2 = MaxPool2D(pool_size=pool_size, strides=strides*2)\n",
        "    self.dropout_2 = Dropout(rate=dropout_rating)\n",
        "\n",
        "\n",
        "  def call(self, x, training):\n",
        "    x = self.conv_1(x)\n",
        "    x = self.batch_1(x)\n",
        "    x = self.pool_1(x)\n",
        "    x = self.dropout_1(x)\n",
        "\n",
        "    x = self.conv_2(x)\n",
        "    x = self.batch_2(x)\n",
        "    x = self.pool_2(x)\n",
        "    x = self.dropout_2(x)\n",
        "\n",
        "    return x\n",
        "\n",
        "# 使用提取特徵模型\n",
        "feature_sub_classed = FeatureExtractor(8, 3, 1, \"valid\", \"relu\", 2, 0.2)"
      ],
      "metadata": {
        "id": "4xcdQKrd16iV"
      },
      "execution_count": 79,
      "outputs": []
    },
    {
      "cell_type": "code",
      "source": [
        "# 上面是建立特徵提取Model, 這邊要建立訓練模型\n",
        "\n",
        "class LeNetModel(Model):\n",
        "  def __init__(self,):\n",
        "    super(LeNetModel, self).__init__()\n",
        "\n",
        "    self.feature_extractor = FeatureExtractor(8, 3, 1, \"valid\", \"relu\", 2, 0.2)\n",
        "\n",
        "    self.flatten = Flatten()\n",
        "    self.dense_1 = Dense(100, activation='relu',kernel_regularizer=L2(0.01))\n",
        "    self.batch_1 = BatchNormalization()\n",
        "    self.dropout_3= Dropout(rate=0.2)\n",
        "\n",
        "    self.dense_2 = Dense(10, activation='relu',kernel_regularizer=L2(0.01))\n",
        "    self.batch_2 = BatchNormalization()\n",
        "\n",
        "\n",
        "    self.dense_3 = Dense(1, activation=\"sigmoid\")\n",
        "\n",
        "  def call(self, x, training):\n",
        "    x = self.feature_extractor(x)\n",
        "\n",
        "    x = self.flatten(x)\n",
        "    x = self.dense_1(x)\n",
        "    x = self.batch_1(x)\n",
        "    x = self.dense_2(x)\n",
        "    x = self.batch_2(x)\n",
        "    x = self.dropout_3(x)\n",
        "    x = self.dense_3(x)\n",
        "\n",
        "    return x\n",
        "\n",
        "lenet_sub_classed = LeNetModel()\n",
        "lenet_sub_classed(tf.zeros([1,224,224,3]))      # 隨便建立一個tensor來進行model的測試\n",
        "lenet_sub_classed.summary()\n"
      ],
      "metadata": {
        "colab": {
          "base_uri": "https://localhost:8080/"
        },
        "id": "AIgbHysL16kU",
        "outputId": "875b980e-3a19-47d9-8620-16383ffb8a61"
      },
      "execution_count": 80,
      "outputs": [
        {
          "output_type": "stream",
          "name": "stdout",
          "text": [
            "Model: \"le_net_model_7\"\n",
            "_________________________________________________________________\n",
            " Layer (type)                Output Shape              Param #   \n",
            "=================================================================\n",
            " feature_extractor_14 (Featu  multiple                 1488      \n",
            " reExtractor)                                                    \n",
            "                                                                 \n",
            " flatten_6 (Flatten)         multiple                  0         \n",
            "                                                                 \n",
            " dense_18 (Dense)            multiple                  4665700   \n",
            "                                                                 \n",
            " batch_normalization_40 (Bat  multiple                 400       \n",
            " chNormalization)                                                \n",
            "                                                                 \n",
            " dropout_25 (Dropout)        multiple                  0         \n",
            "                                                                 \n",
            " dense_19 (Dense)            multiple                  1010      \n",
            "                                                                 \n",
            " batch_normalization_41 (Bat  multiple                 40        \n",
            " chNormalization)                                                \n",
            "                                                                 \n",
            " dense_20 (Dense)            multiple                  11        \n",
            "                                                                 \n",
            "=================================================================\n",
            "Total params: 4,668,649\n",
            "Trainable params: 4,668,381\n",
            "Non-trainable params: 268\n",
            "_________________________________________________________________\n"
          ]
        }
      ]
    },
    {
      "cell_type": "code",
      "source": [
        "lenet_sub_classed.compile(\n",
        "    optimizer = Adam(learning_rate=0.01),\n",
        "    loss = BinaryCrossentropy(),\n",
        "    metrics = metrics\n",
        ")"
      ],
      "metadata": {
        "id": "GCr3UQsK16mL"
      },
      "execution_count": 64,
      "outputs": []
    },
    {
      "cell_type": "code",
      "source": [
        "history = lenet_sub_classed.fit(train_dataset, validation_data=val_dataset, epochs=20, verbose=1, callbacks=[plateau_callack,es_callback])"
      ],
      "metadata": {
        "colab": {
          "base_uri": "https://localhost:8080/"
        },
        "id": "5z7im1pY16oD",
        "outputId": "18fa8fe2-d841-4518-b267-ce97d0e5238c"
      },
      "execution_count": 68,
      "outputs": [
        {
          "output_type": "stream",
          "name": "stdout",
          "text": [
            "Epoch 1/20\n",
            "689/689 [==============================] - ETA: 0s - loss: 0.2220 - tp: 10368.0000 - fp: 1025.0000 - tn: 9998.0000 - fn: 655.0000 - acc: 0.9238 - precision: 0.9100 - recall: 0.9406 - auc: 0.9640"
          ]
        },
        {
          "output_type": "stream",
          "name": "stderr",
          "text": [
            "WARNING:tensorflow:Learning rate reduction is conditioned on metric `val_accuracy` which is not available. Available metrics are: loss,tp,fp,tn,fn,acc,precision,recall,auc,val_loss,val_tp,val_fp,val_tn,val_fn,val_acc,val_precision,val_recall,val_auc,lr\n"
          ]
        },
        {
          "output_type": "stream",
          "name": "stdout",
          "text": [
            "\b\b\b\b\b\b\b\b\b\b\b\b\b\b\b\b\b\b\b\b\b\b\b\b\b\b\b\b\b\b\b\b\b\b\b\b\b\b\b\b\b\b\b\b\b\b\b\b\b\b\b\b\b\b\b\b\b\b\b\b\b\b\b\b\b\b\b\b\b\b\b\b\b\b\b\b\b\b\b\b\b\b\b\b\b\b\b\b\b\b\b\b\b\b\b\b\b\b\b\b\b\b\b\b\b\b\b\b\b\b\b\b\b\b\b\b\b\b\b\b\b\b\b\b\b\b\b\b\b\b\b\b\b\b\b\b\b\b\b\b\b\b\b\b\b\b\b\b\b\b\b\b\b\b\b\b\b\b\b\b\b\b\b\b\b\b\b\b\b\b\b\b\b\b\b\b\b\b\b\b\b\b\b\b\b\b\b\b\b\b\b\b\b\b\r689/689 [==============================] - 17s 23ms/step - loss: 0.2220 - tp: 10368.0000 - fp: 1025.0000 - tn: 9998.0000 - fn: 655.0000 - acc: 0.9238 - precision: 0.9100 - recall: 0.9406 - auc: 0.9640 - val_loss: 0.1885 - val_tp: 1362.0000 - val_fp: 153.0000 - val_tn: 1210.0000 - val_fn: 30.0000 - val_acc: 0.9336 - val_precision: 0.8990 - val_recall: 0.9784 - val_auc: 0.9749 - lr: 0.0100\n",
            "Epoch 2/20\n",
            "688/689 [============================>.] - ETA: 0s - loss: 0.1973 - tp: 10469.0000 - fp: 845.0000 - tn: 10155.0000 - fn: 547.0000 - acc: 0.9368 - precision: 0.9253 - recall: 0.9503 - auc: 0.9701"
          ]
        },
        {
          "output_type": "stream",
          "name": "stderr",
          "text": [
            "WARNING:tensorflow:Learning rate reduction is conditioned on metric `val_accuracy` which is not available. Available metrics are: loss,tp,fp,tn,fn,acc,precision,recall,auc,val_loss,val_tp,val_fp,val_tn,val_fn,val_acc,val_precision,val_recall,val_auc,lr\n"
          ]
        },
        {
          "output_type": "stream",
          "name": "stdout",
          "text": [
            "\b\b\b\b\b\b\b\b\b\b\b\b\b\b\b\b\b\b\b\b\b\b\b\b\b\b\b\b\b\b\b\b\b\b\b\b\b\b\b\b\b\b\b\b\b\b\b\b\b\b\b\b\b\b\b\b\b\b\b\b\b\b\b\b\b\b\b\b\b\b\b\b\b\b\b\b\b\b\b\b\b\b\b\b\b\b\b\b\b\b\b\b\b\b\b\b\b\b\b\b\b\b\b\b\b\b\b\b\b\b\b\b\b\b\b\b\b\b\b\b\b\b\b\b\b\b\b\b\b\b\b\b\b\b\b\b\b\b\b\b\b\b\b\b\b\b\b\b\b\b\b\b\b\b\b\b\b\b\b\b\b\b\b\b\b\b\b\b\b\b\b\b\b\b\b\b\b\b\b\b\b\b\b\b\b\b\b\b\b\b\b\b\b\b\r689/689 [==============================] - 16s 22ms/step - loss: 0.1974 - tp: 10478.0000 - fp: 847.0000 - tn: 10174.0000 - fn: 547.0000 - acc: 0.9368 - precision: 0.9252 - recall: 0.9504 - auc: 0.9700 - val_loss: 0.2118 - val_tp: 1359.0000 - val_fp: 142.0000 - val_tn: 1221.0000 - val_fn: 33.0000 - val_acc: 0.9365 - val_precision: 0.9054 - val_recall: 0.9763 - val_auc: 0.9789 - lr: 0.0100\n",
            "Epoch 3/20\n",
            "688/689 [============================>.] - ETA: 0s - loss: 0.1797 - tp: 10484.0000 - fp: 787.0000 - tn: 10214.0000 - fn: 531.0000 - acc: 0.9401 - precision: 0.9302 - recall: 0.9518 - auc: 0.9756"
          ]
        },
        {
          "output_type": "stream",
          "name": "stderr",
          "text": [
            "WARNING:tensorflow:Learning rate reduction is conditioned on metric `val_accuracy` which is not available. Available metrics are: loss,tp,fp,tn,fn,acc,precision,recall,auc,val_loss,val_tp,val_fp,val_tn,val_fn,val_acc,val_precision,val_recall,val_auc,lr\n"
          ]
        },
        {
          "output_type": "stream",
          "name": "stdout",
          "text": [
            "\b\b\b\b\b\b\b\b\b\b\b\b\b\b\b\b\b\b\b\b\b\b\b\b\b\b\b\b\b\b\b\b\b\b\b\b\b\b\b\b\b\b\b\b\b\b\b\b\b\b\b\b\b\b\b\b\b\b\b\b\b\b\b\b\b\b\b\b\b\b\b\b\b\b\b\b\b\b\b\b\b\b\b\b\b\b\b\b\b\b\b\b\b\b\b\b\b\b\b\b\b\b\b\b\b\b\b\b\b\b\b\b\b\b\b\b\b\b\b\b\b\b\b\b\b\b\b\b\b\b\b\b\b\b\b\b\b\b\b\b\b\b\b\b\b\b\b\b\b\b\b\b\b\b\b\b\b\b\b\b\b\b\b\b\b\b\b\b\b\b\b\b\b\b\b\b\b\b\b\b\b\b\b\b\b\b\b\b\b\b\b\b\b\b\r689/689 [==============================] - 16s 22ms/step - loss: 0.1798 - tp: 10494.0000 - fp: 790.0000 - tn: 10231.0000 - fn: 531.0000 - acc: 0.9401 - precision: 0.9300 - recall: 0.9518 - auc: 0.9756 - val_loss: 0.2823 - val_tp: 1332.0000 - val_fp: 84.0000 - val_tn: 1283.0000 - val_fn: 56.0000 - val_acc: 0.9492 - val_precision: 0.9407 - val_recall: 0.9597 - val_auc: 0.9720 - lr: 0.0100\n"
          ]
        }
      ]
    },
    {
      "cell_type": "code",
      "source": [],
      "metadata": {
        "id": "zca0ynyI16qB"
      },
      "execution_count": null,
      "outputs": []
    },
    {
      "cell_type": "code",
      "source": [],
      "metadata": {
        "id": "GJBz4dR_sDYI"
      },
      "execution_count": null,
      "outputs": []
    }
  ]
}